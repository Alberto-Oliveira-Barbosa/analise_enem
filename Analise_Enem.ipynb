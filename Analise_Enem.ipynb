{
  "nbformat": 4,
  "nbformat_minor": 0,
  "metadata": {
    "colab": {
      "name": "Analise_Enem.ipynb",
      "provenance": []
    },
    "kernelspec": {
      "name": "python3",
      "display_name": "Python 3"
    },
    "language_info": {
      "name": "python"
    }
  },
  "cells": [
    {
      "cell_type": "markdown",
      "metadata": {
        "id": "IkQG4ABtM00P"
      },
      "source": [
        "# Projeto para o Curso de Data Science ministrado pela Semantix Academy\n",
        "\n",
        "## O notebook está dividido em \"partes\" que correspondem a cada etapa de um projeto \"end-to-end\" de data science.\n",
        "\n",
        "### Introdução:\n",
        "\n",
        "O objetivo da primeira parte desse notebook é criar o ambiente usado no projeto e a divisão de pastas para as análises posteriores, além de facilitar a obtenção do dataset de um modo automático e o processando dos dados de modo que seja extraido significado das variáveis sem que seja necessário a consulta ao dicionário de dados para o entendimento dos códigos.\n",
        "\n",
        "A modelagem aplicada tem por objetivo facilitar o entendimendo do dataset de modo visual, para \"humanos\", por isso, variáveis como os códigos numéricos das respostas do questionário sócio-econômico por exemplo, foram convertidas para seus valores categóricos, mesmo que isso signifique um aumento do tamanho original dos dados, caso seja necessário a utilização de variáveis discretas ou contínuas em vez de categóricas, como por exemplo, na aplicação de algum algoritmo de machine learning, isso pode ser feito com a aplicação de alguma técnica de label encoding ou one hot encoding.\n",
        "\n",
        "Na parte 2 será feita uma análise exploratória para melhor entendimento dos dados e extração de insights nos mesmos.\n"
      ]
    },
    {
      "cell_type": "markdown",
      "source": [
        "# Parte 1 - Engenharia de Dados"
      ],
      "metadata": {
        "id": "5zg_Om0HLU-f"
      }
    },
    {
      "cell_type": "markdown",
      "metadata": {
        "id": "GcXJ1nOATfoK"
      },
      "source": [
        "## Configuração do projeto"
      ]
    },
    {
      "cell_type": "markdown",
      "metadata": {
        "id": "kgRVMA_nGgBm"
      },
      "source": [
        "### Importando as dependências"
      ]
    },
    {
      "cell_type": "code",
      "metadata": {
        "id": "bfAQkLx5gN5d"
      },
      "source": [
        "# OBS: Como o tamanho do dataset é considerável (~3GB) e estamos usando o \n",
        "# ambiente em nuvem do google colab, foi adotado o uso do Spark para \n",
        "# exploração inicial dos dados.\n",
        "\n",
        "# instalar as dependências - usar spark no google colab\n",
        "!apt-get install openjdk-8-jdk-headless -qq > /dev/null\n",
        "!wget -q https://archive.apache.org/dist/spark/spark-3.1.2/spark-3.1.2-bin-hadoop2.7.tgz\n",
        "!tar xf spark-3.1.2-bin-hadoop2.7.tgz\n",
        "!pip install -q findspark\n",
        "\n",
        "# Seta as variáveis usadas pelo spark no ambiente do google colab\n",
        "import os\n",
        "os.environ[\"JAVA_HOME\"] = \"/usr/lib/jvm/java-8-openjdk-amd64\"\n",
        "os.environ[\"SPARK_HOME\"] = \"/content/spark-3.1.2-bin-hadoop2.7\"\n",
        "\n",
        "import findspark\n",
        "findspark.init()\n",
        "\n",
        "from pyspark.sql import SparkSession\n",
        "from pyspark.sql import functions as F\n",
        "\n",
        "spark = SparkSession.builder \\\n",
        "    .master('local[*]') \\\n",
        "    .appName(\"Análise de dados do Enem 2019\") \\\n",
        "    .getOrCreate()\n"
      ],
      "execution_count": 1,
      "outputs": []
    },
    {
      "cell_type": "code",
      "metadata": {
        "id": "JvvyZeGHF2N0",
        "colab": {
          "base_uri": "https://localhost:8080/",
          "height": 219
        },
        "outputId": "cfd5840f-0495-4811-b010-01c2889b4332"
      },
      "source": [
        "spark"
      ],
      "execution_count": 2,
      "outputs": [
        {
          "output_type": "execute_result",
          "data": {
            "text/html": [
              "\n",
              "            <div>\n",
              "                <p><b>SparkSession - in-memory</b></p>\n",
              "                \n",
              "        <div>\n",
              "            <p><b>SparkContext</b></p>\n",
              "\n",
              "            <p><a href=\"http://3818ff7409cb:4040\">Spark UI</a></p>\n",
              "\n",
              "            <dl>\n",
              "              <dt>Version</dt>\n",
              "                <dd><code>v3.1.2</code></dd>\n",
              "              <dt>Master</dt>\n",
              "                <dd><code>local[*]</code></dd>\n",
              "              <dt>AppName</dt>\n",
              "                <dd><code>Análise de dados do Enem 2019</code></dd>\n",
              "            </dl>\n",
              "        </div>\n",
              "        \n",
              "            </div>\n",
              "        "
            ],
            "text/plain": [
              "<pyspark.sql.session.SparkSession at 0x7fb7ed0cd290>"
            ]
          },
          "metadata": {},
          "execution_count": 2
        }
      ]
    },
    {
      "cell_type": "code",
      "metadata": {
        "id": "mAT5Yy6rMvMj"
      },
      "source": [
        "# Demais bibliotecas \n",
        "import os\n",
        "import requests\n",
        "from zipfile import ZipFile\n",
        "import pandas as pd\n",
        "import numpy as np\n",
        "import seaborn as sns\n",
        "import matplotlib.pyplot as plt\n",
        "\n",
        "# configurações do notebook\n",
        "plt.rcParams['figure.figsize'] = [14, 10]\n",
        "plt.rcParams['axes.formatter.useoffset'] = False\n",
        "sns.set_palette('tab20c')\n"
      ],
      "execution_count": 3,
      "outputs": []
    },
    {
      "cell_type": "markdown",
      "source": [
        "### Estrutura de pastas do projeto e caminhos absolutos usados no projeto.\n",
        "\n",
        "Para um melhor controle sobre as possíveis mudanças que possam acontecer aos caminhos usados no projeto, e consequentemente uma melhor organização do projeto como um todo, será adotado a seguinte estrutura de pastas:\n",
        "\n",
        "\n",
        "\n",
        "|Pasta|Descrição|\n",
        "|:-------|:----------|\n",
        "|DADOS  | Pasta raíz com os dados do projeto|\n",
        "|RAW    | Arquivos sem transformações  |\n",
        "|REFINED | Pasta com os arquivos transformados para facilitar o entendimento   \n"
      ],
      "metadata": {
        "id": "5rlzl7msIyTS"
      }
    },
    {
      "cell_type": "code",
      "metadata": {
        "id": "SzU-3ZjzNcmN"
      },
      "source": [
        "# Cria no diretório atual a seguinte estrutura de pastas:\n",
        "# ./DADOS\n",
        "#     |___RAW           - Arquivos sem transformações \n",
        "#     |___REFINED       - Pasta com os arquivos transformados e manipulados para facilitar as visulaizações  \n",
        "\n",
        "os.makedirs('./DADOS/RAW', exist_ok=True)\n",
        "os.makedirs('./DADOS/REFINED',exist_ok=True)\n",
        "\n",
        "# Caminhos usados no projeto\n",
        "PATH_DADOS = '/content/DADOS/RAW/DADOS/MICRODADOS_ENEM_2019.csv'\n",
        "PATH_ITENS = '/content/DADOS/RAW/DADOS/ITENS_PROVA_2019.csv'\n",
        "\n",
        "PATH_PARTICIPANTES = './DADOS/REFINED/PARTICIPANTES/'\n",
        "PATH_ESCOLAS = './DADOS/REFINED/ESCOLAS/'\n",
        "PATH_ATENDIMENTO_ESPECIFICO = './DADOS/REFINED/ATENDIMENTO_ESPECIFICO/'\n",
        "PATH_RECURSOS_ESPECIAIS = './DADOS/REFINED/RECURSOS_ESPECIAIS/'\n",
        "PATH_PROVAS = './DADOS/REFINED/PROVAS/'\n",
        "PATH_SOCIOECONOMICOS = './DADOS/REFINED/SOCIOECONOMICO/'"
      ],
      "execution_count": 21,
      "outputs": []
    },
    {
      "cell_type": "markdown",
      "source": [
        "### Funções usadas no projeto\n",
        "\n",
        "\n",
        "\n",
        "\n",
        "\n",
        "\n"
      ],
      "metadata": {
        "id": "HYfGWB79J4g-"
      }
    },
    {
      "cell_type": "code",
      "source": [
        "def get_data_spark(path_file, sep=';'):\n",
        "  '''load data from spark'''\n",
        "  \n",
        "  return spark.read.csv(path_file, \\\n",
        "                        header=True, \\\n",
        "                        sep=sep, \\\n",
        "                        inferSchema=True)"
      ],
      "metadata": {
        "id": "A_kRzBhXMiw5"
      },
      "execution_count": 5,
      "outputs": []
    },
    {
      "cell_type": "code",
      "source": [
        "def save_on_csv(df, save_path,partitions=1):\n",
        "  \n",
        "  '''save on save_path directory '''\n",
        "    \n",
        "  df.repartition(partitions).write\\\n",
        "  .format('com.databricks.spark.csv')\\\n",
        "  .mode('overwrite')\\\n",
        "  .option(\"header\", \"true\")\\\n",
        "  .save(save_path)"
      ],
      "metadata": {
        "id": "G7uTvPDFKGH3"
      },
      "execution_count": 6,
      "outputs": []
    },
    {
      "cell_type": "code",
      "source": [
        "def get_refined_df(refined_path_file,sep=','):\n",
        "  \n",
        "  '''return a df refined'''  \n",
        "  \n",
        "  file_name = [i for i in os.listdir(refined_path_file) if not i.endswith(('.crc','_SUCCESS'))]\n",
        "  local_file = refined_path_file + file_name[0]\n",
        "  return pd.read_csv( local_file , sep=sep)"
      ],
      "metadata": {
        "id": "rKOqwD5nKFxs"
      },
      "execution_count": 7,
      "outputs": []
    },
    {
      "cell_type": "code",
      "source": [
        "def status_geral(df,campos):\n",
        "  for i in campos:\n",
        "\n",
        "    x = df[i].value_counts()[:].sort_values(ascending=False).values\n",
        "    y = pesquisa[i].value_counts()[:].sort_values(ascending=False).index.map(str)\n",
        "    ax = sns.barplot(y=y, x=x)\n",
        "    ax.set_title(f'{i} - Ordenado por número de candidatos')\n",
        "    ax.ticklabel_format(style='plain', axis='x')\n",
        "    plt.show()\n",
        "\n",
        "    print('Percentual em relação ao total')\n",
        "    print(round(pesquisa[i].value_counts(normalize=True).sort_values(ascending=False) * 100,2))\n",
        "    print(' ')\n",
        "    print(' ')"
      ],
      "metadata": {
        "id": "USnLAQ4ggGfi"
      },
      "execution_count": 114,
      "outputs": []
    },
    {
      "cell_type": "code",
      "source": [
        "def status_familiar(df,campos, legenda):\n",
        "  for i in campos:\n",
        "\n",
        "    x = df[i].value_counts()[:].sort_values(ascending=False).values\n",
        "    y = pesquisa[i].value_counts()[:].sort_values(ascending=False).index.map(str)\n",
        "    ax = sns.barplot(y=y, x=x)\n",
        "    ax.set_title(f'{i} - Ordenado por número de candidatos')\n",
        "    ax.ticklabel_format(style='plain', axis='x')\n",
        "    plt.show()\n",
        "\n",
        "    if(i in ['GRUPO_OCUPACAO_PAI', 'GRUPO_OCUPACAO_MAE']):\n",
        "      print('Legenda dos Grupos:')\n",
        "      print(legenda)\n",
        "      print(' ')\n",
        "\n",
        "    print('Percentual em relação ao total')\n",
        "    print(round(pesquisa[i].value_counts(normalize=True).sort_values(ascending=False) * 100,2))\n",
        "    print(' ')\n",
        "    print(' ')"
      ],
      "metadata": {
        "id": "8_BEyO7a16iz"
      },
      "execution_count": 181,
      "outputs": []
    },
    {
      "cell_type": "markdown",
      "metadata": {
        "id": "tzgs-iBJFHlq"
      },
      "source": [
        "### Acesso aos dados.\n",
        "\n",
        "O acesso ao conjunto de dados pode ser feito de várias formas diferentes. A seguir será mostrada alguns exemplos de acesso aos dados.\n"
      ]
    },
    {
      "cell_type": "markdown",
      "metadata": {
        "id": "Q4guOHzgJ9Zr"
      },
      "source": [
        "#### Acesso via código e a biblioteca Requests"
      ]
    },
    {
      "cell_type": "code",
      "metadata": {
        "id": "OkJK0zBdNjIm"
      },
      "source": [
        "# # esta célula faz o download e a extração automática do arquivo zip através \n",
        "# # da biblioteca requests e salva dentro da pasta DADOS/RAW\n",
        "\n",
        "\n",
        "# url = 'https://download.inep.gov.br/microdados/microdados_enem_2019.zip'\n",
        "# local_file = './DADOS/RAW/dados_enem.zip'\n",
        "\n",
        "# # faz o download do arquivo do site do Inep\n",
        "# with requests.get(url, stream=True) as response:\n",
        "#     response.raise_for_status()\n",
        "#     with open(local_file, 'wb') as file: \n",
        "#         for chunk in response.iter_content():\n",
        "#             file.write(chunk)\n",
        "\n",
        "# # Extrai os dados do arquivo zip no diretório RAW\n",
        "# with ZipFile(local_file, 'r') as file:\n",
        "#     file.extractall('./DADOS/RAW')"
      ],
      "execution_count": 8,
      "outputs": []
    },
    {
      "cell_type": "markdown",
      "metadata": {
        "id": "-jbKBGOrKEYT"
      },
      "source": [
        "#### Acesso via Google Drive\n",
        "\n",
        "Como o Google Colab é um ambiente em nuvem que perde os dados carregados em memória quando é encerrada a sua sessão, e para evitar o trabalho de fazer o upload/download todas as vezes que ele for reiniciado, será usado o método a seguir para conexão com os dados: \n",
        "- Montar um drive virtual com conexão com o Google Drive\n",
        "-  Caminho do arquivo zip com os dados dentro da raiz do Google Drive: *Drive/Colab Notebooks/analise_enem/dados_enem.zip*"
      ]
    },
    {
      "cell_type": "code",
      "metadata": {
        "colab": {
          "base_uri": "https://localhost:8080/"
        },
        "id": "AlJ4CbH8cKkC",
        "outputId": "e04a8b24-788b-4c7f-9497-0f032043122d"
      },
      "source": [
        "# Acesso via Google Colab \n",
        "\n",
        "from google.colab import drive\n",
        "drive.mount('/content/drive')\n",
        "\n",
        "local_file = '/content/drive/MyDrive/Colab Notebooks/analise_enem/dados_enem.zip'\n",
        "\n",
        "# Extrai os dados do arquivo zip no diretório RAW\n",
        "with ZipFile(local_file, 'r') as file:\n",
        "    file.extractall('/content/DADOS/RAW')"
      ],
      "execution_count": 8,
      "outputs": [
        {
          "output_type": "stream",
          "name": "stdout",
          "text": [
            "Drive already mounted at /content/drive; to attempt to forcibly remount, call drive.mount(\"/content/drive\", force_remount=True).\n"
          ]
        }
      ]
    },
    {
      "cell_type": "markdown",
      "metadata": {
        "id": "xh1KCD6VKaXT"
      },
      "source": [
        "#### Download Manual"
      ]
    },
    {
      "cell_type": "markdown",
      "metadata": {
        "id": "JffS3Pu0KhGj"
      },
      "source": [
        "É possivel fazer o download manualmente do site do inep \n",
        "\n",
        "**https://download.inep.gov.br/microdados/**\n",
        "\n",
        "OBS: para o notebook atual está sendo considerado os dados do arquivo *microdados_enem_2019.zip* "
      ]
    },
    {
      "cell_type": "markdown",
      "metadata": {
        "id": "QXBR95JDKUzW"
      },
      "source": [
        "Depois de feito o download e extração dos arquivos, eles devem ser mantidos dentro da pasta DADOS/RAW para prosseguir com o notebook."
      ]
    },
    {
      "cell_type": "markdown",
      "metadata": {
        "id": "Uv6EquIILdJu"
      },
      "source": [
        "## Análise preliminar sobre os dados principais"
      ]
    },
    {
      "cell_type": "code",
      "metadata": {
        "id": "OFMmrXxaP15U"
      },
      "source": [
        "dados = get_data_spark(PATH_DADOS)"
      ],
      "execution_count": 61,
      "outputs": []
    },
    {
      "cell_type": "code",
      "metadata": {
        "colab": {
          "base_uri": "https://localhost:8080/"
        },
        "id": "PEY_cyA1U2Hh",
        "outputId": "ca014d1e-c8a1-4986-b1ac-b4c2bcc82de4"
      },
      "source": [
        "dados.printSchema()"
      ],
      "execution_count": 10,
      "outputs": [
        {
          "output_type": "stream",
          "name": "stdout",
          "text": [
            "root\n",
            " |-- NU_INSCRICAO: long (nullable = true)\n",
            " |-- NU_ANO: integer (nullable = true)\n",
            " |-- CO_MUNICIPIO_RESIDENCIA: integer (nullable = true)\n",
            " |-- NO_MUNICIPIO_RESIDENCIA: string (nullable = true)\n",
            " |-- CO_UF_RESIDENCIA: integer (nullable = true)\n",
            " |-- SG_UF_RESIDENCIA: string (nullable = true)\n",
            " |-- NU_IDADE: integer (nullable = true)\n",
            " |-- TP_SEXO: string (nullable = true)\n",
            " |-- TP_ESTADO_CIVIL: integer (nullable = true)\n",
            " |-- TP_COR_RACA: integer (nullable = true)\n",
            " |-- TP_NACIONALIDADE: integer (nullable = true)\n",
            " |-- CO_MUNICIPIO_NASCIMENTO: integer (nullable = true)\n",
            " |-- NO_MUNICIPIO_NASCIMENTO: string (nullable = true)\n",
            " |-- CO_UF_NASCIMENTO: integer (nullable = true)\n",
            " |-- SG_UF_NASCIMENTO: string (nullable = true)\n",
            " |-- TP_ST_CONCLUSAO: integer (nullable = true)\n",
            " |-- TP_ANO_CONCLUIU: integer (nullable = true)\n",
            " |-- TP_ESCOLA: integer (nullable = true)\n",
            " |-- TP_ENSINO: integer (nullable = true)\n",
            " |-- IN_TREINEIRO: integer (nullable = true)\n",
            " |-- CO_ESCOLA: integer (nullable = true)\n",
            " |-- CO_MUNICIPIO_ESC: integer (nullable = true)\n",
            " |-- NO_MUNICIPIO_ESC: string (nullable = true)\n",
            " |-- CO_UF_ESC: integer (nullable = true)\n",
            " |-- SG_UF_ESC: string (nullable = true)\n",
            " |-- TP_DEPENDENCIA_ADM_ESC: integer (nullable = true)\n",
            " |-- TP_LOCALIZACAO_ESC: integer (nullable = true)\n",
            " |-- TP_SIT_FUNC_ESC: integer (nullable = true)\n",
            " |-- IN_BAIXA_VISAO: integer (nullable = true)\n",
            " |-- IN_CEGUEIRA: integer (nullable = true)\n",
            " |-- IN_SURDEZ: integer (nullable = true)\n",
            " |-- IN_DEFICIENCIA_AUDITIVA: integer (nullable = true)\n",
            " |-- IN_SURDO_CEGUEIRA: integer (nullable = true)\n",
            " |-- IN_DEFICIENCIA_FISICA: integer (nullable = true)\n",
            " |-- IN_DEFICIENCIA_MENTAL: integer (nullable = true)\n",
            " |-- IN_DEFICIT_ATENCAO: integer (nullable = true)\n",
            " |-- IN_DISLEXIA: integer (nullable = true)\n",
            " |-- IN_DISCALCULIA: integer (nullable = true)\n",
            " |-- IN_AUTISMO: integer (nullable = true)\n",
            " |-- IN_VISAO_MONOCULAR: integer (nullable = true)\n",
            " |-- IN_OUTRA_DEF: integer (nullable = true)\n",
            " |-- IN_GESTANTE: integer (nullable = true)\n",
            " |-- IN_LACTANTE: integer (nullable = true)\n",
            " |-- IN_IDOSO: integer (nullable = true)\n",
            " |-- IN_ESTUDA_CLASSE_HOSPITALAR: integer (nullable = true)\n",
            " |-- IN_SEM_RECURSO: integer (nullable = true)\n",
            " |-- IN_BRAILLE: integer (nullable = true)\n",
            " |-- IN_AMPLIADA_24: integer (nullable = true)\n",
            " |-- IN_AMPLIADA_18: integer (nullable = true)\n",
            " |-- IN_LEDOR: integer (nullable = true)\n",
            " |-- IN_ACESSO: integer (nullable = true)\n",
            " |-- IN_TRANSCRICAO: integer (nullable = true)\n",
            " |-- IN_LIBRAS: integer (nullable = true)\n",
            " |-- IN_TEMPO_ADICIONAL: integer (nullable = true)\n",
            " |-- IN_LEITURA_LABIAL: integer (nullable = true)\n",
            " |-- IN_MESA_CADEIRA_RODAS: integer (nullable = true)\n",
            " |-- IN_MESA_CADEIRA_SEPARADA: integer (nullable = true)\n",
            " |-- IN_APOIO_PERNA: integer (nullable = true)\n",
            " |-- IN_GUIA_INTERPRETE: integer (nullable = true)\n",
            " |-- IN_COMPUTADOR: integer (nullable = true)\n",
            " |-- IN_CADEIRA_ESPECIAL: integer (nullable = true)\n",
            " |-- IN_CADEIRA_CANHOTO: integer (nullable = true)\n",
            " |-- IN_CADEIRA_ACOLCHOADA: integer (nullable = true)\n",
            " |-- IN_PROVA_DEITADO: integer (nullable = true)\n",
            " |-- IN_MOBILIARIO_OBESO: integer (nullable = true)\n",
            " |-- IN_LAMINA_OVERLAY: integer (nullable = true)\n",
            " |-- IN_PROTETOR_AURICULAR: integer (nullable = true)\n",
            " |-- IN_MEDIDOR_GLICOSE: integer (nullable = true)\n",
            " |-- IN_MAQUINA_BRAILE: integer (nullable = true)\n",
            " |-- IN_SOROBAN: integer (nullable = true)\n",
            " |-- IN_MARCA_PASSO: integer (nullable = true)\n",
            " |-- IN_SONDA: integer (nullable = true)\n",
            " |-- IN_MEDICAMENTOS: integer (nullable = true)\n",
            " |-- IN_SALA_INDIVIDUAL: integer (nullable = true)\n",
            " |-- IN_SALA_ESPECIAL: integer (nullable = true)\n",
            " |-- IN_SALA_ACOMPANHANTE: integer (nullable = true)\n",
            " |-- IN_MOBILIARIO_ESPECIFICO: integer (nullable = true)\n",
            " |-- IN_MATERIAL_ESPECIFICO: integer (nullable = true)\n",
            " |-- IN_NOME_SOCIAL: integer (nullable = true)\n",
            " |-- CO_MUNICIPIO_PROVA: integer (nullable = true)\n",
            " |-- NO_MUNICIPIO_PROVA: string (nullable = true)\n",
            " |-- CO_UF_PROVA: integer (nullable = true)\n",
            " |-- SG_UF_PROVA: string (nullable = true)\n",
            " |-- TP_PRESENCA_CN: integer (nullable = true)\n",
            " |-- TP_PRESENCA_CH: integer (nullable = true)\n",
            " |-- TP_PRESENCA_LC: integer (nullable = true)\n",
            " |-- TP_PRESENCA_MT: integer (nullable = true)\n",
            " |-- CO_PROVA_CN: integer (nullable = true)\n",
            " |-- CO_PROVA_CH: integer (nullable = true)\n",
            " |-- CO_PROVA_LC: integer (nullable = true)\n",
            " |-- CO_PROVA_MT: integer (nullable = true)\n",
            " |-- NU_NOTA_CN: double (nullable = true)\n",
            " |-- NU_NOTA_CH: double (nullable = true)\n",
            " |-- NU_NOTA_LC: double (nullable = true)\n",
            " |-- NU_NOTA_MT: double (nullable = true)\n",
            " |-- TX_RESPOSTAS_CN: string (nullable = true)\n",
            " |-- TX_RESPOSTAS_CH: string (nullable = true)\n",
            " |-- TX_RESPOSTAS_LC: string (nullable = true)\n",
            " |-- TX_RESPOSTAS_MT: string (nullable = true)\n",
            " |-- TP_LINGUA: integer (nullable = true)\n",
            " |-- TX_GABARITO_CN: string (nullable = true)\n",
            " |-- TX_GABARITO_CH: string (nullable = true)\n",
            " |-- TX_GABARITO_LC: string (nullable = true)\n",
            " |-- TX_GABARITO_MT: string (nullable = true)\n",
            " |-- TP_STATUS_REDACAO: integer (nullable = true)\n",
            " |-- NU_NOTA_COMP1: integer (nullable = true)\n",
            " |-- NU_NOTA_COMP2: integer (nullable = true)\n",
            " |-- NU_NOTA_COMP3: integer (nullable = true)\n",
            " |-- NU_NOTA_COMP4: integer (nullable = true)\n",
            " |-- NU_NOTA_COMP5: integer (nullable = true)\n",
            " |-- NU_NOTA_REDACAO: integer (nullable = true)\n",
            " |-- Q001: string (nullable = true)\n",
            " |-- Q002: string (nullable = true)\n",
            " |-- Q003: string (nullable = true)\n",
            " |-- Q004: string (nullable = true)\n",
            " |-- Q005: integer (nullable = true)\n",
            " |-- Q006: string (nullable = true)\n",
            " |-- Q007: string (nullable = true)\n",
            " |-- Q008: string (nullable = true)\n",
            " |-- Q009: string (nullable = true)\n",
            " |-- Q010: string (nullable = true)\n",
            " |-- Q011: string (nullable = true)\n",
            " |-- Q012: string (nullable = true)\n",
            " |-- Q013: string (nullable = true)\n",
            " |-- Q014: string (nullable = true)\n",
            " |-- Q015: string (nullable = true)\n",
            " |-- Q016: string (nullable = true)\n",
            " |-- Q017: string (nullable = true)\n",
            " |-- Q018: string (nullable = true)\n",
            " |-- Q019: string (nullable = true)\n",
            " |-- Q020: string (nullable = true)\n",
            " |-- Q021: string (nullable = true)\n",
            " |-- Q022: string (nullable = true)\n",
            " |-- Q023: string (nullable = true)\n",
            " |-- Q024: string (nullable = true)\n",
            " |-- Q025: string (nullable = true)\n",
            "\n"
          ]
        }
      ]
    },
    {
      "cell_type": "code",
      "metadata": {
        "colab": {
          "base_uri": "https://localhost:8080/"
        },
        "id": "F2s57gMhVS1w",
        "outputId": "1a6602ad-f6c7-4551-b5f3-342535c5ae96"
      },
      "source": [
        "type(dados)"
      ],
      "execution_count": 14,
      "outputs": [
        {
          "output_type": "execute_result",
          "data": {
            "text/plain": [
              "pyspark.sql.dataframe.DataFrame"
            ]
          },
          "metadata": {},
          "execution_count": 14
        }
      ]
    },
    {
      "cell_type": "code",
      "metadata": {
        "id": "uSYQ-D9gWXJB",
        "colab": {
          "base_uri": "https://localhost:8080/"
        },
        "outputId": "dc08049d-bd49-4552-d00f-c2d9b1edebe2"
      },
      "source": [
        "dados.describe().show()"
      ],
      "execution_count": 15,
      "outputs": [
        {
          "output_type": "stream",
          "name": "stdout",
          "text": [
            "+-------+--------------------+-------+-----------------------+-----------------------+------------------+----------------+-----------------+-------+------------------+------------------+------------------+-----------------------+-----------------------+------------------+----------------+------------------+------------------+------------------+-------------------+-------------------+-------------------+------------------+----------------+------------------+---------+----------------------+-------------------+------------------+--------------------+--------------------+--------------------+-----------------------+--------------------+---------------------+---------------------+--------------------+--------------------+--------------------+--------------------+--------------------+--------------------+--------------------+--------------------+--------------------+---------------------------+--------------------+--------------------+--------------------+--------------------+--------------------+--------------------+--------------------+--------------------+--------------------+--------------------+---------------------+------------------------+--------------------+--------------------+--------------------+--------------------+--------------------+---------------------+--------------------+--------------------+--------------------+---------------------+--------------------+--------------------+--------------------+--------------------+--------------------+--------------------+--------------------+--------------------+--------------------+------------------------+----------------------+--------------------+------------------+--------------------+------------------+-----------+-------------------+-------------------+-------------------+-------------------+------------------+------------------+-----------------+-----------------+-----------------+-----------------+-----------------+------------------+--------------------+--------------------+--------------------+--------------------+------------------+--------------------+--------------------+--------------------+--------------------+------------------+------------------+------------------+------------------+------------------+-----------------+------------------+-------+-------+-------+-------+------------------+-------+-------+-------+-------+-------+-------+-------+-------+-------+-------+-------+-------+-------+-------+-------+-------+-------+-------+-------+-------+\n",
            "|summary|        NU_INSCRICAO| NU_ANO|CO_MUNICIPIO_RESIDENCIA|NO_MUNICIPIO_RESIDENCIA|  CO_UF_RESIDENCIA|SG_UF_RESIDENCIA|         NU_IDADE|TP_SEXO|   TP_ESTADO_CIVIL|       TP_COR_RACA|  TP_NACIONALIDADE|CO_MUNICIPIO_NASCIMENTO|NO_MUNICIPIO_NASCIMENTO|  CO_UF_NASCIMENTO|SG_UF_NASCIMENTO|   TP_ST_CONCLUSAO|   TP_ANO_CONCLUIU|         TP_ESCOLA|          TP_ENSINO|       IN_TREINEIRO|          CO_ESCOLA|  CO_MUNICIPIO_ESC|NO_MUNICIPIO_ESC|         CO_UF_ESC|SG_UF_ESC|TP_DEPENDENCIA_ADM_ESC| TP_LOCALIZACAO_ESC|   TP_SIT_FUNC_ESC|      IN_BAIXA_VISAO|         IN_CEGUEIRA|           IN_SURDEZ|IN_DEFICIENCIA_AUDITIVA|   IN_SURDO_CEGUEIRA|IN_DEFICIENCIA_FISICA|IN_DEFICIENCIA_MENTAL|  IN_DEFICIT_ATENCAO|         IN_DISLEXIA|      IN_DISCALCULIA|          IN_AUTISMO|  IN_VISAO_MONOCULAR|        IN_OUTRA_DEF|         IN_GESTANTE|         IN_LACTANTE|            IN_IDOSO|IN_ESTUDA_CLASSE_HOSPITALAR|      IN_SEM_RECURSO|          IN_BRAILLE|      IN_AMPLIADA_24|      IN_AMPLIADA_18|            IN_LEDOR|           IN_ACESSO|      IN_TRANSCRICAO|           IN_LIBRAS|  IN_TEMPO_ADICIONAL|   IN_LEITURA_LABIAL|IN_MESA_CADEIRA_RODAS|IN_MESA_CADEIRA_SEPARADA|      IN_APOIO_PERNA|  IN_GUIA_INTERPRETE|       IN_COMPUTADOR| IN_CADEIRA_ESPECIAL|  IN_CADEIRA_CANHOTO|IN_CADEIRA_ACOLCHOADA|    IN_PROVA_DEITADO| IN_MOBILIARIO_OBESO|   IN_LAMINA_OVERLAY|IN_PROTETOR_AURICULAR|  IN_MEDIDOR_GLICOSE|   IN_MAQUINA_BRAILE|          IN_SOROBAN|      IN_MARCA_PASSO|            IN_SONDA|     IN_MEDICAMENTOS|  IN_SALA_INDIVIDUAL|    IN_SALA_ESPECIAL|IN_SALA_ACOMPANHANTE|IN_MOBILIARIO_ESPECIFICO|IN_MATERIAL_ESPECIFICO|      IN_NOME_SOCIAL|CO_MUNICIPIO_PROVA|  NO_MUNICIPIO_PROVA|       CO_UF_PROVA|SG_UF_PROVA|     TP_PRESENCA_CN|     TP_PRESENCA_CH|     TP_PRESENCA_LC|     TP_PRESENCA_MT|       CO_PROVA_CN|       CO_PROVA_CH|      CO_PROVA_LC|      CO_PROVA_MT|       NU_NOTA_CN|       NU_NOTA_CH|       NU_NOTA_LC|        NU_NOTA_MT|     TX_RESPOSTAS_CN|     TX_RESPOSTAS_CH|     TX_RESPOSTAS_LC|     TX_RESPOSTAS_MT|         TP_LINGUA|      TX_GABARITO_CN|      TX_GABARITO_CH|      TX_GABARITO_LC|      TX_GABARITO_MT| TP_STATUS_REDACAO|     NU_NOTA_COMP1|     NU_NOTA_COMP2|     NU_NOTA_COMP3|     NU_NOTA_COMP4|    NU_NOTA_COMP5|   NU_NOTA_REDACAO|   Q001|   Q002|   Q003|   Q004|              Q005|   Q006|   Q007|   Q008|   Q009|   Q010|   Q011|   Q012|   Q013|   Q014|   Q015|   Q016|   Q017|   Q018|   Q019|   Q020|   Q021|   Q022|   Q023|   Q024|   Q025|\n",
            "+-------+--------------------+-------+-----------------------+-----------------------+------------------+----------------+-----------------+-------+------------------+------------------+------------------+-----------------------+-----------------------+------------------+----------------+------------------+------------------+------------------+-------------------+-------------------+-------------------+------------------+----------------+------------------+---------+----------------------+-------------------+------------------+--------------------+--------------------+--------------------+-----------------------+--------------------+---------------------+---------------------+--------------------+--------------------+--------------------+--------------------+--------------------+--------------------+--------------------+--------------------+--------------------+---------------------------+--------------------+--------------------+--------------------+--------------------+--------------------+--------------------+--------------------+--------------------+--------------------+--------------------+---------------------+------------------------+--------------------+--------------------+--------------------+--------------------+--------------------+---------------------+--------------------+--------------------+--------------------+---------------------+--------------------+--------------------+--------------------+--------------------+--------------------+--------------------+--------------------+--------------------+--------------------+------------------------+----------------------+--------------------+------------------+--------------------+------------------+-----------+-------------------+-------------------+-------------------+-------------------+------------------+------------------+-----------------+-----------------+-----------------+-----------------+-----------------+------------------+--------------------+--------------------+--------------------+--------------------+------------------+--------------------+--------------------+--------------------+--------------------+------------------+------------------+------------------+------------------+------------------+-----------------+------------------+-------+-------+-------+-------+------------------+-------+-------+-------+-------+-------+-------+-------+-------+-------+-------+-------+-------+-------+-------+-------+-------+-------+-------+-------+-------+\n",
            "|  count|             5095270|5095270|                5095270|                5095270|           5095270|         5095270|          5095201|5095270|           5095270|           5095270|           5095270|                4950021|                4950021|           4950021|         4950021|           5095270|           5095270|           5095270|            2878197|            5095270|            1147412|           1147412|         1147412|           1147412|  1147412|               1147412|            1147412|           1147412|             5095270|             5095270|             5095270|                5095270|             5095270|              5095270|              5095270|             5095270|             5095270|             5095270|             5095270|             5095270|             5095270|             5095270|             5095270|             5095270|                    5095270|             5095270|             5095270|             5095270|             5095270|             5095270|             5095270|             5095270|             5095270|             5095270|             5095270|              5095270|                 5095270|             5095270|             5095270|             5095270|             5095270|             5095270|              5095270|             5095270|             5095270|             5095270|              5095270|             5095270|             5095270|             5095270|             5095270|             5095270|             5095270|             5095270|             5095270|             5095270|                 5095270|               5095270|             5095270|           5095270|             5095270|           5095270|    5095270|            5095270|            5095270|            5095270|            5095270|           3710433|           3923145|          3923145|          3710433|          3710433|          3923145|          3923145|           3710433|             3710433|             3923145|             3923145|             3710433|           5095270|             3710433|             3923145|             3923145|             3710433|           3923144|           3923144|           3923144|           3923144|           3923144|          3923144|           3923144|5095270|5095270|5095270|5095270|           5095270|5095270|5095270|5095270|5095270|5095270|5095270|5095270|5095270|5095270|5095270|5095270|5095270|5095270|5095270|5095270|5095270|5095270|5095270|5095270|5095270|\n",
            "|   mean|1.900035523783100...| 2019.0|     3086472.4672313733|                   null|30.714074033368203|            null|22.08764325489809|   null| 1.075275893132258| 2.128251103474399|1.0302539414005538|      3059766.106359549|                   null|30.446578711484253|            null|1.5414019276701725|2.9624620481348387|1.3306058363933608| 1.0047943208890844|0.12102754122941473|3.126574535072145E7|3128667.2697522775|            null|31.132819771799493|     null|     2.252067260931557| 1.0362040836247137|1.0056065301739916|0.001217011071052172|1.403262241255124...|3.185307157422472...|   4.323617786692364E-4|9.224241306152569E-6|  0.00146842071175816| 4.411934990687441...|0.001636419659802...|3.132316835025425...|7.497149316915493E-5|2.362975858001636...|2.176528427345361...|6.013420289798186E-4|2.767272391845771E-4|7.124254455602941E-4|4.553242517079566E-5|       4.710250879737482E-6|0.001202684057959...|5.927065690336331...|2.133351127614434...|8.969102716833455E-4|0.001231338084144...|0.001571457449752...|0.001105731394018374|1.895875979094336...|0.002466993898262...|1.173637510867922...| 3.532688159803111...|    2.798674064377354E-4|4.409972386154217...|1.766344079901555...|1.570083626579160...|2.551385893191136E-6|2.747646346513531E-6| 3.414931887809675E-5|1.962604533223950...|1.157936674602131E-5|5.299032239704667E-6| 9.813022666119754E-7|1.157936674602131E-4|3.159793298490561E-5| 8.43919949286299E-6|3.140167253158321E-6|1.962604533223950...|4.847633197063159E-5|5.887813599671852...|5.004641559721075E-5|1.040180402608694E-5|    4.317729973092692E-6|    3.1794193438228E-5|7.732661860902366E-5|3088260.6005940805|                null|30.733058699538983|       null| 0.7289617625758792| 0.7715565612813452| 0.7715565612813452| 0.7289617625758792|504.51365757042373|508.50982056487845|512.5079282055596|516.5098731064542|477.8240873504527|507.2486632280999|520.5176577210375| 523.1241219825274|                null|                null|                null|                null|0.5247019294365166|                null|                null|                null|                null| 1.139621946071824|120.47772398871925|122.73657556286489|114.81312946962946|121.62860195802142| 91.5323169376398| 571.1883479168748|   null|   null|   null|   null| 3.868090012894312|   null|   null|   null|   null|   null|   null|   null|   null|   null|   null|   null|   null|   null|   null|   null|   null|   null|   null|   null|   null|\n",
            "| stddev|  1471022.5773695675|    0.0|       997360.415429331|                   null| 9.943231127628104|            null|7.454793312005096|   null|0.4388921371300876|1.0175120935552757|0.2097909867493207|      984026.3441643384|                   null| 9.806732559276076|            null|0.7166870444119421| 4.108758232992581|0.5541870699265091|0.06907486542910483|0.32615931133656717|  9658638.601946082| 969519.8119841247|            null| 9.665164064865337|     null|    0.7486916602524979|0.18679769367985613|0.1193745555073643|0.034864454587238455|0.011845107015682223|0.017844587874771937|   0.020788817349248784|0.003037129900063...|   0.0382918364686419| 0.020999974617026913| 0.04041957584065067|  0.0176955822416427|0.008658284307944979| 0.01537015925799181| 0.01475145798495667|0.024514904337825022|0.016632820431762792|0.026681792204913256|0.006747618906315261|       0.002170306341903...| 0.03465887829650362|0.007698516449576015|0.014604439145391009|  0.0299350296395054|  0.0350688199406922| 0.03961045668969726| 0.03323415365063615|0.013767777295324536| 0.04960754299849385|0.010832820494584363| 0.018792128310337435|    0.016726898564410918|0.020995305345793847|0.001329037737083...|0.001253028918086...|0.001597303942384...|0.001657600475448...|  0.00584364264855837|4.430129268118443E-4| 0.00340282749148895|0.002301956819739...|  9.90606630428303E-4|0.010760124627990133|0.005621115614961742|0.002905018060020...|0.001772049098867...|0.001400928644360...|0.006962326588820594|0.007672983833984...|0.007074172797941786|0.003225166332145...|    0.002077910531687...|  0.005638544919324245| 0.00879321638412618| 997757.9530457897|                null| 9.947315640767211|       null|0.44533925290210724|0.42172907661541864|0.42172907661541864|0.44533925290210724|1.2160906024736007|1.1979859493586222|1.174765793017519|1.147831354514575| 76.0977446963839|82.41163433304044|64.15065496536897|109.06368552884489|                null|                null|                null|                null|0.4993894909061271|                null|                null|                null|                null|0.7851200210828325| 33.42683305251067|42.931275567673374| 40.17709956981246| 38.12234971298542|59.44187008213425|188.76327214930336|   null|   null|   null|   null|1.4809904417842097|   null|   null|   null|   null|   null|   null|   null|   null|   null|   null|   null|   null|   null|   null|   null|   null|   null|   null|   null|   null|\n",
            "|    min|        190001004627|   2019|                1100015|        Abadia de Goi�s|                11|              AC|               10|      F|                 0|                 0|                 0|                1100015|        Abadia de Goi�s|                11|              AC|                 1|                 0|                 1|                  1|                  0|           11000058|           1100015| Abadia de Goi�s|                11|       AC|                     1|                  1|                 1|                   0|                   0|                   0|                      0|                   0|                    0|                    0|                   0|                   0|                   0|                   0|                   0|                   0|                   0|                   0|                   0|                          0|                   0|                   0|                   0|                   0|                   0|                   0|                   0|                   0|                   0|                   0|                    0|                       0|                   0|                   0|                   0|                   0|                   0|                    0|                   0|                   0|                   0|                    0|                   0|                   0|                   0|                   0|                   0|                   0|                   0|                   0|                   0|                       0|                     0|                   0|           1100015|          Abaetetuba|                11|         AC|                  0|                  0|                  0|                  0|               503|               507|              511|              515|              0.0|              0.0|              0.0|               0.0|*****************...|*****************...|*****99999*******...|*****************...|                 0|AAECACDEADCBCDDDB...|ABAEEDEEEBAAEABDD...|ABBEDABBDAAEBCBEB...|AADDDBEEEBEDDBEBA...|                 1|                 0|                 0|                 0|                 0|                0|                 0|      A|      A|      A|      A|                 1|      A|      A|      A|      A|      A|      A|      A|      A|      A|      A|      A|      A|      A|      A|      A|      A|      A|      A|      A|      A|\n",
            "|    max|        190006129593|   2019|                5300108|                  �urea|                53|              TO|               94|      M|                 4|                 5|                 4|                5300108|                  �urea|                53|              TO|                 4|                13|                 3|                  2|                  1|           53088018|           5300108|           �urea|                53|       TO|                     4|                  2|                 4|                   1|                   1|                   1|                      1|                   1|                    1|                    1|                   1|                   1|                   1|                   1|                   1|                   1|                   1|                   1|                   1|                          1|                   1|                   1|                   1|                   1|                   1|                   1|                   1|                   1|                   1|                   1|                    1|                       1|                   1|                   1|                   1|                   1|                   1|                    1|                   1|                   1|                   1|                    1|                   1|                   1|                   1|                   1|                   1|                   1|                   1|                   1|                   1|                       1|                     1|                   1|           5300108|�guas Lindas de G...|                53|         TO|                  2|                  2|                  2|                  2|               546|               564|              565|              558|            860.9|            835.1|            801.7|             985.5|EEEEEEEEEEEEEEEEE...|EEEEEEEEEEEEEEEEE...|EEEEE99999EEEEEEE...|EEEEEEEEEEEEEEEEE...|                 1|DEADBAAAEBEECEBCB...|EEBCEEDBADBBCBABC...|EDABBDAABBDBAACEA...|EEEADBEBACABCDBAB...|                 9|               200|               200|               200|               200|              200|              1000|      H|      H|      F|      F|                20|      Q|      D|      E|      E|      E|      E|      E|      E|      E|      E|      E|      E|      B|      E|      B|      B|      E|      B|      E|      B|\n",
            "+-------+--------------------+-------+-----------------------+-----------------------+------------------+----------------+-----------------+-------+------------------+------------------+------------------+-----------------------+-----------------------+------------------+----------------+------------------+------------------+------------------+-------------------+-------------------+-------------------+------------------+----------------+------------------+---------+----------------------+-------------------+------------------+--------------------+--------------------+--------------------+-----------------------+--------------------+---------------------+---------------------+--------------------+--------------------+--------------------+--------------------+--------------------+--------------------+--------------------+--------------------+--------------------+---------------------------+--------------------+--------------------+--------------------+--------------------+--------------------+--------------------+--------------------+--------------------+--------------------+--------------------+---------------------+------------------------+--------------------+--------------------+--------------------+--------------------+--------------------+---------------------+--------------------+--------------------+--------------------+---------------------+--------------------+--------------------+--------------------+--------------------+--------------------+--------------------+--------------------+--------------------+--------------------+------------------------+----------------------+--------------------+------------------+--------------------+------------------+-----------+-------------------+-------------------+-------------------+-------------------+------------------+------------------+-----------------+-----------------+-----------------+-----------------+-----------------+------------------+--------------------+--------------------+--------------------+--------------------+------------------+--------------------+--------------------+--------------------+--------------------+------------------+------------------+------------------+------------------+------------------+-----------------+------------------+-------+-------+-------+-------+------------------+-------+-------+-------+-------+-------+-------+-------+-------+-------+-------+-------+-------+-------+-------+-------+-------+-------+-------+-------+-------+\n",
            "\n"
          ]
        }
      ]
    },
    {
      "cell_type": "code",
      "metadata": {
        "colab": {
          "base_uri": "https://localhost:8080/"
        },
        "id": "X1znF18_f8jZ",
        "outputId": "67df5671-1f80-430c-fe93-a7e841ddb0d4"
      },
      "source": [
        "dados.count()"
      ],
      "execution_count": 16,
      "outputs": [
        {
          "output_type": "execute_result",
          "data": {
            "text/plain": [
              "5095270"
            ]
          },
          "metadata": {},
          "execution_count": 16
        }
      ]
    },
    {
      "cell_type": "code",
      "metadata": {
        "id": "sIKx4DUqD4EO"
      },
      "source": [
        "itens = get_data_spark(PATH_ITENS)"
      ],
      "execution_count": 104,
      "outputs": []
    },
    {
      "cell_type": "code",
      "metadata": {
        "colab": {
          "base_uri": "https://localhost:8080/"
        },
        "id": "3HU7VIHTL9xY",
        "outputId": "be595fc1-7afb-483b-8c66-cdeaea1b5a35"
      },
      "source": [
        "itens.printSchema()"
      ],
      "execution_count": 105,
      "outputs": [
        {
          "output_type": "stream",
          "name": "stdout",
          "text": [
            "root\n",
            " |-- CO_POSICAO: integer (nullable = true)\n",
            " |-- SG_AREA: string (nullable = true)\n",
            " |-- CO_ITEM: integer (nullable = true)\n",
            " |-- TX_GABARITO: string (nullable = true)\n",
            " |-- CO_HABILIDADE: integer (nullable = true)\n",
            " |-- TX_COR: string (nullable = true)\n",
            " |-- CO_PROVA: integer (nullable = true)\n",
            " |-- TP_LINGUA: integer (nullable = true)\n",
            " |-- IN_ITEM_ADAPTADO: integer (nullable = true)\n",
            "\n"
          ]
        }
      ]
    },
    {
      "cell_type": "code",
      "metadata": {
        "colab": {
          "base_uri": "https://localhost:8080/",
          "height": 206
        },
        "id": "j06wofNOMkee",
        "outputId": "2e4e5949-5263-439b-f21f-8d9c4e8aefcf"
      },
      "source": [
        "itens.toPandas().head()"
      ],
      "execution_count": 9,
      "outputs": [
        {
          "output_type": "execute_result",
          "data": {
            "text/html": [
              "<div>\n",
              "<style scoped>\n",
              "    .dataframe tbody tr th:only-of-type {\n",
              "        vertical-align: middle;\n",
              "    }\n",
              "\n",
              "    .dataframe tbody tr th {\n",
              "        vertical-align: top;\n",
              "    }\n",
              "\n",
              "    .dataframe thead th {\n",
              "        text-align: right;\n",
              "    }\n",
              "</style>\n",
              "<table border=\"1\" class=\"dataframe\">\n",
              "  <thead>\n",
              "    <tr style=\"text-align: right;\">\n",
              "      <th></th>\n",
              "      <th>CO_POSICAO</th>\n",
              "      <th>SG_AREA</th>\n",
              "      <th>CO_ITEM</th>\n",
              "      <th>TX_GABARITO</th>\n",
              "      <th>CO_HABILIDADE</th>\n",
              "      <th>TX_COR</th>\n",
              "      <th>CO_PROVA</th>\n",
              "      <th>TP_LINGUA</th>\n",
              "      <th>IN_ITEM_ADAPTADO</th>\n",
              "    </tr>\n",
              "  </thead>\n",
              "  <tbody>\n",
              "    <tr>\n",
              "      <th>0</th>\n",
              "      <td>1</td>\n",
              "      <td>LC</td>\n",
              "      <td>55166</td>\n",
              "      <td>B</td>\n",
              "      <td>7</td>\n",
              "      <td>Azul</td>\n",
              "      <td>511</td>\n",
              "      <td>0.0</td>\n",
              "      <td>0</td>\n",
              "    </tr>\n",
              "    <tr>\n",
              "      <th>1</th>\n",
              "      <td>2</td>\n",
              "      <td>LC</td>\n",
              "      <td>54110</td>\n",
              "      <td>D</td>\n",
              "      <td>7</td>\n",
              "      <td>Azul</td>\n",
              "      <td>511</td>\n",
              "      <td>0.0</td>\n",
              "      <td>0</td>\n",
              "    </tr>\n",
              "    <tr>\n",
              "      <th>2</th>\n",
              "      <td>3</td>\n",
              "      <td>LC</td>\n",
              "      <td>23564</td>\n",
              "      <td>A</td>\n",
              "      <td>6</td>\n",
              "      <td>Azul</td>\n",
              "      <td>511</td>\n",
              "      <td>0.0</td>\n",
              "      <td>0</td>\n",
              "    </tr>\n",
              "    <tr>\n",
              "      <th>3</th>\n",
              "      <td>4</td>\n",
              "      <td>LC</td>\n",
              "      <td>31954</td>\n",
              "      <td>B</td>\n",
              "      <td>8</td>\n",
              "      <td>Azul</td>\n",
              "      <td>511</td>\n",
              "      <td>0.0</td>\n",
              "      <td>0</td>\n",
              "    </tr>\n",
              "    <tr>\n",
              "      <th>4</th>\n",
              "      <td>5</td>\n",
              "      <td>LC</td>\n",
              "      <td>118180</td>\n",
              "      <td>E</td>\n",
              "      <td>5</td>\n",
              "      <td>Azul</td>\n",
              "      <td>511</td>\n",
              "      <td>0.0</td>\n",
              "      <td>0</td>\n",
              "    </tr>\n",
              "  </tbody>\n",
              "</table>\n",
              "</div>"
            ],
            "text/plain": [
              "   CO_POSICAO SG_AREA  CO_ITEM  ... CO_PROVA  TP_LINGUA IN_ITEM_ADAPTADO\n",
              "0           1      LC    55166  ...      511        0.0                0\n",
              "1           2      LC    54110  ...      511        0.0                0\n",
              "2           3      LC    23564  ...      511        0.0                0\n",
              "3           4      LC    31954  ...      511        0.0                0\n",
              "4           5      LC   118180  ...      511        0.0                0\n",
              "\n",
              "[5 rows x 9 columns]"
            ]
          },
          "metadata": {},
          "execution_count": 9
        }
      ]
    },
    {
      "cell_type": "code",
      "metadata": {
        "colab": {
          "base_uri": "https://localhost:8080/"
        },
        "id": "0jmWLAdsMmPN",
        "outputId": "4bede38e-2300-416a-ff82-1ff00d4530be"
      },
      "source": [
        "itens.describe().show()"
      ],
      "execution_count": 10,
      "outputs": [
        {
          "output_type": "stream",
          "name": "stdout",
          "text": [
            "+-------+-----------------+-------+------------------+-----------+------------------+-------+-----------------+------------------+-------------------+\n",
            "|summary|       CO_POSICAO|SG_AREA|           CO_ITEM|TX_GABARITO|     CO_HABILIDADE| TX_COR|         CO_PROVA|         TP_LINGUA|   IN_ITEM_ADAPTADO|\n",
            "+-------+-----------------+-------+------------------+-----------+------------------+-------+-----------------+------------------+-------------------+\n",
            "|  count|             1945|   1945|              1945|       1945|              1945|   1945|             1945|               110|               1945|\n",
            "|   mean|85.94344473007712|   null| 76097.07197943445|       null|14.981491002570694|   null|530.6838046272494|               0.5|0.09511568123393316|\n",
            "| stddev|53.11134249000579|   null|33731.599590580685|       null| 8.628218779006563|   null|19.75011772436883|0.5022883414749456| 0.2934501021196167|\n",
            "|    min|                1|     CH|              6944|          A|                 1|Amarela|              503|                 0|                  0|\n",
            "|    max|              180|     MT|            118306|          E|                30|  Verde|              565|                 1|                  1|\n",
            "+-------+-----------------+-------+------------------+-----------+------------------+-------+-----------------+------------------+-------------------+\n",
            "\n"
          ]
        }
      ]
    },
    {
      "cell_type": "code",
      "metadata": {
        "colab": {
          "base_uri": "https://localhost:8080/"
        },
        "id": "lB-TlmoQqAg6",
        "outputId": "3f07f675-65c8-4d17-843e-7287289f3b2e"
      },
      "source": [
        "itens.count()"
      ],
      "execution_count": 11,
      "outputs": [
        {
          "output_type": "execute_result",
          "data": {
            "text/plain": [
              "1945"
            ]
          },
          "metadata": {},
          "execution_count": 11
        }
      ]
    },
    {
      "cell_type": "code",
      "source": [
        "# descarrega os dados da memória para liberar RAM\n",
        "try:\n",
        "  del itens\n",
        "except:\n",
        "  print('Variável já foi excluída')"
      ],
      "metadata": {
        "id": "LYkLVBpzLimE"
      },
      "execution_count": null,
      "outputs": []
    },
    {
      "cell_type": "markdown",
      "metadata": {
        "id": "0JrE_-vB6eVP"
      },
      "source": [
        "Depois de uma rápida verificação nos dados ficou decidido dividir as informações por grupos menores para facilitar o entendimento e a manipulação dos dados.\n",
        "\n",
        "\n",
        "Foi usando como referência o dicionário de dados que está junto das informações do arquivo zip (/content/DADOS/RAW/DICION╡RIO/Dicionário_Microdados_Enem_2019.xlsx)\n",
        "e divisão nos seguintes grupos:\n",
        "\n",
        "- Informações dos participantes do Enem\n",
        "- Dados das escolas participantes\n",
        "- Pedidos de realização de prova com atendimento específico ou especializado\n",
        "- Solicitações de recursos especiais para a realização da prova\n",
        "- Dados sobre a prova\n",
        "- Questionário Sócio-econômico."
      ]
    },
    {
      "cell_type": "markdown",
      "metadata": {
        "id": "7an5t78S7oqJ"
      },
      "source": [
        "## Divisão em grupos distintos.\n"
      ]
    },
    {
      "cell_type": "markdown",
      "metadata": {
        "id": "dtoGX1LnCewH"
      },
      "source": [
        "\n",
        "\n",
        "### Informações dos participantes do Enem"
      ]
    },
    {
      "cell_type": "code",
      "metadata": {
        "colab": {
          "base_uri": "https://localhost:8080/"
        },
        "id": "YtZIRfVHAK6Z",
        "outputId": "ca581d9e-8425-4ee7-9f33-b589ef2b39b2"
      },
      "source": [
        "# verifica os anos de realização do enem no dataset, para definir se será mantida \n",
        "dados.select('NU_ANO').distinct().show()"
      ],
      "execution_count": 12,
      "outputs": [
        {
          "output_type": "stream",
          "name": "stdout",
          "text": [
            "+------+\n",
            "|NU_ANO|\n",
            "+------+\n",
            "|  2019|\n",
            "+------+\n",
            "\n"
          ]
        }
      ]
    },
    {
      "cell_type": "code",
      "metadata": {
        "id": "5N44erX97uSN"
      },
      "source": [
        "# dados do participante \n",
        "participantes = dados.select(\n",
        "      F.col('NU_INSCRICAO').alias('INSCRICAO'),F.col('NO_MUNICIPIO_RESIDENCIA').alias('MUNICIPIO_RESIDENCIA')\n",
        "      ,F.col('SG_UF_RESIDENCIA').alias('UF_RESIDENCIA'),F.col('NU_IDADE').alias('IDADE'), \\\n",
        "      F.col('TP_SEXO').alias('SEXO'),F.col('TP_ESTADO_CIVIL').alias('ESTADO_CIVIL'), \\\n",
        "      F.col('TP_COR_RACA').alias('COR'),F.col('TP_NACIONALIDADE').alias('NACIONALIDADE'), \\\n",
        "      F.col('NO_MUNICIPIO_NASCIMENTO').alias('MUNICIPIO_NASCIMENTO'),F.col('SG_UF_NASCIMENTO').alias('UF_NASCIMENTO'), \\\n",
        "      F.col('TP_ST_CONCLUSAO').alias('STATUS_ENSINO_MEDIO'), \\\n",
        "      F.col('TP_ANO_CONCLUIU').alias('ANO_CONCLUSAO'),F.col('TP_ESCOLA').alias('TIPO_ESCOLA'), \\\n",
        "      F.col('TP_ENSINO').alias('TIPO_MODALIDADE'),F.col('IN_TREINEIRO').alias('TREINEIRO')) \\\n",
        "      .withColumn(\"SEXO\", \n",
        "                  F.when(F.col('SEXO') == 'M', 'MASCULINO') \\\n",
        "                  .when(F.col('SEXO') == 'F', 'FEMININO') \\\n",
        "                  .otherwise(F.col('SEXO'))) \\\n",
        "      .withColumn(\"ESTADO_CIVIL\", \\\n",
        "                  F.when(F.col('ESTADO_CIVIL') == 0, 'Não Informado') \\\n",
        "                  .when(F.col('ESTADO_CIVIL') == 1, 'Solteiro(a)') \\\n",
        "                  .when(F.col('ESTADO_CIVIL') == 2, 'Casado(a)/Mora com companheiro(a)') \\\n",
        "                  .when(F.col('ESTADO_CIVIL') == 3, 'Divorciado(a)/Desquitado(a)/Separado(a)') \\\n",
        "                  .when(F.col('ESTADO_CIVIL') == 4, 'Viúvo(a)') \\\n",
        "                  .otherwise(F.col('ESTADO_CIVIL'))) \\\n",
        "      .withColumn(\"COR\", \\\n",
        "                  F.when(F.col('COR') == 0, 'Não declarado') \\\n",
        "                  .when(F.col('COR') == 1, 'Branca') \\\n",
        "                  .when(F.col('COR') == 2, 'Afrodescendente') \\\n",
        "                  .when(F.col('COR') == 3, 'Parda') \\\n",
        "                  .when(F.col('COR') == 4, 'Amarela') \\\n",
        "                  .when(F.col('COR') == 5, 'Indígena') \\\n",
        "                  .otherwise(F.col('COR'))) \\\n",
        "      .withColumn(\"NACIONALIDADE\", \\\n",
        "                  F.when(F.col('NACIONALIDADE') == 0, 'Não informado') \\\n",
        "                  .when(F.col('NACIONALIDADE') == 1, 'Brasileiro(a)') \\\n",
        "                  .when(F.col('NACIONALIDADE') == 2, 'Brasileiro(a) Naturalizado') \\\n",
        "                  .when(F.col('NACIONALIDADE') == 3, 'Estrangeiro(a)') \\\n",
        "                  .when(F.col('NACIONALIDADE') == 4, 'Brasileiro(a) Nato(a), nascido(a) no exterior') \\\n",
        "                  .otherwise(F.col('NACIONALIDADE'))) \\\n",
        "      .withColumn(\"STATUS_ENSINO_MEDIO\", \\\n",
        "                  F.when(F.col('STATUS_ENSINO_MEDIO') == 1, 'Já concluí o Ensino Médio') \\\n",
        "                  .when(F.col('STATUS_ENSINO_MEDIO') == 2, 'Estou cursando e concluirei o Ensino Médio em 2019') \\\n",
        "                  .when(F.col('STATUS_ENSINO_MEDIO') == 3, 'Estou cursando e concluirei o Ensino Médio após 2019') \\\n",
        "                  .when(F.col('STATUS_ENSINO_MEDIO') == 4, 'Não concluí e não estou cursando o Ensino Médio') \\\n",
        "                  .otherwise(F.col('STATUS_ENSINO_MEDIO'))) \\\n",
        "      .withColumn(\"ANO_CONCLUSAO\", \\\n",
        "                  F.when(F.col('ANO_CONCLUSAO') == 0, 'Não informado') \\\n",
        "                  .when(F.col('ANO_CONCLUSAO') == 1, '2018') \\\n",
        "                  .when(F.col('ANO_CONCLUSAO') == 2, '2017') \\\n",
        "                  .when(F.col('ANO_CONCLUSAO') == 3, '2016') \\\n",
        "                  .when(F.col('ANO_CONCLUSAO') == 4, '2015') \\\n",
        "                  .when(F.col('ANO_CONCLUSAO') == 5, '2014') \\\n",
        "                  .when(F.col('ANO_CONCLUSAO') == 6, '2013') \\\n",
        "                  .when(F.col('ANO_CONCLUSAO') == 7, '2012') \\\n",
        "                  .when(F.col('ANO_CONCLUSAO') == 8, '2011') \\\n",
        "                  .when(F.col('ANO_CONCLUSAO') == 9, '2010') \\\n",
        "                  .when(F.col('ANO_CONCLUSAO') == 10, '2009') \\\n",
        "                  .when(F.col('ANO_CONCLUSAO') == 11, '2008') \\\n",
        "                  .when(F.col('ANO_CONCLUSAO') == 12, '2007') \\\n",
        "                  .when(F.col('ANO_CONCLUSAO') == 13, 'Antes de 2007') \\\n",
        "                  .otherwise(F.col('ANO_CONCLUSAO'))) \\\n",
        "      .withColumn(\"TIPO_ESCOLA\", \\\n",
        "                  F.when(F.col('TIPO_ESCOLA') == 1, 'Não Respondeu') \\\n",
        "                  .when(F.col('TIPO_ESCOLA') == 2, 'Pública') \\\n",
        "                  .when(F.col('TIPO_ESCOLA') == 3, 'Privada') \\\n",
        "                  .when(F.col('TIPO_ESCOLA') == 4, 'Exterior') \\\n",
        "                  .otherwise(F.col('TIPO_ESCOLA'))) \\\n",
        "      .withColumn(\"TIPO_MODALIDADE\", \\\n",
        "                  F.when(F.col('TIPO_MODALIDADE') == 1, 'Ensino Regular') \\\n",
        "                  .when(F.col('TIPO_MODALIDADE') == 2, 'Educação Especial - Modalidade Substitutiva') \\\n",
        "                  .when(F.col('TIPO_MODALIDADE') == 3, 'Educação de Jovens e Adultos') \\\n",
        "                  .otherwise(F.col('TIPO_MODALIDADE'))) \\\n",
        "      .withColumn(\"TREINEIRO\", \n",
        "                  F.when(F.col('TREINEIRO') == 1, 'SIM') \\\n",
        "                  .when(F.col('TREINEIRO') == 0, 'NÃO') \\\n",
        "                  .otherwise(F.col('TREINEIRO')))"
      ],
      "execution_count": 13,
      "outputs": []
    },
    {
      "cell_type": "code",
      "source": [
        "participantes.show()"
      ],
      "metadata": {
        "colab": {
          "base_uri": "https://localhost:8080/"
        },
        "id": "HOlCywZXsO8i",
        "outputId": "33aa83d0-1e54-45fa-9741-26e461c07515"
      },
      "execution_count": 14,
      "outputs": [
        {
          "output_type": "stream",
          "name": "stdout",
          "text": [
            "+------------+--------------------+-------------+-----+---------+--------------------+---------------+-------------+--------------------+-------------+--------------------+-------------+-------------+--------------------+---------+\n",
            "|   INSCRICAO|MUNICIPIO_RESIDENCIA|UF_RESIDENCIA|IDADE|     SEXO|        ESTADO_CIVIL|            COR|NACIONALIDADE|MUNICIPIO_NASCIMENTO|UF_NASCIMENTO| STATUS_ENSINO_MEDIO|ANO_CONCLUSAO|  TIPO_ESCOLA|     TIPO_MODALIDADE|TREINEIRO|\n",
            "+------------+--------------------+-------------+-----+---------+--------------------+---------------+-------------+--------------------+-------------+--------------------+-------------+-------------+--------------------+---------+\n",
            "|190001595656|            Sorocaba|           SP|   36|MASCULINO|         Solteiro(a)|          Parda|Brasileiro(a)|             Itabuna|           BA|Já concluí o Ensi...|         2008|Não Respondeu|                null|      NÃO|\n",
            "|190001421546|    Feira de Santana|           BA|   23|MASCULINO|         Solteiro(a)|         Branca|Brasileiro(a)|    Feira de Santana|           BA|Já concluí o Ensi...|         2014|Não Respondeu|      Ensino Regular|      NÃO|\n",
            "|190001133210|           Fortaleza|           CE|   39| FEMININO|         Solteiro(a)|          Parda|Brasileiro(a)|           Fortaleza|           CE|Já concluí o Ensi...|Antes de 2007|Não Respondeu|      Ensino Regular|      NÃO|\n",
            "|190001199383|              Palmas|           TO|   25| FEMININO|         Solteiro(a)|         Branca|Brasileiro(a)|              Palmas|           TO|Já concluí o Ensi...|         2015|Não Respondeu|                null|      NÃO|\n",
            "|190001237802|            Contagem|           MG|   22| FEMININO|         Solteiro(a)|         Branca|Brasileiro(a)|            Contagem|           MG|Já concluí o Ensi...|         2015|Não Respondeu|      Ensino Regular|      NÃO|\n",
            "|190001782198|        Rondon�polis|           MT|   37|MASCULINO|Casado(a)/Mora co...|Afrodescendente|Brasileiro(a)|        Rondon�polis|           MT|Já concluí o Ensi...|Antes de 2007|Não Respondeu|                null|      NÃO|\n",
            "|190001421548|        Paulo Afonso|           BA|   22| FEMININO|         Solteiro(a)|          Parda|Brasileiro(a)|        Paulo Afonso|           BA|Já concluí o Ensi...|         2014|Não Respondeu|      Ensino Regular|      NÃO|\n",
            "|190001595657|           S�o Paulo|           SP|   20|MASCULINO|         Solteiro(a)|          Parda|Brasileiro(a)|           S�o Paulo|           SP|Já concluí o Ensi...|         2018|Não Respondeu|                null|      NÃO|\n",
            "|190001592264|           S�o Paulo|           SP|   20| FEMININO|         Solteiro(a)|         Branca|Brasileiro(a)|           S�o Paulo|           SP|Já concluí o Ensi...|         2018|Não Respondeu|      Ensino Regular|      NÃO|\n",
            "|190001592266|           S�o Paulo|           SP|   17|MASCULINO|         Solteiro(a)|         Branca|Brasileiro(a)|           S�o Paulo|           SP|Estou cursando e ...|Não informado|      Pública|      Ensino Regular|      NÃO|\n",
            "|190001592265|     Mogi das Cruzes|           SP|   21| FEMININO|         Solteiro(a)|         Branca|Brasileiro(a)|     Mogi das Cruzes|           SP|Já concluí o Ensi...|         2015|Não Respondeu|      Ensino Regular|      NÃO|\n",
            "|190001475147|         Santa Maria|           RN|   19|MASCULINO|         Solteiro(a)|        Amarela|Brasileiro(a)|             Maca�ba|           RN|Já concluí o Ensi...|         2018|Não Respondeu|      Ensino Regular|      NÃO|\n",
            "|190001867756|           Arauc�ria|           PR|   23| FEMININO|Casado(a)/Mora co...|         Branca|Brasileiro(a)|           Arauc�ria|           PR|Já concluí o Ensi...|         2013|Não Respondeu|      Ensino Regular|      NÃO|\n",
            "|190001133211|           Fortaleza|           CE|   21| FEMININO|         Solteiro(a)|         Branca|Brasileiro(a)|           Fortaleza|           CE|Já concluí o Ensi...|         2018|Não Respondeu|      Ensino Regular|      NÃO|\n",
            "|190001237803|          Uberl�ndia|           MG|   30| FEMININO|         Solteiro(a)|Afrodescendente|Brasileiro(a)|          Uberl�ndia|           MG|Estou cursando e ...|Não informado|      Pública|Educação Especial...|      NÃO|\n",
            "|190001493186|              Recife|           PE|   19|MASCULINO|         Solteiro(a)|Afrodescendente|Brasileiro(a)|              Recife|           PE|Já concluí o Ensi...|         2018|Não Respondeu|      Ensino Regular|      NÃO|\n",
            "|190001421547|            Guanambi|           BA|   19|MASCULINO|         Solteiro(a)|          Parda|Brasileiro(a)|            Guanambi|           BA|Estou cursando e ...|Não informado|Não Respondeu|                null|      SIM|\n",
            "|190001493187|              Recife|           PE|   21| FEMININO|         Solteiro(a)|          Parda|Brasileiro(a)|              Recife|           PE|Já concluí o Ensi...|         2015|Não Respondeu|      Ensino Regular|      NÃO|\n",
            "|190001210202|     Itapecuru Mirim|           MA|   19| FEMININO|         Solteiro(a)|          Parda|Brasileiro(a)|          Chapadinha|           MA|Já concluí o Ensi...|         2017|Não Respondeu|      Ensino Regular|      NÃO|\n",
            "|190001421549|            Salvador|           BA|   27| FEMININO|Casado(a)/Mora co...|          Parda|Brasileiro(a)|            Salvador|           BA|Já concluí o Ensi...|         2017|Não Respondeu|                null|      NÃO|\n",
            "+------------+--------------------+-------------+-----+---------+--------------------+---------------+-------------+--------------------+-------------+--------------------+-------------+-------------+--------------------+---------+\n",
            "only showing top 20 rows\n",
            "\n"
          ]
        }
      ]
    },
    {
      "cell_type": "code",
      "metadata": {
        "id": "RoNr7wqVAIJt"
      },
      "source": [
        "save_on_csv(participantes,PATH_PARTICIPANTES)"
      ],
      "execution_count": 15,
      "outputs": []
    },
    {
      "cell_type": "code",
      "source": [
        "# descarrega os dados da memória para liberar RAM\n",
        "try:\n",
        "  del participantes\n",
        "except:\n",
        "  print('Variável já foi excluída')"
      ],
      "metadata": {
        "id": "2PenHN6WLTJ6"
      },
      "execution_count": null,
      "outputs": []
    },
    {
      "cell_type": "markdown",
      "metadata": {
        "id": "KgaNlLcHdMrs"
      },
      "source": [
        "### Dados da escola"
      ]
    },
    {
      "cell_type": "code",
      "metadata": {
        "id": "Iw4YdqQjBWu3"
      },
      "source": [
        "escolas = dados.select(\n",
        "      F.col('NU_INSCRICAO').alias('INSCRICAO'),\n",
        "      F.col('CO_ESCOLA'),F.col('NO_MUNICIPIO_ESC').alias('MUNICIPIO'),\n",
        "      F.col('SG_UF_ESC').alias('UF'),F.col('TP_DEPENDENCIA_ADM_ESC').alias('DEPENDENCIA_ADM'),\n",
        "      F.col('TP_LOCALIZACAO_ESC').alias('LOCALIZACAO'),F.col('TP_SIT_FUNC_ESC').alias('SITUACAO_FUNCIONAMENTO')) \\\n",
        "      .withColumn(\"DEPENDENCIA_ADM\", \\\n",
        "                  F.when(F.col('DEPENDENCIA_ADM') == 1, 'Federal') \\\n",
        "                  .when(F.col('DEPENDENCIA_ADM') == 2, 'Estadual') \\\n",
        "                  .when(F.col('DEPENDENCIA_ADM') == 3, 'Municipal') \\\n",
        "                  .when(F.col('DEPENDENCIA_ADM') == 4, 'Privada') \\\n",
        "                  .otherwise(F.col('DEPENDENCIA_ADM'))) \\\n",
        "      .withColumn(\"LOCALIZACAO\", \\\n",
        "                  F.when(F.col('LOCALIZACAO') == 1, 'Urbana') \\\n",
        "                  .when(F.col('LOCALIZACAO') == 2, 'Rural') \\\n",
        "                  .otherwise(F.col('LOCALIZACAO'))) \\\n",
        "      .withColumn(\"SITUACAO_FUNCIONAMENTO\", \\\n",
        "                  F.when(F.col('SITUACAO_FUNCIONAMENTO') == 1, 'Em atividade') \\\n",
        "                  .when(F.col('SITUACAO_FUNCIONAMENTO') == 2, 'Paralisada') \\\n",
        "                  .when(F.col('SITUACAO_FUNCIONAMENTO') == 3, 'Extinta') \\\n",
        "                  .otherwise(F.col('SITUACAO_FUNCIONAMENTO')))"
      ],
      "execution_count": 49,
      "outputs": []
    },
    {
      "cell_type": "code",
      "source": [
        "escolas.show()"
      ],
      "metadata": {
        "colab": {
          "base_uri": "https://localhost:8080/"
        },
        "id": "GAb6tkbdsKqd",
        "outputId": "f2e5660a-d9e7-46de-d08d-0d119f4bdf89"
      },
      "execution_count": 50,
      "outputs": [
        {
          "output_type": "stream",
          "name": "stdout",
          "text": [
            "+------------+---------+----------+----+---------------+-----------+----------------------+\n",
            "|   INSCRICAO|CO_ESCOLA| MUNICIPIO|  UF|DEPENDENCIA_ADM|LOCALIZACAO|SITUACAO_FUNCIONAMENTO|\n",
            "+------------+---------+----------+----+---------------+-----------+----------------------+\n",
            "|190001595656|     null|      null|null|           null|       null|                  null|\n",
            "|190001421546|     null|      null|null|           null|       null|                  null|\n",
            "|190001133210|     null|      null|null|           null|       null|                  null|\n",
            "|190001199383|     null|      null|null|           null|       null|                  null|\n",
            "|190001237802|     null|      null|null|           null|       null|                  null|\n",
            "|190001782198|     null|      null|null|           null|       null|                  null|\n",
            "|190001421548|     null|      null|null|           null|       null|                  null|\n",
            "|190001595657|     null|      null|null|           null|       null|                  null|\n",
            "|190001592264|     null|      null|null|           null|       null|                  null|\n",
            "|190001592266|     null|      null|null|           null|       null|                  null|\n",
            "|190001592265|     null|      null|null|           null|       null|                  null|\n",
            "|190001475147|     null|      null|null|           null|       null|                  null|\n",
            "|190001867756|     null|      null|null|           null|       null|                  null|\n",
            "|190001133211|     null|      null|null|           null|       null|                  null|\n",
            "|190001237803| 31167835|Uberl�ndia|  MG|       Estadual|     Urbana|          Em atividade|\n",
            "|190001493186|     null|      null|null|           null|       null|                  null|\n",
            "|190001421547|     null|      null|null|           null|       null|                  null|\n",
            "|190001493187|     null|      null|null|           null|       null|                  null|\n",
            "|190001210202|     null|      null|null|           null|       null|                  null|\n",
            "|190001421549|     null|      null|null|           null|       null|                  null|\n",
            "+------------+---------+----------+----+---------------+-----------+----------------------+\n",
            "only showing top 20 rows\n",
            "\n"
          ]
        }
      ]
    },
    {
      "cell_type": "code",
      "metadata": {
        "id": "Aed2UbHLgGg7"
      },
      "source": [
        "save_on_csv(escolas,PATH_ESCOLAS)"
      ],
      "execution_count": 70,
      "outputs": []
    },
    {
      "cell_type": "code",
      "metadata": {
        "id": "HBcTU81CpF-B"
      },
      "source": [
        "# descarrega os dados da memória para liberar RAM\n",
        "try:\n",
        "  del escolas\n",
        "except:\n",
        "  print('Variável já foi excluída')"
      ],
      "execution_count": 51,
      "outputs": []
    },
    {
      "cell_type": "markdown",
      "metadata": {
        "id": "w9byXPdxpp41"
      },
      "source": [
        "### Pedidos de realização de prova com atendimento específico ou especializado"
      ]
    },
    {
      "cell_type": "code",
      "metadata": {
        "id": "yn9CS9qQprS1"
      },
      "source": [
        "colunas = ['NU_INSCRICAO','IN_BAIXA_VISAO','IN_CEGUEIRA','IN_SURDEZ','IN_DEFICIENCIA_AUDITIVA',\n",
        "      'IN_SURDO_CEGUEIRA','IN_DEFICIENCIA_FISICA','IN_DEFICIENCIA_MENTAL',\n",
        "      'IN_DEFICIT_ATENCAO','IN_DISLEXIA','IN_DISCALCULIA','IN_AUTISMO',\n",
        "      'IN_VISAO_MONOCULAR','IN_OUTRA_DEF','IN_GESTANTE','IN_LACTANTE',\n",
        "      'IN_IDOSO','IN_ESTUDA_CLASSE_HOSPITALAR']\n",
        "\n",
        "atendimento_especifico = dados.select(colunas)\n",
        "\n",
        "for i in colunas:\n",
        "  atendimento_especifico = atendimento_especifico.withColumn(i, F.when(F.col(i) == 1, 'Sim') \\\n",
        "                                    .when(F.col(i) == 0, 'Não') \\\n",
        "                                    .otherwise(F.col(i)))\n"
      ],
      "execution_count": 52,
      "outputs": []
    },
    {
      "cell_type": "code",
      "source": [
        "atendimento_especifico.show()"
      ],
      "metadata": {
        "colab": {
          "base_uri": "https://localhost:8080/"
        },
        "id": "WpOVE3oPsG8I",
        "outputId": "e2ee9d62-eb9c-4a40-85de-cb4054a829f9"
      },
      "execution_count": 53,
      "outputs": [
        {
          "output_type": "stream",
          "name": "stdout",
          "text": [
            "+------------+--------------+-----------+---------+-----------------------+-----------------+---------------------+---------------------+------------------+-----------+--------------+----------+------------------+------------+-----------+-----------+--------+---------------------------+\n",
            "|NU_INSCRICAO|IN_BAIXA_VISAO|IN_CEGUEIRA|IN_SURDEZ|IN_DEFICIENCIA_AUDITIVA|IN_SURDO_CEGUEIRA|IN_DEFICIENCIA_FISICA|IN_DEFICIENCIA_MENTAL|IN_DEFICIT_ATENCAO|IN_DISLEXIA|IN_DISCALCULIA|IN_AUTISMO|IN_VISAO_MONOCULAR|IN_OUTRA_DEF|IN_GESTANTE|IN_LACTANTE|IN_IDOSO|IN_ESTUDA_CLASSE_HOSPITALAR|\n",
            "+------------+--------------+-----------+---------+-----------------------+-----------------+---------------------+---------------------+------------------+-----------+--------------+----------+------------------+------------+-----------+-----------+--------+---------------------------+\n",
            "|190001595656|           Não|        Não|      Não|                    Não|              Não|                  Não|                  Não|               Não|        Não|           Não|       Não|               Não|         Não|        Não|        Não|     Não|                        Não|\n",
            "|190001421546|           Não|        Não|      Não|                    Não|              Não|                  Não|                  Não|               Não|        Não|           Não|       Não|               Não|         Não|        Não|        Não|     Não|                        Não|\n",
            "|190001133210|           Não|        Não|      Não|                    Não|              Não|                  Não|                  Não|               Não|        Não|           Não|       Não|               Não|         Não|        Não|        Não|     Não|                        Não|\n",
            "|190001199383|           Não|        Não|      Não|                    Não|              Não|                  Não|                  Não|               Não|        Não|           Não|       Não|               Não|         Não|        Não|        Não|     Não|                        Não|\n",
            "|190001237802|           Não|        Não|      Não|                    Não|              Não|                  Não|                  Não|               Não|        Não|           Não|       Não|               Não|         Não|        Não|        Não|     Não|                        Não|\n",
            "|190001782198|           Não|        Não|      Não|                    Não|              Não|                  Não|                  Não|               Não|        Não|           Não|       Não|               Não|         Não|        Não|        Não|     Não|                        Não|\n",
            "|190001421548|           Não|        Não|      Não|                    Não|              Não|                  Não|                  Não|               Não|        Não|           Não|       Não|               Não|         Não|        Não|        Não|     Não|                        Não|\n",
            "|190001595657|           Não|        Não|      Não|                    Não|              Não|                  Não|                  Não|               Não|        Não|           Não|       Não|               Não|         Não|        Não|        Não|     Não|                        Não|\n",
            "|190001592264|           Não|        Não|      Não|                    Não|              Não|                  Não|                  Não|               Não|        Não|           Não|       Não|               Não|         Não|        Não|        Não|     Não|                        Não|\n",
            "|190001592266|           Não|        Não|      Não|                    Não|              Não|                  Não|                  Não|               Não|        Não|           Não|       Não|               Não|         Não|        Não|        Não|     Não|                        Não|\n",
            "|190001592265|           Não|        Não|      Não|                    Não|              Não|                  Não|                  Não|               Não|        Não|           Não|       Não|               Não|         Não|        Não|        Não|     Não|                        Não|\n",
            "|190001475147|           Não|        Não|      Não|                    Não|              Não|                  Não|                  Não|               Não|        Não|           Não|       Não|               Não|         Não|        Não|        Não|     Não|                        Não|\n",
            "|190001867756|           Não|        Não|      Não|                    Não|              Não|                  Não|                  Não|               Não|        Não|           Não|       Não|               Não|         Não|        Não|        Não|     Não|                        Não|\n",
            "|190001133211|           Não|        Não|      Não|                    Não|              Não|                  Não|                  Não|               Não|        Não|           Não|       Não|               Não|         Não|        Não|        Não|     Não|                        Não|\n",
            "|190001237803|           Não|        Não|      Não|                    Não|              Não|                  Não|                  Não|               Não|        Não|           Não|       Não|               Não|         Não|        Não|        Não|     Não|                        Não|\n",
            "|190001493186|           Não|        Não|      Não|                    Não|              Não|                  Não|                  Não|               Não|        Não|           Não|       Não|               Não|         Não|        Não|        Não|     Não|                        Não|\n",
            "|190001421547|           Não|        Não|      Não|                    Não|              Não|                  Não|                  Não|               Não|        Não|           Não|       Não|               Não|         Não|        Não|        Não|     Não|                        Não|\n",
            "|190001493187|           Não|        Não|      Não|                    Não|              Não|                  Não|                  Não|               Não|        Não|           Não|       Não|               Não|         Não|        Não|        Não|     Não|                        Não|\n",
            "|190001210202|           Não|        Não|      Não|                    Não|              Não|                  Não|                  Não|               Não|        Não|           Não|       Não|               Não|         Não|        Não|        Não|     Não|                        Não|\n",
            "|190001421549|           Não|        Não|      Não|                    Não|              Não|                  Não|                  Não|               Não|        Não|           Não|       Não|               Não|         Não|        Não|        Não|     Não|                        Não|\n",
            "+------------+--------------+-----------+---------+-----------------------+-----------------+---------------------+---------------------+------------------+-----------+--------------+----------+------------------+------------+-----------+-----------+--------+---------------------------+\n",
            "only showing top 20 rows\n",
            "\n"
          ]
        }
      ]
    },
    {
      "cell_type": "code",
      "metadata": {
        "id": "ao4l_WZm0stq"
      },
      "source": [
        "save_on_csv(atendimento_especifico, PATH_ATENDIMENTO_ESPECIFICO)"
      ],
      "execution_count": 90,
      "outputs": []
    },
    {
      "cell_type": "code",
      "source": [
        "# descarrega os dados da memória para liberar RAM\n",
        "try:\n",
        "  del atendimento_especifico\n",
        "except:\n",
        "  print('Variável já foi excluída')"
      ],
      "metadata": {
        "id": "Psu2JgoMTtSF"
      },
      "execution_count": 54,
      "outputs": []
    },
    {
      "cell_type": "markdown",
      "metadata": {
        "id": "-1fAqsYp1SFP"
      },
      "source": [
        "### Solicitações de recursos especiais para a realização da prova"
      ]
    },
    {
      "cell_type": "code",
      "metadata": {
        "id": "hQOYjmqP1q-w"
      },
      "source": [
        "colunas = ['NU_INSCRICAO','IN_SEM_RECURSO','IN_BRAILLE','IN_AMPLIADA_24','IN_AMPLIADA_18',\n",
        "           'IN_LEDOR','IN_ACESSO','IN_TRANSCRICAO','IN_LIBRAS','IN_TEMPO_ADICIONAL',\n",
        "           'IN_LEITURA_LABIAL','IN_MESA_CADEIRA_RODAS','IN_MESA_CADEIRA_SEPARADA',\n",
        "           'IN_APOIO_PERNA','IN_GUIA_INTERPRETE','IN_COMPUTADOR','IN_CADEIRA_ESPECIAL',\n",
        "           'IN_CADEIRA_CANHOTO','IN_CADEIRA_ACOLCHOADA','IN_PROVA_DEITADO',\n",
        "           'IN_MOBILIARIO_OBESO','IN_LAMINA_OVERLAY','IN_PROTETOR_AURICULAR',\n",
        "           'IN_MEDIDOR_GLICOSE','IN_MAQUINA_BRAILE','IN_SOROBAN','IN_MARCA_PASSO',\n",
        "           'IN_SONDA','IN_MEDICAMENTOS','IN_SALA_INDIVIDUAL','IN_SALA_ESPECIAL',\n",
        "           'IN_SALA_ACOMPANHANTE','IN_MOBILIARIO_ESPECIFICO','IN_MATERIAL_ESPECIFICO',\n",
        "           'IN_NOME_SOCIAL']\n",
        "\n",
        "recursos_especiais = dados.select(colunas)\n",
        "\n",
        "for i in colunas:\n",
        "  recursos_especiais = recursos_especiais.withColumn(i, F.when(F.col(i) == 1, 'Sim') \\\n",
        "                                    .when(F.col(i) == 0, 'Não') \\\n",
        "                                    .otherwise(F.col(i)))"
      ],
      "execution_count": 38,
      "outputs": []
    },
    {
      "cell_type": "code",
      "source": [
        "recursos_especiais.show()"
      ],
      "metadata": {
        "colab": {
          "base_uri": "https://localhost:8080/"
        },
        "id": "s0umjXJnsBE6",
        "outputId": "3bb9980e-9ca3-4ef3-f739-9b2e9b114154"
      },
      "execution_count": 39,
      "outputs": [
        {
          "output_type": "stream",
          "name": "stdout",
          "text": [
            "+------------+--------------+----------+--------------+--------------+--------+---------+--------------+---------+------------------+-----------------+---------------------+------------------------+--------------+------------------+-------------+-------------------+------------------+---------------------+----------------+-------------------+-----------------+---------------------+------------------+-----------------+----------+--------------+--------+---------------+------------------+----------------+--------------------+------------------------+----------------------+--------------+\n",
            "|NU_INSCRICAO|IN_SEM_RECURSO|IN_BRAILLE|IN_AMPLIADA_24|IN_AMPLIADA_18|IN_LEDOR|IN_ACESSO|IN_TRANSCRICAO|IN_LIBRAS|IN_TEMPO_ADICIONAL|IN_LEITURA_LABIAL|IN_MESA_CADEIRA_RODAS|IN_MESA_CADEIRA_SEPARADA|IN_APOIO_PERNA|IN_GUIA_INTERPRETE|IN_COMPUTADOR|IN_CADEIRA_ESPECIAL|IN_CADEIRA_CANHOTO|IN_CADEIRA_ACOLCHOADA|IN_PROVA_DEITADO|IN_MOBILIARIO_OBESO|IN_LAMINA_OVERLAY|IN_PROTETOR_AURICULAR|IN_MEDIDOR_GLICOSE|IN_MAQUINA_BRAILE|IN_SOROBAN|IN_MARCA_PASSO|IN_SONDA|IN_MEDICAMENTOS|IN_SALA_INDIVIDUAL|IN_SALA_ESPECIAL|IN_SALA_ACOMPANHANTE|IN_MOBILIARIO_ESPECIFICO|IN_MATERIAL_ESPECIFICO|IN_NOME_SOCIAL|\n",
            "+------------+--------------+----------+--------------+--------------+--------+---------+--------------+---------+------------------+-----------------+---------------------+------------------------+--------------+------------------+-------------+-------------------+------------------+---------------------+----------------+-------------------+-----------------+---------------------+------------------+-----------------+----------+--------------+--------+---------------+------------------+----------------+--------------------+------------------------+----------------------+--------------+\n",
            "|190001595656|           Não|       Não|           Não|           Não|     Não|      Não|           Não|      Não|               Não|              Não|                  Não|                     Não|           Não|               Não|          Não|                Não|               Não|                  Não|             Não|                Não|              Não|                  Não|               Não|              Não|       Não|           Não|     Não|            Não|               Não|             Não|                 Não|                     Não|                   Não|           Não|\n",
            "|190001421546|           Não|       Não|           Não|           Não|     Não|      Não|           Não|      Não|               Não|              Não|                  Não|                     Não|           Não|               Não|          Não|                Não|               Não|                  Não|             Não|                Não|              Não|                  Não|               Não|              Não|       Não|           Não|     Não|            Não|               Não|             Não|                 Não|                     Não|                   Não|           Não|\n",
            "|190001133210|           Não|       Não|           Não|           Não|     Não|      Não|           Não|      Não|               Não|              Não|                  Não|                     Não|           Não|               Não|          Não|                Não|               Não|                  Não|             Não|                Não|              Não|                  Não|               Não|              Não|       Não|           Não|     Não|            Não|               Não|             Não|                 Não|                     Não|                   Não|           Não|\n",
            "|190001199383|           Não|       Não|           Não|           Não|     Não|      Não|           Não|      Não|               Não|              Não|                  Não|                     Não|           Não|               Não|          Não|                Não|               Não|                  Não|             Não|                Não|              Não|                  Não|               Não|              Não|       Não|           Não|     Não|            Não|               Não|             Não|                 Não|                     Não|                   Não|           Não|\n",
            "|190001237802|           Não|       Não|           Não|           Não|     Não|      Não|           Não|      Não|               Não|              Não|                  Não|                     Não|           Não|               Não|          Não|                Não|               Não|                  Não|             Não|                Não|              Não|                  Não|               Não|              Não|       Não|           Não|     Não|            Não|               Não|             Não|                 Não|                     Não|                   Não|           Não|\n",
            "|190001782198|           Não|       Não|           Não|           Não|     Não|      Não|           Não|      Não|               Não|              Não|                  Não|                     Não|           Não|               Não|          Não|                Não|               Não|                  Não|             Não|                Não|              Não|                  Não|               Não|              Não|       Não|           Não|     Não|            Não|               Não|             Não|                 Não|                     Não|                   Não|           Não|\n",
            "|190001421548|           Não|       Não|           Não|           Não|     Não|      Não|           Não|      Não|               Não|              Não|                  Não|                     Não|           Não|               Não|          Não|                Não|               Não|                  Não|             Não|                Não|              Não|                  Não|               Não|              Não|       Não|           Não|     Não|            Não|               Não|             Não|                 Não|                     Não|                   Não|           Não|\n",
            "|190001595657|           Não|       Não|           Não|           Não|     Não|      Não|           Não|      Não|               Não|              Não|                  Não|                     Não|           Não|               Não|          Não|                Não|               Não|                  Não|             Não|                Não|              Não|                  Não|               Não|              Não|       Não|           Não|     Não|            Não|               Não|             Não|                 Não|                     Não|                   Não|           Não|\n",
            "|190001592264|           Não|       Não|           Não|           Não|     Não|      Não|           Não|      Não|               Não|              Não|                  Não|                     Não|           Não|               Não|          Não|                Não|               Não|                  Não|             Não|                Não|              Não|                  Não|               Não|              Não|       Não|           Não|     Não|            Não|               Não|             Não|                 Não|                     Não|                   Não|           Não|\n",
            "|190001592266|           Não|       Não|           Não|           Não|     Não|      Não|           Não|      Não|               Não|              Não|                  Não|                     Não|           Não|               Não|          Não|                Não|               Não|                  Não|             Não|                Não|              Não|                  Não|               Não|              Não|       Não|           Não|     Não|            Não|               Não|             Não|                 Não|                     Não|                   Não|           Não|\n",
            "|190001592265|           Não|       Não|           Não|           Não|     Não|      Não|           Não|      Não|               Não|              Não|                  Não|                     Não|           Não|               Não|          Não|                Não|               Não|                  Não|             Não|                Não|              Não|                  Não|               Não|              Não|       Não|           Não|     Não|            Não|               Não|             Não|                 Não|                     Não|                   Não|           Não|\n",
            "|190001475147|           Não|       Não|           Não|           Não|     Não|      Não|           Não|      Não|               Não|              Não|                  Não|                     Não|           Não|               Não|          Não|                Não|               Não|                  Não|             Não|                Não|              Não|                  Não|               Não|              Não|       Não|           Não|     Não|            Não|               Não|             Não|                 Não|                     Não|                   Não|           Não|\n",
            "|190001867756|           Não|       Não|           Não|           Não|     Não|      Não|           Não|      Não|               Não|              Não|                  Não|                     Não|           Não|               Não|          Não|                Não|               Não|                  Não|             Não|                Não|              Não|                  Não|               Não|              Não|       Não|           Não|     Não|            Não|               Não|             Não|                 Não|                     Não|                   Não|           Não|\n",
            "|190001133211|           Não|       Não|           Não|           Não|     Não|      Não|           Não|      Não|               Não|              Não|                  Não|                     Não|           Não|               Não|          Não|                Não|               Não|                  Não|             Não|                Não|              Não|                  Não|               Não|              Não|       Não|           Não|     Não|            Não|               Não|             Não|                 Não|                     Não|                   Não|           Não|\n",
            "|190001237803|           Não|       Não|           Não|           Não|     Não|      Não|           Não|      Não|               Não|              Não|                  Não|                     Não|           Não|               Não|          Não|                Não|               Não|                  Não|             Não|                Não|              Não|                  Não|               Não|              Não|       Não|           Não|     Não|            Não|               Não|             Não|                 Não|                     Não|                   Não|           Não|\n",
            "|190001493186|           Não|       Não|           Não|           Não|     Não|      Não|           Não|      Não|               Não|              Não|                  Não|                     Não|           Não|               Não|          Não|                Não|               Não|                  Não|             Não|                Não|              Não|                  Não|               Não|              Não|       Não|           Não|     Não|            Não|               Não|             Não|                 Não|                     Não|                   Não|           Não|\n",
            "|190001421547|           Não|       Não|           Não|           Não|     Não|      Não|           Não|      Não|               Não|              Não|                  Não|                     Não|           Não|               Não|          Não|                Não|               Não|                  Não|             Não|                Não|              Não|                  Não|               Não|              Não|       Não|           Não|     Não|            Não|               Não|             Não|                 Não|                     Não|                   Não|           Não|\n",
            "|190001493187|           Não|       Não|           Não|           Não|     Não|      Não|           Não|      Não|               Não|              Não|                  Não|                     Não|           Não|               Não|          Não|                Não|               Não|                  Não|             Não|                Não|              Não|                  Não|               Não|              Não|       Não|           Não|     Não|            Não|               Não|             Não|                 Não|                     Não|                   Não|           Não|\n",
            "|190001210202|           Não|       Não|           Não|           Não|     Não|      Não|           Não|      Não|               Não|              Não|                  Não|                     Não|           Não|               Não|          Não|                Não|               Não|                  Não|             Não|                Não|              Não|                  Não|               Não|              Não|       Não|           Não|     Não|            Não|               Não|             Não|                 Não|                     Não|                   Não|           Não|\n",
            "|190001421549|           Não|       Não|           Não|           Não|     Não|      Não|           Não|      Não|               Não|              Não|                  Não|                     Não|           Não|               Não|          Não|                Não|               Não|                  Não|             Não|                Não|              Não|                  Não|               Não|              Não|       Não|           Não|     Não|            Não|               Não|             Não|                 Não|                     Não|                   Não|           Não|\n",
            "+------------+--------------+----------+--------------+--------------+--------+---------+--------------+---------+------------------+-----------------+---------------------+------------------------+--------------+------------------+-------------+-------------------+------------------+---------------------+----------------+-------------------+-----------------+---------------------+------------------+-----------------+----------+--------------+--------+---------------+------------------+----------------+--------------------+------------------------+----------------------+--------------+\n",
            "only showing top 20 rows\n",
            "\n"
          ]
        }
      ]
    },
    {
      "cell_type": "code",
      "metadata": {
        "id": "CFs2ZiyS2mCE"
      },
      "source": [
        "save_on_csv(recursos_especiais,PATH_RECURSOS_ESPECIAIS)"
      ],
      "execution_count": 12,
      "outputs": []
    },
    {
      "cell_type": "code",
      "source": [
        "# descarrega os dados da memória para liberar RAM\n",
        "try:\n",
        "  del recursos_especiais\n",
        "except:\n",
        "  print('Variável já foi excluída')"
      ],
      "metadata": {
        "colab": {
          "base_uri": "https://localhost:8080/"
        },
        "id": "NDSo9Xl0LCUy",
        "outputId": "2fb5ab4b-80c9-46a8-8a36-9e5a808c9816"
      },
      "execution_count": 57,
      "outputs": [
        {
          "output_type": "stream",
          "name": "stdout",
          "text": [
            "Variável já foi excluída\n"
          ]
        }
      ]
    },
    {
      "cell_type": "markdown",
      "metadata": {
        "id": "vbfsdAyW3kZX"
      },
      "source": [
        "### Dados sobre a prova"
      ]
    },
    {
      "cell_type": "code",
      "metadata": {
        "id": "Z4L1YzlT3pWH"
      },
      "source": [
        "provas = dados.select(F.col('NU_INSCRICAO').alias('INSCRICAO'),\n",
        "             F.col('NO_MUNICIPIO_PROVA').alias('MUNICIPIO_PROVA'),\n",
        "             F.col('SG_UF_PROVA').alias('UF'),\n",
        "             F.col('TP_PRESENCA_CN').alias('PRESENCA_CIENCIAS_NATUREZA'),\n",
        "             F.col('TP_PRESENCA_CH').alias('PRESENCA_CIENCIAS_HUMANAS'),\n",
        "             F.col('TP_PRESENCA_LC').alias('PRESENCA_LINGUAGEM_CODIGOS'),\n",
        "             F.col('TP_PRESENCA_MT').alias('PRESENCA_MATEMATICA'),\n",
        "             F.col('CO_PROVA_CN').alias('TIPO_PROVA_CIENCIAS_NATUREZA'),\n",
        "             F.col('CO_PROVA_CH').alias('TIPO_PROVA_CIENCIAS_HUMANAS'),\n",
        "             F.col('CO_PROVA_LC').alias('TIPO_PROVA_LINGUAGEM_CODIGOS'),\n",
        "             F.col('CO_PROVA_MT').alias('TIPO_PROVA_MATEMATICA'),\n",
        "             F.col('NU_NOTA_CN').alias('NOTA_PROVA_MATEMATICA'),\n",
        "             F.col('NU_NOTA_CH').alias('NOTA_CIENCIAS_HUMANAS'),\n",
        "             F.col('NU_NOTA_LC').alias('NOTA_LINGUAGEM_CODIGOS'),\n",
        "             F.col('NU_NOTA_MT').alias('NOTA_MATEMATICA'),\n",
        "             F.col('TP_LINGUA').alias('LINGUA_ESTRANGEIRA'),\n",
        "             F.col('TP_STATUS_REDACAO').alias('STATUS_REDACAO'),\n",
        "             F.col('NU_NOTA_COMP1').alias('NOTA_COMPETENCIA_1'),\n",
        "             F.col('NU_NOTA_COMP2').alias('NOTA_COMPETENCIA_2'),\n",
        "             F.col('NU_NOTA_COMP3').alias('NOTA_COMPETENCIA_3'),\n",
        "             F.col('NU_NOTA_COMP4').alias('NOTA_COMPETENCIA_4'),\n",
        "             F.col('NU_NOTA_COMP5').alias('NOTA_COMPETENCIA_5'),\n",
        "             F.col('NU_NOTA_REDACAO').alias('NOTA_REDACAO'))"
      ],
      "execution_count": 45,
      "outputs": []
    },
    {
      "cell_type": "code",
      "metadata": {
        "id": "r4wsbXbfIccx"
      },
      "source": [
        "for i in ['PRESENCA_CIENCIAS_NATUREZA','PRESENCA_CIENCIAS_HUMANAS','PRESENCA_LINGUAGEM_CODIGOS','PRESENCA_MATEMATICA']:\n",
        "  provas = provas.withColumn(i, F.when(F.col(i) == 0, 'Faltou à prova') \\\n",
        "                             .when(F.col(i) == 1, 'Presente na prova') \\\n",
        "                             .when(F.col(i) == 2, 'Eliminado na prova') \\\n",
        "                             .otherwise(F.col(i)))"
      ],
      "execution_count": 46,
      "outputs": []
    },
    {
      "cell_type": "code",
      "metadata": {
        "id": "mV0CUbYUG2OC"
      },
      "source": [
        "provas = provas.withColumn(\"TIPO_PROVA_CIENCIAS_NATUREZA\", \\\n",
        "                  F.when(F.col('TIPO_PROVA_CIENCIAS_NATUREZA') == 503, 'Azul') \\\n",
        "                  .when(F.col('TIPO_PROVA_CIENCIAS_NATUREZA') == 504, 'Amarela') \\\n",
        "                  .when(F.col('TIPO_PROVA_CIENCIAS_NATUREZA') == 505, 'Cinza') \\\n",
        "                  .when(F.col('TIPO_PROVA_CIENCIAS_NATUREZA') == 506, 'Rosa') \\\n",
        "                  .when(F.col('TIPO_PROVA_CIENCIAS_NATUREZA') == 519, 'Laranja - Adaptada Ledor') \\\n",
        "                  .when(F.col('TIPO_PROVA_CIENCIAS_NATUREZA') == 523, 'Verde - Videoprova - Libras') \\\n",
        "                  .when(F.col('TIPO_PROVA_CIENCIAS_NATUREZA') == 543, 'Amarela (Reaplicação)') \\\n",
        "                  .when(F.col('TIPO_PROVA_CIENCIAS_NATUREZA') == 544, 'Cinza (Reaplicação)') \\\n",
        "                  .when(F.col('TIPO_PROVA_CIENCIAS_NATUREZA') == 545, 'Azul (Reaplicação)') \\\n",
        "                  .when(F.col('TIPO_PROVA_CIENCIAS_NATUREZA') == 546, 'Rosa (Reaplicação)') \\\n",
        "                  .otherwise(F.col('TIPO_PROVA_CIENCIAS_NATUREZA'))) \\\n",
        "      .withColumn(\"TIPO_PROVA_CIENCIAS_HUMANAS\", \\\n",
        "                  F.when(F.col('TIPO_PROVA_CIENCIAS_HUMANAS') == 507, 'Azul') \\\n",
        "                  .when(F.col('TIPO_PROVA_CIENCIAS_HUMANAS') == 508, 'Amarela') \\\n",
        "                  .when(F.col('TIPO_PROVA_CIENCIAS_HUMANAS') == 509, 'Branca') \\\n",
        "                  .when(F.col('TIPO_PROVA_CIENCIAS_HUMANAS') == 510, 'Rosa') \\\n",
        "                  .when(F.col('TIPO_PROVA_CIENCIAS_HUMANAS') == 520, 'Laranja - Adaptada Ledor') \\\n",
        "                  .when(F.col('TIPO_PROVA_CIENCIAS_HUMANAS') == 524, 'Verde - Videoprova - Libras') \\\n",
        "                  .when(F.col('TIPO_PROVA_CIENCIAS_HUMANAS') == 547, 'Azul (Reaplicação)') \\\n",
        "                  .when(F.col('TIPO_PROVA_CIENCIAS_HUMANAS') == 548, 'Amarelo (Reaplicação)') \\\n",
        "                  .when(F.col('TIPO_PROVA_CIENCIAS_HUMANAS') == 549, 'Branco (Reaplicação)') \\\n",
        "                  .when(F.col('TIPO_PROVA_CIENCIAS_HUMANAS') == 550, 'Rosa (Reaplicação)') \\\n",
        "                  .when(F.col('TIPO_PROVA_CIENCIAS_HUMANAS') == 564, 'Laranja - Adaptada Ledor (Reaplicação)') \\\n",
        "                  .otherwise(F.col('TIPO_PROVA_CIENCIAS_HUMANAS'))) \\\n",
        "      .withColumn(\"TIPO_PROVA_LINGUAGEM_CODIGOS\", \\\n",
        "                  F.when(F.col('TIPO_PROVA_LINGUAGEM_CODIGOS') == 511, 'Azul') \\\n",
        "                  .when(F.col('TIPO_PROVA_LINGUAGEM_CODIGOS') == 512, 'Amarela') \\\n",
        "                  .when(F.col('TIPO_PROVA_LINGUAGEM_CODIGOS') == 513, 'Rosa') \\\n",
        "                  .when(F.col('TIPO_PROVA_LINGUAGEM_CODIGOS') == 514, 'Branca') \\\n",
        "                  .when(F.col('TIPO_PROVA_LINGUAGEM_CODIGOS') == 521, 'Laranja - Adaptada Ledor') \\\n",
        "                  .when(F.col('TIPO_PROVA_LINGUAGEM_CODIGOS') == 525, 'Verde - Videoprova - Libras') \\\n",
        "                  .when(F.col('TIPO_PROVA_LINGUAGEM_CODIGOS') == 551, 'Azul (Reaplicação)') \\\n",
        "                  .when(F.col('TIPO_PROVA_LINGUAGEM_CODIGOS') == 552, 'Amarelo (Reaplicação)') \\\n",
        "                  .when(F.col('TIPO_PROVA_LINGUAGEM_CODIGOS') == 553, 'Branca (Reaplicação)') \\\n",
        "                  .when(F.col('TIPO_PROVA_LINGUAGEM_CODIGOS') == 554, 'Rosa (Reaplicação)') \\\n",
        "                  .when(F.col('TIPO_PROVA_LINGUAGEM_CODIGOS') == 565, 'Laranja - Adaptada Ledor (Reaplicação)') \\\n",
        "                  .otherwise(F.col('TIPO_PROVA_LINGUAGEM_CODIGOS'))) \\\n",
        "      .withColumn(\"TIPO_PROVA_MATEMATICA\", \\\n",
        "                  F.when(F.col('TIPO_PROVA_MATEMATICA') == 515, 'Azul') \\\n",
        "                  .when(F.col('TIPO_PROVA_MATEMATICA') == 516, 'Amarela') \\\n",
        "                  .when(F.col('TIPO_PROVA_MATEMATICA') == 518, 'Cinza') \\\n",
        "                  .when(F.col('TIPO_PROVA_MATEMATICA') == 517, 'Rosa') \\\n",
        "                  .when(F.col('TIPO_PROVA_MATEMATICA') == 522, 'Laranja - Adaptada Ledor') \\\n",
        "                  .when(F.col('TIPO_PROVA_MATEMATICA') == 526, 'Verde - Videoprova - Libras') \\\n",
        "                  .when(F.col('TIPO_PROVA_MATEMATICA') == 555, 'Amarela (Reaplicação)') \\\n",
        "                  .when(F.col('TIPO_PROVA_MATEMATICA') == 556, 'Cinza (Reaplicação)') \\\n",
        "                  .when(F.col('TIPO_PROVA_MATEMATICA') == 557, 'Azul (Reaplicação)') \\\n",
        "                  .when(F.col('TIPO_PROVA_MATEMATICA') == 558, 'Rosa (Reaplicação)') \\\n",
        "                  .otherwise(F.col('TIPO_PROVA_MATEMATICA'))) \\\n",
        "      .withColumn(\"LINGUA_ESTRANGEIRA\", \\\n",
        "                  F.when(F.col('LINGUA_ESTRANGEIRA') == 0, 'Inglês') \\\n",
        "                  .when(F.col('LINGUA_ESTRANGEIRA') == 1, 'Espanhol') \\\n",
        "                  .otherwise(F.col('LINGUA_ESTRANGEIRA'))) \\\n",
        "      .withColumn(\"STATUS_REDACAO\", \\\n",
        "                  F.when(F.col('STATUS_REDACAO') == 1, 'Sem problemas') \\\n",
        "                  .when(F.col('STATUS_REDACAO') == 2, 'Anulada') \\\n",
        "                  .when(F.col('STATUS_REDACAO') == 3, 'Cópia Texto Motivador') \\\n",
        "                  .when(F.col('STATUS_REDACAO') == 4, 'Em branco') \\\n",
        "                  .when(F.col('STATUS_REDACAO') == 6, 'Fuga ao tema') \\\n",
        "                  .when(F.col('STATUS_REDACAO') == 7, 'Não atendimento ao tipo textual') \\\n",
        "                  .when(F.col('STATUS_REDACAO') == 8, 'Texto insuficiente') \\\n",
        "                  .when(F.col('STATUS_REDACAO') == 9, 'Parte desconectada') \\\n",
        "                  .otherwise(F.col('STATUS_REDACAO'))) "
      ],
      "execution_count": 47,
      "outputs": []
    },
    {
      "cell_type": "code",
      "source": [
        "provas.show()"
      ],
      "metadata": {
        "colab": {
          "base_uri": "https://localhost:8080/"
        },
        "id": "gaEtqv1Qr7yT",
        "outputId": "d4de4d21-6316-44a3-d26c-62e03a5a7baa"
      },
      "execution_count": 48,
      "outputs": [
        {
          "output_type": "stream",
          "name": "stdout",
          "text": [
            "+------------+----------------+---+--------------------------+-------------------------+--------------------------+-------------------+----------------------------+---------------------------+----------------------------+---------------------+---------------------+---------------------+----------------------+---------------+------------------+--------------+------------------+------------------+------------------+------------------+------------------+------------+\n",
            "|   INSCRICAO| MUNICIPIO_PROVA| UF|PRESENCA_CIENCIAS_NATUREZA|PRESENCA_CIENCIAS_HUMANAS|PRESENCA_LINGUAGEM_CODIGOS|PRESENCA_MATEMATICA|TIPO_PROVA_CIENCIAS_NATUREZA|TIPO_PROVA_CIENCIAS_HUMANAS|TIPO_PROVA_LINGUAGEM_CODIGOS|TIPO_PROVA_MATEMATICA|NOTA_PROVA_MATEMATICA|NOTA_CIENCIAS_HUMANAS|NOTA_LINGUAGEM_CODIGOS|NOTA_MATEMATICA|LINGUA_ESTRANGEIRA|STATUS_REDACAO|NOTA_COMPETENCIA_1|NOTA_COMPETENCIA_2|NOTA_COMPETENCIA_3|NOTA_COMPETENCIA_4|NOTA_COMPETENCIA_5|NOTA_REDACAO|\n",
            "+------------+----------------+---+--------------------------+-------------------------+--------------------------+-------------------+----------------------------+---------------------------+----------------------------+---------------------+---------------------+---------------------+----------------------+---------------+------------------+--------------+------------------+------------------+------------------+------------------+------------------+------------+\n",
            "|190001595656|        Sorocaba| SP|            Faltou à prova|           Faltou à prova|            Faltou à prova|     Faltou à prova|                        null|                       null|                        null|                 null|                 null|                 null|                  null|           null|            Inglês|          null|              null|              null|              null|              null|              null|        null|\n",
            "|190001421546|Feira de Santana| BA|            Faltou à prova|           Faltou à prova|            Faltou à prova|     Faltou à prova|                        null|                       null|                        null|                 null|                 null|                 null|                  null|           null|            Inglês|          null|              null|              null|              null|              null|              null|        null|\n",
            "|190001133210|       Fortaleza| CE|            Faltou à prova|           Faltou à prova|            Faltou à prova|     Faltou à prova|                        null|                       null|                        null|                 null|                 null|                 null|                  null|           null|          Espanhol|          null|              null|              null|              null|              null|              null|        null|\n",
            "|190001199383|          Palmas| TO|         Presente na prova|        Presente na prova|         Presente na prova|  Presente na prova|                     Amarela|                       Rosa|                        Rosa|              Amarela|                483.8|                503.6|                 537.3|          392.0|          Espanhol| Sem problemas|               120|               120|               120|               100|                 0|         460|\n",
            "|190001237802|        Contagem| MG|         Presente na prova|        Presente na prova|         Presente na prova|  Presente na prova|                     Amarela|                       Rosa|                        Rosa|              Amarela|                513.6|                575.5|                 570.7|          677.0|            Inglês| Sem problemas|               160|               120|               180|               200|               200|         860|\n",
            "|190001782198|    Rondon�polis| MT|         Presente na prova|        Presente na prova|         Presente na prova|  Presente na prova|                       Cinza|                    Amarela|                     Amarela|                Cinza|                563.7|                644.9|                 564.2|          675.3|            Inglês| Sem problemas|               160|               200|               180|               180|                80|         800|\n",
            "|190001421548|    Paulo Afonso| BA|         Presente na prova|        Presente na prova|         Presente na prova|  Presente na prova|                       Cinza|                    Amarela|                     Amarela|                Cinza|                484.6|                488.4|                 507.2|          594.7|          Espanhol| Sem problemas|               140|               120|               120|               160|                60|         600|\n",
            "|190001595657|       S�o Paulo| SP|            Faltou à prova|           Faltou à prova|            Faltou à prova|     Faltou à prova|                        null|                       null|                        null|                 null|                 null|                 null|                  null|           null|            Inglês|          null|              null|              null|              null|              null|              null|        null|\n",
            "|190001592264|       S�o Paulo| SP|            Faltou à prova|           Faltou à prova|            Faltou à prova|     Faltou à prova|                        null|                       null|                        null|                 null|                 null|                 null|                  null|           null|            Inglês|          null|              null|              null|              null|              null|              null|        null|\n",
            "|190001592266|       S�o Paulo| SP|         Presente na prova|        Presente na prova|         Presente na prova|  Presente na prova|                       Cinza|                     Branca|                      Branca|                Cinza|                543.9|                548.1|                 502.5|          480.7|            Inglês| Sem problemas|               120|                40|               120|               120|                 0|         400|\n",
            "|190001592265| Mogi das Cruzes| SP|            Faltou à prova|           Faltou à prova|            Faltou à prova|     Faltou à prova|                        null|                       null|                        null|                 null|                 null|                 null|                  null|           null|            Inglês|          null|              null|              null|              null|              null|              null|        null|\n",
            "|190001475147|         Maca�ba| RN|         Presente na prova|        Presente na prova|         Presente na prova|  Presente na prova|                       Cinza|                       Azul|                        Azul|                Cinza|                518.2|                351.7|                 417.6|          459.0|          Espanhol| Sem problemas|               120|               120|               120|               120|                20|         500|\n",
            "|190001867756|       Arauc�ria| PR|         Presente na prova|        Presente na prova|         Presente na prova|  Presente na prova|                        Rosa|                       Rosa|                        Rosa|                 Rosa|                373.8|                393.6|                 451.0|          484.7|          Espanhol| Sem problemas|               120|                40|                40|               100|                 0|         300|\n",
            "|190001133211|       Fortaleza| CE|         Presente na prova|        Presente na prova|         Presente na prova|  Presente na prova|                       Cinza|                       Rosa|                        Rosa|                Cinza|                458.9|                441.6|                 413.0|          399.0|          Espanhol| Sem problemas|                80|                40|                40|                80|                 0|         240|\n",
            "|190001237803|      Uberl�ndia| MG|            Faltou à prova|           Faltou à prova|            Faltou à prova|     Faltou à prova|                        null|                       null|                        null|                 null|                 null|                 null|                  null|           null|          Espanhol|          null|              null|              null|              null|              null|              null|        null|\n",
            "|190001493186|          Recife| PE|            Faltou à prova|           Faltou à prova|            Faltou à prova|     Faltou à prova|                        null|                       null|                        null|                 null|                 null|                 null|                  null|           null|          Espanhol|          null|              null|              null|              null|              null|              null|        null|\n",
            "|190001421547|        Guanambi| BA|         Presente na prova|        Presente na prova|         Presente na prova|  Presente na prova|                        Rosa|                     Branca|                      Branca|                 Rosa|                390.1|                453.0|                 515.2|          461.5|            Inglês| Sem problemas|               100|               120|               100|               140|                60|         520|\n",
            "|190001493187|          Recife| PE|            Faltou à prova|           Faltou à prova|            Faltou à prova|     Faltou à prova|                        null|                       null|                        null|                 null|                 null|                 null|                  null|           null|          Espanhol|          null|              null|              null|              null|              null|              null|        null|\n",
            "|190001210202| Itapecuru Mirim| MA|         Presente na prova|        Presente na prova|         Presente na prova|  Presente na prova|                       Cinza|                    Amarela|                     Amarela|                Cinza|                415.7|                379.2|                 470.2|          375.1|            Inglês| Sem problemas|               140|               120|               140|               120|                40|         560|\n",
            "|190001421549|        Salvador| BA|         Presente na prova|        Presente na prova|         Presente na prova|  Presente na prova|                        Azul|                    Amarela|                     Amarela|                 Azul|                461.9|                585.0|                 552.1|          437.3|          Espanhol| Sem problemas|               140|               120|               140|               120|               140|         660|\n",
            "+------------+----------------+---+--------------------------+-------------------------+--------------------------+-------------------+----------------------------+---------------------------+----------------------------+---------------------+---------------------+---------------------+----------------------+---------------+------------------+--------------+------------------+------------------+------------------+------------------+------------------+------------+\n",
            "only showing top 20 rows\n",
            "\n"
          ]
        }
      ]
    },
    {
      "cell_type": "code",
      "metadata": {
        "id": "_DJYNPccR_BE"
      },
      "source": [
        "save_on_csv(provas, PATH_PROVAS)"
      ],
      "execution_count": 81,
      "outputs": []
    },
    {
      "cell_type": "code",
      "source": [
        "# descarrega os dados da memória para liberar RAM\n",
        "try:\n",
        "  del provas\n",
        "except:\n",
        "  print('Variável já foi excluída')"
      ],
      "metadata": {
        "colab": {
          "base_uri": "https://localhost:8080/"
        },
        "id": "jklRgOuWK7SV",
        "outputId": "e2f19914-3f7b-4202-e2f7-b152a656f452"
      },
      "execution_count": 59,
      "outputs": [
        {
          "output_type": "stream",
          "name": "stdout",
          "text": [
            "Variável já foi excluída\n"
          ]
        }
      ]
    },
    {
      "cell_type": "markdown",
      "metadata": {
        "id": "XPQMhunXSi4k"
      },
      "source": [
        "### Dados Sócio-econômico"
      ]
    },
    {
      "cell_type": "code",
      "metadata": {
        "id": "6T1XliW2TFmE"
      },
      "source": [
        "socioeconomico = dados.select(F.col('NU_INSCRICAO').alias('INSCRICAO'),\n",
        "                              F.col('Q001').alias('ESCOLARIDADE_PAI_OU_RESPONSAVEL'),\n",
        "                              F.col('Q002').alias('ESCOLARIDADE_MAE_OU_RESPONSAVEL'),\n",
        "                              F.col('Q003').alias('GRUPO_OCUPACAO_PAI'),\n",
        "                              F.col('Q004').alias('GRUPO_OCUPACAO_MAE'),\n",
        "                              F.col('Q005').alias('QTD_MORADORES_RESIDENCIA'),\n",
        "                              F.col('Q006').alias('RENDA_MENSAL_FAMILIAR'),\n",
        "                              F.col('Q007').alias('POSSUI_SERVICO_EMPREGADO_DOMESTICO'),\n",
        "                              F.col('Q008').alias('QTD_BANHEIROS_RESIDENCIA'),\n",
        "                              F.col('Q009').alias('QTD_QUARTOS_RESIDENCIA'),\n",
        "                              F.col('Q010').alias('TEM_CARRO'),\n",
        "                              F.col('Q011').alias('TEM_MOTO'),\n",
        "                              F.col('Q012').alias('TEM_GELADEIRA'),\n",
        "                              F.col('Q013').alias('TEM_FREEZER_OU_SEGUNDA_PORTA_GELADEIRA'),\n",
        "                              F.col('Q014').alias('TEM_MAQUINA_LAVAR'),\n",
        "                              F.col('Q015').alias('TEM_MAQUINA_SECAR'),\n",
        "                              F.col('Q016').alias('TEM_MICROONDAS'),\n",
        "                              F.col('Q017').alias('TEM_MAQUINA_LAVAR_LOUCA'),\n",
        "                              F.col('Q018').alias('TEM_ASPIRADOR_PO'),\n",
        "                              F.col('Q019').alias('TEM_TELEVISAO'),\n",
        "                              F.col('Q020').alias('TEM_DVD'),\n",
        "                              F.col('Q021').alias('TEM_TV_ASSINATURA'),\n",
        "                              F.col('Q022').alias('TEM_TELEFONE_CELULAR'),\n",
        "                              F.col('Q023').alias('TEM_TELEFONE_FIXO'),\n",
        "                              F.col('Q024').alias('TEM_COMPUTADOR'),\n",
        "                              F.col('Q025').alias('TEM_ACESSO_INTERNET'))"
      ],
      "execution_count": 62,
      "outputs": []
    },
    {
      "cell_type": "code",
      "metadata": {
        "id": "cjhl-xYTZLJt"
      },
      "source": [
        "socioeconomico = socioeconomico \\\n",
        "    .withColumn(\"ESCOLARIDADE_PAI_OU_RESPONSAVEL\", \\\n",
        "               F.when(F.col('ESCOLARIDADE_PAI_OU_RESPONSAVEL') == 'A', 'Nunca estudou.') \\\n",
        "               .when(F.col('ESCOLARIDADE_PAI_OU_RESPONSAVEL') == 'B', 'Não completou a 4ª série/5º ano do Ensino Fundamental.') \\\n",
        "               .when(F.col('ESCOLARIDADE_PAI_OU_RESPONSAVEL') == 'C', 'Completou a 4ª série/5º ano, mas não completou a 8ª série/9º ano do Ensino Fundamental.') \\\n",
        "               .when(F.col('ESCOLARIDADE_PAI_OU_RESPONSAVEL') == 'D', 'Completou a 8ª série/9º ano do Ensino Fundamental, mas não completou o Ensino Médio.') \\\n",
        "               .when(F.col('ESCOLARIDADE_PAI_OU_RESPONSAVEL') == 'E', 'Completou o Ensino Médio, mas não completou a Faculdade.') \\\n",
        "               .when(F.col('ESCOLARIDADE_PAI_OU_RESPONSAVEL') == 'F', 'Completou a Faculdade, mas não completou a Pós-graduação.') \\\n",
        "               .when(F.col('ESCOLARIDADE_PAI_OU_RESPONSAVEL') == 'G', 'Completou a Pós-graduação.') \\\n",
        "               .when(F.col('ESCOLARIDADE_PAI_OU_RESPONSAVEL') == 'H', 'Não sei.') \\\n",
        "               .otherwise(F.col('ESCOLARIDADE_PAI_OU_RESPONSAVEL'))) \\\n",
        "    .withColumn(\"ESCOLARIDADE_MAE_OU_RESPONSAVEL\", \\\n",
        "                F.when(F.col('ESCOLARIDADE_MAE_OU_RESPONSAVEL') == 'A', 'Nunca estudou.') \\\n",
        "                .when(F.col('ESCOLARIDADE_MAE_OU_RESPONSAVEL') == 'B', 'Não completou a 4ª série/5º ano do Ensino Fundamental.') \\\n",
        "                .when(F.col('ESCOLARIDADE_MAE_OU_RESPONSAVEL') == 'C', 'Completou a 4ª série/5º ano, mas não completou a 8ª série/9º ano do Ensino Fundamental.') \\\n",
        "                .when(F.col('ESCOLARIDADE_MAE_OU_RESPONSAVEL') == 'D', 'Completou a 8ª série/9º ano do Ensino Fundamental, mas não completou o Ensino Médio.') \\\n",
        "                .when(F.col('ESCOLARIDADE_MAE_OU_RESPONSAVEL') == 'E', 'Completou o Ensino Médio, mas não completou a Faculdade.') \\\n",
        "                .when(F.col('ESCOLARIDADE_MAE_OU_RESPONSAVEL') == 'F', 'Completou a Faculdade, mas não completou a Pós-graduação.') \\\n",
        "                .when(F.col('ESCOLARIDADE_MAE_OU_RESPONSAVEL') == 'G', 'Completou a Pós-graduação.') \\\n",
        "                .when(F.col('ESCOLARIDADE_MAE_OU_RESPONSAVEL') == 'H', 'Não sei.') \\\n",
        "                .otherwise(F.col('ESCOLARIDADE_MAE_OU_RESPONSAVEL'))) \\\n",
        "    .withColumn(\"GRUPO_OCUPACAO_PAI\", \\\n",
        "                F.when(F.col('GRUPO_OCUPACAO_PAI') == 'A', 'Grupo 1: Lavrador, agricultor sem empregados, bóia fria, criador de animais (gado, porcos, galinhas, ovelhas, cavalos etc.), apicultor, pescador, lenhador, seringueiro, extrativista.') \\\n",
        "                .when(F.col('GRUPO_OCUPACAO_PAI') == 'B', 'Grupo 2: Diarista, empregado doméstico, cuidador de idosos, babá, cozinheiro (em casas particulares), motorista particular, jardineiro, faxineiro de empresas e prédios, vigilante, porteiro, carteiro, office-boy, vendedor, caixa, atendente de loja, auxiliar administrativo, recepcionista, servente de pedreiro, repositor de mercadoria.') \\\n",
        "                .when(F.col('GRUPO_OCUPACAO_PAI') == 'C', 'Grupo 3: Padeiro, cozinheiro industrial ou em restaurantes, sapateiro, costureiro, joalheiro, torneiro mecânico, operador de máquinas, soldador, operário de fábrica, trabalhador da mineração, pedreiro, pintor, eletricista, encanador, motorista, caminhoneiro, taxista.') \\\n",
        "                .when(F.col('GRUPO_OCUPACAO_PAI') == 'D', 'Grupo 4: Professor (de ensino fundamental ou médio, idioma, música, artes etc.), técnico (de enfermagem, contabilidade, eletrônica etc.), policial, militar de baixa patente (soldado, cabo, sargento), corretor de imóveis, supervisor, gerente, mestre de obras, pastor, microempresário (proprietário de empresa com menos de 10 empregados), pequeno comerciante, pequeno proprietário de terras, trabalhador autônomo ou por conta própria.') \\\n",
        "                .when(F.col('GRUPO_OCUPACAO_PAI') == 'E', 'Grupo 5: Médico, engenheiro, dentista, psicólogo, economista, advogado, juiz, promotor, defensor, delegado, tenente, capitão, coronel, professor universitário, diretor em empresas públicas ou privadas, político, proprietário de empresas com mais de 10 empregados.') \\\n",
        "                .when(F.col('GRUPO_OCUPACAO_PAI') == 'F', 'Não sei.') \\\n",
        "                .otherwise(F.col('GRUPO_OCUPACAO_PAI'))) \\\n",
        "    .withColumn(\"GRUPO_OCUPACAO_MAE\", \\\n",
        "                F.when(F.col('GRUPO_OCUPACAO_MAE') == 'A', 'Grupo 1: Lavrador, agricultor sem empregados, bóia fria, criador de animais (gado, porcos, galinhas, ovelhas, cavalos etc.), apicultor, pescador, lenhador, seringueiro, extrativista.') \\\n",
        "                .when(F.col('GRUPO_OCUPACAO_MAE') == 'B', 'Grupo 2: Diarista, empregado doméstico, cuidador de idosos, babá, cozinheiro (em casas particulares), motorista particular, jardineiro, faxineiro de empresas e prédios, vigilante, porteiro, carteiro, office-boy, vendedor, caixa, atendente de loja, auxiliar administrativo, recepcionista, servente de pedreiro, repositor de mercadoria.') \\\n",
        "                .when(F.col('GRUPO_OCUPACAO_MAE') == 'C', 'Grupo 3: Padeiro, cozinheiro industrial ou em restaurantes, sapateiro, costureiro, joalheiro, torneiro mecânico, operador de máquinas, soldador, operário de fábrica, trabalhador da mineração, pedreiro, pintor, eletricista, encanador, motorista, caminhoneiro, taxista.') \\\n",
        "                .when(F.col('GRUPO_OCUPACAO_MAE') == 'D', 'Grupo 4: Professor (de ensino fundamental ou médio, idioma, música, artes etc.), técnico (de enfermagem, contabilidade, eletrônica etc.), policial, militar de baixa patente (soldado, cabo, sargento), corretor de imóveis, supervisor, gerente, mestre de obras, pastor, microempresário (proprietário de empresa com menos de 10 empregados), pequeno comerciante, pequeno proprietário de terras, trabalhador autônomo ou por conta própria.') \\\n",
        "                .when(F.col('GRUPO_OCUPACAO_MAE') == 'E', 'Grupo 5: Médico, engenheiro, dentista, psicólogo, economista, advogado, juiz, promotor, defensor, delegado, tenente, capitão, coronel, professor universitário, diretor em empresas públicas ou privadas, político, proprietário de empresas com mais de 10 empregados.') \\\n",
        "                .when(F.col('GRUPO_OCUPACAO_MAE') == 'F', 'Não sei.') \\\n",
        "                .otherwise(F.col('GRUPO_OCUPACAO_MAE'))) \\\n",
        "    .withColumn(\"RENDA_MENSAL_FAMILIAR\", \\\n",
        "                F.when(F.col('RENDA_MENSAL_FAMILIAR') == 'A', 'Nenhuma Renda') \\\n",
        "                .when(F.col('RENDA_MENSAL_FAMILIAR') == 'B', 'Até R$ 998,00.') \\\n",
        "                .when(F.col('RENDA_MENSAL_FAMILIAR') == 'C', 'De R$ 998,01 até R$ 1.497,00.') \\\n",
        "                .when(F.col('RENDA_MENSAL_FAMILIAR') == 'D', 'De R$ 1.497,01 até R$ 1.996,00.') \\\n",
        "                .when(F.col('RENDA_MENSAL_FAMILIAR') == 'E', 'De R$ 1.996,01 até R$ 2.495,00.') \\\n",
        "                .when(F.col('RENDA_MENSAL_FAMILIAR') == 'F', 'De R$ 2.495,01 até R$ 2.994,00.') \\\n",
        "                .when(F.col('RENDA_MENSAL_FAMILIAR') == 'G', 'De R$ 2.994,01 até R$ 3.992,00.') \\\n",
        "                .when(F.col('RENDA_MENSAL_FAMILIAR') == 'H', 'De R$ 3.992,01 até R$ 4.990,00.') \\\n",
        "                .when(F.col('RENDA_MENSAL_FAMILIAR') == 'I', 'De R$ 4.990,01 até R$ 5.988,00.') \\\n",
        "                .when(F.col('RENDA_MENSAL_FAMILIAR') == 'J', 'De R$ 5.988,01 até R$ 6.986,00.') \\\n",
        "                .when(F.col('RENDA_MENSAL_FAMILIAR') == 'K', 'De R$ 6.986,01 até R$ 7.984,00.') \\\n",
        "                .when(F.col('RENDA_MENSAL_FAMILIAR') == 'L', 'De R$ 7.984,01 até R$ 8.982,00.') \\\n",
        "                .when(F.col('RENDA_MENSAL_FAMILIAR') == 'M', 'De R$ 8.982,01 até R$ 9.980,00.') \\\n",
        "                .when(F.col('RENDA_MENSAL_FAMILIAR') == 'N', 'De R$ 9.980,01 até R$ 11.976,00.') \\\n",
        "                .when(F.col('RENDA_MENSAL_FAMILIAR') == 'O', 'De R$ 11.976,01 até R$ 14.970,00.') \\\n",
        "                .when(F.col('RENDA_MENSAL_FAMILIAR') == 'P', 'De R$ 14.970,01 até R$ 19.960,00.') \\\n",
        "                .when(F.col('RENDA_MENSAL_FAMILIAR') == 'Q', 'Mais de R$ 19.960,00.') \\\n",
        "                .otherwise(F.col('RENDA_MENSAL_FAMILIAR'))) \\\n",
        "    .withColumn(\"POSSUI_SERVICO_EMPREGADO_DOMESTICO\", \\\n",
        "                F.when(F.col('POSSUI_SERVICO_EMPREGADO_DOMESTICO') == 'A', 'Não.') \\\n",
        "                .when(F.col('POSSUI_SERVICO_EMPREGADO_DOMESTICO') == 'B', 'Sim, um ou dois dias por semana.') \\\n",
        "                .when(F.col('POSSUI_SERVICO_EMPREGADO_DOMESTICO') == 'C', 'Sim, três ou quatro dias por semana.') \\\n",
        "                .when(F.col('POSSUI_SERVICO_EMPREGADO_DOMESTICO') == 'D', 'Sim, pelo menos cinco dias por semana.') \\\n",
        "                .otherwise(F.col('POSSUI_SERVICO_EMPREGADO_DOMESTICO')))"
      ],
      "execution_count": 63,
      "outputs": []
    },
    {
      "cell_type": "code",
      "source": [
        "colunas =  ['QTD_BANHEIROS_RESIDENCIA','QTD_QUARTOS_RESIDENCIA','TEM_CARRO','TEM_MOTO',\n",
        "          'TEM_GELADEIRA','TEM_FREEZER_OU_SEGUNDA_PORTA_GELADEIRA','TEM_MAQUINA_LAVAR',\n",
        "          'TEM_MAQUINA_SECAR','TEM_MICROONDAS','TEM_MAQUINA_LAVAR_LOUCA',\n",
        "          'TEM_TELEVISAO','TEM_TELEFONE_CELULAR','TEM_COMPUTADOR']\n",
        "\n",
        "for i in colunas:\n",
        "  socioeconomico = socioeconomico.withColumn(i, F.when(F.col(i) == 'A', 'Não.') \\\n",
        "                                             .when(F.col(i) == 'B', 'Um.') \\\n",
        "                                             .when(F.col(i) == 'C', 'Dois') \\\n",
        "                                             .when(F.col(i) == 'D', 'Três') \\\n",
        "                                             .when(F.col(i) == 'E', 'Quatro ou mais.') \\\n",
        "                                             .otherwise(F.col(i)))\n"
      ],
      "metadata": {
        "id": "RIIIBhPagLGm"
      },
      "execution_count": 64,
      "outputs": []
    },
    {
      "cell_type": "code",
      "source": [
        "colunas =  ['TEM_ASPIRADOR_PO','TEM_DVD', 'TEM_TV_ASSINATURA','TEM_TELEFONE_FIXO',\n",
        "            'TEM_ACESSO_INTERNET']\n",
        "\n",
        "for i in colunas:\n",
        "  socioeconomico = socioeconomico.withColumn(i, F.when(F.col(i) == 'A', 'Não.') \\\n",
        "                                             .when(F.col(i) == 'B', 'Sim') \\\n",
        "                                             .otherwise(F.col(i)))\n"
      ],
      "metadata": {
        "id": "-NBsdeUVk26x"
      },
      "execution_count": 65,
      "outputs": []
    },
    {
      "cell_type": "code",
      "source": [
        "socioeconomico.show(truncate=False)"
      ],
      "metadata": {
        "colab": {
          "base_uri": "https://localhost:8080/"
        },
        "id": "q3an_FLDlvGq",
        "outputId": "119d0e8e-8927-4edf-e160-7abb13dfa992"
      },
      "execution_count": 66,
      "outputs": [
        {
          "output_type": "stream",
          "name": "stdout",
          "text": [
            "+------------+---------------------------------------------------------------------------------------+---------------------------------------------------------------------------------------+----------------------------------------------------------------------------------------------------------------------------------------------------------------------------------------------------------------------------------------------------------------------------------------------------------------------------------------------+------------------------------------------------------------------------------------------------------------------------------------------------------------------------------------------------------------------------------------------------------------------------------------------------------------------------------------------------------------------------------------------------------------------------------------------------+------------------------+-------------------------------+----------------------------------+------------------------+----------------------+---------+--------+-------------+--------------------------------------+-----------------+-----------------+--------------+-----------------------+----------------+-------------+-------+-----------------+--------------------+-----------------+--------------+-------------------+\n",
            "|INSCRICAO   |ESCOLARIDADE_PAI_OU_RESPONSAVEL                                                        |ESCOLARIDADE_MAE_OU_RESPONSAVEL                                                        |GRUPO_OCUPACAO_PAI                                                                                                                                                                                                                                                                                                                            |GRUPO_OCUPACAO_MAE                                                                                                                                                                                                                                                                                                                                                                                                                              |QTD_MORADORES_RESIDENCIA|RENDA_MENSAL_FAMILIAR          |POSSUI_SERVICO_EMPREGADO_DOMESTICO|QTD_BANHEIROS_RESIDENCIA|QTD_QUARTOS_RESIDENCIA|TEM_CARRO|TEM_MOTO|TEM_GELADEIRA|TEM_FREEZER_OU_SEGUNDA_PORTA_GELADEIRA|TEM_MAQUINA_LAVAR|TEM_MAQUINA_SECAR|TEM_MICROONDAS|TEM_MAQUINA_LAVAR_LOUCA|TEM_ASPIRADOR_PO|TEM_TELEVISAO|TEM_DVD|TEM_TV_ASSINATURA|TEM_TELEFONE_CELULAR|TEM_TELEFONE_FIXO|TEM_COMPUTADOR|TEM_ACESSO_INTERNET|\n",
            "+------------+---------------------------------------------------------------------------------------+---------------------------------------------------------------------------------------+----------------------------------------------------------------------------------------------------------------------------------------------------------------------------------------------------------------------------------------------------------------------------------------------------------------------------------------------+------------------------------------------------------------------------------------------------------------------------------------------------------------------------------------------------------------------------------------------------------------------------------------------------------------------------------------------------------------------------------------------------------------------------------------------------+------------------------+-------------------------------+----------------------------------+------------------------+----------------------+---------+--------+-------------+--------------------------------------+-----------------+-----------------+--------------+-----------------------+----------------+-------------+-------+-----------------+--------------------+-----------------+--------------+-------------------+\n",
            "|190001595656|Não completou a 4ª série/5º ano do Ensino Fundamental.                                 |Não completou a 4ª série/5º ano do Ensino Fundamental.                                 |Grupo 1: Lavrador, agricultor sem empregados, bóia fria, criador de animais (gado, porcos, galinhas, ovelhas, cavalos etc.), apicultor, pescador, lenhador, seringueiro, extrativista.                                                                                                                                                        |Grupo 1: Lavrador, agricultor sem empregados, bóia fria, criador de animais (gado, porcos, galinhas, ovelhas, cavalos etc.), apicultor, pescador, lenhador, seringueiro, extrativista.                                                                                                                                                                                                                                                          |2                       |Nenhuma Renda                  |Não.                              |Um.                     |Dois                  |Não.     |Não.    |Um.          |Não.                                  |Não.             |Não.             |Não.          |Não.                   |Não.            |Não.         |Não.   |Não.             |Dois                |Não.             |Dois          |Sim                |\n",
            "|190001421546|Completou a 4ª série/5º ano, mas não completou a 8ª série/9º ano do Ensino Fundamental.|Completou o Ensino Médio, mas não completou a Faculdade.                               |Grupo 2: Diarista, empregado doméstico, cuidador de idosos, babá, cozinheiro (em casas particulares), motorista particular, jardineiro, faxineiro de empresas e prédios, vigilante, porteiro, carteiro, office-boy, vendedor, caixa, atendente de loja, auxiliar administrativo, recepcionista, servente de pedreiro, repositor de mercadoria.|Grupo 2: Diarista, empregado doméstico, cuidador de idosos, babá, cozinheiro (em casas particulares), motorista particular, jardineiro, faxineiro de empresas e prédios, vigilante, porteiro, carteiro, office-boy, vendedor, caixa, atendente de loja, auxiliar administrativo, recepcionista, servente de pedreiro, repositor de mercadoria.                                                                                                  |4                       |De R$ 998,01 até R$ 1.497,00.  |Não.                              |Um.                     |Dois                  |Não.     |Não.    |Um.          |Não.                                  |Não.             |Não.             |Não.          |Não.                   |Não.            |Um.          |Não.   |Não.             |Quatro ou mais.     |Não.             |Não.          |Sim                |\n",
            "|190001133210|Completou o Ensino Médio, mas não completou a Faculdade.                               |Completou o Ensino Médio, mas não completou a Faculdade.                               |Grupo 2: Diarista, empregado doméstico, cuidador de idosos, babá, cozinheiro (em casas particulares), motorista particular, jardineiro, faxineiro de empresas e prédios, vigilante, porteiro, carteiro, office-boy, vendedor, caixa, atendente de loja, auxiliar administrativo, recepcionista, servente de pedreiro, repositor de mercadoria.|Grupo 3: Padeiro, cozinheiro industrial ou em restaurantes, sapateiro, costureiro, joalheiro, torneiro mecânico, operador de máquinas, soldador, operário de fábrica, trabalhador da mineração, pedreiro, pintor, eletricista, encanador, motorista, caminhoneiro, taxista.                                                                                                                                                                     |2                       |Até R$ 998,00.                 |Não.                              |Um.                     |Um.                   |Não.     |Não.    |Um.          |Não.                                  |Não.             |Não.             |Não.          |Não.                   |Não.            |Um.          |Não.   |Não.             |Dois                |Não.             |Não.          |Sim                |\n",
            "|190001199383|Completou a 4ª série/5º ano, mas não completou a 8ª série/9º ano do Ensino Fundamental.|Completou o Ensino Médio, mas não completou a Faculdade.                               |Grupo 2: Diarista, empregado doméstico, cuidador de idosos, babá, cozinheiro (em casas particulares), motorista particular, jardineiro, faxineiro de empresas e prédios, vigilante, porteiro, carteiro, office-boy, vendedor, caixa, atendente de loja, auxiliar administrativo, recepcionista, servente de pedreiro, repositor de mercadoria.|Grupo 4: Professor (de ensino fundamental ou médio, idioma, música, artes etc.), técnico (de enfermagem, contabilidade, eletrônica etc.), policial, militar de baixa patente (soldado, cabo, sargento), corretor de imóveis, supervisor, gerente, mestre de obras, pastor, microempresário (proprietário de empresa com menos de 10 empregados), pequeno comerciante, pequeno proprietário de terras, trabalhador autônomo ou por conta própria.|4                       |De R$ 1.996,01 até R$ 2.495,00.|Não.                              |Dois                    |Dois                  |Não.     |Um.     |Um.          |Não.                                  |Um.              |Não.             |Não.          |Não.                   |Não.            |Dois         |Não.   |Sim              |Três                |Não.             |Um.           |Sim                |\n",
            "|190001237802|Completou o Ensino Médio, mas não completou a Faculdade.                               |Completou o Ensino Médio, mas não completou a Faculdade.                               |Grupo 3: Padeiro, cozinheiro industrial ou em restaurantes, sapateiro, costureiro, joalheiro, torneiro mecânico, operador de máquinas, soldador, operário de fábrica, trabalhador da mineração, pedreiro, pintor, eletricista, encanador, motorista, caminhoneiro, taxista.                                                                   |Grupo 3: Padeiro, cozinheiro industrial ou em restaurantes, sapateiro, costureiro, joalheiro, torneiro mecânico, operador de máquinas, soldador, operário de fábrica, trabalhador da mineração, pedreiro, pintor, eletricista, encanador, motorista, caminhoneiro, taxista.                                                                                                                                                                     |3                       |De R$ 2.994,01 até R$ 3.992,00.|Não.                              |Dois                    |Três                  |Um.      |Não.    |Um.          |Um.                                   |Um.              |Não.             |Um.           |Não.                   |Não.            |Um.          |Não.   |Não.             |Dois                |Sim              |Um.           |Sim                |\n",
            "|190001782198|Não completou a 4ª série/5º ano do Ensino Fundamental.                                 |Não completou a 4ª série/5º ano do Ensino Fundamental.                                 |Grupo 3: Padeiro, cozinheiro industrial ou em restaurantes, sapateiro, costureiro, joalheiro, torneiro mecânico, operador de máquinas, soldador, operário de fábrica, trabalhador da mineração, pedreiro, pintor, eletricista, encanador, motorista, caminhoneiro, taxista.                                                                   |Grupo 2: Diarista, empregado doméstico, cuidador de idosos, babá, cozinheiro (em casas particulares), motorista particular, jardineiro, faxineiro de empresas e prédios, vigilante, porteiro, carteiro, office-boy, vendedor, caixa, atendente de loja, auxiliar administrativo, recepcionista, servente de pedreiro, repositor de mercadoria.                                                                                                  |7                       |De R$ 1.996,01 até R$ 2.495,00.|Não.                              |Um.                     |Três                  |Não.     |Dois    |Um.          |Não.                                  |Um.              |Não.             |Um.           |Não.                   |Não.            |Um.          |Não.   |Não.             |Quatro ou mais.     |Não.             |Um.           |Sim                |\n",
            "|190001421548|Completou o Ensino Médio, mas não completou a Faculdade.                               |Não completou a 4ª série/5º ano do Ensino Fundamental.                                 |Grupo 3: Padeiro, cozinheiro industrial ou em restaurantes, sapateiro, costureiro, joalheiro, torneiro mecânico, operador de máquinas, soldador, operário de fábrica, trabalhador da mineração, pedreiro, pintor, eletricista, encanador, motorista, caminhoneiro, taxista.                                                                   |Grupo 2: Diarista, empregado doméstico, cuidador de idosos, babá, cozinheiro (em casas particulares), motorista particular, jardineiro, faxineiro de empresas e prédios, vigilante, porteiro, carteiro, office-boy, vendedor, caixa, atendente de loja, auxiliar administrativo, recepcionista, servente de pedreiro, repositor de mercadoria.                                                                                                  |3                       |Até R$ 998,00.                 |Não.                              |Um.                     |Um.                   |Não.     |Não.    |Um.          |Não.                                  |Não.             |Não.             |Não.          |Não.                   |Não.            |Um.          |Não.   |Não.             |Um.                 |Não.             |Não.          |Não.               |\n",
            "|190001595657|Completou o Ensino Médio, mas não completou a Faculdade.                               |Não completou a 4ª série/5º ano do Ensino Fundamental.                                 |Grupo 2: Diarista, empregado doméstico, cuidador de idosos, babá, cozinheiro (em casas particulares), motorista particular, jardineiro, faxineiro de empresas e prédios, vigilante, porteiro, carteiro, office-boy, vendedor, caixa, atendente de loja, auxiliar administrativo, recepcionista, servente de pedreiro, repositor de mercadoria.|Grupo 2: Diarista, empregado doméstico, cuidador de idosos, babá, cozinheiro (em casas particulares), motorista particular, jardineiro, faxineiro de empresas e prédios, vigilante, porteiro, carteiro, office-boy, vendedor, caixa, atendente de loja, auxiliar administrativo, recepcionista, servente de pedreiro, repositor de mercadoria.                                                                                                  |2                       |De R$ 1.497,01 até R$ 1.996,00.|Não.                              |Um.                     |Dois                  |Não.     |Não.    |Um.          |Um.                                   |Um.              |Não.             |Um.           |Não.                   |Não.            |Um.          |Não.   |Não.             |Dois                |Não.             |Não.          |Sim                |\n",
            "|190001592264|Não completou a 4ª série/5º ano do Ensino Fundamental.                                 |Completou a 4ª série/5º ano, mas não completou a 8ª série/9º ano do Ensino Fundamental.|Grupo 3: Padeiro, cozinheiro industrial ou em restaurantes, sapateiro, costureiro, joalheiro, torneiro mecânico, operador de máquinas, soldador, operário de fábrica, trabalhador da mineração, pedreiro, pintor, eletricista, encanador, motorista, caminhoneiro, taxista.                                                                   |Não sei.                                                                                                                                                                                                                                                                                                                                                                                                                                        |6                       |De R$ 998,01 até R$ 1.497,00.  |Não.                              |Um.                     |Dois                  |Não.     |Não.    |Um.          |Um.                                   |Não.             |Não.             |Um.           |Não.                   |Não.            |Um.          |Não.   |Não.             |Um.                 |Sim              |Não.          |Não.               |\n",
            "|190001592266|Completou o Ensino Médio, mas não completou a Faculdade.                               |Completou o Ensino Médio, mas não completou a Faculdade.                               |Grupo 2: Diarista, empregado doméstico, cuidador de idosos, babá, cozinheiro (em casas particulares), motorista particular, jardineiro, faxineiro de empresas e prédios, vigilante, porteiro, carteiro, office-boy, vendedor, caixa, atendente de loja, auxiliar administrativo, recepcionista, servente de pedreiro, repositor de mercadoria.|Grupo 2: Diarista, empregado doméstico, cuidador de idosos, babá, cozinheiro (em casas particulares), motorista particular, jardineiro, faxineiro de empresas e prédios, vigilante, porteiro, carteiro, office-boy, vendedor, caixa, atendente de loja, auxiliar administrativo, recepcionista, servente de pedreiro, repositor de mercadoria.                                                                                                  |5                       |De R$ 2.495,01 até R$ 2.994,00.|Não.                              |Um.                     |Dois                  |Um.      |Não.    |Um.          |Um.                                   |Um.              |Não.             |Um.           |Não.                   |Não.            |Um.          |Não.   |Sim              |Dois                |Sim              |Um.           |Sim                |\n",
            "|190001592265|Completou a 8ª série/9º ano do Ensino Fundamental, mas não completou o Ensino Médio.   |Completou a 8ª série/9º ano do Ensino Fundamental, mas não completou o Ensino Médio.   |Grupo 3: Padeiro, cozinheiro industrial ou em restaurantes, sapateiro, costureiro, joalheiro, torneiro mecânico, operador de máquinas, soldador, operário de fábrica, trabalhador da mineração, pedreiro, pintor, eletricista, encanador, motorista, caminhoneiro, taxista.                                                                   |Grupo 2: Diarista, empregado doméstico, cuidador de idosos, babá, cozinheiro (em casas particulares), motorista particular, jardineiro, faxineiro de empresas e prédios, vigilante, porteiro, carteiro, office-boy, vendedor, caixa, atendente de loja, auxiliar administrativo, recepcionista, servente de pedreiro, repositor de mercadoria.                                                                                                  |2                       |De R$ 998,01 até R$ 1.497,00.  |Não.                              |Um.                     |Um.                   |Não.     |Não.    |Um.          |Um.                                   |Um.              |Um.              |Um.           |Não.                   |Sim             |Dois         |Não.   |Sim              |Dois                |Não.             |Não.          |Sim                |\n",
            "|190001475147|Não completou a 4ª série/5º ano do Ensino Fundamental.                                 |Completou a 4ª série/5º ano, mas não completou a 8ª série/9º ano do Ensino Fundamental.|Grupo 3: Padeiro, cozinheiro industrial ou em restaurantes, sapateiro, costureiro, joalheiro, torneiro mecânico, operador de máquinas, soldador, operário de fábrica, trabalhador da mineração, pedreiro, pintor, eletricista, encanador, motorista, caminhoneiro, taxista.                                                                   |Grupo 1: Lavrador, agricultor sem empregados, bóia fria, criador de animais (gado, porcos, galinhas, ovelhas, cavalos etc.), apicultor, pescador, lenhador, seringueiro, extrativista.                                                                                                                                                                                                                                                          |4                       |De R$ 998,01 até R$ 1.497,00.  |Não.                              |Dois                    |Três                  |Não.     |Não.    |Um.          |Um.                                   |Não.             |Não.             |Um.           |Não.                   |Não.            |Um.          |Sim    |Não.             |Três                |Não.             |Um.           |Sim                |\n",
            "|190001867756|Completou a 8ª série/9º ano do Ensino Fundamental, mas não completou o Ensino Médio.   |Não completou a 4ª série/5º ano do Ensino Fundamental.                                 |Não sei.                                                                                                                                                                                                                                                                                                                                      |Grupo 2: Diarista, empregado doméstico, cuidador de idosos, babá, cozinheiro (em casas particulares), motorista particular, jardineiro, faxineiro de empresas e prédios, vigilante, porteiro, carteiro, office-boy, vendedor, caixa, atendente de loja, auxiliar administrativo, recepcionista, servente de pedreiro, repositor de mercadoria.                                                                                                  |3                       |De R$ 998,01 até R$ 1.497,00.  |Não.                              |Um.                     |Dois                  |Um.      |Um.     |Um.          |Não.                                  |Não.             |Não.             |Não.          |Não.                   |Não.            |Um.          |Não.   |Não.             |Um.                 |Não.             |Não.          |Não.               |\n",
            "|190001133211|Completou o Ensino Médio, mas não completou a Faculdade.                               |Completou o Ensino Médio, mas não completou a Faculdade.                               |Grupo 5: Médico, engenheiro, dentista, psicólogo, economista, advogado, juiz, promotor, defensor, delegado, tenente, capitão, coronel, professor universitário, diretor em empresas públicas ou privadas, político, proprietário de empresas com mais de 10 empregados.                                                                       |Grupo 2: Diarista, empregado doméstico, cuidador de idosos, babá, cozinheiro (em casas particulares), motorista particular, jardineiro, faxineiro de empresas e prédios, vigilante, porteiro, carteiro, office-boy, vendedor, caixa, atendente de loja, auxiliar administrativo, recepcionista, servente de pedreiro, repositor de mercadoria.                                                                                                  |4                       |De R$ 1.497,01 até R$ 1.996,00.|Não.                              |Um.                     |Dois                  |Não.     |Não.    |Um.          |Não.                                  |Não.             |Não.             |Não.          |Não.                   |Não.            |Um.          |Não.   |Não.             |Dois                |Não.             |Não.          |Não.               |\n",
            "|190001237803|Completou o Ensino Médio, mas não completou a Faculdade.                               |Completou o Ensino Médio, mas não completou a Faculdade.                               |Grupo 3: Padeiro, cozinheiro industrial ou em restaurantes, sapateiro, costureiro, joalheiro, torneiro mecânico, operador de máquinas, soldador, operário de fábrica, trabalhador da mineração, pedreiro, pintor, eletricista, encanador, motorista, caminhoneiro, taxista.                                                                   |Grupo 3: Padeiro, cozinheiro industrial ou em restaurantes, sapateiro, costureiro, joalheiro, torneiro mecânico, operador de máquinas, soldador, operário de fábrica, trabalhador da mineração, pedreiro, pintor, eletricista, encanador, motorista, caminhoneiro, taxista.                                                                                                                                                                     |4                       |Até R$ 998,00.                 |Não.                              |Um.                     |Um.                   |Não.     |Não.    |Um.          |Não.                                  |Um.              |Não.             |Não.          |Não.                   |Não.            |Um.          |Não.   |Não.             |Um.                 |Não.             |Não.          |Não.               |\n",
            "|190001493186|Completou a 8ª série/9º ano do Ensino Fundamental, mas não completou o Ensino Médio.   |Não completou a 4ª série/5º ano do Ensino Fundamental.                                 |Grupo 3: Padeiro, cozinheiro industrial ou em restaurantes, sapateiro, costureiro, joalheiro, torneiro mecânico, operador de máquinas, soldador, operário de fábrica, trabalhador da mineração, pedreiro, pintor, eletricista, encanador, motorista, caminhoneiro, taxista.                                                                   |Não sei.                                                                                                                                                                                                                                                                                                                                                                                                                                        |4                       |Até R$ 998,00.                 |Não.                              |Um.                     |Dois                  |Não.     |Não.    |Um.          |Não.                                  |Um.              |Não.             |Um.           |Não.                   |Não.            |Um.          |Não.   |Não.             |Dois                |Sim              |Não.          |Sim                |\n",
            "|190001421547|Completou a 4ª série/5º ano, mas não completou a 8ª série/9º ano do Ensino Fundamental.|Completou a 4ª série/5º ano, mas não completou a 8ª série/9º ano do Ensino Fundamental.|Grupo 1: Lavrador, agricultor sem empregados, bóia fria, criador de animais (gado, porcos, galinhas, ovelhas, cavalos etc.), apicultor, pescador, lenhador, seringueiro, extrativista.                                                                                                                                                        |Grupo 1: Lavrador, agricultor sem empregados, bóia fria, criador de animais (gado, porcos, galinhas, ovelhas, cavalos etc.), apicultor, pescador, lenhador, seringueiro, extrativista.                                                                                                                                                                                                                                                          |4                       |De R$ 998,01 até R$ 1.497,00.  |Não.                              |Um.                     |Três                  |Não.     |Não.    |Um.          |Não.                                  |Não.             |Não.             |Não.          |Não.                   |Não.            |Um.          |Não.   |Não.             |Um.                 |Não.             |Não.          |Não.               |\n",
            "|190001493187|Completou a 8ª série/9º ano do Ensino Fundamental, mas não completou o Ensino Médio.   |Completou a 4ª série/5º ano, mas não completou a 8ª série/9º ano do Ensino Fundamental.|Grupo 2: Diarista, empregado doméstico, cuidador de idosos, babá, cozinheiro (em casas particulares), motorista particular, jardineiro, faxineiro de empresas e prédios, vigilante, porteiro, carteiro, office-boy, vendedor, caixa, atendente de loja, auxiliar administrativo, recepcionista, servente de pedreiro, repositor de mercadoria.|Grupo 2: Diarista, empregado doméstico, cuidador de idosos, babá, cozinheiro (em casas particulares), motorista particular, jardineiro, faxineiro de empresas e prédios, vigilante, porteiro, carteiro, office-boy, vendedor, caixa, atendente de loja, auxiliar administrativo, recepcionista, servente de pedreiro, repositor de mercadoria.                                                                                                  |3                       |Até R$ 998,00.                 |Não.                              |Um.                     |Dois                  |Não.     |Não.    |Um.          |Não.                                  |Um.              |Não.             |Um.           |Não.                   |Não.            |Um.          |Não.   |Não.             |Dois                |Não.             |Não.          |Sim                |\n",
            "|190001210202|Completou a 4ª série/5º ano, mas não completou a 8ª série/9º ano do Ensino Fundamental.|Completou o Ensino Médio, mas não completou a Faculdade.                               |Grupo 1: Lavrador, agricultor sem empregados, bóia fria, criador de animais (gado, porcos, galinhas, ovelhas, cavalos etc.), apicultor, pescador, lenhador, seringueiro, extrativista.                                                                                                                                                        |Grupo 1: Lavrador, agricultor sem empregados, bóia fria, criador de animais (gado, porcos, galinhas, ovelhas, cavalos etc.), apicultor, pescador, lenhador, seringueiro, extrativista.                                                                                                                                                                                                                                                          |5                       |Até R$ 998,00.                 |Não.                              |Um.                     |Três                  |Não.     |Um.     |Um.          |Não.                                  |Não.             |Não.             |Não.          |Não.                   |Não.            |Um.          |Não.   |Não.             |Um.                 |Não.             |Não.          |Não.               |\n",
            "|190001421549|Não completou a 4ª série/5º ano do Ensino Fundamental.                                 |Não completou a 4ª série/5º ano do Ensino Fundamental.                                 |Grupo 1: Lavrador, agricultor sem empregados, bóia fria, criador de animais (gado, porcos, galinhas, ovelhas, cavalos etc.), apicultor, pescador, lenhador, seringueiro, extrativista.                                                                                                                                                        |Grupo 2: Diarista, empregado doméstico, cuidador de idosos, babá, cozinheiro (em casas particulares), motorista particular, jardineiro, faxineiro de empresas e prédios, vigilante, porteiro, carteiro, office-boy, vendedor, caixa, atendente de loja, auxiliar administrativo, recepcionista, servente de pedreiro, repositor de mercadoria.                                                                                                  |4                       |De R$ 2.994,01 até R$ 3.992,00.|Não.                              |Um.                     |Dois                  |Um.      |Não.    |Um.          |Não.                                  |Não.             |Não.             |Não.          |Não.                   |Não.            |Um.          |Não.   |Não.             |Dois                |Sim              |Um.           |Sim                |\n",
            "+------------+---------------------------------------------------------------------------------------+---------------------------------------------------------------------------------------+----------------------------------------------------------------------------------------------------------------------------------------------------------------------------------------------------------------------------------------------------------------------------------------------------------------------------------------------+------------------------------------------------------------------------------------------------------------------------------------------------------------------------------------------------------------------------------------------------------------------------------------------------------------------------------------------------------------------------------------------------------------------------------------------------+------------------------+-------------------------------+----------------------------------+------------------------+----------------------+---------+--------+-------------+--------------------------------------+-----------------+-----------------+--------------+-----------------------+----------------+-------------+-------+-----------------+--------------------+-----------------+--------------+-------------------+\n",
            "only showing top 20 rows\n",
            "\n"
          ]
        }
      ]
    },
    {
      "cell_type": "code",
      "source": [
        "save_on_csv(socioeconomico,PATH_SOCIOECONOMICOS)"
      ],
      "metadata": {
        "id": "qDYBQRurpJ6w"
      },
      "execution_count": 67,
      "outputs": []
    },
    {
      "cell_type": "code",
      "source": [
        "# descarrega os dados da memória para liberar RAM\n",
        "try:\n",
        "  del socioeconomico\n",
        "except:\n",
        "  print('Variável já foi excluída')"
      ],
      "metadata": {
        "id": "TZrY0SnPJv5R"
      },
      "execution_count": 68,
      "outputs": []
    },
    {
      "cell_type": "code",
      "source": [
        "# descarrega os dados da memória para liberar RAM\n",
        "try:\n",
        "  del dados\n",
        "except:\n",
        "  print('Variável já foi excluída')"
      ],
      "metadata": {
        "id": "HkTdZvNdLv-2"
      },
      "execution_count": 69,
      "outputs": []
    },
    {
      "cell_type": "markdown",
      "source": [
        "# Parte 2 - Análise Exploratória\n"
      ],
      "metadata": {
        "id": "1OQW0BxVLjdT"
      }
    },
    {
      "cell_type": "markdown",
      "source": [
        "## Dados dos Candidatos"
      ],
      "metadata": {
        "id": "x0NNCnLI-qqP"
      }
    },
    {
      "cell_type": "code",
      "source": [
        "df_participantes = get_refined_df(PATH_PARTICIPANTES)"
      ],
      "metadata": {
        "id": "pZLGRAyEL7bT"
      },
      "execution_count": 36,
      "outputs": []
    },
    {
      "cell_type": "code",
      "source": [
        "df_participantes.head()"
      ],
      "metadata": {
        "colab": {
          "base_uri": "https://localhost:8080/",
          "height": 313
        },
        "id": "NM7J6Dr1N21b",
        "outputId": "538332e2-7130-4c26-d889-604a4399668d"
      },
      "execution_count": 37,
      "outputs": [
        {
          "output_type": "execute_result",
          "data": {
            "text/html": [
              "<div>\n",
              "<style scoped>\n",
              "    .dataframe tbody tr th:only-of-type {\n",
              "        vertical-align: middle;\n",
              "    }\n",
              "\n",
              "    .dataframe tbody tr th {\n",
              "        vertical-align: top;\n",
              "    }\n",
              "\n",
              "    .dataframe thead th {\n",
              "        text-align: right;\n",
              "    }\n",
              "</style>\n",
              "<table border=\"1\" class=\"dataframe\">\n",
              "  <thead>\n",
              "    <tr style=\"text-align: right;\">\n",
              "      <th></th>\n",
              "      <th>INSCRICAO</th>\n",
              "      <th>MUNICIPIO_RESIDENCIA</th>\n",
              "      <th>UF_RESIDENCIA</th>\n",
              "      <th>IDADE</th>\n",
              "      <th>SEXO</th>\n",
              "      <th>ESTADO_CIVIL</th>\n",
              "      <th>COR</th>\n",
              "      <th>NACIONALIDADE</th>\n",
              "      <th>MUNICIPIO_NASCIMENTO</th>\n",
              "      <th>UF_NASCIMENTO</th>\n",
              "      <th>STATUS_ENSINO_MEDIO</th>\n",
              "      <th>ANO_CONCLUSAO</th>\n",
              "      <th>TIPO_ESCOLA</th>\n",
              "      <th>TIPO_MODALIDADE</th>\n",
              "      <th>TREINEIRO</th>\n",
              "    </tr>\n",
              "  </thead>\n",
              "  <tbody>\n",
              "    <tr>\n",
              "      <th>0</th>\n",
              "      <td>190001595656</td>\n",
              "      <td>Sorocaba</td>\n",
              "      <td>SP</td>\n",
              "      <td>36.0</td>\n",
              "      <td>MASCULINO</td>\n",
              "      <td>Solteiro(a)</td>\n",
              "      <td>Parda</td>\n",
              "      <td>Brasileiro(a)</td>\n",
              "      <td>Itabuna</td>\n",
              "      <td>BA</td>\n",
              "      <td>Já concluí o Ensino Médio</td>\n",
              "      <td>2008</td>\n",
              "      <td>Não Respondeu</td>\n",
              "      <td>NaN</td>\n",
              "      <td>NÃO</td>\n",
              "    </tr>\n",
              "    <tr>\n",
              "      <th>1</th>\n",
              "      <td>190001421546</td>\n",
              "      <td>Feira de Santana</td>\n",
              "      <td>BA</td>\n",
              "      <td>23.0</td>\n",
              "      <td>MASCULINO</td>\n",
              "      <td>Solteiro(a)</td>\n",
              "      <td>Branca</td>\n",
              "      <td>Brasileiro(a)</td>\n",
              "      <td>Feira de Santana</td>\n",
              "      <td>BA</td>\n",
              "      <td>Já concluí o Ensino Médio</td>\n",
              "      <td>2014</td>\n",
              "      <td>Não Respondeu</td>\n",
              "      <td>Ensino Regular</td>\n",
              "      <td>NÃO</td>\n",
              "    </tr>\n",
              "    <tr>\n",
              "      <th>2</th>\n",
              "      <td>190001133210</td>\n",
              "      <td>Fortaleza</td>\n",
              "      <td>CE</td>\n",
              "      <td>39.0</td>\n",
              "      <td>FEMININO</td>\n",
              "      <td>Solteiro(a)</td>\n",
              "      <td>Parda</td>\n",
              "      <td>Brasileiro(a)</td>\n",
              "      <td>Fortaleza</td>\n",
              "      <td>CE</td>\n",
              "      <td>Já concluí o Ensino Médio</td>\n",
              "      <td>Antes de 2007</td>\n",
              "      <td>Não Respondeu</td>\n",
              "      <td>Ensino Regular</td>\n",
              "      <td>NÃO</td>\n",
              "    </tr>\n",
              "    <tr>\n",
              "      <th>3</th>\n",
              "      <td>190001199383</td>\n",
              "      <td>Palmas</td>\n",
              "      <td>TO</td>\n",
              "      <td>25.0</td>\n",
              "      <td>FEMININO</td>\n",
              "      <td>Solteiro(a)</td>\n",
              "      <td>Branca</td>\n",
              "      <td>Brasileiro(a)</td>\n",
              "      <td>Palmas</td>\n",
              "      <td>TO</td>\n",
              "      <td>Já concluí o Ensino Médio</td>\n",
              "      <td>2015</td>\n",
              "      <td>Não Respondeu</td>\n",
              "      <td>NaN</td>\n",
              "      <td>NÃO</td>\n",
              "    </tr>\n",
              "    <tr>\n",
              "      <th>4</th>\n",
              "      <td>190001237802</td>\n",
              "      <td>Contagem</td>\n",
              "      <td>MG</td>\n",
              "      <td>22.0</td>\n",
              "      <td>FEMININO</td>\n",
              "      <td>Solteiro(a)</td>\n",
              "      <td>Branca</td>\n",
              "      <td>Brasileiro(a)</td>\n",
              "      <td>Contagem</td>\n",
              "      <td>MG</td>\n",
              "      <td>Já concluí o Ensino Médio</td>\n",
              "      <td>2015</td>\n",
              "      <td>Não Respondeu</td>\n",
              "      <td>Ensino Regular</td>\n",
              "      <td>NÃO</td>\n",
              "    </tr>\n",
              "  </tbody>\n",
              "</table>\n",
              "</div>"
            ],
            "text/plain": [
              "      INSCRICAO MUNICIPIO_RESIDENCIA  ... TIPO_MODALIDADE  TREINEIRO\n",
              "0  190001595656             Sorocaba  ...             NaN        NÃO\n",
              "1  190001421546     Feira de Santana  ...  Ensino Regular        NÃO\n",
              "2  190001133210            Fortaleza  ...  Ensino Regular        NÃO\n",
              "3  190001199383               Palmas  ...             NaN        NÃO\n",
              "4  190001237802             Contagem  ...  Ensino Regular        NÃO\n",
              "\n",
              "[5 rows x 15 columns]"
            ]
          },
          "metadata": {},
          "execution_count": 37
        }
      ]
    },
    {
      "cell_type": "code",
      "source": [
        "df_participantes.info()"
      ],
      "metadata": {
        "colab": {
          "base_uri": "https://localhost:8080/"
        },
        "id": "98XP0E7qPdZx",
        "outputId": "c8eed152-f203-4f40-d283-cdc547d54ee9"
      },
      "execution_count": 38,
      "outputs": [
        {
          "output_type": "stream",
          "name": "stdout",
          "text": [
            "<class 'pandas.core.frame.DataFrame'>\n",
            "RangeIndex: 5095270 entries, 0 to 5095269\n",
            "Data columns (total 15 columns):\n",
            " #   Column                Dtype  \n",
            "---  ------                -----  \n",
            " 0   INSCRICAO             int64  \n",
            " 1   MUNICIPIO_RESIDENCIA  object \n",
            " 2   UF_RESIDENCIA         object \n",
            " 3   IDADE                 float64\n",
            " 4   SEXO                  object \n",
            " 5   ESTADO_CIVIL          object \n",
            " 6   COR                   object \n",
            " 7   NACIONALIDADE         object \n",
            " 8   MUNICIPIO_NASCIMENTO  object \n",
            " 9   UF_NASCIMENTO         object \n",
            " 10  STATUS_ENSINO_MEDIO   object \n",
            " 11  ANO_CONCLUSAO         object \n",
            " 12  TIPO_ESCOLA           object \n",
            " 13  TIPO_MODALIDADE       object \n",
            " 14  TREINEIRO             object \n",
            "dtypes: float64(1), int64(1), object(13)\n",
            "memory usage: 583.1+ MB\n"
          ]
        }
      ]
    },
    {
      "cell_type": "code",
      "source": [
        "# verifica os valores Faltantes\n",
        "df_participantes.isnull().sum()"
      ],
      "metadata": {
        "colab": {
          "base_uri": "https://localhost:8080/"
        },
        "id": "FaH7XlKBZEIk",
        "outputId": "30b5e739-6ce7-41ea-db07-ec46ab934643"
      },
      "execution_count": 39,
      "outputs": [
        {
          "output_type": "execute_result",
          "data": {
            "text/plain": [
              "INSCRICAO                     0\n",
              "MUNICIPIO_RESIDENCIA          0\n",
              "UF_RESIDENCIA                 0\n",
              "IDADE                        69\n",
              "SEXO                          0\n",
              "ESTADO_CIVIL                  0\n",
              "COR                           0\n",
              "NACIONALIDADE                 0\n",
              "MUNICIPIO_NASCIMENTO     145249\n",
              "UF_NASCIMENTO            145249\n",
              "STATUS_ENSINO_MEDIO           0\n",
              "ANO_CONCLUSAO                 0\n",
              "TIPO_ESCOLA                   0\n",
              "TIPO_MODALIDADE         2217073\n",
              "TREINEIRO                     0\n",
              "dtype: int64"
            ]
          },
          "metadata": {},
          "execution_count": 39
        }
      ]
    },
    {
      "cell_type": "code",
      "source": [
        "# substituir a idade faltante pela média do dataset (22 anos)\n",
        "df_participantes.loc[df_participantes['IDADE'].isnull(), 'IDADE'] = round(np.mean(df_participantes['IDADE']))"
      ],
      "metadata": {
        "id": "RTsu94ota_-U"
      },
      "execution_count": 40,
      "outputs": []
    },
    {
      "cell_type": "code",
      "source": [
        "# converte para inteiro\n",
        "df_participantes['IDADE'] = df_participantes['IDADE'].astype(int)"
      ],
      "metadata": {
        "id": "rcPXQ-GFbchM"
      },
      "execution_count": 41,
      "outputs": []
    },
    {
      "cell_type": "code",
      "source": [
        "round(df_participantes['IDADE'].describe())"
      ],
      "metadata": {
        "colab": {
          "base_uri": "https://localhost:8080/"
        },
        "id": "IbZm8i_IPzt_",
        "outputId": "02e68e23-c6c9-40c0-a02f-026462bccac8"
      },
      "execution_count": 42,
      "outputs": [
        {
          "output_type": "execute_result",
          "data": {
            "text/plain": [
              "count    5095270.0\n",
              "mean          22.0\n",
              "std            7.0\n",
              "min           10.0\n",
              "25%           18.0\n",
              "50%           19.0\n",
              "75%           24.0\n",
              "max           94.0\n",
              "Name: IDADE, dtype: float64"
            ]
          },
          "metadata": {},
          "execution_count": 42
        }
      ]
    },
    {
      "cell_type": "code",
      "source": [
        "#Top 10  idades com mais participantes que fizeram as provas (treineiros + normais)\n",
        "y = df_participantes['IDADE'].value_counts().head(10).sort_values(ascending=False).values\n",
        "x = df_participantes['IDADE'].value_counts().head(10).sort_values(ascending=False).index.map(str)\n",
        "sns.barplot(y=y, x=x).set_title('TOP 10 - IDADES COM MAIS REPRESENTANTES NAS PROVAS')"
      ],
      "metadata": {
        "colab": {
          "base_uri": "https://localhost:8080/",
          "height": 624
        },
        "id": "vfXnhEG1P6uZ",
        "outputId": "9db0ec8b-0764-4b03-9293-8f4958e0c387"
      },
      "execution_count": 43,
      "outputs": [
        {
          "output_type": "execute_result",
          "data": {
            "text/plain": [
              "Text(0.5, 1.0, 'TOP 10 - IDADES QUE MAIS ADERIRAM A PROVA')"
            ]
          },
          "metadata": {},
          "execution_count": 43
        },
        {
          "output_type": "display_data",
          "data": {
            "image/png": "[encoded data removed]",
            "text/plain": [
              "<Figure size 1008x720 with 1 Axes>"
            ]
          },
          "metadata": {
            "needs_background": "light"
          }
        }
      ]
    },
    {
      "cell_type": "code",
      "source": [
        "# #Top 20 distribuição de idades de com menos participantes (treineios + normais)\n",
        "contagem = df_participantes['IDADE'].value_counts(ascending=True).head(20).sort_values(ascending=False).values\n",
        "idades = df_participantes['IDADE'].value_counts(ascending=True).head(20).sort_values(ascending=False).index.map(str)\n",
        "ax = sns.barplot(y=contagem, x=idades).set_title('TOP 20 - IDADES COM MENOS REPRESENTANTES NAS PROVAS')\n"
      ],
      "metadata": {
        "colab": {
          "base_uri": "https://localhost:8080/",
          "height": 607
        },
        "id": "JltNeHO8Qbnz",
        "outputId": "8a4ef725-fcc1-4fe5-a6fd-807ad38d8264"
      },
      "execution_count": 44,
      "outputs": [
        {
          "output_type": "display_data",
          "data": {
            "image/png": "[encoded data removed]",
            "text/plain": [
              "<Figure size 1008x720 with 1 Axes>"
            ]
          },
          "metadata": {
            "needs_background": "light"
          }
        }
      ]
    },
    {
      "cell_type": "code",
      "source": [
        "# Percentual de treineiros \n",
        "df_participantes['TREINEIRO'].value_counts(normalize=True) * 100"
      ],
      "metadata": {
        "colab": {
          "base_uri": "https://localhost:8080/"
        },
        "id": "ggpQkpybTj2w",
        "outputId": "0dcfdb37-ad87-4f4c-c22d-af1e0e10c077"
      },
      "execution_count": 45,
      "outputs": [
        {
          "output_type": "execute_result",
          "data": {
            "text/plain": [
              "NÃO    87.897246\n",
              "SIM    12.102754\n",
              "Name: TREINEIRO, dtype: float64"
            ]
          },
          "metadata": {},
          "execution_count": 45
        }
      ]
    },
    {
      "cell_type": "code",
      "source": [
        "# Distribuição de idades por treineiros\n",
        "ax = sns.histplot(data=df_participantes, x=\"IDADE\",hue='TREINEIRO', bins=35)\n",
        "ax.set_title(\"Participantes treineiros por idade.\")\n",
        "ax.ticklabel_format(style='plain')"
      ],
      "metadata": {
        "colab": {
          "base_uri": "https://localhost:8080/",
          "height": 621
        },
        "id": "zUVEi1o0UP5H",
        "outputId": "1fef7898-f9dc-4b9b-e054-dd3055a8be5b"
      },
      "execution_count": 46,
      "outputs": [
        {
          "output_type": "display_data",
          "data": {
            "image/png": "[encoded data removed]",
            "text/plain": [
              "<Figure size 1008x720 with 1 Axes>"
            ]
          },
          "metadata": {
            "needs_background": "light"
          }
        }
      ]
    },
    {
      "cell_type": "code",
      "source": [
        "# distribuição de idades por sexo\n",
        "ax = sns.histplot(data=df_participantes, x=\"IDADE\",hue='SEXO',bins=35)\n",
        "ax.set_title(\"Distribuição de participantes por idade e sexo\")\n",
        "ax.ticklabel_format(style='plain')\n"
      ],
      "metadata": {
        "colab": {
          "base_uri": "https://localhost:8080/",
          "height": 621
        },
        "id": "qAgDtlY_W7OA",
        "outputId": "435d0982-ff72-445b-a49c-728d6e9eba3a"
      },
      "execution_count": 47,
      "outputs": [
        {
          "output_type": "display_data",
          "data": {
            "image/png": "[encoded data removed]",
            "text/plain": [
              "<Figure size 1008x720 with 1 Axes>"
            ]
          },
          "metadata": {
            "needs_background": "light"
          }
        }
      ]
    },
    {
      "cell_type": "code",
      "source": [
        "# distribuição de participantes por sexo\n",
        "print('Total de candidatos por sexo: ')\n",
        "print(df_participantes['SEXO'].value_counts())\n",
        "print('-------------------------------\\n')\n",
        "print('Representação percentual: ')\n",
        "print(df_participantes['SEXO'].value_counts(normalize=True) * 100 )"
      ],
      "metadata": {
        "colab": {
          "base_uri": "https://localhost:8080/"
        },
        "id": "JNS4X5bLdf3g",
        "outputId": "55e2a8ab-32df-444e-a010-579ac2c08569"
      },
      "execution_count": 48,
      "outputs": [
        {
          "output_type": "stream",
          "name": "stdout",
          "text": [
            "Total de candidatos por sexo: \n",
            "FEMININO     3031822\n",
            "MASCULINO    2063448\n",
            "Name: SEXO, dtype: int64\n",
            "-------------------------------\n",
            "\n",
            "Representação percentual: \n",
            "FEMININO     59.502676\n",
            "MASCULINO    40.497324\n",
            "Name: SEXO, dtype: float64\n"
          ]
        }
      ]
    },
    {
      "cell_type": "code",
      "source": [
        "sns.histplot(data=df_participantes, x=\"UF_RESIDENCIA\",hue='SEXO',bins=35).set_title(\"Distribuição de Participantes por estado\")"
      ],
      "metadata": {
        "colab": {
          "base_uri": "https://localhost:8080/",
          "height": 639
        },
        "id": "QmciACErlXbk",
        "outputId": "a7cb97bd-af22-4938-e5d1-d601f54f22b9"
      },
      "execution_count": 49,
      "outputs": [
        {
          "output_type": "execute_result",
          "data": {
            "text/plain": [
              "Text(0.5, 1.0, 'Distribuição de Participantes por estado')"
            ]
          },
          "metadata": {},
          "execution_count": 49
        },
        {
          "output_type": "display_data",
          "data": {
            "image/png": "[encoded data removed]",
            "text/plain": [
              "<Figure size 1008x720 with 1 Axes>"
            ]
          },
          "metadata": {
            "needs_background": "light"
          }
        }
      ]
    },
    {
      "cell_type": "code",
      "source": [
        "top = df_participantes['MUNICIPIO_RESIDENCIA'].value_counts(ascending=False).head(20)\n",
        "sns.barplot(x=top.values, y=top.index).set_title('TOP 20 - MUNICÍPIOS COM MAIS PARTICIPAÇÃO AO EXAME.')"
      ],
      "metadata": {
        "colab": {
          "base_uri": "https://localhost:8080/",
          "height": 626
        },
        "id": "v3XFNsb8m4yo",
        "outputId": "c3560eaf-4419-4115-c97c-bbeb225a517a"
      },
      "execution_count": 50,
      "outputs": [
        {
          "output_type": "execute_result",
          "data": {
            "text/plain": [
              "Text(0.5, 1.0, 'TOP 20 - MUNICÍPIOS COM MAIS PARTICIPAÇÃO AO EXAME.')"
            ]
          },
          "metadata": {},
          "execution_count": 50
        },
        {
          "output_type": "display_data",
          "data": {
            "image/png": "[encoded data removed]",
            "text/plain": [
              "<Figure size 1008x720 with 1 Axes>"
            ]
          },
          "metadata": {
            "needs_background": "light"
          }
        }
      ]
    },
    {
      "cell_type": "code",
      "source": [
        "ax = sns.countplot(data=df_participantes,y='NACIONALIDADE', hue='SEXO')\n",
        "ax.ticklabel_format(style='plain', axis='x')"
      ],
      "metadata": {
        "id": "lssOjSlr7z1M",
        "colab": {
          "base_uri": "https://localhost:8080/",
          "height": 606
        },
        "outputId": "f27a8b72-edac-48f4-ad79-038e5c07999d"
      },
      "execution_count": 51,
      "outputs": [
        {
          "output_type": "display_data",
          "data": {
            "image/png": "[encoded data removed]",
            "text/plain": [
              "<Figure size 1008x720 with 1 Axes>"
            ]
          },
          "metadata": {
            "needs_background": "light"
          }
        }
      ]
    },
    {
      "cell_type": "code",
      "source": [
        "# Percentual de participantes por nacionalidade\n",
        "df_participantes['NACIONALIDADE'].value_counts(normalize=True) * 100"
      ],
      "metadata": {
        "colab": {
          "base_uri": "https://localhost:8080/"
        },
        "id": "4KWVPYIBW5-I",
        "outputId": "52f4728f-0132-4811-edea-551fe2b59a3e"
      },
      "execution_count": 52,
      "outputs": [
        {
          "output_type": "execute_result",
          "data": {
            "text/plain": [
              "Brasileiro(a)                                    97.149337\n",
              "Brasileiro(a) Naturalizado                        2.440145\n",
              "Brasileiro(a) Nato(a), nascido(a) no exterior     0.161581\n",
              "Não informado                                     0.132456\n",
              "Estrangeiro(a)                                    0.116481\n",
              "Name: NACIONALIDADE, dtype: float64"
            ]
          },
          "metadata": {},
          "execution_count": 52
        }
      ]
    },
    {
      "cell_type": "code",
      "source": [
        "# Percentual dos dados de percentual dos candidatos por raça declarada\n",
        "df_participantes['COR'].value_counts(normalize=True) * 100"
      ],
      "metadata": {
        "colab": {
          "base_uri": "https://localhost:8080/"
        },
        "id": "T-ur-kLvXelD",
        "outputId": "f0fce109-4720-43fe-abb1-0ffb750b4df9"
      },
      "execution_count": 53,
      "outputs": [
        {
          "output_type": "execute_result",
          "data": {
            "text/plain": [
              "Parda              46.397208\n",
              "Branca             35.950578\n",
              "Afrodescendente    12.723742\n",
              "Amarela             2.279801\n",
              "Não declarado       2.025428\n",
              "Indígena            0.623245\n",
              "Name: COR, dtype: float64"
            ]
          },
          "metadata": {},
          "execution_count": 53
        }
      ]
    },
    {
      "cell_type": "code",
      "source": [
        "# Percentual dos dados de tipo da escola\n",
        "df_participantes['TIPO_ESCOLA'].value_counts(normalize=True) * 100"
      ],
      "metadata": {
        "colab": {
          "base_uri": "https://localhost:8080/"
        },
        "id": "xSw0WjIY9SmA",
        "outputId": "fc805dbe-389d-4527-ab3c-d9a4325c9ee4"
      },
      "execution_count": 54,
      "outputs": [
        {
          "output_type": "execute_result",
          "data": {
            "text/plain": [
              "Não Respondeu    71.230298\n",
              "Pública          24.478821\n",
              "Privada           4.290882\n",
              "Name: TIPO_ESCOLA, dtype: float64"
            ]
          },
          "metadata": {},
          "execution_count": 54
        }
      ]
    },
    {
      "cell_type": "code",
      "source": [
        "# Percentual dos dados de tipo de ensino\n",
        "df_participantes['TIPO_MODALIDADE'].value_counts(normalize=True) * 100"
      ],
      "metadata": {
        "colab": {
          "base_uri": "https://localhost:8080/"
        },
        "id": "TqjqXkJm9Sib",
        "outputId": "82c1a0d9-e86d-496c-809b-1a652593692c"
      },
      "execution_count": 55,
      "outputs": [
        {
          "output_type": "execute_result",
          "data": {
            "text/plain": [
              "Ensino Regular                                 99.520568\n",
              "Educação Especial - Modalidade Substitutiva     0.479432\n",
              "Name: TIPO_MODALIDADE, dtype: float64"
            ]
          },
          "metadata": {},
          "execution_count": 55
        }
      ]
    },
    {
      "cell_type": "code",
      "source": [
        "# Percentual dos dados de estado civil do candidato\n",
        "df_participantes['ESTADO_CIVIL'].value_counts(normalize=True) * 100"
      ],
      "metadata": {
        "colab": {
          "base_uri": "https://localhost:8080/"
        },
        "id": "Q2l5Sopm9oiF",
        "outputId": "f45238f6-9d26-42ce-ec79-5742ce960ef0"
      },
      "execution_count": 56,
      "outputs": [
        {
          "output_type": "execute_result",
          "data": {
            "text/plain": [
              "Solteiro(a)                                86.324866\n",
              "Casado(a)/Mora com companheiro(a)           7.769068\n",
              "Não Informado                               4.058666\n",
              "Divorciado(a)/Desquitado(a)/Separado(a)     1.725012\n",
              "Viúvo(a)                                    0.122388\n",
              "Name: ESTADO_CIVIL, dtype: float64"
            ]
          },
          "metadata": {},
          "execution_count": 56
        }
      ]
    },
    {
      "cell_type": "code",
      "source": [
        "df_participantes['STATUS_ENSINO_MEDIO'].value_counts(normalize=True) * 100"
      ],
      "metadata": {
        "colab": {
          "base_uri": "https://localhost:8080/"
        },
        "id": "xIDjW3YnmxpD",
        "outputId": "bc8ae2e3-4586-48e3-cf04-190b24eb17fe"
      },
      "execution_count": 57,
      "outputs": [
        {
          "output_type": "execute_result",
          "data": {
            "text/plain": [
              "Já concluí o Ensino Médio                               58.739203\n",
              "Estou cursando e concluirei o Ensino Médio em 2019      28.769722\n",
              "Estou cursando e concluirei o Ensino Médio após 2019    12.102754\n",
              "Não concluí e não estou cursando o Ensino Médio          0.388321\n",
              "Name: STATUS_ENSINO_MEDIO, dtype: float64"
            ]
          },
          "metadata": {},
          "execution_count": 57
        }
      ]
    },
    {
      "cell_type": "code",
      "source": [
        "# descarrega os dados da memória para liberar RAM\n",
        "try:\n",
        "  del df_participantes\n",
        "except:\n",
        "  print('Variável já foi excluída')"
      ],
      "metadata": {
        "id": "Pu8zXrdjJYPy"
      },
      "execution_count": null,
      "outputs": []
    },
    {
      "cell_type": "markdown",
      "source": [
        "## Dados da escolas"
      ],
      "metadata": {
        "id": "k0KrcnjLrjXP"
      }
    },
    {
      "cell_type": "code",
      "source": [
        "df_escolas = get_refined_df(PATH_ESCOLAS)"
      ],
      "metadata": {
        "id": "pgH-VelSrmLn"
      },
      "execution_count": 58,
      "outputs": []
    },
    {
      "cell_type": "code",
      "source": [
        "df_escolas.head()"
      ],
      "metadata": {
        "colab": {
          "base_uri": "https://localhost:8080/",
          "height": 206
        },
        "id": "h3-q3OeHr6QC",
        "outputId": "060e92a8-67d1-47e4-c249-a2aa913868da"
      },
      "execution_count": 59,
      "outputs": [
        {
          "output_type": "execute_result",
          "data": {
            "text/html": [
              "<div>\n",
              "<style scoped>\n",
              "    .dataframe tbody tr th:only-of-type {\n",
              "        vertical-align: middle;\n",
              "    }\n",
              "\n",
              "    .dataframe tbody tr th {\n",
              "        vertical-align: top;\n",
              "    }\n",
              "\n",
              "    .dataframe thead th {\n",
              "        text-align: right;\n",
              "    }\n",
              "</style>\n",
              "<table border=\"1\" class=\"dataframe\">\n",
              "  <thead>\n",
              "    <tr style=\"text-align: right;\">\n",
              "      <th></th>\n",
              "      <th>CO_ESCOLA</th>\n",
              "      <th>MUNICIPIO</th>\n",
              "      <th>UF</th>\n",
              "      <th>DEPENDENCIA_ADM</th>\n",
              "      <th>LOCALIZACAO</th>\n",
              "      <th>SITUACAO_FUNCIONAMENTO</th>\n",
              "    </tr>\n",
              "  </thead>\n",
              "  <tbody>\n",
              "    <tr>\n",
              "      <th>0</th>\n",
              "      <td>NaN</td>\n",
              "      <td>NaN</td>\n",
              "      <td>NaN</td>\n",
              "      <td>NaN</td>\n",
              "      <td>NaN</td>\n",
              "      <td>NaN</td>\n",
              "    </tr>\n",
              "    <tr>\n",
              "      <th>1</th>\n",
              "      <td>NaN</td>\n",
              "      <td>NaN</td>\n",
              "      <td>NaN</td>\n",
              "      <td>NaN</td>\n",
              "      <td>NaN</td>\n",
              "      <td>NaN</td>\n",
              "    </tr>\n",
              "    <tr>\n",
              "      <th>2</th>\n",
              "      <td>NaN</td>\n",
              "      <td>NaN</td>\n",
              "      <td>NaN</td>\n",
              "      <td>NaN</td>\n",
              "      <td>NaN</td>\n",
              "      <td>NaN</td>\n",
              "    </tr>\n",
              "    <tr>\n",
              "      <th>3</th>\n",
              "      <td>NaN</td>\n",
              "      <td>NaN</td>\n",
              "      <td>NaN</td>\n",
              "      <td>NaN</td>\n",
              "      <td>NaN</td>\n",
              "      <td>NaN</td>\n",
              "    </tr>\n",
              "    <tr>\n",
              "      <th>4</th>\n",
              "      <td>NaN</td>\n",
              "      <td>NaN</td>\n",
              "      <td>NaN</td>\n",
              "      <td>NaN</td>\n",
              "      <td>NaN</td>\n",
              "      <td>NaN</td>\n",
              "    </tr>\n",
              "  </tbody>\n",
              "</table>\n",
              "</div>"
            ],
            "text/plain": [
              "   CO_ESCOLA MUNICIPIO   UF DEPENDENCIA_ADM LOCALIZACAO SITUACAO_FUNCIONAMENTO\n",
              "0        NaN       NaN  NaN             NaN         NaN                    NaN\n",
              "1        NaN       NaN  NaN             NaN         NaN                    NaN\n",
              "2        NaN       NaN  NaN             NaN         NaN                    NaN\n",
              "3        NaN       NaN  NaN             NaN         NaN                    NaN\n",
              "4        NaN       NaN  NaN             NaN         NaN                    NaN"
            ]
          },
          "metadata": {},
          "execution_count": 59
        }
      ]
    },
    {
      "cell_type": "code",
      "source": [
        "# percentual dos valores faltantes do dataset\n",
        "print('Percentual dos dados Faltantes no conjunto das informações das escolas:\\n',df_escolas.isnull().sum() / df_escolas.shape[0] * 100)"
      ],
      "metadata": {
        "colab": {
          "base_uri": "https://localhost:8080/"
        },
        "id": "paB_8Rq8r-fw",
        "outputId": "7c8a9124-4b77-4729-b6c0-c9564fc4c091"
      },
      "execution_count": 60,
      "outputs": [
        {
          "output_type": "stream",
          "name": "stdout",
          "text": [
            "Percentual dos dados Faltantes no conjunto das informações das escolas:\n",
            " CO_ESCOLA                 77.48084\n",
            "MUNICIPIO                 77.48084\n",
            "UF                        77.48084\n",
            "DEPENDENCIA_ADM           77.48084\n",
            "LOCALIZACAO               77.48084\n",
            "SITUACAO_FUNCIONAMENTO    77.48084\n",
            "dtype: float64\n"
          ]
        }
      ]
    },
    {
      "cell_type": "code",
      "source": [
        "# descarrega os dados da memória para liberar RAM\n",
        "try:\n",
        "  del df_escolas\n",
        "except:\n",
        "  print('Variável já foi excluída')"
      ],
      "metadata": {
        "id": "j2g8Evd_JSmv"
      },
      "execution_count": null,
      "outputs": []
    },
    {
      "cell_type": "markdown",
      "source": [
        "OBS: Devido ao número excessivo de dados em branco, não será usado o dataset com as informações sobre as escolas."
      ],
      "metadata": {
        "id": "cSpei6qZC6Pc"
      }
    },
    {
      "cell_type": "markdown",
      "source": [
        "## Pedidos de atendimento específico."
      ],
      "metadata": {
        "id": "92HPppKSDZto"
      }
    },
    {
      "cell_type": "code",
      "source": [
        "df_especificos = get_refined_df(PATH_ATENDIMENTO_ESPECIFICO)"
      ],
      "metadata": {
        "id": "7MQXim71HFG8"
      },
      "execution_count": 61,
      "outputs": []
    },
    {
      "cell_type": "code",
      "source": [
        "df_especificos.head()"
      ],
      "metadata": {
        "colab": {
          "base_uri": "https://localhost:8080/",
          "height": 226
        },
        "id": "PnMrF0ArTpxn",
        "outputId": "357120aa-cf92-49d0-b04e-55b9939038e6"
      },
      "execution_count": 62,
      "outputs": [
        {
          "output_type": "execute_result",
          "data": {
            "text/html": [
              "<div>\n",
              "<style scoped>\n",
              "    .dataframe tbody tr th:only-of-type {\n",
              "        vertical-align: middle;\n",
              "    }\n",
              "\n",
              "    .dataframe tbody tr th {\n",
              "        vertical-align: top;\n",
              "    }\n",
              "\n",
              "    .dataframe thead th {\n",
              "        text-align: right;\n",
              "    }\n",
              "</style>\n",
              "<table border=\"1\" class=\"dataframe\">\n",
              "  <thead>\n",
              "    <tr style=\"text-align: right;\">\n",
              "      <th></th>\n",
              "      <th>IN_BAIXA_VISAO</th>\n",
              "      <th>IN_CEGUEIRA</th>\n",
              "      <th>IN_SURDEZ</th>\n",
              "      <th>IN_DEFICIENCIA_AUDITIVA</th>\n",
              "      <th>IN_SURDO_CEGUEIRA</th>\n",
              "      <th>IN_DEFICIENCIA_FISICA</th>\n",
              "      <th>IN_DEFICIENCIA_MENTAL</th>\n",
              "      <th>IN_DEFICIT_ATENCAO</th>\n",
              "      <th>IN_DISLEXIA</th>\n",
              "      <th>IN_DISCALCULIA</th>\n",
              "      <th>IN_AUTISMO</th>\n",
              "      <th>IN_VISAO_MONOCULAR</th>\n",
              "      <th>IN_OUTRA_DEF</th>\n",
              "      <th>IN_GESTANTE</th>\n",
              "      <th>IN_LACTANTE</th>\n",
              "      <th>IN_IDOSO</th>\n",
              "      <th>IN_ESTUDA_CLASSE_HOSPITALAR</th>\n",
              "    </tr>\n",
              "  </thead>\n",
              "  <tbody>\n",
              "    <tr>\n",
              "      <th>0</th>\n",
              "      <td>Não</td>\n",
              "      <td>Não</td>\n",
              "      <td>Não</td>\n",
              "      <td>Não</td>\n",
              "      <td>Não</td>\n",
              "      <td>Não</td>\n",
              "      <td>Não</td>\n",
              "      <td>Não</td>\n",
              "      <td>Não</td>\n",
              "      <td>Não</td>\n",
              "      <td>Não</td>\n",
              "      <td>Não</td>\n",
              "      <td>Não</td>\n",
              "      <td>Não</td>\n",
              "      <td>Não</td>\n",
              "      <td>Não</td>\n",
              "      <td>Não</td>\n",
              "    </tr>\n",
              "    <tr>\n",
              "      <th>1</th>\n",
              "      <td>Não</td>\n",
              "      <td>Não</td>\n",
              "      <td>Não</td>\n",
              "      <td>Não</td>\n",
              "      <td>Não</td>\n",
              "      <td>Não</td>\n",
              "      <td>Não</td>\n",
              "      <td>Não</td>\n",
              "      <td>Não</td>\n",
              "      <td>Não</td>\n",
              "      <td>Não</td>\n",
              "      <td>Não</td>\n",
              "      <td>Não</td>\n",
              "      <td>Não</td>\n",
              "      <td>Não</td>\n",
              "      <td>Não</td>\n",
              "      <td>Não</td>\n",
              "    </tr>\n",
              "    <tr>\n",
              "      <th>2</th>\n",
              "      <td>Não</td>\n",
              "      <td>Não</td>\n",
              "      <td>Não</td>\n",
              "      <td>Não</td>\n",
              "      <td>Não</td>\n",
              "      <td>Não</td>\n",
              "      <td>Não</td>\n",
              "      <td>Não</td>\n",
              "      <td>Não</td>\n",
              "      <td>Não</td>\n",
              "      <td>Não</td>\n",
              "      <td>Não</td>\n",
              "      <td>Não</td>\n",
              "      <td>Não</td>\n",
              "      <td>Não</td>\n",
              "      <td>Não</td>\n",
              "      <td>Não</td>\n",
              "    </tr>\n",
              "    <tr>\n",
              "      <th>3</th>\n",
              "      <td>Não</td>\n",
              "      <td>Não</td>\n",
              "      <td>Não</td>\n",
              "      <td>Não</td>\n",
              "      <td>Não</td>\n",
              "      <td>Não</td>\n",
              "      <td>Não</td>\n",
              "      <td>Não</td>\n",
              "      <td>Não</td>\n",
              "      <td>Não</td>\n",
              "      <td>Não</td>\n",
              "      <td>Não</td>\n",
              "      <td>Não</td>\n",
              "      <td>Não</td>\n",
              "      <td>Não</td>\n",
              "      <td>Não</td>\n",
              "      <td>Não</td>\n",
              "    </tr>\n",
              "    <tr>\n",
              "      <th>4</th>\n",
              "      <td>Não</td>\n",
              "      <td>Não</td>\n",
              "      <td>Não</td>\n",
              "      <td>Não</td>\n",
              "      <td>Não</td>\n",
              "      <td>Não</td>\n",
              "      <td>Não</td>\n",
              "      <td>Não</td>\n",
              "      <td>Não</td>\n",
              "      <td>Não</td>\n",
              "      <td>Não</td>\n",
              "      <td>Não</td>\n",
              "      <td>Não</td>\n",
              "      <td>Não</td>\n",
              "      <td>Não</td>\n",
              "      <td>Não</td>\n",
              "      <td>Não</td>\n",
              "    </tr>\n",
              "  </tbody>\n",
              "</table>\n",
              "</div>"
            ],
            "text/plain": [
              "  IN_BAIXA_VISAO IN_CEGUEIRA  ... IN_IDOSO IN_ESTUDA_CLASSE_HOSPITALAR\n",
              "0            Não         Não  ...      Não                         Não\n",
              "1            Não         Não  ...      Não                         Não\n",
              "2            Não         Não  ...      Não                         Não\n",
              "3            Não         Não  ...      Não                         Não\n",
              "4            Não         Não  ...      Não                         Não\n",
              "\n",
              "[5 rows x 17 columns]"
            ]
          },
          "metadata": {},
          "execution_count": 62
        }
      ]
    },
    {
      "cell_type": "code",
      "source": [
        "df_especificos.isnull().sum()"
      ],
      "metadata": {
        "colab": {
          "base_uri": "https://localhost:8080/"
        },
        "id": "hi5oaH72Tsvu",
        "outputId": "557e8846-ac46-4035-cf3a-abf77fb994b3"
      },
      "execution_count": 63,
      "outputs": [
        {
          "output_type": "execute_result",
          "data": {
            "text/plain": [
              "IN_BAIXA_VISAO                 0\n",
              "IN_CEGUEIRA                    0\n",
              "IN_SURDEZ                      0\n",
              "IN_DEFICIENCIA_AUDITIVA        0\n",
              "IN_SURDO_CEGUEIRA              0\n",
              "IN_DEFICIENCIA_FISICA          0\n",
              "IN_DEFICIENCIA_MENTAL          0\n",
              "IN_DEFICIT_ATENCAO             0\n",
              "IN_DISLEXIA                    0\n",
              "IN_DISCALCULIA                 0\n",
              "IN_AUTISMO                     0\n",
              "IN_VISAO_MONOCULAR             0\n",
              "IN_OUTRA_DEF                   0\n",
              "IN_GESTANTE                    0\n",
              "IN_LACTANTE                    0\n",
              "IN_IDOSO                       0\n",
              "IN_ESTUDA_CLASSE_HOSPITALAR    0\n",
              "dtype: int64"
            ]
          },
          "metadata": {},
          "execution_count": 63
        }
      ]
    },
    {
      "cell_type": "code",
      "source": [
        "novos_nomes = [i.split('IN_')[1] for i in df_especificos.columns]\n",
        "df_especificos.columns = novos_nomes"
      ],
      "metadata": {
        "id": "yiTEvjQwVMRv"
      },
      "execution_count": 64,
      "outputs": []
    },
    {
      "cell_type": "code",
      "source": [
        "df_mapeado = df_especificos.replace({'Não': 0, 'Sim':1})"
      ],
      "metadata": {
        "id": "T4EV4HiKUp6P"
      },
      "execution_count": 104,
      "outputs": []
    },
    {
      "cell_type": "code",
      "source": [
        "print('Quantidade de candidatos com algum tipo de dificuldade para realizar a prova')\n",
        "print('\\n')\n",
        "print(df_mapeado.sum().sort_values(ascending=False))"
      ],
      "metadata": {
        "colab": {
          "base_uri": "https://localhost:8080/"
        },
        "id": "xEfsZlbwUpz0",
        "outputId": "92d71c4a-e19f-4fd8-e60b-f53aa2727eaf"
      },
      "execution_count": 103,
      "outputs": [
        {
          "output_type": "stream",
          "name": "stdout",
          "text": [
            "Quantidade de candidatos com algum tipo de pedido de atendimento específico para realizar a prova\n",
            "\n",
            "\n",
            "DEFICIT_ATENCAO             8338\n",
            "DEFICIENCIA_FISICA          7482\n",
            "BAIXA_VISAO                 6201\n",
            "LACTANTE                    3630\n",
            "OUTRA_DEF                   3064\n",
            "DEFICIENCIA_MENTAL          2248\n",
            "DEFICIENCIA_AUDITIVA        2203\n",
            "SURDEZ                      1623\n",
            "DISLEXIA                    1596\n",
            "GESTANTE                    1410\n",
            "AUTISMO                     1204\n",
            "VISAO_MONOCULAR             1109\n",
            "CEGUEIRA                     715\n",
            "DISCALCULIA                  382\n",
            "IDOSO                        232\n",
            "SURDO_CEGUEIRA                47\n",
            "ESTUDA_CLASSE_HOSPITALAR      24\n",
            "dtype: int64\n"
          ]
        }
      ]
    },
    {
      "cell_type": "code",
      "source": [
        "df_especificos =1"
      ],
      "metadata": {
        "id": "IY1afqXfa03P"
      },
      "execution_count": 74,
      "outputs": []
    },
    {
      "cell_type": "code",
      "source": [
        "# descarrega os dados da memória para liberar RAM\n",
        "try:\n",
        "  del df_mapeado\n",
        "  del df_especificos\n",
        "except:\n",
        "  print('Variável já foi excluída')"
      ],
      "metadata": {
        "colab": {
          "base_uri": "https://localhost:8080/"
        },
        "id": "UI7SpXOzJGn8",
        "outputId": "2a398607-bcce-4b54-c421-799f96117e89"
      },
      "execution_count": 75,
      "outputs": [
        {
          "output_type": "stream",
          "name": "stdout",
          "text": [
            "Variável já foi excluída\n"
          ]
        }
      ]
    },
    {
      "cell_type": "markdown",
      "source": [
        "## Pedidos de recursos especiais para a realização das provas."
      ],
      "metadata": {
        "id": "IxRQZsA2vTdU"
      }
    },
    {
      "cell_type": "code",
      "source": [
        "df_especiais = get_refined_df(PATH_RECURSOS_ESPECIAIS)"
      ],
      "metadata": {
        "id": "d4OhO0x1uo_J"
      },
      "execution_count": 22,
      "outputs": []
    },
    {
      "cell_type": "code",
      "source": [
        "novos_nomes = [i.split('IN_')[1] for i in df_especiais.columns]\n",
        "df_especiais.columns = novos_nomes"
      ],
      "metadata": {
        "id": "FmU2pWKT1ULm"
      },
      "execution_count": 23,
      "outputs": []
    },
    {
      "cell_type": "code",
      "source": [
        "df_mapeado = df_especiais.replace({'Não': 0, 'Sim':1})"
      ],
      "metadata": {
        "id": "ZtstTafSvsni"
      },
      "execution_count": 24,
      "outputs": []
    },
    {
      "cell_type": "code",
      "source": [
        "print('Quantidade de candidatos com necessidades especiais para realizar a prova')\n",
        "print('\\n')\n",
        "print(df_mapeado.sum().sort_values(ascending=False))"
      ],
      "metadata": {
        "colab": {
          "base_uri": "https://localhost:8080/"
        },
        "id": "h9uW0PzTzPTr",
        "outputId": "296c0419-47e2-43fa-a82a-fb75b6286bd5"
      },
      "execution_count": 26,
      "outputs": [
        {
          "output_type": "stream",
          "name": "stdout",
          "text": [
            "Quantidade de candidatos com necessidades especiais para realizar a prova\n",
            "\n",
            "\n",
            "TEMPO_ADICIONAL          12570\n",
            "ACESSO                    8007\n",
            "LEDOR                     6274\n",
            "SEM_RECURSO               6128\n",
            "TRANSCRICAO               5634\n",
            "AMPLIADA_18               4570\n",
            "APOIO_PERNA               2247\n",
            "MESA_CADEIRA_RODAS        1800\n",
            "MESA_CADEIRA_SEPARADA     1426\n",
            "AMPLIADA_24               1087\n",
            "LIBRAS                     966\n",
            "LEITURA_LABIAL             598\n",
            "MEDIDOR_GLICOSE            590\n",
            "NOME_SOCIAL                394\n",
            "BRAILLE                    302\n",
            "SALA_INDIVIDUAL            300\n",
            "SALA_ESPECIAL              255\n",
            "MEDICAMENTOS               247\n",
            "CADEIRA_ACOLCHOADA         174\n",
            "MATERIAL_ESPECIFICO        162\n",
            "MAQUINA_BRAILE             161\n",
            "MOBILIARIO_OBESO            59\n",
            "SALA_ACOMPANHANTE           53\n",
            "SOROBAN                     43\n",
            "LAMINA_OVERLAY              27\n",
            "MOBILIARIO_ESPECIFICO       22\n",
            "MARCA_PASSO                 16\n",
            "CADEIRA_CANHOTO             14\n",
            "CADEIRA_ESPECIAL            13\n",
            "SONDA                       10\n",
            "GUIA_INTERPRETE              9\n",
            "COMPUTADOR                   8\n",
            "PROTETOR_AURICULAR           5\n",
            "PROVA_DEITADO                1\n",
            "dtype: int64\n"
          ]
        }
      ]
    },
    {
      "cell_type": "code",
      "source": [
        "# descarrega os dados da memória para liberar RAM\n",
        "try:\n",
        "  del df_mapeado\n",
        "  del df_especiais\n",
        "except:\n",
        "  print('Variável já foi excluída')"
      ],
      "metadata": {
        "colab": {
          "base_uri": "https://localhost:8080/"
        },
        "id": "_ibeJCiUJCpL",
        "outputId": "c967ba36-01f4-4c5c-8aa4-483fa2e363fc"
      },
      "execution_count": 78,
      "outputs": [
        {
          "output_type": "stream",
          "name": "stdout",
          "text": [
            "Variável já foi excluída\n"
          ]
        }
      ]
    },
    {
      "cell_type": "markdown",
      "source": [
        "## Dados da pesquisa sócio-econômica"
      ],
      "metadata": {
        "id": "JmoBxyuw7PBP"
      }
    },
    {
      "cell_type": "code",
      "source": [
        "pesquisa = get_refined_df(PATH_SOCIOECONOMICOS)"
      ],
      "metadata": {
        "id": "FNsuG7wA61_O"
      },
      "execution_count": 79,
      "outputs": []
    },
    {
      "cell_type": "code",
      "source": [
        "# Quais são as perguntas feitas na pesquisa e quais respostas possíveis?\n",
        "for pergunta in pesquisa.columns[1:]:\n",
        "  print(pergunta)\n",
        "  for resposta in pesquisa[pergunta].unique():\n",
        "    print(resposta)\n",
        "  print('-' * 100)\n",
        "  print('\\n')"
      ],
      "metadata": {
        "colab": {
          "base_uri": "https://localhost:8080/"
        },
        "id": "GduKIwl465Ux",
        "outputId": "57f7e52f-e4a2-4a5b-e015-606fb4fecbf9"
      },
      "execution_count": 80,
      "outputs": [
        {
          "output_type": "stream",
          "name": "stdout",
          "text": [
            "ESCOLARIDADE_PAI_OU_RESPONSAVEL\n",
            "Não completou a 4ª série/5º ano do Ensino Fundamental.\n",
            "Completou a 4ª série/5º ano, mas não completou a 8ª série/9º ano do Ensino Fundamental.\n",
            "Completou o Ensino Médio, mas não completou a Faculdade.\n",
            "Completou a 8ª série/9º ano do Ensino Fundamental, mas não completou o Ensino Médio.\n",
            "Não sei.\n",
            "Nunca estudou.\n",
            "Completou a Faculdade, mas não completou a Pós-graduação.\n",
            "Completou a Pós-graduação.\n",
            "----------------------------------------------------------------------------------------------------\n",
            "\n",
            "\n",
            "ESCOLARIDADE_MAE_OU_RESPONSAVEL\n",
            "Não completou a 4ª série/5º ano do Ensino Fundamental.\n",
            "Completou o Ensino Médio, mas não completou a Faculdade.\n",
            "Completou a 4ª série/5º ano, mas não completou a 8ª série/9º ano do Ensino Fundamental.\n",
            "Completou a 8ª série/9º ano do Ensino Fundamental, mas não completou o Ensino Médio.\n",
            "Completou a Faculdade, mas não completou a Pós-graduação.\n",
            "Não sei.\n",
            "Completou a Pós-graduação.\n",
            "Nunca estudou.\n",
            "----------------------------------------------------------------------------------------------------\n",
            "\n",
            "\n",
            "GRUPO_OCUPACAO_PAI\n",
            "Grupo 1: Lavrador, agricultor sem empregados, bóia fria, criador de animais (gado, porcos, galinhas, ovelhas, cavalos etc.), apicultor, pescador, lenhador, seringueiro, extrativista.\n",
            "Grupo 2: Diarista, empregado doméstico, cuidador de idosos, babá, cozinheiro (em casas particulares), motorista particular, jardineiro, faxineiro de empresas e prédios, vigilante, porteiro, carteiro, office-boy, vendedor, caixa, atendente de loja, auxiliar administrativo, recepcionista, servente de pedreiro, repositor de mercadoria.\n",
            "Grupo 3: Padeiro, cozinheiro industrial ou em restaurantes, sapateiro, costureiro, joalheiro, torneiro mecânico, operador de máquinas, soldador, operário de fábrica, trabalhador da mineração, pedreiro, pintor, eletricista, encanador, motorista, caminhoneiro, taxista.\n",
            "Não sei.\n",
            "Grupo 5: Médico, engenheiro, dentista, psicólogo, economista, advogado, juiz, promotor, defensor, delegado, tenente, capitão, coronel, professor universitário, diretor em empresas públicas ou privadas, político, proprietário de empresas com mais de 10 empregados.\n",
            "Grupo 4: Professor (de ensino fundamental ou médio, idioma, música, artes etc.), técnico (de enfermagem, contabilidade, eletrônica etc.), policial, militar de baixa patente (soldado, cabo, sargento), corretor de imóveis, supervisor, gerente, mestre de obras, pastor, microempresário (proprietário de empresa com menos de 10 empregados), pequeno comerciante, pequeno proprietário de terras, trabalhador autônomo ou por conta própria.\n",
            "----------------------------------------------------------------------------------------------------\n",
            "\n",
            "\n",
            "GRUPO_OCUPACAO_MAE\n",
            "Grupo 1: Lavrador, agricultor sem empregados, bóia fria, criador de animais (gado, porcos, galinhas, ovelhas, cavalos etc.), apicultor, pescador, lenhador, seringueiro, extrativista.\n",
            "Grupo 2: Diarista, empregado doméstico, cuidador de idosos, babá, cozinheiro (em casas particulares), motorista particular, jardineiro, faxineiro de empresas e prédios, vigilante, porteiro, carteiro, office-boy, vendedor, caixa, atendente de loja, auxiliar administrativo, recepcionista, servente de pedreiro, repositor de mercadoria.\n",
            "Grupo 3: Padeiro, cozinheiro industrial ou em restaurantes, sapateiro, costureiro, joalheiro, torneiro mecânico, operador de máquinas, soldador, operário de fábrica, trabalhador da mineração, pedreiro, pintor, eletricista, encanador, motorista, caminhoneiro, taxista.\n",
            "Grupo 4: Professor (de ensino fundamental ou médio, idioma, música, artes etc.), técnico (de enfermagem, contabilidade, eletrônica etc.), policial, militar de baixa patente (soldado, cabo, sargento), corretor de imóveis, supervisor, gerente, mestre de obras, pastor, microempresário (proprietário de empresa com menos de 10 empregados), pequeno comerciante, pequeno proprietário de terras, trabalhador autônomo ou por conta própria.\n",
            "Não sei.\n",
            "Grupo 5: Médico, engenheiro, dentista, psicólogo, economista, advogado, juiz, promotor, defensor, delegado, tenente, capitão, coronel, professor universitário, diretor em empresas públicas ou privadas, político, proprietário de empresas com mais de 10 empregados.\n",
            "----------------------------------------------------------------------------------------------------\n",
            "\n",
            "\n",
            "QTD_MORADORES_RESIDENCIA\n",
            "2\n",
            "4\n",
            "3\n",
            "7\n",
            "6\n",
            "5\n",
            "1\n",
            "10\n",
            "8\n",
            "9\n",
            "13\n",
            "12\n",
            "11\n",
            "14\n",
            "16\n",
            "20\n",
            "15\n",
            "18\n",
            "19\n",
            "17\n",
            "----------------------------------------------------------------------------------------------------\n",
            "\n",
            "\n",
            "RENDA_MENSAL_FAMILIAR\n",
            "Nenhuma Renda\n",
            "De R$ 998,01 até R$ 1.497,00.\n",
            "Até R$ 998,00.\n",
            "De R$ 1.996,01 até R$ 2.495,00.\n",
            "De R$ 2.994,01 até R$ 3.992,00.\n",
            "De R$ 1.497,01 até R$ 1.996,00.\n",
            "De R$ 2.495,01 até R$ 2.994,00.\n",
            "De R$ 5.988,01 até R$ 6.986,00.\n",
            "De R$ 4.990,01 até R$ 5.988,00.\n",
            "De R$ 6.986,01 até R$ 7.984,00.\n",
            "De R$ 3.992,01 até R$ 4.990,00.\n",
            "De R$ 11.976,01 até R$ 14.970,00.\n",
            "Mais de R$ 19.960,00.\n",
            "De R$ 8.982,01 até R$ 9.980,00.\n",
            "De R$ 14.970,01 até R$ 19.960,00.\n",
            "De R$ 7.984,01 até R$ 8.982,00.\n",
            "De R$ 9.980,01 até R$ 11.976,00.\n",
            "----------------------------------------------------------------------------------------------------\n",
            "\n",
            "\n",
            "POSSUI_SERVICO_EMPREGADO_DOMESTICO\n",
            "Não.\n",
            "Sim, um ou dois dias por semana.\n",
            "Sim, pelo menos cinco dias por semana.\n",
            "Sim, três ou quatro dias por semana.\n",
            "----------------------------------------------------------------------------------------------------\n",
            "\n",
            "\n",
            "QTD_BANHEIROS_RESIDENCIA\n",
            "Um.\n",
            "Dois\n",
            "Não.\n",
            "Três\n",
            "Quatro ou mais.\n",
            "----------------------------------------------------------------------------------------------------\n",
            "\n",
            "\n",
            "QTD_QUARTOS_RESIDENCIA\n",
            "Dois\n",
            "Um.\n",
            "Três\n",
            "Não.\n",
            "Quatro ou mais.\n",
            "----------------------------------------------------------------------------------------------------\n",
            "\n",
            "\n",
            "TEM_CARRO\n",
            "Não.\n",
            "Um.\n",
            "Dois\n",
            "Três\n",
            "Quatro ou mais.\n",
            "----------------------------------------------------------------------------------------------------\n",
            "\n",
            "\n",
            "TEM_MOTO\n",
            "Não.\n",
            "Um.\n",
            "Dois\n",
            "Três\n",
            "Quatro ou mais.\n",
            "----------------------------------------------------------------------------------------------------\n",
            "\n",
            "\n",
            "TEM_GELADEIRA\n",
            "Um.\n",
            "Não.\n",
            "Dois\n",
            "Três\n",
            "Quatro ou mais.\n",
            "----------------------------------------------------------------------------------------------------\n",
            "\n",
            "\n",
            "TEM_FREEZER_OU_SEGUNDA_PORTA_GELADEIRA\n",
            "Não.\n",
            "Um.\n",
            "Dois\n",
            "Três\n",
            "Quatro ou mais.\n",
            "----------------------------------------------------------------------------------------------------\n",
            "\n",
            "\n",
            "TEM_MAQUINA_LAVAR\n",
            "Não.\n",
            "Um.\n",
            "Dois\n",
            "Três\n",
            "Quatro ou mais.\n",
            "----------------------------------------------------------------------------------------------------\n",
            "\n",
            "\n",
            "TEM_MAQUINA_SECAR\n",
            "Não.\n",
            "Um.\n",
            "Dois\n",
            "Quatro ou mais.\n",
            "Três\n",
            "----------------------------------------------------------------------------------------------------\n",
            "\n",
            "\n",
            "TEM_MICROONDAS\n",
            "Não.\n",
            "Um.\n",
            "Dois\n",
            "Três\n",
            "Quatro ou mais.\n",
            "----------------------------------------------------------------------------------------------------\n",
            "\n",
            "\n",
            "TEM_MAQUINA_LAVAR_LOUCA\n",
            "Não.\n",
            "Um.\n",
            "Dois\n",
            "Três\n",
            "Quatro ou mais.\n",
            "----------------------------------------------------------------------------------------------------\n",
            "\n",
            "\n",
            "TEM_ASPIRADOR_PO\n",
            "Não.\n",
            "Sim\n",
            "----------------------------------------------------------------------------------------------------\n",
            "\n",
            "\n",
            "TEM_TELEVISAO\n",
            "Não.\n",
            "Um.\n",
            "Dois\n",
            "Três\n",
            "Quatro ou mais.\n",
            "----------------------------------------------------------------------------------------------------\n",
            "\n",
            "\n",
            "TEM_DVD\n",
            "Não.\n",
            "Sim\n",
            "----------------------------------------------------------------------------------------------------\n",
            "\n",
            "\n",
            "TEM_TV_ASSINATURA\n",
            "Não.\n",
            "Sim\n",
            "----------------------------------------------------------------------------------------------------\n",
            "\n",
            "\n",
            "TEM_TELEFONE_CELULAR\n",
            "Dois\n",
            "Quatro ou mais.\n",
            "Três\n",
            "Um.\n",
            "Não.\n",
            "----------------------------------------------------------------------------------------------------\n",
            "\n",
            "\n",
            "TEM_TELEFONE_FIXO\n",
            "Não.\n",
            "Sim\n",
            "----------------------------------------------------------------------------------------------------\n",
            "\n",
            "\n",
            "TEM_COMPUTADOR\n",
            "Dois\n",
            "Não.\n",
            "Um.\n",
            "Três\n",
            "Quatro ou mais.\n",
            "----------------------------------------------------------------------------------------------------\n",
            "\n",
            "\n",
            "TEM_ACESSO_INTERNET\n",
            "Sim\n",
            "Não.\n",
            "----------------------------------------------------------------------------------------------------\n",
            "\n",
            "\n"
          ]
        }
      ]
    },
    {
      "cell_type": "code",
      "source": [
        "# Dados dos responáveis dos candidatos\n",
        "lista = []\n",
        "lista.extend([pesquisa[i].unique() for i in pesquisa.columns[3:5]])\n",
        "lista = np.unique(lista)\n",
        "grupos = {}\n",
        "for i in lista:\n",
        "  if(i == 'Não sei.'):\n",
        "    grupos[i] = i\n",
        "    continue\n",
        "  grupos[i] = i.split(':')[0]\n",
        "pesquisa.iloc[:,3:5] = pesquisa.iloc[:,3:5].replace(grupos)\n",
        "\n",
        "status_familiar(pesquisa, pesquisa.columns[1:5], lista[:-1])"
      ],
      "metadata": {
        "id": "g7B5U95zpDVd"
      },
      "execution_count": 175,
      "outputs": []
    },
    {
      "cell_type": "code",
      "source": [
        "\n"
      ],
      "metadata": {
        "colab": {
          "base_uri": "https://localhost:8080/",
          "height": 1000
        },
        "id": "fOUGMcSCtO2S",
        "outputId": "447f70b1-e54d-452a-f3fb-a9f56bde0534"
      },
      "execution_count": 180,
      "outputs": [
        {
          "output_type": "display_data",
          "data": {
            "image/png": "[encoded data removed]",
            "text/plain": [
              "<Figure size 1008x720 with 1 Axes>"
            ]
          },
          "metadata": {
            "needs_background": "light"
          }
        },
        {
          "output_type": "stream",
          "name": "stdout",
          "text": [
            "Percentual em relação ao total\n",
            "Completou o Ensino Médio, mas não completou a Faculdade.                                   25.69\n",
            "Não completou a 4ª série/5º ano do Ensino Fundamental.                                     22.29\n",
            "Completou a 4ª série/5º ano, mas não completou a 8ª série/9º ano do Ensino Fundamental.    14.20\n",
            "Completou a 8ª série/9º ano do Ensino Fundamental, mas não completou o Ensino Médio.       11.51\n",
            "Não sei.                                                                                    8.73\n",
            "Completou a Faculdade, mas não completou a Pós-graduação.                                   7.37\n",
            "Nunca estudou.                                                                              5.70\n",
            "Completou a Pós-graduação.                                                                  4.50\n",
            "Name: ESCOLARIDADE_PAI_OU_RESPONSAVEL, dtype: float64\n",
            " \n",
            " \n"
          ]
        },
        {
          "output_type": "display_data",
          "data": {
            "image/png": "[encoded data removed]",
            "text/plain": [
              "<Figure size 1008x720 with 1 Axes>"
            ]
          },
          "metadata": {
            "needs_background": "light"
          }
        },
        {
          "output_type": "stream",
          "name": "stdout",
          "text": [
            "Percentual em relação ao total\n",
            "Completou o Ensino Médio, mas não completou a Faculdade.                                   32.06\n",
            "Não completou a 4ª série/5º ano do Ensino Fundamental.                                     16.78\n",
            "Completou a 4ª série/5º ano, mas não completou a 8ª série/9º ano do Ensino Fundamental.    13.47\n",
            "Completou a 8ª série/9º ano do Ensino Fundamental, mas não completou o Ensino Médio.       13.10\n",
            "Completou a Faculdade, mas não completou a Pós-graduação.                                  10.08\n",
            "Completou a Pós-graduação.                                                                  7.84\n",
            "Nunca estudou.                                                                              3.82\n",
            "Não sei.                                                                                    2.85\n",
            "Name: ESCOLARIDADE_MAE_OU_RESPONSAVEL, dtype: float64\n",
            " \n",
            " \n"
          ]
        },
        {
          "output_type": "display_data",
          "data": {
            "image/png": "[encoded data removed]",
            "text/plain": [
              "<Figure size 1008x720 with 1 Axes>"
            ]
          },
          "metadata": {
            "needs_background": "light"
          }
        },
        {
          "output_type": "stream",
          "name": "stdout",
          "text": [
            "['Grupo 1: Lavrador, agricultor sem empregados, bóia fria, criador de animais (gado, porcos, galinhas, ovelhas, cavalos etc.), apicultor, pescador, lenhador, seringueiro, extrativista.'\n",
            " 'Grupo 2: Diarista, empregado doméstico, cuidador de idosos, babá, cozinheiro (em casas particulares), motorista particular, jardineiro, faxineiro de empresas e prédios, vigilante, porteiro, carteiro, office-boy, vendedor, caixa, atendente de loja, auxiliar administrativo, recepcionista, servente de pedreiro, repositor de mercadoria.'\n",
            " 'Grupo 3: Padeiro, cozinheiro industrial ou em restaurantes, sapateiro, costureiro, joalheiro, torneiro mecânico, operador de máquinas, soldador, operário de fábrica, trabalhador da mineração, pedreiro, pintor, eletricista, encanador, motorista, caminhoneiro, taxista.'\n",
            " 'Grupo 4: Professor (de ensino fundamental ou médio, idioma, música, artes etc.), técnico (de enfermagem, contabilidade, eletrônica etc.), policial, militar de baixa patente (soldado, cabo, sargento), corretor de imóveis, supervisor, gerente, mestre de obras, pastor, microempresário (proprietário de empresa com menos de 10 empregados), pequeno comerciante, pequeno proprietário de terras, trabalhador autônomo ou por conta própria.'\n",
            " 'Grupo 5: Médico, engenheiro, dentista, psicólogo, economista, advogado, juiz, promotor, defensor, delegado, tenente, capitão, coronel, professor universitário, diretor em empresas públicas ou privadas, político, proprietário de empresas com mais de 10 empregados.']\n",
            " \n",
            "Percentual em relação ao total\n",
            "Grupo 3     23.61\n",
            "Grupo 1     21.44\n",
            "Grupo 2     21.18\n",
            "Grupo 4     16.99\n",
            "Não sei.    11.29\n",
            "Grupo 5      5.49\n",
            "Name: GRUPO_OCUPACAO_PAI, dtype: float64\n",
            " \n",
            " \n"
          ]
        },
        {
          "output_type": "display_data",
          "data": {
            "image/png": "[encoded data removed]",
            "text/plain": [
              "<Figure size 1008x720 with 1 Axes>"
            ]
          },
          "metadata": {
            "needs_background": "light"
          }
        },
        {
          "output_type": "stream",
          "name": "stdout",
          "text": [
            "['Grupo 1: Lavrador, agricultor sem empregados, bóia fria, criador de animais (gado, porcos, galinhas, ovelhas, cavalos etc.), apicultor, pescador, lenhador, seringueiro, extrativista.'\n",
            " 'Grupo 2: Diarista, empregado doméstico, cuidador de idosos, babá, cozinheiro (em casas particulares), motorista particular, jardineiro, faxineiro de empresas e prédios, vigilante, porteiro, carteiro, office-boy, vendedor, caixa, atendente de loja, auxiliar administrativo, recepcionista, servente de pedreiro, repositor de mercadoria.'\n",
            " 'Grupo 3: Padeiro, cozinheiro industrial ou em restaurantes, sapateiro, costureiro, joalheiro, torneiro mecânico, operador de máquinas, soldador, operário de fábrica, trabalhador da mineração, pedreiro, pintor, eletricista, encanador, motorista, caminhoneiro, taxista.'\n",
            " 'Grupo 4: Professor (de ensino fundamental ou médio, idioma, música, artes etc.), técnico (de enfermagem, contabilidade, eletrônica etc.), policial, militar de baixa patente (soldado, cabo, sargento), corretor de imóveis, supervisor, gerente, mestre de obras, pastor, microempresário (proprietário de empresa com menos de 10 empregados), pequeno comerciante, pequeno proprietário de terras, trabalhador autônomo ou por conta própria.'\n",
            " 'Grupo 5: Médico, engenheiro, dentista, psicólogo, economista, advogado, juiz, promotor, defensor, delegado, tenente, capitão, coronel, professor universitário, diretor em empresas públicas ou privadas, político, proprietário de empresas com mais de 10 empregados.']\n",
            " \n",
            "Percentual em relação ao total\n",
            "Grupo 2     43.26\n",
            "Grupo 4     20.09\n",
            "Grupo 1     17.45\n",
            "Não sei.     8.59\n",
            "Grupo 3      6.86\n",
            "Grupo 5      3.76\n",
            "Name: GRUPO_OCUPACAO_MAE, dtype: float64\n",
            " \n",
            " \n"
          ]
        }
      ]
    },
    {
      "cell_type": "code",
      "source": [
        "# status gerais da família do candidato (renda, acesso a serviços, estado)\n",
        "status_geral(pesquisa, pesquisa.columns[5:])"
      ],
      "metadata": {
        "colab": {
          "base_uri": "https://localhost:8080/",
          "height": 1000
        },
        "id": "U8iynxzYjCm8",
        "outputId": "8a4760d5-046f-4abb-d1b1-aa6816fed421"
      },
      "execution_count": 115,
      "outputs": [
        {
          "output_type": "display_data",
          "data": {
            "image/png": "[encoded data removed]",
            "text/plain": [
              "<Figure size 1008x720 with 1 Axes>"
            ]
          },
          "metadata": {
            "needs_background": "light"
          }
        },
        {
          "output_type": "stream",
          "name": "stdout",
          "text": [
            "Percentual em relação ao total\n",
            "4     32.18\n",
            "3     25.51\n",
            "5     16.30\n",
            "2     12.67\n",
            "6      6.02\n",
            "1      2.79\n",
            "7      2.53\n",
            "8      1.09\n",
            "9      0.41\n",
            "10     0.28\n",
            "11     0.09\n",
            "12     0.06\n",
            "13     0.03\n",
            "14     0.01\n",
            "15     0.01\n",
            "20     0.01\n",
            "16     0.01\n",
            "17     0.00\n",
            "18     0.00\n",
            "19     0.00\n",
            "Name: QTD_MORADORES_RESIDENCIA, dtype: float64\n",
            " \n",
            " \n"
          ]
        },
        {
          "output_type": "display_data",
          "data": {
            "image/png": "[encoded data removed]",
            "text/plain": [
              "<Figure size 1008x720 with 1 Axes>"
            ]
          },
          "metadata": {
            "needs_background": "light"
          }
        },
        {
          "output_type": "stream",
          "name": "stdout",
          "text": [
            "Percentual em relação ao total\n",
            "De R$ 998,01 até R$ 1.497,00.        25.74\n",
            "Até R$ 998,00.                       24.99\n",
            "De R$ 1.497,01 até R$ 1.996,00.       9.81\n",
            "De R$ 1.996,01 até R$ 2.495,00.       9.33\n",
            "De R$ 2.994,01 até R$ 3.992,00.       5.93\n",
            "Nenhuma Renda                         4.55\n",
            "De R$ 2.495,01 até R$ 2.994,00.       4.44\n",
            "De R$ 3.992,01 até R$ 4.990,00.       3.79\n",
            "De R$ 4.990,01 até R$ 5.988,00.       2.82\n",
            "De R$ 5.988,01 até R$ 6.986,00.       1.59\n",
            "De R$ 9.980,01 até R$ 11.976,00.      1.21\n",
            "De R$ 6.986,01 até R$ 7.984,00.       1.14\n",
            "Mais de R$ 19.960,00.                 1.12\n",
            "De R$ 11.976,01 até R$ 14.970,00.     0.99\n",
            "De R$ 7.984,01 até R$ 8.982,00.       0.87\n",
            "De R$ 8.982,01 até R$ 9.980,00.       0.85\n",
            "De R$ 14.970,01 até R$ 19.960,00.     0.85\n",
            "Name: RENDA_MENSAL_FAMILIAR, dtype: float64\n",
            " \n",
            " \n"
          ]
        },
        {
          "output_type": "display_data",
          "data": {
            "image/png": "[encoded data removed]",
            "text/plain": [
              "<Figure size 1008x720 with 1 Axes>"
            ]
          },
          "metadata": {
            "needs_background": "light"
          }
        },
        {
          "output_type": "stream",
          "name": "stdout",
          "text": [
            "Percentual em relação ao total\n",
            "Não.                                      92.73\n",
            "Sim, um ou dois dias por semana.           3.88\n",
            "Sim, pelo menos cinco dias por semana.     2.55\n",
            "Sim, três ou quatro dias por semana.       0.83\n",
            "Name: POSSUI_SERVICO_EMPREGADO_DOMESTICO, dtype: float64\n",
            " \n",
            " \n"
          ]
        },
        {
          "output_type": "display_data",
          "data": {
            "image/png": "[encoded data removed]",
            "text/plain": [
              "<Figure size 1008x720 with 1 Axes>"
            ]
          },
          "metadata": {
            "needs_background": "light"
          }
        },
        {
          "output_type": "stream",
          "name": "stdout",
          "text": [
            "Percentual em relação ao total\n",
            "Um.                70.66\n",
            "Dois               20.21\n",
            "Três                5.38\n",
            "Quatro ou mais.     2.78\n",
            "Não.                0.97\n",
            "Name: QTD_BANHEIROS_RESIDENCIA, dtype: float64\n",
            " \n",
            " \n"
          ]
        },
        {
          "output_type": "display_data",
          "data": {
            "image/png": "[encoded data removed]",
            "text/plain": [
              "<Figure size 1008x720 with 1 Axes>"
            ]
          },
          "metadata": {
            "needs_background": "light"
          }
        },
        {
          "output_type": "stream",
          "name": "stdout",
          "text": [
            "Percentual em relação ao total\n",
            "Dois               50.57\n",
            "Três               30.11\n",
            "Um.                13.69\n",
            "Quatro ou mais.     4.83\n",
            "Não.                0.80\n",
            "Name: QTD_QUARTOS_RESIDENCIA, dtype: float64\n",
            " \n",
            " \n"
          ]
        },
        {
          "output_type": "display_data",
          "data": {
            "image/png": "[encoded data removed]",
            "text/plain": [
              "<Figure size 1008x720 with 1 Axes>"
            ]
          },
          "metadata": {
            "needs_background": "light"
          }
        },
        {
          "output_type": "stream",
          "name": "stdout",
          "text": [
            "Percentual em relação ao total\n",
            "Não.               56.87\n",
            "Um.                34.50\n",
            "Dois                7.38\n",
            "Três                1.03\n",
            "Quatro ou mais.     0.23\n",
            "Name: TEM_CARRO, dtype: float64\n",
            " \n",
            " \n"
          ]
        },
        {
          "output_type": "display_data",
          "data": {
            "image/png": "[encoded data removed]",
            "text/plain": [
              "<Figure size 1008x720 with 1 Axes>"
            ]
          },
          "metadata": {
            "needs_background": "light"
          }
        },
        {
          "output_type": "stream",
          "name": "stdout",
          "text": [
            "Percentual em relação ao total\n",
            "Não.               77.59\n",
            "Um.                20.27\n",
            "Dois                1.92\n",
            "Três                0.19\n",
            "Quatro ou mais.     0.03\n",
            "Name: TEM_MOTO, dtype: float64\n",
            " \n",
            " \n"
          ]
        },
        {
          "output_type": "display_data",
          "data": {
            "image/png": "[encoded data removed]",
            "text/plain": [
              "<Figure size 1008x720 with 1 Axes>"
            ]
          },
          "metadata": {
            "needs_background": "light"
          }
        },
        {
          "output_type": "stream",
          "name": "stdout",
          "text": [
            "Percentual em relação ao total\n",
            "Um.                94.09\n",
            "Dois                3.86\n",
            "Não.                1.72\n",
            "Três                0.27\n",
            "Quatro ou mais.     0.05\n",
            "Name: TEM_GELADEIRA, dtype: float64\n",
            " \n",
            " \n"
          ]
        },
        {
          "output_type": "display_data",
          "data": {
            "image/png": "[encoded data removed]",
            "text/plain": [
              "<Figure size 1008x720 with 1 Axes>"
            ]
          },
          "metadata": {
            "needs_background": "light"
          }
        },
        {
          "output_type": "stream",
          "name": "stdout",
          "text": [
            "Percentual em relação ao total\n",
            "Não.               64.03\n",
            "Um.                33.52\n",
            "Dois                2.13\n",
            "Três                0.26\n",
            "Quatro ou mais.     0.06\n",
            "Name: TEM_FREEZER_OU_SEGUNDA_PORTA_GELADEIRA, dtype: float64\n",
            " \n",
            " \n"
          ]
        },
        {
          "output_type": "display_data",
          "data": {
            "image/png": "[encoded data removed]",
            "text/plain": [
              "<Figure size 1008x720 with 1 Axes>"
            ]
          },
          "metadata": {
            "needs_background": "light"
          }
        },
        {
          "output_type": "stream",
          "name": "stdout",
          "text": [
            "Percentual em relação ao total\n",
            "Um.                58.14\n",
            "Não.               40.96\n",
            "Dois                0.85\n",
            "Três                0.03\n",
            "Quatro ou mais.     0.01\n",
            "Name: TEM_MAQUINA_LAVAR, dtype: float64\n",
            " \n",
            " \n"
          ]
        },
        {
          "output_type": "display_data",
          "data": {
            "image/png": "[encoded data removed]",
            "text/plain": [
              "<Figure size 1008x720 with 1 Axes>"
            ]
          },
          "metadata": {
            "needs_background": "light"
          }
        },
        {
          "output_type": "stream",
          "name": "stdout",
          "text": [
            "Percentual em relação ao total\n",
            "Não.               88.63\n",
            "Um.                11.23\n",
            "Dois                0.12\n",
            "Três                0.01\n",
            "Quatro ou mais.     0.01\n",
            "Name: TEM_MAQUINA_SECAR, dtype: float64\n",
            " \n",
            " \n"
          ]
        },
        {
          "output_type": "display_data",
          "data": {
            "image/png": "[encoded data removed]",
            "text/plain": [
              "<Figure size 1008x720 with 1 Axes>"
            ]
          },
          "metadata": {
            "needs_background": "light"
          }
        },
        {
          "output_type": "stream",
          "name": "stdout",
          "text": [
            "Percentual em relação ao total\n",
            "Não.               50.86\n",
            "Um.                48.63\n",
            "Dois                0.47\n",
            "Três                0.02\n",
            "Quatro ou mais.     0.01\n",
            "Name: TEM_MICROONDAS, dtype: float64\n",
            " \n",
            " \n"
          ]
        },
        {
          "output_type": "display_data",
          "data": {
            "image/png": "[encoded data removed]",
            "text/plain": [
              "<Figure size 1008x720 with 1 Axes>"
            ]
          },
          "metadata": {
            "needs_background": "light"
          }
        },
        {
          "output_type": "stream",
          "name": "stdout",
          "text": [
            "Percentual em relação ao total\n",
            "Não.               97.55\n",
            "Um.                 2.40\n",
            "Dois                0.03\n",
            "Três                0.01\n",
            "Quatro ou mais.     0.01\n",
            "Name: TEM_MAQUINA_LAVAR_LOUCA, dtype: float64\n",
            " \n",
            " \n"
          ]
        },
        {
          "output_type": "display_data",
          "data": {
            "image/png": "[encoded data removed]",
            "text/plain": [
              "<Figure size 1008x720 with 1 Axes>"
            ]
          },
          "metadata": {
            "needs_background": "light"
          }
        },
        {
          "output_type": "stream",
          "name": "stdout",
          "text": [
            "Percentual em relação ao total\n",
            "Não.    80.91\n",
            "Sim     19.09\n",
            "Name: TEM_ASPIRADOR_PO, dtype: float64\n",
            " \n",
            " \n"
          ]
        },
        {
          "output_type": "display_data",
          "data": {
            "image/png": "[encoded data removed]",
            "text/plain": [
              "<Figure size 1008x720 with 1 Axes>"
            ]
          },
          "metadata": {
            "needs_background": "light"
          }
        },
        {
          "output_type": "stream",
          "name": "stdout",
          "text": [
            "Percentual em relação ao total\n",
            "Um.                69.07\n",
            "Dois               17.84\n",
            "Três                5.63\n",
            "Não.                4.93\n",
            "Quatro ou mais.     2.52\n",
            "Name: TEM_TELEVISAO, dtype: float64\n",
            " \n",
            " \n"
          ]
        },
        {
          "output_type": "display_data",
          "data": {
            "image/png": "[encoded data removed]",
            "text/plain": [
              "<Figure size 1008x720 with 1 Axes>"
            ]
          },
          "metadata": {
            "needs_background": "light"
          }
        },
        {
          "output_type": "stream",
          "name": "stdout",
          "text": [
            "Percentual em relação ao total\n",
            "Não.    69.6\n",
            "Sim     30.4\n",
            "Name: TEM_DVD, dtype: float64\n",
            " \n",
            " \n"
          ]
        },
        {
          "output_type": "display_data",
          "data": {
            "image/png": "[encoded data removed]",
            "text/plain": [
              "<Figure size 1008x720 with 1 Axes>"
            ]
          },
          "metadata": {
            "needs_background": "light"
          }
        },
        {
          "output_type": "stream",
          "name": "stdout",
          "text": [
            "Percentual em relação ao total\n",
            "Não.    78.17\n",
            "Sim     21.83\n",
            "Name: TEM_TV_ASSINATURA, dtype: float64\n",
            " \n",
            " \n"
          ]
        },
        {
          "output_type": "display_data",
          "data": {
            "image/png": "[encoded data removed]",
            "text/plain": [
              "<Figure size 1008x720 with 1 Axes>"
            ]
          },
          "metadata": {
            "needs_background": "light"
          }
        },
        {
          "output_type": "stream",
          "name": "stdout",
          "text": [
            "Percentual em relação ao total\n",
            "Dois               31.30\n",
            "Três               27.21\n",
            "Um.                21.30\n",
            "Quatro ou mais.    18.04\n",
            "Não.                2.15\n",
            "Name: TEM_TELEFONE_CELULAR, dtype: float64\n",
            " \n",
            " \n"
          ]
        },
        {
          "output_type": "display_data",
          "data": {
            "image/png": "[encoded data removed]",
            "text/plain": [
              "<Figure size 1008x720 with 1 Axes>"
            ]
          },
          "metadata": {
            "needs_background": "light"
          }
        },
        {
          "output_type": "stream",
          "name": "stdout",
          "text": [
            "Percentual em relação ao total\n",
            "Não.    76.38\n",
            "Sim     23.62\n",
            "Name: TEM_TELEFONE_FIXO, dtype: float64\n",
            " \n",
            " \n"
          ]
        },
        {
          "output_type": "display_data",
          "data": {
            "image/png": "[encoded data removed]",
            "text/plain": [
              "<Figure size 1008x720 with 1 Axes>"
            ]
          },
          "metadata": {
            "needs_background": "light"
          }
        },
        {
          "output_type": "stream",
          "name": "stdout",
          "text": [
            "Percentual em relação ao total\n",
            "Não.               46.03\n",
            "Um.                43.24\n",
            "Dois                7.55\n",
            "Três                2.25\n",
            "Quatro ou mais.     0.93\n",
            "Name: TEM_COMPUTADOR, dtype: float64\n",
            " \n",
            " \n"
          ]
        },
        {
          "output_type": "display_data",
          "data": {
            "image/png": "[encoded data removed]",
            "text/plain": [
              "<Figure size 1008x720 with 1 Axes>"
            ]
          },
          "metadata": {
            "needs_background": "light"
          }
        },
        {
          "output_type": "stream",
          "name": "stdout",
          "text": [
            "Percentual em relação ao total\n",
            "Sim     77.62\n",
            "Não.    22.38\n",
            "Name: TEM_ACESSO_INTERNET, dtype: float64\n",
            " \n",
            " \n"
          ]
        }
      ]
    },
    {
      "cell_type": "code",
      "source": [
        ""
      ],
      "metadata": {
        "id": "NeVg6r3Lkx5O"
      },
      "execution_count": null,
      "outputs": []
    }
  ]
}