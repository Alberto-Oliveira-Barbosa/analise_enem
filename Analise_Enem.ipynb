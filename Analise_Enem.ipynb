{
  "nbformat": 4,
  "nbformat_minor": 0,
  "metadata": {
    "colab": {
      "name": "Analise_Enem.ipynb",
      "provenance": []
    },
    "kernelspec": {
      "name": "python3",
      "display_name": "Python 3"
    },
    "language_info": {
      "name": "python"
    }
  },
  "cells": [
    {
      "cell_type": "markdown",
      "metadata": {
        "id": "IkQG4ABtM00P"
      },
      "source": [
        "# Projeto para o Curso de Data Science ministrado pela Semantix Academy\n",
        "\n",
        "## O notebook está dividido em \"partes\" que correspondem a cada etapa de um projeto \"end-to-end\" de data science.\n",
        "\n",
        "### Introdução:\n",
        "\n",
        "O objetivo da primeira parte desse notebook é criar o ambiente usado no projeto e a divisão de pastas para as análises posteriores, além de facilitar a obtenção do dataset de um modo automático e o processando dos dados de modo que seja extraido significado das variáveis sem que seja necessário a consulta ao dicionário de dados para o entendimento dos códigos.\n",
        "\n",
        "A modelagem aplicada tem por objetivo facilitar o entendimendo do dataset de modo visual, para \"humanos\", por isso, variáveis como os códigos numéricos das respostas do questionário sócio-econômico por exemplo, foram convertidas para seus valores categóricos, mesmo que isso signifique um aumento do tamanho original dos dados, caso seja necessário a utilização de variáveis discretas ou contínuas em vez de categóricas, como por exemplo, na aplicação de algum algoritmo de machine learning, isso pode ser feito com a aplicação de alguma técnica de label encoding ou one hot encoding.\n",
        "\n",
        "Na parte 2 será feita uma análise exploratória para melhor entendimento dos dados e extração de insights nos mesmos.\n"
      ]
    },
    {
      "cell_type": "markdown",
      "source": [
        "# Parte 1 - Engenharia de Dados"
      ],
      "metadata": {
        "id": "5zg_Om0HLU-f"
      }
    },
    {
      "cell_type": "markdown",
      "metadata": {
        "id": "kgRVMA_nGgBm"
      },
      "source": [
        "## Importando as dependências"
      ]
    },
    {
      "cell_type": "code",
      "metadata": {
        "id": "bfAQkLx5gN5d"
      },
      "source": [
        "# OBS: Como o tamanho do dataset é considerável (~3GB) e estamos usando o \n",
        "# ambiente em nuvem do google colab, foi adotado o uso do Spark para \n",
        "# exploração inicial dos dados.\n",
        "\n",
        "# instalar as dependências - usar spark no google colab\n",
        "!apt-get install openjdk-8-jdk-headless -qq > /dev/null\n",
        "!wget -q https://archive.apache.org/dist/spark/spark-3.1.2/spark-3.1.2-bin-hadoop2.7.tgz\n",
        "!tar xf spark-3.1.2-bin-hadoop2.7.tgz\n",
        "!pip install -q findspark\n",
        "\n",
        "# Seta as variáveis usadas pelo spark no ambiente do google colab\n",
        "import os\n",
        "os.environ[\"JAVA_HOME\"] = \"/usr/lib/jvm/java-8-openjdk-amd64\"\n",
        "os.environ[\"SPARK_HOME\"] = \"/content/spark-3.1.2-bin-hadoop2.7\"\n",
        "\n",
        "import findspark\n",
        "findspark.init()\n",
        "\n",
        "from pyspark.sql import SparkSession\n",
        "from pyspark.sql import functions as F\n",
        "\n",
        "spark = SparkSession.builder \\\n",
        "    .master('local[*]') \\\n",
        "    .appName(\"Análise de dados do Enem 2019\") \\\n",
        "    .getOrCreate()\n"
      ],
      "execution_count": 1,
      "outputs": []
    },
    {
      "cell_type": "code",
      "metadata": {
        "id": "JvvyZeGHF2N0",
        "colab": {
          "base_uri": "https://localhost:8080/",
          "height": 219
        },
        "outputId": "8291dfde-7b56-4509-c96e-e0de90679934"
      },
      "source": [
        "spark"
      ],
      "execution_count": 2,
      "outputs": [
        {
          "output_type": "execute_result",
          "data": {
            "text/html": [
              "\n",
              "            <div>\n",
              "                <p><b>SparkSession - in-memory</b></p>\n",
              "                \n",
              "        <div>\n",
              "            <p><b>SparkContext</b></p>\n",
              "\n",
              "            <p><a href=\"http://77619d4f6480:4040\">Spark UI</a></p>\n",
              "\n",
              "            <dl>\n",
              "              <dt>Version</dt>\n",
              "                <dd><code>v3.1.2</code></dd>\n",
              "              <dt>Master</dt>\n",
              "                <dd><code>local[*]</code></dd>\n",
              "              <dt>AppName</dt>\n",
              "                <dd><code>Análise de dados do Enem 2019</code></dd>\n",
              "            </dl>\n",
              "        </div>\n",
              "        \n",
              "            </div>\n",
              "        "
            ],
            "text/plain": [
              "<pyspark.sql.session.SparkSession at 0x7f93760b84d0>"
            ]
          },
          "metadata": {},
          "execution_count": 2
        }
      ]
    },
    {
      "cell_type": "code",
      "metadata": {
        "id": "mAT5Yy6rMvMj"
      },
      "source": [
        "# Demais bibliotecas \n",
        "import os\n",
        "import requests\n",
        "from zipfile import ZipFile\n",
        "import pandas as pd\n",
        "import numpy as np\n",
        "import seaborn as sns\n",
        "import matplotlib.pyplot as plt\n",
        "\n",
        "# configurações do notebook\n",
        "plt.rcParams['figure.figsize'] = [14, 10]\n",
        "plt.rcParams['axes.formatter.useoffset'] = False\n",
        "sns.set_palette('tab20c')\n"
      ],
      "execution_count": 3,
      "outputs": []
    },
    {
      "cell_type": "markdown",
      "metadata": {
        "id": "GcXJ1nOATfoK"
      },
      "source": [
        "## Criação dos diretórios do projeto e obtenção dos dados para análise."
      ]
    },
    {
      "cell_type": "code",
      "metadata": {
        "id": "SzU-3ZjzNcmN"
      },
      "source": [
        "# Cria a estrutura das pastas usadas no projeto:\n",
        "# OBS: caso esteja rodando localmente, é sugerido que todos os scripts sejam \n",
        "# rodados dentro da mesma pasta para uma melhor organização.\n",
        "\n",
        "# Cria no diretório atual a seguinte estrutura de pastas:\n",
        "# ./DADOS\n",
        "#     |___RAW           - Arquivos sem transformações \n",
        "#     |___REFINED       - Pasta com os arquivos transformados e manipulados para facilitar as visulaizações  \n",
        "\n",
        "os.makedirs('./DADOS/RAW', exist_ok=True)\n",
        "os.makedirs('./DADOS/REFINED',exist_ok=True)"
      ],
      "execution_count": 4,
      "outputs": []
    },
    {
      "cell_type": "markdown",
      "metadata": {
        "id": "tzgs-iBJFHlq"
      },
      "source": [
        "O acesso ao conjunto de dados pode ser feito de várias formas diferentes. A seguir será mostrada alguns exemplos de acesso aos dados.\n"
      ]
    },
    {
      "cell_type": "markdown",
      "metadata": {
        "id": "Q4guOHzgJ9Zr"
      },
      "source": [
        "### Acesso via código e a biblioteca Requests"
      ]
    },
    {
      "cell_type": "code",
      "metadata": {
        "id": "OkJK0zBdNjIm"
      },
      "source": [
        "# # esta célula faz o download e a extração automática do arquivo zip através \n",
        "# # da biblioteca requests e salva dentro da pasta DADOS/RAW\n",
        "\n",
        "\n",
        "# url = 'https://download.inep.gov.br/microdados/microdados_enem_2019.zip'\n",
        "# local_file = './DADOS/RAW/dados_enem.zip'\n",
        "\n",
        "# # faz o download do arquivo do site do Inep\n",
        "# with requests.get(url, stream=True) as response:\n",
        "#     response.raise_for_status()\n",
        "#     with open(local_file, 'wb') as file: \n",
        "#         for chunk in response.iter_content():\n",
        "#             file.write(chunk)\n",
        "\n",
        "# # Extrai os dados do arquivo zip no diretório RAW\n",
        "# with ZipFile(local_file, 'r') as file:\n",
        "#     file.extractall('./DADOS/RAW')"
      ],
      "execution_count": 5,
      "outputs": []
    },
    {
      "cell_type": "markdown",
      "metadata": {
        "id": "-jbKBGOrKEYT"
      },
      "source": [
        "### Acesso via Google Drive\n",
        "\n",
        "Como o Google Colab é um ambiente em nuvem que perde os dados carregados em memória quando é encerrada a sua sessão, e para evitar o trabalho de fazer o upload/download todas as vezes que ele for reiniciado, será usado o método a seguir para conexão com os dados: \n",
        "- Montar um drive virtual com conexão com o Google Drive\n",
        "-  Caminho do arquivo zip com os dados dentro da raiz do Google Drive: *Drive/Colab Notebooks/analise_enem/dados_enem.zip*"
      ]
    },
    {
      "cell_type": "code",
      "metadata": {
        "colab": {
          "base_uri": "https://localhost:8080/"
        },
        "id": "AlJ4CbH8cKkC",
        "outputId": "a2031b71-8854-4fe3-d4b3-aa80c861c8c5"
      },
      "source": [
        "# Acesso via Google Colab \n",
        "\n",
        "from google.colab import drive\n",
        "drive.mount('/content/drive')\n",
        "\n",
        "local_file = '/content/drive/MyDrive/Colab Notebooks/analise_enem/dados_enem.zip'\n",
        "\n",
        "# Extrai os dados do arquivo zip no diretório RAW\n",
        "with ZipFile(local_file, 'r') as file:\n",
        "    file.extractall('/content/DADOS/RAW')"
      ],
      "execution_count": 6,
      "outputs": [
        {
          "output_type": "stream",
          "name": "stdout",
          "text": [
            "Mounted at /content/drive\n"
          ]
        }
      ]
    },
    {
      "cell_type": "markdown",
      "metadata": {
        "id": "xh1KCD6VKaXT"
      },
      "source": [
        "### Download Manual"
      ]
    },
    {
      "cell_type": "markdown",
      "metadata": {
        "id": "JffS3Pu0KhGj"
      },
      "source": [
        "É possivel fazer o download manualmente do site do inep \n",
        "\n",
        "**https://download.inep.gov.br/microdados/**\n",
        "\n",
        "OBS: para o notebook atual está sendo considerado os dados do arquivo *microdados_enem_2019.zip* "
      ]
    },
    {
      "cell_type": "markdown",
      "metadata": {
        "id": "QXBR95JDKUzW"
      },
      "source": [
        "Depois de feito o download e extração dos arquivos, eles devem ser mantidos dentro da pasta DADOS/RAW para prosseguir com o notebook."
      ]
    },
    {
      "cell_type": "markdown",
      "metadata": {
        "id": "Uv6EquIILdJu"
      },
      "source": [
        "## Conhecendo os dados"
      ]
    },
    {
      "cell_type": "code",
      "metadata": {
        "id": "sIKx4DUqD4EO"
      },
      "source": [
        "itens = spark.read.csv('/content/DADOS/RAW/DADOS/ITENS_PROVA_2019.csv', header=True, sep=';', inferSchema=True)"
      ],
      "execution_count": 7,
      "outputs": []
    },
    {
      "cell_type": "code",
      "metadata": {
        "colab": {
          "base_uri": "https://localhost:8080/"
        },
        "id": "3HU7VIHTL9xY",
        "outputId": "ad68c682-458d-4084-9a3e-640810d5bdb7"
      },
      "source": [
        "itens.printSchema()"
      ],
      "execution_count": 8,
      "outputs": [
        {
          "output_type": "stream",
          "name": "stdout",
          "text": [
            "root\n",
            " |-- CO_POSICAO: integer (nullable = true)\n",
            " |-- SG_AREA: string (nullable = true)\n",
            " |-- CO_ITEM: integer (nullable = true)\n",
            " |-- TX_GABARITO: string (nullable = true)\n",
            " |-- CO_HABILIDADE: integer (nullable = true)\n",
            " |-- TX_COR: string (nullable = true)\n",
            " |-- CO_PROVA: integer (nullable = true)\n",
            " |-- TP_LINGUA: integer (nullable = true)\n",
            " |-- IN_ITEM_ADAPTADO: integer (nullable = true)\n",
            "\n"
          ]
        }
      ]
    },
    {
      "cell_type": "code",
      "metadata": {
        "colab": {
          "base_uri": "https://localhost:8080/",
          "height": 206
        },
        "id": "j06wofNOMkee",
        "outputId": "084bfdef-dd29-4dd7-df05-f2014c079309"
      },
      "source": [
        "itens.toPandas().head()"
      ],
      "execution_count": 9,
      "outputs": [
        {
          "output_type": "execute_result",
          "data": {
            "text/html": [
              "<div>\n",
              "<style scoped>\n",
              "    .dataframe tbody tr th:only-of-type {\n",
              "        vertical-align: middle;\n",
              "    }\n",
              "\n",
              "    .dataframe tbody tr th {\n",
              "        vertical-align: top;\n",
              "    }\n",
              "\n",
              "    .dataframe thead th {\n",
              "        text-align: right;\n",
              "    }\n",
              "</style>\n",
              "<table border=\"1\" class=\"dataframe\">\n",
              "  <thead>\n",
              "    <tr style=\"text-align: right;\">\n",
              "      <th></th>\n",
              "      <th>CO_POSICAO</th>\n",
              "      <th>SG_AREA</th>\n",
              "      <th>CO_ITEM</th>\n",
              "      <th>TX_GABARITO</th>\n",
              "      <th>CO_HABILIDADE</th>\n",
              "      <th>TX_COR</th>\n",
              "      <th>CO_PROVA</th>\n",
              "      <th>TP_LINGUA</th>\n",
              "      <th>IN_ITEM_ADAPTADO</th>\n",
              "    </tr>\n",
              "  </thead>\n",
              "  <tbody>\n",
              "    <tr>\n",
              "      <th>0</th>\n",
              "      <td>1</td>\n",
              "      <td>LC</td>\n",
              "      <td>55166</td>\n",
              "      <td>B</td>\n",
              "      <td>7</td>\n",
              "      <td>Azul</td>\n",
              "      <td>511</td>\n",
              "      <td>0.0</td>\n",
              "      <td>0</td>\n",
              "    </tr>\n",
              "    <tr>\n",
              "      <th>1</th>\n",
              "      <td>2</td>\n",
              "      <td>LC</td>\n",
              "      <td>54110</td>\n",
              "      <td>D</td>\n",
              "      <td>7</td>\n",
              "      <td>Azul</td>\n",
              "      <td>511</td>\n",
              "      <td>0.0</td>\n",
              "      <td>0</td>\n",
              "    </tr>\n",
              "    <tr>\n",
              "      <th>2</th>\n",
              "      <td>3</td>\n",
              "      <td>LC</td>\n",
              "      <td>23564</td>\n",
              "      <td>A</td>\n",
              "      <td>6</td>\n",
              "      <td>Azul</td>\n",
              "      <td>511</td>\n",
              "      <td>0.0</td>\n",
              "      <td>0</td>\n",
              "    </tr>\n",
              "    <tr>\n",
              "      <th>3</th>\n",
              "      <td>4</td>\n",
              "      <td>LC</td>\n",
              "      <td>31954</td>\n",
              "      <td>B</td>\n",
              "      <td>8</td>\n",
              "      <td>Azul</td>\n",
              "      <td>511</td>\n",
              "      <td>0.0</td>\n",
              "      <td>0</td>\n",
              "    </tr>\n",
              "    <tr>\n",
              "      <th>4</th>\n",
              "      <td>5</td>\n",
              "      <td>LC</td>\n",
              "      <td>118180</td>\n",
              "      <td>E</td>\n",
              "      <td>5</td>\n",
              "      <td>Azul</td>\n",
              "      <td>511</td>\n",
              "      <td>0.0</td>\n",
              "      <td>0</td>\n",
              "    </tr>\n",
              "  </tbody>\n",
              "</table>\n",
              "</div>"
            ],
            "text/plain": [
              "   CO_POSICAO SG_AREA  CO_ITEM  ... CO_PROVA  TP_LINGUA IN_ITEM_ADAPTADO\n",
              "0           1      LC    55166  ...      511        0.0                0\n",
              "1           2      LC    54110  ...      511        0.0                0\n",
              "2           3      LC    23564  ...      511        0.0                0\n",
              "3           4      LC    31954  ...      511        0.0                0\n",
              "4           5      LC   118180  ...      511        0.0                0\n",
              "\n",
              "[5 rows x 9 columns]"
            ]
          },
          "metadata": {},
          "execution_count": 9
        }
      ]
    },
    {
      "cell_type": "code",
      "metadata": {
        "colab": {
          "base_uri": "https://localhost:8080/"
        },
        "id": "0jmWLAdsMmPN",
        "outputId": "ccdc82a7-9a0c-44b4-d2ae-113b6e9b79ad"
      },
      "source": [
        "itens.describe().show()"
      ],
      "execution_count": 10,
      "outputs": [
        {
          "output_type": "stream",
          "name": "stdout",
          "text": [
            "+-------+-----------------+-------+------------------+-----------+------------------+-------+-----------------+------------------+-------------------+\n",
            "|summary|       CO_POSICAO|SG_AREA|           CO_ITEM|TX_GABARITO|     CO_HABILIDADE| TX_COR|         CO_PROVA|         TP_LINGUA|   IN_ITEM_ADAPTADO|\n",
            "+-------+-----------------+-------+------------------+-----------+------------------+-------+-----------------+------------------+-------------------+\n",
            "|  count|             1945|   1945|              1945|       1945|              1945|   1945|             1945|               110|               1945|\n",
            "|   mean|85.94344473007712|   null| 76097.07197943445|       null|14.981491002570694|   null|530.6838046272494|               0.5|0.09511568123393316|\n",
            "| stddev|53.11134249000579|   null|33731.599590580685|       null| 8.628218779006563|   null|19.75011772436883|0.5022883414749456| 0.2934501021196167|\n",
            "|    min|                1|     CH|              6944|          A|                 1|Amarela|              503|                 0|                  0|\n",
            "|    max|              180|     MT|            118306|          E|                30|  Verde|              565|                 1|                  1|\n",
            "+-------+-----------------+-------+------------------+-----------+------------------+-------+-----------------+------------------+-------------------+\n",
            "\n"
          ]
        }
      ]
    },
    {
      "cell_type": "code",
      "metadata": {
        "colab": {
          "base_uri": "https://localhost:8080/"
        },
        "id": "lB-TlmoQqAg6",
        "outputId": "a797e45b-062d-4df1-9692-23c47728a00e"
      },
      "source": [
        "itens.count()"
      ],
      "execution_count": 11,
      "outputs": [
        {
          "output_type": "execute_result",
          "data": {
            "text/plain": [
              "1945"
            ]
          },
          "metadata": {},
          "execution_count": 11
        }
      ]
    },
    {
      "cell_type": "code",
      "metadata": {
        "id": "OFMmrXxaP15U"
      },
      "source": [
        "dados = spark.read.csv('/content/DADOS/RAW/DADOS/MICRODADOS_ENEM_2019.csv', header=True, sep=';', inferSchema=True)"
      ],
      "execution_count": 12,
      "outputs": []
    },
    {
      "cell_type": "code",
      "metadata": {
        "colab": {
          "base_uri": "https://localhost:8080/"
        },
        "id": "PEY_cyA1U2Hh",
        "outputId": "ba0fff63-3607-4764-c5bd-2a9642d0ae01"
      },
      "source": [
        "dados.printSchema()"
      ],
      "execution_count": 13,
      "outputs": [
        {
          "output_type": "stream",
          "name": "stdout",
          "text": [
            "root\n",
            " |-- NU_INSCRICAO: long (nullable = true)\n",
            " |-- NU_ANO: integer (nullable = true)\n",
            " |-- CO_MUNICIPIO_RESIDENCIA: integer (nullable = true)\n",
            " |-- NO_MUNICIPIO_RESIDENCIA: string (nullable = true)\n",
            " |-- CO_UF_RESIDENCIA: integer (nullable = true)\n",
            " |-- SG_UF_RESIDENCIA: string (nullable = true)\n",
            " |-- NU_IDADE: integer (nullable = true)\n",
            " |-- TP_SEXO: string (nullable = true)\n",
            " |-- TP_ESTADO_CIVIL: integer (nullable = true)\n",
            " |-- TP_COR_RACA: integer (nullable = true)\n",
            " |-- TP_NACIONALIDADE: integer (nullable = true)\n",
            " |-- CO_MUNICIPIO_NASCIMENTO: integer (nullable = true)\n",
            " |-- NO_MUNICIPIO_NASCIMENTO: string (nullable = true)\n",
            " |-- CO_UF_NASCIMENTO: integer (nullable = true)\n",
            " |-- SG_UF_NASCIMENTO: string (nullable = true)\n",
            " |-- TP_ST_CONCLUSAO: integer (nullable = true)\n",
            " |-- TP_ANO_CONCLUIU: integer (nullable = true)\n",
            " |-- TP_ESCOLA: integer (nullable = true)\n",
            " |-- TP_ENSINO: integer (nullable = true)\n",
            " |-- IN_TREINEIRO: integer (nullable = true)\n",
            " |-- CO_ESCOLA: integer (nullable = true)\n",
            " |-- CO_MUNICIPIO_ESC: integer (nullable = true)\n",
            " |-- NO_MUNICIPIO_ESC: string (nullable = true)\n",
            " |-- CO_UF_ESC: integer (nullable = true)\n",
            " |-- SG_UF_ESC: string (nullable = true)\n",
            " |-- TP_DEPENDENCIA_ADM_ESC: integer (nullable = true)\n",
            " |-- TP_LOCALIZACAO_ESC: integer (nullable = true)\n",
            " |-- TP_SIT_FUNC_ESC: integer (nullable = true)\n",
            " |-- IN_BAIXA_VISAO: integer (nullable = true)\n",
            " |-- IN_CEGUEIRA: integer (nullable = true)\n",
            " |-- IN_SURDEZ: integer (nullable = true)\n",
            " |-- IN_DEFICIENCIA_AUDITIVA: integer (nullable = true)\n",
            " |-- IN_SURDO_CEGUEIRA: integer (nullable = true)\n",
            " |-- IN_DEFICIENCIA_FISICA: integer (nullable = true)\n",
            " |-- IN_DEFICIENCIA_MENTAL: integer (nullable = true)\n",
            " |-- IN_DEFICIT_ATENCAO: integer (nullable = true)\n",
            " |-- IN_DISLEXIA: integer (nullable = true)\n",
            " |-- IN_DISCALCULIA: integer (nullable = true)\n",
            " |-- IN_AUTISMO: integer (nullable = true)\n",
            " |-- IN_VISAO_MONOCULAR: integer (nullable = true)\n",
            " |-- IN_OUTRA_DEF: integer (nullable = true)\n",
            " |-- IN_GESTANTE: integer (nullable = true)\n",
            " |-- IN_LACTANTE: integer (nullable = true)\n",
            " |-- IN_IDOSO: integer (nullable = true)\n",
            " |-- IN_ESTUDA_CLASSE_HOSPITALAR: integer (nullable = true)\n",
            " |-- IN_SEM_RECURSO: integer (nullable = true)\n",
            " |-- IN_BRAILLE: integer (nullable = true)\n",
            " |-- IN_AMPLIADA_24: integer (nullable = true)\n",
            " |-- IN_AMPLIADA_18: integer (nullable = true)\n",
            " |-- IN_LEDOR: integer (nullable = true)\n",
            " |-- IN_ACESSO: integer (nullable = true)\n",
            " |-- IN_TRANSCRICAO: integer (nullable = true)\n",
            " |-- IN_LIBRAS: integer (nullable = true)\n",
            " |-- IN_TEMPO_ADICIONAL: integer (nullable = true)\n",
            " |-- IN_LEITURA_LABIAL: integer (nullable = true)\n",
            " |-- IN_MESA_CADEIRA_RODAS: integer (nullable = true)\n",
            " |-- IN_MESA_CADEIRA_SEPARADA: integer (nullable = true)\n",
            " |-- IN_APOIO_PERNA: integer (nullable = true)\n",
            " |-- IN_GUIA_INTERPRETE: integer (nullable = true)\n",
            " |-- IN_COMPUTADOR: integer (nullable = true)\n",
            " |-- IN_CADEIRA_ESPECIAL: integer (nullable = true)\n",
            " |-- IN_CADEIRA_CANHOTO: integer (nullable = true)\n",
            " |-- IN_CADEIRA_ACOLCHOADA: integer (nullable = true)\n",
            " |-- IN_PROVA_DEITADO: integer (nullable = true)\n",
            " |-- IN_MOBILIARIO_OBESO: integer (nullable = true)\n",
            " |-- IN_LAMINA_OVERLAY: integer (nullable = true)\n",
            " |-- IN_PROTETOR_AURICULAR: integer (nullable = true)\n",
            " |-- IN_MEDIDOR_GLICOSE: integer (nullable = true)\n",
            " |-- IN_MAQUINA_BRAILE: integer (nullable = true)\n",
            " |-- IN_SOROBAN: integer (nullable = true)\n",
            " |-- IN_MARCA_PASSO: integer (nullable = true)\n",
            " |-- IN_SONDA: integer (nullable = true)\n",
            " |-- IN_MEDICAMENTOS: integer (nullable = true)\n",
            " |-- IN_SALA_INDIVIDUAL: integer (nullable = true)\n",
            " |-- IN_SALA_ESPECIAL: integer (nullable = true)\n",
            " |-- IN_SALA_ACOMPANHANTE: integer (nullable = true)\n",
            " |-- IN_MOBILIARIO_ESPECIFICO: integer (nullable = true)\n",
            " |-- IN_MATERIAL_ESPECIFICO: integer (nullable = true)\n",
            " |-- IN_NOME_SOCIAL: integer (nullable = true)\n",
            " |-- CO_MUNICIPIO_PROVA: integer (nullable = true)\n",
            " |-- NO_MUNICIPIO_PROVA: string (nullable = true)\n",
            " |-- CO_UF_PROVA: integer (nullable = true)\n",
            " |-- SG_UF_PROVA: string (nullable = true)\n",
            " |-- TP_PRESENCA_CN: integer (nullable = true)\n",
            " |-- TP_PRESENCA_CH: integer (nullable = true)\n",
            " |-- TP_PRESENCA_LC: integer (nullable = true)\n",
            " |-- TP_PRESENCA_MT: integer (nullable = true)\n",
            " |-- CO_PROVA_CN: integer (nullable = true)\n",
            " |-- CO_PROVA_CH: integer (nullable = true)\n",
            " |-- CO_PROVA_LC: integer (nullable = true)\n",
            " |-- CO_PROVA_MT: integer (nullable = true)\n",
            " |-- NU_NOTA_CN: double (nullable = true)\n",
            " |-- NU_NOTA_CH: double (nullable = true)\n",
            " |-- NU_NOTA_LC: double (nullable = true)\n",
            " |-- NU_NOTA_MT: double (nullable = true)\n",
            " |-- TX_RESPOSTAS_CN: string (nullable = true)\n",
            " |-- TX_RESPOSTAS_CH: string (nullable = true)\n",
            " |-- TX_RESPOSTAS_LC: string (nullable = true)\n",
            " |-- TX_RESPOSTAS_MT: string (nullable = true)\n",
            " |-- TP_LINGUA: integer (nullable = true)\n",
            " |-- TX_GABARITO_CN: string (nullable = true)\n",
            " |-- TX_GABARITO_CH: string (nullable = true)\n",
            " |-- TX_GABARITO_LC: string (nullable = true)\n",
            " |-- TX_GABARITO_MT: string (nullable = true)\n",
            " |-- TP_STATUS_REDACAO: integer (nullable = true)\n",
            " |-- NU_NOTA_COMP1: integer (nullable = true)\n",
            " |-- NU_NOTA_COMP2: integer (nullable = true)\n",
            " |-- NU_NOTA_COMP3: integer (nullable = true)\n",
            " |-- NU_NOTA_COMP4: integer (nullable = true)\n",
            " |-- NU_NOTA_COMP5: integer (nullable = true)\n",
            " |-- NU_NOTA_REDACAO: integer (nullable = true)\n",
            " |-- Q001: string (nullable = true)\n",
            " |-- Q002: string (nullable = true)\n",
            " |-- Q003: string (nullable = true)\n",
            " |-- Q004: string (nullable = true)\n",
            " |-- Q005: integer (nullable = true)\n",
            " |-- Q006: string (nullable = true)\n",
            " |-- Q007: string (nullable = true)\n",
            " |-- Q008: string (nullable = true)\n",
            " |-- Q009: string (nullable = true)\n",
            " |-- Q010: string (nullable = true)\n",
            " |-- Q011: string (nullable = true)\n",
            " |-- Q012: string (nullable = true)\n",
            " |-- Q013: string (nullable = true)\n",
            " |-- Q014: string (nullable = true)\n",
            " |-- Q015: string (nullable = true)\n",
            " |-- Q016: string (nullable = true)\n",
            " |-- Q017: string (nullable = true)\n",
            " |-- Q018: string (nullable = true)\n",
            " |-- Q019: string (nullable = true)\n",
            " |-- Q020: string (nullable = true)\n",
            " |-- Q021: string (nullable = true)\n",
            " |-- Q022: string (nullable = true)\n",
            " |-- Q023: string (nullable = true)\n",
            " |-- Q024: string (nullable = true)\n",
            " |-- Q025: string (nullable = true)\n",
            "\n"
          ]
        }
      ]
    },
    {
      "cell_type": "code",
      "metadata": {
        "colab": {
          "base_uri": "https://localhost:8080/"
        },
        "id": "F2s57gMhVS1w",
        "outputId": "d28b2c9a-7e88-485f-cbe6-b422f1cb1f62"
      },
      "source": [
        "type(dados)"
      ],
      "execution_count": 14,
      "outputs": [
        {
          "output_type": "execute_result",
          "data": {
            "text/plain": [
              "pyspark.sql.dataframe.DataFrame"
            ]
          },
          "metadata": {},
          "execution_count": 14
        }
      ]
    },
    {
      "cell_type": "code",
      "metadata": {
        "id": "uSYQ-D9gWXJB",
        "colab": {
          "base_uri": "https://localhost:8080/"
        },
        "outputId": "a57a4f3f-4eb8-4ef0-ab95-f4ec89e4837e"
      },
      "source": [
        "dados.describe().show()"
      ],
      "execution_count": 15,
      "outputs": [
        {
          "output_type": "stream",
          "name": "stdout",
          "text": [
            "+-------+--------------------+-------+-----------------------+-----------------------+------------------+----------------+-----------------+-------+------------------+------------------+------------------+-----------------------+-----------------------+------------------+----------------+------------------+------------------+------------------+-------------------+-------------------+-------------------+------------------+----------------+------------------+---------+----------------------+-------------------+------------------+--------------------+--------------------+--------------------+-----------------------+--------------------+---------------------+---------------------+--------------------+--------------------+--------------------+--------------------+--------------------+--------------------+--------------------+--------------------+--------------------+---------------------------+--------------------+--------------------+--------------------+--------------------+--------------------+--------------------+--------------------+--------------------+--------------------+--------------------+---------------------+------------------------+--------------------+--------------------+--------------------+--------------------+--------------------+---------------------+--------------------+--------------------+--------------------+---------------------+--------------------+--------------------+--------------------+--------------------+--------------------+--------------------+--------------------+--------------------+--------------------+------------------------+----------------------+--------------------+------------------+--------------------+------------------+-----------+-------------------+-------------------+-------------------+-------------------+------------------+------------------+-----------------+-----------------+-----------------+-----------------+-----------------+------------------+--------------------+--------------------+--------------------+--------------------+------------------+--------------------+--------------------+--------------------+--------------------+------------------+------------------+------------------+------------------+------------------+-----------------+------------------+-------+-------+-------+-------+------------------+-------+-------+-------+-------+-------+-------+-------+-------+-------+-------+-------+-------+-------+-------+-------+-------+-------+-------+-------+-------+\n",
            "|summary|        NU_INSCRICAO| NU_ANO|CO_MUNICIPIO_RESIDENCIA|NO_MUNICIPIO_RESIDENCIA|  CO_UF_RESIDENCIA|SG_UF_RESIDENCIA|         NU_IDADE|TP_SEXO|   TP_ESTADO_CIVIL|       TP_COR_RACA|  TP_NACIONALIDADE|CO_MUNICIPIO_NASCIMENTO|NO_MUNICIPIO_NASCIMENTO|  CO_UF_NASCIMENTO|SG_UF_NASCIMENTO|   TP_ST_CONCLUSAO|   TP_ANO_CONCLUIU|         TP_ESCOLA|          TP_ENSINO|       IN_TREINEIRO|          CO_ESCOLA|  CO_MUNICIPIO_ESC|NO_MUNICIPIO_ESC|         CO_UF_ESC|SG_UF_ESC|TP_DEPENDENCIA_ADM_ESC| TP_LOCALIZACAO_ESC|   TP_SIT_FUNC_ESC|      IN_BAIXA_VISAO|         IN_CEGUEIRA|           IN_SURDEZ|IN_DEFICIENCIA_AUDITIVA|   IN_SURDO_CEGUEIRA|IN_DEFICIENCIA_FISICA|IN_DEFICIENCIA_MENTAL|  IN_DEFICIT_ATENCAO|         IN_DISLEXIA|      IN_DISCALCULIA|          IN_AUTISMO|  IN_VISAO_MONOCULAR|        IN_OUTRA_DEF|         IN_GESTANTE|         IN_LACTANTE|            IN_IDOSO|IN_ESTUDA_CLASSE_HOSPITALAR|      IN_SEM_RECURSO|          IN_BRAILLE|      IN_AMPLIADA_24|      IN_AMPLIADA_18|            IN_LEDOR|           IN_ACESSO|      IN_TRANSCRICAO|           IN_LIBRAS|  IN_TEMPO_ADICIONAL|   IN_LEITURA_LABIAL|IN_MESA_CADEIRA_RODAS|IN_MESA_CADEIRA_SEPARADA|      IN_APOIO_PERNA|  IN_GUIA_INTERPRETE|       IN_COMPUTADOR| IN_CADEIRA_ESPECIAL|  IN_CADEIRA_CANHOTO|IN_CADEIRA_ACOLCHOADA|    IN_PROVA_DEITADO| IN_MOBILIARIO_OBESO|   IN_LAMINA_OVERLAY|IN_PROTETOR_AURICULAR|  IN_MEDIDOR_GLICOSE|   IN_MAQUINA_BRAILE|          IN_SOROBAN|      IN_MARCA_PASSO|            IN_SONDA|     IN_MEDICAMENTOS|  IN_SALA_INDIVIDUAL|    IN_SALA_ESPECIAL|IN_SALA_ACOMPANHANTE|IN_MOBILIARIO_ESPECIFICO|IN_MATERIAL_ESPECIFICO|      IN_NOME_SOCIAL|CO_MUNICIPIO_PROVA|  NO_MUNICIPIO_PROVA|       CO_UF_PROVA|SG_UF_PROVA|     TP_PRESENCA_CN|     TP_PRESENCA_CH|     TP_PRESENCA_LC|     TP_PRESENCA_MT|       CO_PROVA_CN|       CO_PROVA_CH|      CO_PROVA_LC|      CO_PROVA_MT|       NU_NOTA_CN|       NU_NOTA_CH|       NU_NOTA_LC|        NU_NOTA_MT|     TX_RESPOSTAS_CN|     TX_RESPOSTAS_CH|     TX_RESPOSTAS_LC|     TX_RESPOSTAS_MT|         TP_LINGUA|      TX_GABARITO_CN|      TX_GABARITO_CH|      TX_GABARITO_LC|      TX_GABARITO_MT| TP_STATUS_REDACAO|     NU_NOTA_COMP1|     NU_NOTA_COMP2|     NU_NOTA_COMP3|     NU_NOTA_COMP4|    NU_NOTA_COMP5|   NU_NOTA_REDACAO|   Q001|   Q002|   Q003|   Q004|              Q005|   Q006|   Q007|   Q008|   Q009|   Q010|   Q011|   Q012|   Q013|   Q014|   Q015|   Q016|   Q017|   Q018|   Q019|   Q020|   Q021|   Q022|   Q023|   Q024|   Q025|\n",
            "+-------+--------------------+-------+-----------------------+-----------------------+------------------+----------------+-----------------+-------+------------------+------------------+------------------+-----------------------+-----------------------+------------------+----------------+------------------+------------------+------------------+-------------------+-------------------+-------------------+------------------+----------------+------------------+---------+----------------------+-------------------+------------------+--------------------+--------------------+--------------------+-----------------------+--------------------+---------------------+---------------------+--------------------+--------------------+--------------------+--------------------+--------------------+--------------------+--------------------+--------------------+--------------------+---------------------------+--------------------+--------------------+--------------------+--------------------+--------------------+--------------------+--------------------+--------------------+--------------------+--------------------+---------------------+------------------------+--------------------+--------------------+--------------------+--------------------+--------------------+---------------------+--------------------+--------------------+--------------------+---------------------+--------------------+--------------------+--------------------+--------------------+--------------------+--------------------+--------------------+--------------------+--------------------+------------------------+----------------------+--------------------+------------------+--------------------+------------------+-----------+-------------------+-------------------+-------------------+-------------------+------------------+------------------+-----------------+-----------------+-----------------+-----------------+-----------------+------------------+--------------------+--------------------+--------------------+--------------------+------------------+--------------------+--------------------+--------------------+--------------------+------------------+------------------+------------------+------------------+------------------+-----------------+------------------+-------+-------+-------+-------+------------------+-------+-------+-------+-------+-------+-------+-------+-------+-------+-------+-------+-------+-------+-------+-------+-------+-------+-------+-------+-------+\n",
            "|  count|             5095270|5095270|                5095270|                5095270|           5095270|         5095270|          5095201|5095270|           5095270|           5095270|           5095270|                4950021|                4950021|           4950021|         4950021|           5095270|           5095270|           5095270|            2878197|            5095270|            1147412|           1147412|         1147412|           1147412|  1147412|               1147412|            1147412|           1147412|             5095270|             5095270|             5095270|                5095270|             5095270|              5095270|              5095270|             5095270|             5095270|             5095270|             5095270|             5095270|             5095270|             5095270|             5095270|             5095270|                    5095270|             5095270|             5095270|             5095270|             5095270|             5095270|             5095270|             5095270|             5095270|             5095270|             5095270|              5095270|                 5095270|             5095270|             5095270|             5095270|             5095270|             5095270|              5095270|             5095270|             5095270|             5095270|              5095270|             5095270|             5095270|             5095270|             5095270|             5095270|             5095270|             5095270|             5095270|             5095270|                 5095270|               5095270|             5095270|           5095270|             5095270|           5095270|    5095270|            5095270|            5095270|            5095270|            5095270|           3710433|           3923145|          3923145|          3710433|          3710433|          3923145|          3923145|           3710433|             3710433|             3923145|             3923145|             3710433|           5095270|             3710433|             3923145|             3923145|             3710433|           3923144|           3923144|           3923144|           3923144|           3923144|          3923144|           3923144|5095270|5095270|5095270|5095270|           5095270|5095270|5095270|5095270|5095270|5095270|5095270|5095270|5095270|5095270|5095270|5095270|5095270|5095270|5095270|5095270|5095270|5095270|5095270|5095270|5095270|\n",
            "|   mean|1.900035523783100...| 2019.0|     3086472.4672313733|                   null|30.714074033368203|            null|22.08764325489809|   null| 1.075275893132258| 2.128251103474399|1.0302539414005538|      3059766.106359549|                   null|30.446578711484253|            null|1.5414019276701725|2.9624620481348387|1.3306058363933608| 1.0047943208890844|0.12102754122941473|3.126574535072145E7|3128667.2697522775|            null|31.132819771799493|     null|     2.252067260931557| 1.0362040836247137|1.0056065301739916|0.001217011071052172|1.403262241255124...|3.185307157422472...|   4.323617786692364E-4|9.224241306152569E-6|  0.00146842071175816| 4.411934990687441...|0.001636419659802...|3.132316835025425...|7.497149316915493E-5|2.362975858001636...|2.176528427345361...|6.013420289798186E-4|2.767272391845771E-4|7.124254455602941E-4|4.553242517079566E-5|       4.710250879737482E-6|0.001202684057959...|5.927065690336331...|2.133351127614434...|8.969102716833455E-4|0.001231338084144...|0.001571457449752...|0.001105731394018374|1.895875979094336...|0.002466993898262...|1.173637510867922...| 3.532688159803111...|    2.798674064377354E-4|4.409972386154217...|1.766344079901555...|1.570083626579160...|2.551385893191136E-6|2.747646346513531E-6| 3.414931887809675E-5|1.962604533223950...|1.157936674602131E-5|5.299032239704667E-6| 9.813022666119754E-7|1.157936674602131E-4|3.159793298490561E-5| 8.43919949286299E-6|3.140167253158321E-6|1.962604533223950...|4.847633197063159E-5|5.887813599671852...|5.004641559721075E-5|1.040180402608694E-5|    4.317729973092692E-6|    3.1794193438228E-5|7.732661860902366E-5|3088260.6005940805|                null|30.733058699538983|       null| 0.7289617625758792| 0.7715565612813452| 0.7715565612813452| 0.7289617625758792|504.51365757042373|508.50982056487845|512.5079282055596|516.5098731064542|477.8240873504527|507.2486632280999|520.5176577210375| 523.1241219825274|                null|                null|                null|                null|0.5247019294365166|                null|                null|                null|                null| 1.139621946071824|120.47772398871925|122.73657556286489|114.81312946962946|121.62860195802142| 91.5323169376398| 571.1883479168748|   null|   null|   null|   null| 3.868090012894312|   null|   null|   null|   null|   null|   null|   null|   null|   null|   null|   null|   null|   null|   null|   null|   null|   null|   null|   null|   null|\n",
            "| stddev|  1471022.5773695675|    0.0|       997360.415429331|                   null| 9.943231127628104|            null|7.454793312005096|   null|0.4388921371300876|1.0175120935552757|0.2097909867493207|      984026.3441643384|                   null| 9.806732559276076|            null|0.7166870444119421| 4.108758232992581|0.5541870699265091|0.06907486542910483|0.32615931133656717|  9658638.601946082| 969519.8119841247|            null| 9.665164064865337|     null|    0.7486916602524979|0.18679769367985613|0.1193745555073643|0.034864454587238455|0.011845107015682223|0.017844587874771937|   0.020788817349248784|0.003037129900063...|   0.0382918364686419| 0.020999974617026913| 0.04041957584065067|  0.0176955822416427|0.008658284307944979| 0.01537015925799181| 0.01475145798495667|0.024514904337825022|0.016632820431762792|0.026681792204913256|0.006747618906315261|       0.002170306341903...| 0.03465887829650362|0.007698516449576015|0.014604439145391009|  0.0299350296395054|  0.0350688199406922| 0.03961045668969726| 0.03323415365063615|0.013767777295324536| 0.04960754299849385|0.010832820494584363| 0.018792128310337435|    0.016726898564410918|0.020995305345793847|0.001329037737083...|0.001253028918086...|0.001597303942384...|0.001657600475448...|  0.00584364264855837|4.430129268118443E-4| 0.00340282749148895|0.002301956819739...|  9.90606630428303E-4|0.010760124627990133|0.005621115614961742|0.002905018060020...|0.001772049098867...|0.001400928644360...|0.006962326588820594|0.007672983833984...|0.007074172797941786|0.003225166332145...|    0.002077910531687...|  0.005638544919324245| 0.00879321638412618| 997757.9530457897|                null| 9.947315640767211|       null|0.44533925290210724|0.42172907661541864|0.42172907661541864|0.44533925290210724|1.2160906024736007|1.1979859493586222|1.174765793017519|1.147831354514575| 76.0977446963839|82.41163433304044|64.15065496536897|109.06368552884489|                null|                null|                null|                null|0.4993894909061271|                null|                null|                null|                null|0.7851200210828325| 33.42683305251067|42.931275567673374| 40.17709956981246| 38.12234971298542|59.44187008213425|188.76327214930336|   null|   null|   null|   null|1.4809904417842097|   null|   null|   null|   null|   null|   null|   null|   null|   null|   null|   null|   null|   null|   null|   null|   null|   null|   null|   null|   null|\n",
            "|    min|        190001004627|   2019|                1100015|        Abadia de Goi�s|                11|              AC|               10|      F|                 0|                 0|                 0|                1100015|        Abadia de Goi�s|                11|              AC|                 1|                 0|                 1|                  1|                  0|           11000058|           1100015| Abadia de Goi�s|                11|       AC|                     1|                  1|                 1|                   0|                   0|                   0|                      0|                   0|                    0|                    0|                   0|                   0|                   0|                   0|                   0|                   0|                   0|                   0|                   0|                          0|                   0|                   0|                   0|                   0|                   0|                   0|                   0|                   0|                   0|                   0|                    0|                       0|                   0|                   0|                   0|                   0|                   0|                    0|                   0|                   0|                   0|                    0|                   0|                   0|                   0|                   0|                   0|                   0|                   0|                   0|                   0|                       0|                     0|                   0|           1100015|          Abaetetuba|                11|         AC|                  0|                  0|                  0|                  0|               503|               507|              511|              515|              0.0|              0.0|              0.0|               0.0|*****************...|*****************...|*****99999*******...|*****************...|                 0|AAECACDEADCBCDDDB...|ABAEEDEEEBAAEABDD...|ABBEDABBDAAEBCBEB...|AADDDBEEEBEDDBEBA...|                 1|                 0|                 0|                 0|                 0|                0|                 0|      A|      A|      A|      A|                 1|      A|      A|      A|      A|      A|      A|      A|      A|      A|      A|      A|      A|      A|      A|      A|      A|      A|      A|      A|      A|\n",
            "|    max|        190006129593|   2019|                5300108|                  �urea|                53|              TO|               94|      M|                 4|                 5|                 4|                5300108|                  �urea|                53|              TO|                 4|                13|                 3|                  2|                  1|           53088018|           5300108|           �urea|                53|       TO|                     4|                  2|                 4|                   1|                   1|                   1|                      1|                   1|                    1|                    1|                   1|                   1|                   1|                   1|                   1|                   1|                   1|                   1|                   1|                          1|                   1|                   1|                   1|                   1|                   1|                   1|                   1|                   1|                   1|                   1|                    1|                       1|                   1|                   1|                   1|                   1|                   1|                    1|                   1|                   1|                   1|                    1|                   1|                   1|                   1|                   1|                   1|                   1|                   1|                   1|                   1|                       1|                     1|                   1|           5300108|�guas Lindas de G...|                53|         TO|                  2|                  2|                  2|                  2|               546|               564|              565|              558|            860.9|            835.1|            801.7|             985.5|EEEEEEEEEEEEEEEEE...|EEEEEEEEEEEEEEEEE...|EEEEE99999EEEEEEE...|EEEEEEEEEEEEEEEEE...|                 1|DEADBAAAEBEECEBCB...|EEBCEEDBADBBCBABC...|EDABBDAABBDBAACEA...|EEEADBEBACABCDBAB...|                 9|               200|               200|               200|               200|              200|              1000|      H|      H|      F|      F|                20|      Q|      D|      E|      E|      E|      E|      E|      E|      E|      E|      E|      E|      B|      E|      B|      B|      E|      B|      E|      B|\n",
            "+-------+--------------------+-------+-----------------------+-----------------------+------------------+----------------+-----------------+-------+------------------+------------------+------------------+-----------------------+-----------------------+------------------+----------------+------------------+------------------+------------------+-------------------+-------------------+-------------------+------------------+----------------+------------------+---------+----------------------+-------------------+------------------+--------------------+--------------------+--------------------+-----------------------+--------------------+---------------------+---------------------+--------------------+--------------------+--------------------+--------------------+--------------------+--------------------+--------------------+--------------------+--------------------+---------------------------+--------------------+--------------------+--------------------+--------------------+--------------------+--------------------+--------------------+--------------------+--------------------+--------------------+---------------------+------------------------+--------------------+--------------------+--------------------+--------------------+--------------------+---------------------+--------------------+--------------------+--------------------+---------------------+--------------------+--------------------+--------------------+--------------------+--------------------+--------------------+--------------------+--------------------+--------------------+------------------------+----------------------+--------------------+------------------+--------------------+------------------+-----------+-------------------+-------------------+-------------------+-------------------+------------------+------------------+-----------------+-----------------+-----------------+-----------------+-----------------+------------------+--------------------+--------------------+--------------------+--------------------+------------------+--------------------+--------------------+--------------------+--------------------+------------------+------------------+------------------+------------------+------------------+-----------------+------------------+-------+-------+-------+-------+------------------+-------+-------+-------+-------+-------+-------+-------+-------+-------+-------+-------+-------+-------+-------+-------+-------+-------+-------+-------+-------+\n",
            "\n"
          ]
        }
      ]
    },
    {
      "cell_type": "code",
      "metadata": {
        "colab": {
          "base_uri": "https://localhost:8080/"
        },
        "id": "X1znF18_f8jZ",
        "outputId": "35f111a9-46bb-4ede-b045-b15da46f04cc"
      },
      "source": [
        "dados.count()"
      ],
      "execution_count": 16,
      "outputs": [
        {
          "output_type": "execute_result",
          "data": {
            "text/plain": [
              "5095270"
            ]
          },
          "metadata": {},
          "execution_count": 16
        }
      ]
    },
    {
      "cell_type": "markdown",
      "metadata": {
        "id": "0JrE_-vB6eVP"
      },
      "source": [
        "Depois de uma rápida verificação nos dados ficou decidido dividir as informações por grupos menores para facilitar o entendimento e a manipulação dos dados.\n",
        "\n",
        "\n",
        "Foi usando como referência o dicionário de dados que está junto das informações do arquivo zip (/content/DADOS/RAW/DICION╡RIO/Dicionário_Microdados_Enem_2019.xlsx)\n",
        "e divisão nos seguintes grupos:\n",
        "\n",
        "- Informações dos participantes do Enem\n",
        "- Dados das escolas participantes\n",
        "- Pedidos de realização de prova com atendimento específico ou especializado\n",
        "- Solicitações de recursos especiais para a realização da prova\n",
        "- Dados sobre a prova\n",
        "- Questionário Sócio-econômico."
      ]
    },
    {
      "cell_type": "code",
      "metadata": {
        "id": "Wx8Wlou24UHv"
      },
      "source": [
        ""
      ],
      "execution_count": 16,
      "outputs": []
    },
    {
      "cell_type": "markdown",
      "metadata": {
        "id": "7an5t78S7oqJ"
      },
      "source": [
        "## Divisão dos dados\n"
      ]
    },
    {
      "cell_type": "markdown",
      "metadata": {
        "id": "dtoGX1LnCewH"
      },
      "source": [
        "\n",
        "\n",
        "### Informações dos participantes do Enem"
      ]
    },
    {
      "cell_type": "code",
      "metadata": {
        "colab": {
          "base_uri": "https://localhost:8080/"
        },
        "id": "YtZIRfVHAK6Z",
        "outputId": "f4a98e1f-e7aa-48cb-d7f9-7403356709f5"
      },
      "source": [
        "# verifica os anos de realização do enem no dataset, para definir se será mantida \n",
        "dados.select('NU_ANO').distinct().show()"
      ],
      "execution_count": 17,
      "outputs": [
        {
          "output_type": "stream",
          "name": "stdout",
          "text": [
            "+------+\n",
            "|NU_ANO|\n",
            "+------+\n",
            "|  2019|\n",
            "+------+\n",
            "\n"
          ]
        }
      ]
    },
    {
      "cell_type": "code",
      "metadata": {
        "id": "5N44erX97uSN"
      },
      "source": [
        "# dados do participante \n",
        "participantes = dados.select(\n",
        "      F.col('NU_INSCRICAO').alias('INSCRICAO'),F.col('NO_MUNICIPIO_RESIDENCIA').alias('MUNICIPIO_RESIDENCIA')\n",
        "      ,F.col('SG_UF_RESIDENCIA').alias('UF_RESIDENCIA'),F.col('NU_IDADE').alias('IDADE'), \\\n",
        "      F.col('TP_SEXO').alias('SEXO'),F.col('TP_ESTADO_CIVIL').alias('ESTADO_CIVIL'), \\\n",
        "      F.col('TP_COR_RACA').alias('COR'),F.col('TP_NACIONALIDADE').alias('NACIONALIDADE'), \\\n",
        "      F.col('NO_MUNICIPIO_NASCIMENTO').alias('MUNICIPIO_NASCIMENTO'),F.col('SG_UF_NASCIMENTO').alias('UF_NASCIMENTO'), \\\n",
        "      F.col('TP_ST_CONCLUSAO').alias('STATUS_ENSINO_MEDIO'), \\\n",
        "      F.col('TP_ANO_CONCLUIU').alias('ANO_CONCLUSAO'),F.col('TP_ESCOLA').alias('TIPO_ESCOLA'), \\\n",
        "      F.col('TP_ENSINO').alias('TIPO_MODALIDADE'),F.col('IN_TREINEIRO').alias('TREINEIRO')) \\\n",
        "      .withColumn(\"SEXO\", \n",
        "                  F.when(F.col('SEXO') == 'M', 'MASCULINO') \\\n",
        "                  .when(F.col('SEXO') == 'F', 'FEMININO') \\\n",
        "                  .otherwise(F.col('SEXO'))) \\\n",
        "      .withColumn(\"ESTADO_CIVIL\", \\\n",
        "                  F.when(F.col('ESTADO_CIVIL') == 0, 'Não Informado') \\\n",
        "                  .when(F.col('ESTADO_CIVIL') == 1, 'Solteiro(a)') \\\n",
        "                  .when(F.col('ESTADO_CIVIL') == 2, 'Casado(a)/Mora com companheiro(a)') \\\n",
        "                  .when(F.col('ESTADO_CIVIL') == 3, 'Divorciado(a)/Desquitado(a)/Separado(a)') \\\n",
        "                  .when(F.col('ESTADO_CIVIL') == 4, 'Viúvo(a)') \\\n",
        "                  .otherwise(F.col('ESTADO_CIVIL'))) \\\n",
        "      .withColumn(\"COR\", \\\n",
        "                  F.when(F.col('COR') == 0, 'Não declarado') \\\n",
        "                  .when(F.col('COR') == 1, 'Branca') \\\n",
        "                  .when(F.col('COR') == 2, 'Afrodescendente') \\\n",
        "                  .when(F.col('COR') == 3, 'Parda') \\\n",
        "                  .when(F.col('COR') == 4, 'Amarela') \\\n",
        "                  .when(F.col('COR') == 5, 'Indígena') \\\n",
        "                  .otherwise(F.col('COR'))) \\\n",
        "      .withColumn(\"NACIONALIDADE\", \\\n",
        "                  F.when(F.col('NACIONALIDADE') == 0, 'Não informado') \\\n",
        "                  .when(F.col('NACIONALIDADE') == 1, 'Brasileiro(a)') \\\n",
        "                  .when(F.col('NACIONALIDADE') == 2, 'Brasileiro(a) Naturalizado') \\\n",
        "                  .when(F.col('NACIONALIDADE') == 3, 'Estrangeiro(a)') \\\n",
        "                  .when(F.col('NACIONALIDADE') == 4, 'Brasileiro(a) Nato(a), nascido(a) no exterior') \\\n",
        "                  .otherwise(F.col('NACIONALIDADE'))) \\\n",
        "      .withColumn(\"STATUS_ENSINO_MEDIO\", \\\n",
        "                  F.when(F.col('STATUS_ENSINO_MEDIO') == 1, 'Já concluí o Ensino Médio') \\\n",
        "                  .when(F.col('STATUS_ENSINO_MEDIO') == 2, 'Estou cursando e concluirei o Ensino Médio em 2019') \\\n",
        "                  .when(F.col('STATUS_ENSINO_MEDIO') == 3, 'Estou cursando e concluirei o Ensino Médio após 2019') \\\n",
        "                  .when(F.col('STATUS_ENSINO_MEDIO') == 4, 'Não concluí e não estou cursando o Ensino Médio') \\\n",
        "                  .otherwise(F.col('STATUS_ENSINO_MEDIO'))) \\\n",
        "      .withColumn(\"ANO_CONCLUSAO\", \\\n",
        "                  F.when(F.col('ANO_CONCLUSAO') == 0, 'Não informado') \\\n",
        "                  .when(F.col('ANO_CONCLUSAO') == 1, '2018') \\\n",
        "                  .when(F.col('ANO_CONCLUSAO') == 2, '2017') \\\n",
        "                  .when(F.col('ANO_CONCLUSAO') == 3, '2016') \\\n",
        "                  .when(F.col('ANO_CONCLUSAO') == 4, '2015') \\\n",
        "                  .when(F.col('ANO_CONCLUSAO') == 5, '2014') \\\n",
        "                  .when(F.col('ANO_CONCLUSAO') == 6, '2013') \\\n",
        "                  .when(F.col('ANO_CONCLUSAO') == 7, '2012') \\\n",
        "                  .when(F.col('ANO_CONCLUSAO') == 8, '2011') \\\n",
        "                  .when(F.col('ANO_CONCLUSAO') == 9, '2010') \\\n",
        "                  .when(F.col('ANO_CONCLUSAO') == 10, '2009') \\\n",
        "                  .when(F.col('ANO_CONCLUSAO') == 11, '2008') \\\n",
        "                  .when(F.col('ANO_CONCLUSAO') == 12, '2007') \\\n",
        "                  .when(F.col('ANO_CONCLUSAO') == 13, 'Antes de 2007') \\\n",
        "                  .otherwise(F.col('ANO_CONCLUSAO'))) \\\n",
        "      .withColumn(\"TIPO_ESCOLA\", \\\n",
        "                  F.when(F.col('TIPO_ESCOLA') == 1, 'Não Respondeu') \\\n",
        "                  .when(F.col('TIPO_ESCOLA') == 2, 'Pública') \\\n",
        "                  .when(F.col('TIPO_ESCOLA') == 3, 'Privada') \\\n",
        "                  .when(F.col('TIPO_ESCOLA') == 4, 'Exterior') \\\n",
        "                  .otherwise(F.col('TIPO_ESCOLA'))) \\\n",
        "      .withColumn(\"TIPO_MODALIDADE\", \\\n",
        "                  F.when(F.col('TIPO_MODALIDADE') == 1, 'Ensino Regular') \\\n",
        "                  .when(F.col('TIPO_MODALIDADE') == 2, 'Educação Especial - Modalidade Substitutiva') \\\n",
        "                  .when(F.col('TIPO_MODALIDADE') == 3, 'Educação de Jovens e Adultos') \\\n",
        "                  .otherwise(F.col('TIPO_MODALIDADE'))) \\\n",
        "      .withColumn(\"TREINEIRO\", \n",
        "                  F.when(F.col('TREINEIRO') == 1, 'SIM') \\\n",
        "                  .when(F.col('TREINEIRO') == 0, 'NÃO') \\\n",
        "                  .otherwise(F.col('TREINEIRO')))"
      ],
      "execution_count": 18,
      "outputs": []
    },
    {
      "cell_type": "code",
      "source": [
        "participantes.show()"
      ],
      "metadata": {
        "colab": {
          "base_uri": "https://localhost:8080/"
        },
        "id": "HOlCywZXsO8i",
        "outputId": "5c081a31-6258-44f0-fab2-f1cfe3d59751"
      },
      "execution_count": 19,
      "outputs": [
        {
          "output_type": "stream",
          "name": "stdout",
          "text": [
            "+------------+--------------------+-------------+-----+---------+--------------------+---------------+-------------+--------------------+-------------+--------------------+-------------+-------------+--------------------+---------+\n",
            "|   INSCRICAO|MUNICIPIO_RESIDENCIA|UF_RESIDENCIA|IDADE|     SEXO|        ESTADO_CIVIL|            COR|NACIONALIDADE|MUNICIPIO_NASCIMENTO|UF_NASCIMENTO| STATUS_ENSINO_MEDIO|ANO_CONCLUSAO|  TIPO_ESCOLA|     TIPO_MODALIDADE|TREINEIRO|\n",
            "+------------+--------------------+-------------+-----+---------+--------------------+---------------+-------------+--------------------+-------------+--------------------+-------------+-------------+--------------------+---------+\n",
            "|190001595656|            Sorocaba|           SP|   36|MASCULINO|         Solteiro(a)|          Parda|Brasileiro(a)|             Itabuna|           BA|Já concluí o Ensi...|         2008|Não Respondeu|                null|      NÃO|\n",
            "|190001421546|    Feira de Santana|           BA|   23|MASCULINO|         Solteiro(a)|         Branca|Brasileiro(a)|    Feira de Santana|           BA|Já concluí o Ensi...|         2014|Não Respondeu|      Ensino Regular|      NÃO|\n",
            "|190001133210|           Fortaleza|           CE|   39| FEMININO|         Solteiro(a)|          Parda|Brasileiro(a)|           Fortaleza|           CE|Já concluí o Ensi...|Antes de 2007|Não Respondeu|      Ensino Regular|      NÃO|\n",
            "|190001199383|              Palmas|           TO|   25| FEMININO|         Solteiro(a)|         Branca|Brasileiro(a)|              Palmas|           TO|Já concluí o Ensi...|         2015|Não Respondeu|                null|      NÃO|\n",
            "|190001237802|            Contagem|           MG|   22| FEMININO|         Solteiro(a)|         Branca|Brasileiro(a)|            Contagem|           MG|Já concluí o Ensi...|         2015|Não Respondeu|      Ensino Regular|      NÃO|\n",
            "|190001782198|        Rondon�polis|           MT|   37|MASCULINO|Casado(a)/Mora co...|Afrodescendente|Brasileiro(a)|        Rondon�polis|           MT|Já concluí o Ensi...|Antes de 2007|Não Respondeu|                null|      NÃO|\n",
            "|190001421548|        Paulo Afonso|           BA|   22| FEMININO|         Solteiro(a)|          Parda|Brasileiro(a)|        Paulo Afonso|           BA|Já concluí o Ensi...|         2014|Não Respondeu|      Ensino Regular|      NÃO|\n",
            "|190001595657|           S�o Paulo|           SP|   20|MASCULINO|         Solteiro(a)|          Parda|Brasileiro(a)|           S�o Paulo|           SP|Já concluí o Ensi...|         2018|Não Respondeu|                null|      NÃO|\n",
            "|190001592264|           S�o Paulo|           SP|   20| FEMININO|         Solteiro(a)|         Branca|Brasileiro(a)|           S�o Paulo|           SP|Já concluí o Ensi...|         2018|Não Respondeu|      Ensino Regular|      NÃO|\n",
            "|190001592266|           S�o Paulo|           SP|   17|MASCULINO|         Solteiro(a)|         Branca|Brasileiro(a)|           S�o Paulo|           SP|Estou cursando e ...|Não informado|      Pública|      Ensino Regular|      NÃO|\n",
            "|190001592265|     Mogi das Cruzes|           SP|   21| FEMININO|         Solteiro(a)|         Branca|Brasileiro(a)|     Mogi das Cruzes|           SP|Já concluí o Ensi...|         2015|Não Respondeu|      Ensino Regular|      NÃO|\n",
            "|190001475147|         Santa Maria|           RN|   19|MASCULINO|         Solteiro(a)|        Amarela|Brasileiro(a)|             Maca�ba|           RN|Já concluí o Ensi...|         2018|Não Respondeu|      Ensino Regular|      NÃO|\n",
            "|190001867756|           Arauc�ria|           PR|   23| FEMININO|Casado(a)/Mora co...|         Branca|Brasileiro(a)|           Arauc�ria|           PR|Já concluí o Ensi...|         2013|Não Respondeu|      Ensino Regular|      NÃO|\n",
            "|190001133211|           Fortaleza|           CE|   21| FEMININO|         Solteiro(a)|         Branca|Brasileiro(a)|           Fortaleza|           CE|Já concluí o Ensi...|         2018|Não Respondeu|      Ensino Regular|      NÃO|\n",
            "|190001237803|          Uberl�ndia|           MG|   30| FEMININO|         Solteiro(a)|Afrodescendente|Brasileiro(a)|          Uberl�ndia|           MG|Estou cursando e ...|Não informado|      Pública|Educação Especial...|      NÃO|\n",
            "|190001493186|              Recife|           PE|   19|MASCULINO|         Solteiro(a)|Afrodescendente|Brasileiro(a)|              Recife|           PE|Já concluí o Ensi...|         2018|Não Respondeu|      Ensino Regular|      NÃO|\n",
            "|190001421547|            Guanambi|           BA|   19|MASCULINO|         Solteiro(a)|          Parda|Brasileiro(a)|            Guanambi|           BA|Estou cursando e ...|Não informado|Não Respondeu|                null|      SIM|\n",
            "|190001493187|              Recife|           PE|   21| FEMININO|         Solteiro(a)|          Parda|Brasileiro(a)|              Recife|           PE|Já concluí o Ensi...|         2015|Não Respondeu|      Ensino Regular|      NÃO|\n",
            "|190001210202|     Itapecuru Mirim|           MA|   19| FEMININO|         Solteiro(a)|          Parda|Brasileiro(a)|          Chapadinha|           MA|Já concluí o Ensi...|         2017|Não Respondeu|      Ensino Regular|      NÃO|\n",
            "|190001421549|            Salvador|           BA|   27| FEMININO|Casado(a)/Mora co...|          Parda|Brasileiro(a)|            Salvador|           BA|Já concluí o Ensi...|         2017|Não Respondeu|                null|      NÃO|\n",
            "+------------+--------------------+-------------+-----+---------+--------------------+---------------+-------------+--------------------+-------------+--------------------+-------------+-------------+--------------------+---------+\n",
            "only showing top 20 rows\n",
            "\n"
          ]
        }
      ]
    },
    {
      "cell_type": "code",
      "metadata": {
        "id": "RoNr7wqVAIJt"
      },
      "source": [
        "participantes.repartition(1).write.format('com.databricks.spark.csv').mode('overwrite').option(\"header\", \"true\").save('./DADOS/REFINED/PARTICIPANTES/')"
      ],
      "execution_count": 20,
      "outputs": []
    },
    {
      "cell_type": "markdown",
      "metadata": {
        "id": "KgaNlLcHdMrs"
      },
      "source": [
        "### Dados da escola"
      ]
    },
    {
      "cell_type": "code",
      "metadata": {
        "id": "Iw4YdqQjBWu3"
      },
      "source": [
        "escola = dados.select(\n",
        "      F.col('CO_ESCOLA'),F.col('NO_MUNICIPIO_ESC').alias('MUNICIPIO'),\n",
        "      F.col('SG_UF_ESC').alias('UF'),F.col('TP_DEPENDENCIA_ADM_ESC').alias('DEPENDENCIA_ADM'),\n",
        "      F.col('TP_LOCALIZACAO_ESC').alias('LOCALIZACAO'),F.col('TP_SIT_FUNC_ESC').alias('SITUACAO_FUNCIONAMENTO')) \\\n",
        "      .withColumn(\"DEPENDENCIA_ADM\", \\\n",
        "                  F.when(F.col('DEPENDENCIA_ADM') == 1, 'Federal') \\\n",
        "                  .when(F.col('DEPENDENCIA_ADM') == 2, 'Estadual') \\\n",
        "                  .when(F.col('DEPENDENCIA_ADM') == 3, 'Municipal') \\\n",
        "                  .when(F.col('DEPENDENCIA_ADM') == 4, 'Privada') \\\n",
        "                  .otherwise(F.col('DEPENDENCIA_ADM'))) \\\n",
        "      .withColumn(\"LOCALIZACAO\", \\\n",
        "                  F.when(F.col('LOCALIZACAO') == 1, 'Urbana') \\\n",
        "                  .when(F.col('LOCALIZACAO') == 2, 'Rural') \\\n",
        "                  .otherwise(F.col('LOCALIZACAO'))) \\\n",
        "      .withColumn(\"SITUACAO_FUNCIONAMENTO\", \\\n",
        "                  F.when(F.col('SITUACAO_FUNCIONAMENTO') == 1, 'Em atividade') \\\n",
        "                  .when(F.col('SITUACAO_FUNCIONAMENTO') == 2, 'Paralisada') \\\n",
        "                  .when(F.col('SITUACAO_FUNCIONAMENTO') == 3, 'Extinta') \\\n",
        "                  .otherwise(F.col('SITUACAO_FUNCIONAMENTO')))"
      ],
      "execution_count": 21,
      "outputs": []
    },
    {
      "cell_type": "code",
      "source": [
        "escola.show()"
      ],
      "metadata": {
        "colab": {
          "base_uri": "https://localhost:8080/"
        },
        "id": "GAb6tkbdsKqd",
        "outputId": "8666a050-012b-4846-dd4f-0ef3685a0480"
      },
      "execution_count": 22,
      "outputs": [
        {
          "output_type": "stream",
          "name": "stdout",
          "text": [
            "+---------+----------+----+---------------+-----------+----------------------+\n",
            "|CO_ESCOLA| MUNICIPIO|  UF|DEPENDENCIA_ADM|LOCALIZACAO|SITUACAO_FUNCIONAMENTO|\n",
            "+---------+----------+----+---------------+-----------+----------------------+\n",
            "|     null|      null|null|           null|       null|                  null|\n",
            "|     null|      null|null|           null|       null|                  null|\n",
            "|     null|      null|null|           null|       null|                  null|\n",
            "|     null|      null|null|           null|       null|                  null|\n",
            "|     null|      null|null|           null|       null|                  null|\n",
            "|     null|      null|null|           null|       null|                  null|\n",
            "|     null|      null|null|           null|       null|                  null|\n",
            "|     null|      null|null|           null|       null|                  null|\n",
            "|     null|      null|null|           null|       null|                  null|\n",
            "|     null|      null|null|           null|       null|                  null|\n",
            "|     null|      null|null|           null|       null|                  null|\n",
            "|     null|      null|null|           null|       null|                  null|\n",
            "|     null|      null|null|           null|       null|                  null|\n",
            "|     null|      null|null|           null|       null|                  null|\n",
            "| 31167835|Uberl�ndia|  MG|       Estadual|     Urbana|          Em atividade|\n",
            "|     null|      null|null|           null|       null|                  null|\n",
            "|     null|      null|null|           null|       null|                  null|\n",
            "|     null|      null|null|           null|       null|                  null|\n",
            "|     null|      null|null|           null|       null|                  null|\n",
            "|     null|      null|null|           null|       null|                  null|\n",
            "+---------+----------+----+---------------+-----------+----------------------+\n",
            "only showing top 20 rows\n",
            "\n"
          ]
        }
      ]
    },
    {
      "cell_type": "code",
      "metadata": {
        "id": "Aed2UbHLgGg7"
      },
      "source": [
        "escola.repartition(1).write.format('com.databricks.spark.csv').mode('overwrite').option(\"header\", \"true\").save('./DADOS/REFINED/ESCOLAS/')"
      ],
      "execution_count": 23,
      "outputs": []
    },
    {
      "cell_type": "code",
      "metadata": {
        "id": "HBcTU81CpF-B"
      },
      "source": [
        ""
      ],
      "execution_count": 23,
      "outputs": []
    },
    {
      "cell_type": "markdown",
      "metadata": {
        "id": "w9byXPdxpp41"
      },
      "source": [
        "### Pedidos de realização de prova com atendimento específico ou especializado"
      ]
    },
    {
      "cell_type": "code",
      "metadata": {
        "id": "yn9CS9qQprS1"
      },
      "source": [
        "colunas = ['IN_BAIXA_VISAO','IN_CEGUEIRA','IN_SURDEZ','IN_DEFICIENCIA_AUDITIVA',\n",
        "      'IN_SURDO_CEGUEIRA','IN_DEFICIENCIA_FISICA','IN_DEFICIENCIA_MENTAL',\n",
        "      'IN_DEFICIT_ATENCAO','IN_DISLEXIA','IN_DISCALCULIA','IN_AUTISMO',\n",
        "      'IN_VISAO_MONOCULAR','IN_OUTRA_DEF','IN_GESTANTE','IN_LACTANTE',\n",
        "      'IN_IDOSO','IN_ESTUDA_CLASSE_HOSPITALAR']\n",
        "\n",
        "atendimento_especifico = dados.select(colunas)\n",
        "\n",
        "for i in colunas:\n",
        "  atendimento_especifico = atendimento_especifico.withColumn(i, F.when(F.col(i) == 1, 'Sim') \\\n",
        "                                    .when(F.col(i) == 0, 'Não') \\\n",
        "                                    .otherwise(F.col(i)))\n"
      ],
      "execution_count": 24,
      "outputs": []
    },
    {
      "cell_type": "code",
      "source": [
        "atendimento_especifico.show()"
      ],
      "metadata": {
        "colab": {
          "base_uri": "https://localhost:8080/"
        },
        "id": "WpOVE3oPsG8I",
        "outputId": "c3901dbc-d603-4d32-df71-e7434e51180c"
      },
      "execution_count": 25,
      "outputs": [
        {
          "output_type": "stream",
          "name": "stdout",
          "text": [
            "+--------------+-----------+---------+-----------------------+-----------------+---------------------+---------------------+------------------+-----------+--------------+----------+------------------+------------+-----------+-----------+--------+---------------------------+\n",
            "|IN_BAIXA_VISAO|IN_CEGUEIRA|IN_SURDEZ|IN_DEFICIENCIA_AUDITIVA|IN_SURDO_CEGUEIRA|IN_DEFICIENCIA_FISICA|IN_DEFICIENCIA_MENTAL|IN_DEFICIT_ATENCAO|IN_DISLEXIA|IN_DISCALCULIA|IN_AUTISMO|IN_VISAO_MONOCULAR|IN_OUTRA_DEF|IN_GESTANTE|IN_LACTANTE|IN_IDOSO|IN_ESTUDA_CLASSE_HOSPITALAR|\n",
            "+--------------+-----------+---------+-----------------------+-----------------+---------------------+---------------------+------------------+-----------+--------------+----------+------------------+------------+-----------+-----------+--------+---------------------------+\n",
            "|           Não|        Não|      Não|                    Não|              Não|                  Não|                  Não|               Não|        Não|           Não|       Não|               Não|         Não|        Não|        Não|     Não|                        Não|\n",
            "|           Não|        Não|      Não|                    Não|              Não|                  Não|                  Não|               Não|        Não|           Não|       Não|               Não|         Não|        Não|        Não|     Não|                        Não|\n",
            "|           Não|        Não|      Não|                    Não|              Não|                  Não|                  Não|               Não|        Não|           Não|       Não|               Não|         Não|        Não|        Não|     Não|                        Não|\n",
            "|           Não|        Não|      Não|                    Não|              Não|                  Não|                  Não|               Não|        Não|           Não|       Não|               Não|         Não|        Não|        Não|     Não|                        Não|\n",
            "|           Não|        Não|      Não|                    Não|              Não|                  Não|                  Não|               Não|        Não|           Não|       Não|               Não|         Não|        Não|        Não|     Não|                        Não|\n",
            "|           Não|        Não|      Não|                    Não|              Não|                  Não|                  Não|               Não|        Não|           Não|       Não|               Não|         Não|        Não|        Não|     Não|                        Não|\n",
            "|           Não|        Não|      Não|                    Não|              Não|                  Não|                  Não|               Não|        Não|           Não|       Não|               Não|         Não|        Não|        Não|     Não|                        Não|\n",
            "|           Não|        Não|      Não|                    Não|              Não|                  Não|                  Não|               Não|        Não|           Não|       Não|               Não|         Não|        Não|        Não|     Não|                        Não|\n",
            "|           Não|        Não|      Não|                    Não|              Não|                  Não|                  Não|               Não|        Não|           Não|       Não|               Não|         Não|        Não|        Não|     Não|                        Não|\n",
            "|           Não|        Não|      Não|                    Não|              Não|                  Não|                  Não|               Não|        Não|           Não|       Não|               Não|         Não|        Não|        Não|     Não|                        Não|\n",
            "|           Não|        Não|      Não|                    Não|              Não|                  Não|                  Não|               Não|        Não|           Não|       Não|               Não|         Não|        Não|        Não|     Não|                        Não|\n",
            "|           Não|        Não|      Não|                    Não|              Não|                  Não|                  Não|               Não|        Não|           Não|       Não|               Não|         Não|        Não|        Não|     Não|                        Não|\n",
            "|           Não|        Não|      Não|                    Não|              Não|                  Não|                  Não|               Não|        Não|           Não|       Não|               Não|         Não|        Não|        Não|     Não|                        Não|\n",
            "|           Não|        Não|      Não|                    Não|              Não|                  Não|                  Não|               Não|        Não|           Não|       Não|               Não|         Não|        Não|        Não|     Não|                        Não|\n",
            "|           Não|        Não|      Não|                    Não|              Não|                  Não|                  Não|               Não|        Não|           Não|       Não|               Não|         Não|        Não|        Não|     Não|                        Não|\n",
            "|           Não|        Não|      Não|                    Não|              Não|                  Não|                  Não|               Não|        Não|           Não|       Não|               Não|         Não|        Não|        Não|     Não|                        Não|\n",
            "|           Não|        Não|      Não|                    Não|              Não|                  Não|                  Não|               Não|        Não|           Não|       Não|               Não|         Não|        Não|        Não|     Não|                        Não|\n",
            "|           Não|        Não|      Não|                    Não|              Não|                  Não|                  Não|               Não|        Não|           Não|       Não|               Não|         Não|        Não|        Não|     Não|                        Não|\n",
            "|           Não|        Não|      Não|                    Não|              Não|                  Não|                  Não|               Não|        Não|           Não|       Não|               Não|         Não|        Não|        Não|     Não|                        Não|\n",
            "|           Não|        Não|      Não|                    Não|              Não|                  Não|                  Não|               Não|        Não|           Não|       Não|               Não|         Não|        Não|        Não|     Não|                        Não|\n",
            "+--------------+-----------+---------+-----------------------+-----------------+---------------------+---------------------+------------------+-----------+--------------+----------+------------------+------------+-----------+-----------+--------+---------------------------+\n",
            "only showing top 20 rows\n",
            "\n"
          ]
        }
      ]
    },
    {
      "cell_type": "code",
      "metadata": {
        "id": "ao4l_WZm0stq"
      },
      "source": [
        "atendimento_especifico.repartition(1).write.format('com.databricks.spark.csv').mode('overwrite').option(\"header\", \"true\").save('./DADOS/REFINED/ATENDIMENTO_ESPECIFICO/')"
      ],
      "execution_count": 26,
      "outputs": []
    },
    {
      "cell_type": "markdown",
      "metadata": {
        "id": "-1fAqsYp1SFP"
      },
      "source": [
        "### Solicitações de recursos especiais para a realização da prova"
      ]
    },
    {
      "cell_type": "code",
      "metadata": {
        "id": "hQOYjmqP1q-w"
      },
      "source": [
        "colunas = ['IN_SEM_RECURSO','IN_BRAILLE','IN_AMPLIADA_24','IN_AMPLIADA_18',\n",
        "           'IN_LEDOR','IN_ACESSO','IN_TRANSCRICAO','IN_LIBRAS','IN_TEMPO_ADICIONAL',\n",
        "           'IN_LEITURA_LABIAL','IN_MESA_CADEIRA_RODAS','IN_MESA_CADEIRA_SEPARADA',\n",
        "           'IN_APOIO_PERNA','IN_GUIA_INTERPRETE','IN_COMPUTADOR','IN_CADEIRA_ESPECIAL',\n",
        "           'IN_CADEIRA_CANHOTO','IN_CADEIRA_ACOLCHOADA','IN_PROVA_DEITADO',\n",
        "           'IN_MOBILIARIO_OBESO','IN_LAMINA_OVERLAY','IN_PROTETOR_AURICULAR',\n",
        "           'IN_MEDIDOR_GLICOSE','IN_MAQUINA_BRAILE','IN_SOROBAN','IN_MARCA_PASSO',\n",
        "           'IN_SONDA','IN_MEDICAMENTOS','IN_SALA_INDIVIDUAL','IN_SALA_ESPECIAL',\n",
        "           'IN_SALA_ACOMPANHANTE','IN_MOBILIARIO_ESPECIFICO','IN_MATERIAL_ESPECIFICO',\n",
        "           'IN_NOME_SOCIAL']\n",
        "\n",
        "recursos_especiais = dados.select(colunas)\n",
        "\n",
        "for i in colunas:\n",
        "  recursos_especiais = recursos_especiais.withColumn(i, F.when(F.col(i) == 1, 'Sim') \\\n",
        "                                    .when(F.col(i) == 0, 'Não') \\\n",
        "                                    .otherwise(F.col(i)))"
      ],
      "execution_count": 27,
      "outputs": []
    },
    {
      "cell_type": "code",
      "source": [
        "recursos_especiais.show()"
      ],
      "metadata": {
        "colab": {
          "base_uri": "https://localhost:8080/"
        },
        "id": "s0umjXJnsBE6",
        "outputId": "6596df0c-e736-4e7b-f663-9d009d2d6824"
      },
      "execution_count": 28,
      "outputs": [
        {
          "output_type": "stream",
          "name": "stdout",
          "text": [
            "+--------------+----------+--------------+--------------+--------+---------+--------------+---------+------------------+-----------------+---------------------+------------------------+--------------+------------------+-------------+-------------------+------------------+---------------------+----------------+-------------------+-----------------+---------------------+------------------+-----------------+----------+--------------+--------+---------------+------------------+----------------+--------------------+------------------------+----------------------+--------------+\n",
            "|IN_SEM_RECURSO|IN_BRAILLE|IN_AMPLIADA_24|IN_AMPLIADA_18|IN_LEDOR|IN_ACESSO|IN_TRANSCRICAO|IN_LIBRAS|IN_TEMPO_ADICIONAL|IN_LEITURA_LABIAL|IN_MESA_CADEIRA_RODAS|IN_MESA_CADEIRA_SEPARADA|IN_APOIO_PERNA|IN_GUIA_INTERPRETE|IN_COMPUTADOR|IN_CADEIRA_ESPECIAL|IN_CADEIRA_CANHOTO|IN_CADEIRA_ACOLCHOADA|IN_PROVA_DEITADO|IN_MOBILIARIO_OBESO|IN_LAMINA_OVERLAY|IN_PROTETOR_AURICULAR|IN_MEDIDOR_GLICOSE|IN_MAQUINA_BRAILE|IN_SOROBAN|IN_MARCA_PASSO|IN_SONDA|IN_MEDICAMENTOS|IN_SALA_INDIVIDUAL|IN_SALA_ESPECIAL|IN_SALA_ACOMPANHANTE|IN_MOBILIARIO_ESPECIFICO|IN_MATERIAL_ESPECIFICO|IN_NOME_SOCIAL|\n",
            "+--------------+----------+--------------+--------------+--------+---------+--------------+---------+------------------+-----------------+---------------------+------------------------+--------------+------------------+-------------+-------------------+------------------+---------------------+----------------+-------------------+-----------------+---------------------+------------------+-----------------+----------+--------------+--------+---------------+------------------+----------------+--------------------+------------------------+----------------------+--------------+\n",
            "|           Não|       Não|           Não|           Não|     Não|      Não|           Não|      Não|               Não|              Não|                  Não|                     Não|           Não|               Não|          Não|                Não|               Não|                  Não|             Não|                Não|              Não|                  Não|               Não|              Não|       Não|           Não|     Não|            Não|               Não|             Não|                 Não|                     Não|                   Não|           Não|\n",
            "|           Não|       Não|           Não|           Não|     Não|      Não|           Não|      Não|               Não|              Não|                  Não|                     Não|           Não|               Não|          Não|                Não|               Não|                  Não|             Não|                Não|              Não|                  Não|               Não|              Não|       Não|           Não|     Não|            Não|               Não|             Não|                 Não|                     Não|                   Não|           Não|\n",
            "|           Não|       Não|           Não|           Não|     Não|      Não|           Não|      Não|               Não|              Não|                  Não|                     Não|           Não|               Não|          Não|                Não|               Não|                  Não|             Não|                Não|              Não|                  Não|               Não|              Não|       Não|           Não|     Não|            Não|               Não|             Não|                 Não|                     Não|                   Não|           Não|\n",
            "|           Não|       Não|           Não|           Não|     Não|      Não|           Não|      Não|               Não|              Não|                  Não|                     Não|           Não|               Não|          Não|                Não|               Não|                  Não|             Não|                Não|              Não|                  Não|               Não|              Não|       Não|           Não|     Não|            Não|               Não|             Não|                 Não|                     Não|                   Não|           Não|\n",
            "|           Não|       Não|           Não|           Não|     Não|      Não|           Não|      Não|               Não|              Não|                  Não|                     Não|           Não|               Não|          Não|                Não|               Não|                  Não|             Não|                Não|              Não|                  Não|               Não|              Não|       Não|           Não|     Não|            Não|               Não|             Não|                 Não|                     Não|                   Não|           Não|\n",
            "|           Não|       Não|           Não|           Não|     Não|      Não|           Não|      Não|               Não|              Não|                  Não|                     Não|           Não|               Não|          Não|                Não|               Não|                  Não|             Não|                Não|              Não|                  Não|               Não|              Não|       Não|           Não|     Não|            Não|               Não|             Não|                 Não|                     Não|                   Não|           Não|\n",
            "|           Não|       Não|           Não|           Não|     Não|      Não|           Não|      Não|               Não|              Não|                  Não|                     Não|           Não|               Não|          Não|                Não|               Não|                  Não|             Não|                Não|              Não|                  Não|               Não|              Não|       Não|           Não|     Não|            Não|               Não|             Não|                 Não|                     Não|                   Não|           Não|\n",
            "|           Não|       Não|           Não|           Não|     Não|      Não|           Não|      Não|               Não|              Não|                  Não|                     Não|           Não|               Não|          Não|                Não|               Não|                  Não|             Não|                Não|              Não|                  Não|               Não|              Não|       Não|           Não|     Não|            Não|               Não|             Não|                 Não|                     Não|                   Não|           Não|\n",
            "|           Não|       Não|           Não|           Não|     Não|      Não|           Não|      Não|               Não|              Não|                  Não|                     Não|           Não|               Não|          Não|                Não|               Não|                  Não|             Não|                Não|              Não|                  Não|               Não|              Não|       Não|           Não|     Não|            Não|               Não|             Não|                 Não|                     Não|                   Não|           Não|\n",
            "|           Não|       Não|           Não|           Não|     Não|      Não|           Não|      Não|               Não|              Não|                  Não|                     Não|           Não|               Não|          Não|                Não|               Não|                  Não|             Não|                Não|              Não|                  Não|               Não|              Não|       Não|           Não|     Não|            Não|               Não|             Não|                 Não|                     Não|                   Não|           Não|\n",
            "|           Não|       Não|           Não|           Não|     Não|      Não|           Não|      Não|               Não|              Não|                  Não|                     Não|           Não|               Não|          Não|                Não|               Não|                  Não|             Não|                Não|              Não|                  Não|               Não|              Não|       Não|           Não|     Não|            Não|               Não|             Não|                 Não|                     Não|                   Não|           Não|\n",
            "|           Não|       Não|           Não|           Não|     Não|      Não|           Não|      Não|               Não|              Não|                  Não|                     Não|           Não|               Não|          Não|                Não|               Não|                  Não|             Não|                Não|              Não|                  Não|               Não|              Não|       Não|           Não|     Não|            Não|               Não|             Não|                 Não|                     Não|                   Não|           Não|\n",
            "|           Não|       Não|           Não|           Não|     Não|      Não|           Não|      Não|               Não|              Não|                  Não|                     Não|           Não|               Não|          Não|                Não|               Não|                  Não|             Não|                Não|              Não|                  Não|               Não|              Não|       Não|           Não|     Não|            Não|               Não|             Não|                 Não|                     Não|                   Não|           Não|\n",
            "|           Não|       Não|           Não|           Não|     Não|      Não|           Não|      Não|               Não|              Não|                  Não|                     Não|           Não|               Não|          Não|                Não|               Não|                  Não|             Não|                Não|              Não|                  Não|               Não|              Não|       Não|           Não|     Não|            Não|               Não|             Não|                 Não|                     Não|                   Não|           Não|\n",
            "|           Não|       Não|           Não|           Não|     Não|      Não|           Não|      Não|               Não|              Não|                  Não|                     Não|           Não|               Não|          Não|                Não|               Não|                  Não|             Não|                Não|              Não|                  Não|               Não|              Não|       Não|           Não|     Não|            Não|               Não|             Não|                 Não|                     Não|                   Não|           Não|\n",
            "|           Não|       Não|           Não|           Não|     Não|      Não|           Não|      Não|               Não|              Não|                  Não|                     Não|           Não|               Não|          Não|                Não|               Não|                  Não|             Não|                Não|              Não|                  Não|               Não|              Não|       Não|           Não|     Não|            Não|               Não|             Não|                 Não|                     Não|                   Não|           Não|\n",
            "|           Não|       Não|           Não|           Não|     Não|      Não|           Não|      Não|               Não|              Não|                  Não|                     Não|           Não|               Não|          Não|                Não|               Não|                  Não|             Não|                Não|              Não|                  Não|               Não|              Não|       Não|           Não|     Não|            Não|               Não|             Não|                 Não|                     Não|                   Não|           Não|\n",
            "|           Não|       Não|           Não|           Não|     Não|      Não|           Não|      Não|               Não|              Não|                  Não|                     Não|           Não|               Não|          Não|                Não|               Não|                  Não|             Não|                Não|              Não|                  Não|               Não|              Não|       Não|           Não|     Não|            Não|               Não|             Não|                 Não|                     Não|                   Não|           Não|\n",
            "|           Não|       Não|           Não|           Não|     Não|      Não|           Não|      Não|               Não|              Não|                  Não|                     Não|           Não|               Não|          Não|                Não|               Não|                  Não|             Não|                Não|              Não|                  Não|               Não|              Não|       Não|           Não|     Não|            Não|               Não|             Não|                 Não|                     Não|                   Não|           Não|\n",
            "|           Não|       Não|           Não|           Não|     Não|      Não|           Não|      Não|               Não|              Não|                  Não|                     Não|           Não|               Não|          Não|                Não|               Não|                  Não|             Não|                Não|              Não|                  Não|               Não|              Não|       Não|           Não|     Não|            Não|               Não|             Não|                 Não|                     Não|                   Não|           Não|\n",
            "+--------------+----------+--------------+--------------+--------+---------+--------------+---------+------------------+-----------------+---------------------+------------------------+--------------+------------------+-------------+-------------------+------------------+---------------------+----------------+-------------------+-----------------+---------------------+------------------+-----------------+----------+--------------+--------+---------------+------------------+----------------+--------------------+------------------------+----------------------+--------------+\n",
            "only showing top 20 rows\n",
            "\n"
          ]
        }
      ]
    },
    {
      "cell_type": "code",
      "metadata": {
        "id": "CFs2ZiyS2mCE"
      },
      "source": [
        "recursos_especiais.repartition(1).write.format('com.databricks.spark.csv').mode('overwrite').option(\"header\", \"true\").save('./DADOS/REFINED/RECURSOS_ESPECIAIS/')"
      ],
      "execution_count": 29,
      "outputs": []
    },
    {
      "cell_type": "markdown",
      "metadata": {
        "id": "vbfsdAyW3kZX"
      },
      "source": [
        "### Dados sobre a prova"
      ]
    },
    {
      "cell_type": "code",
      "metadata": {
        "id": "Z4L1YzlT3pWH"
      },
      "source": [
        "provas = dados.select(F.col('NO_MUNICIPIO_PROVA').alias('MUNICIPIO'),\n",
        "             F.col('SG_UF_PROVA').alias('UF'),\n",
        "             F.col('TP_PRESENCA_CN').alias('PRESENCA_CIENCIAS_NATUREZA'),\n",
        "             F.col('TP_PRESENCA_CH').alias('PRESENCA_CIENCIAS_HUMANAS'),\n",
        "             F.col('TP_PRESENCA_LC').alias('PRESENCA_LINGUAGEM_CODIGOS'),\n",
        "             F.col('TP_PRESENCA_MT').alias('PRESENCA_MATEMATICA'),\n",
        "             F.col('CO_PROVA_CN').alias('TIPO_PROVA_CIENCIAS_NATUREZA'),\n",
        "             F.col('CO_PROVA_CH').alias('TIPO_PROVA_CIENCIAS_HUMANAS'),\n",
        "             F.col('CO_PROVA_LC').alias('TIPO_PROVA_LINGUAGEM_CODIGOS'),\n",
        "             F.col('CO_PROVA_MT').alias('TIPO_PROVA_MATEMATICA'),\n",
        "             F.col('NU_NOTA_CN').alias('NOTA_PROVA_MATEMATICA'),\n",
        "             F.col('NU_NOTA_CH').alias('NOTA_CIENCIAS_HUMANAS'),\n",
        "             F.col('NU_NOTA_LC').alias('NOTA_LINGUAGEM_CODIGOS'),\n",
        "             F.col('NU_NOTA_MT').alias('NOTA_MATEMATICA'),\n",
        "             F.col('TP_LINGUA').alias('LINGUA_ESTRANGEIRA'),\n",
        "             F.col('TP_STATUS_REDACAO').alias('STATUS_REDACAO'),\n",
        "             F.col('NU_NOTA_COMP1').alias('NOTA_COMPETENCIA_1'),\n",
        "             F.col('NU_NOTA_COMP2').alias('NOTA_COMPETENCIA_2'),\n",
        "             F.col('NU_NOTA_COMP3').alias('NOTA_COMPETENCIA_3'),\n",
        "             F.col('NU_NOTA_COMP4').alias('NOTA_COMPETENCIA_4'),\n",
        "             F.col('NU_NOTA_COMP5').alias('NOTA_COMPETENCIA_5'),\n",
        "             F.col('NU_NOTA_REDACAO').alias('NOTA_REDACAO'))"
      ],
      "execution_count": 30,
      "outputs": []
    },
    {
      "cell_type": "code",
      "metadata": {
        "id": "r4wsbXbfIccx"
      },
      "source": [
        "for i in ['PRESENCA_CIENCIAS_NATUREZA','PRESENCA_CIENCIAS_HUMANAS','PRESENCA_LINGUAGEM_CODIGOS','PRESENCA_MATEMATICA']:\n",
        "  provas = provas.withColumn(i, F.when(F.col(i) == 0, 'Faltou à prova') \\\n",
        "                             .when(F.col(i) == 1, 'Presente na prova') \\\n",
        "                             .when(F.col(i) == 2, 'Eliminado na prova') \\\n",
        "                             .otherwise(F.col(i)))"
      ],
      "execution_count": 31,
      "outputs": []
    },
    {
      "cell_type": "code",
      "metadata": {
        "id": "mV0CUbYUG2OC"
      },
      "source": [
        "provas = provas.withColumn(\"TIPO_PROVA_CIENCIAS_NATUREZA\", \\\n",
        "                  F.when(F.col('TIPO_PROVA_CIENCIAS_NATUREZA') == 503, 'Azul') \\\n",
        "                  .when(F.col('TIPO_PROVA_CIENCIAS_NATUREZA') == 504, 'Amarela') \\\n",
        "                  .when(F.col('TIPO_PROVA_CIENCIAS_NATUREZA') == 505, 'Cinza') \\\n",
        "                  .when(F.col('TIPO_PROVA_CIENCIAS_NATUREZA') == 506, 'Rosa') \\\n",
        "                  .when(F.col('TIPO_PROVA_CIENCIAS_NATUREZA') == 519, 'Laranja - Adaptada Ledor') \\\n",
        "                  .when(F.col('TIPO_PROVA_CIENCIAS_NATUREZA') == 523, 'Verde - Videoprova - Libras') \\\n",
        "                  .when(F.col('TIPO_PROVA_CIENCIAS_NATUREZA') == 543, 'Amarela (Reaplicação)') \\\n",
        "                  .when(F.col('TIPO_PROVA_CIENCIAS_NATUREZA') == 544, 'Cinza (Reaplicação)') \\\n",
        "                  .when(F.col('TIPO_PROVA_CIENCIAS_NATUREZA') == 545, 'Azul (Reaplicação)') \\\n",
        "                  .when(F.col('TIPO_PROVA_CIENCIAS_NATUREZA') == 546, 'Rosa (Reaplicação)') \\\n",
        "                  .otherwise(F.col('TIPO_PROVA_CIENCIAS_NATUREZA'))) \\\n",
        "      .withColumn(\"TIPO_PROVA_CIENCIAS_HUMANAS\", \\\n",
        "                  F.when(F.col('TIPO_PROVA_CIENCIAS_HUMANAS') == 507, 'Azul') \\\n",
        "                  .when(F.col('TIPO_PROVA_CIENCIAS_HUMANAS') == 508, 'Amarela') \\\n",
        "                  .when(F.col('TIPO_PROVA_CIENCIAS_HUMANAS') == 509, 'Branca') \\\n",
        "                  .when(F.col('TIPO_PROVA_CIENCIAS_HUMANAS') == 510, 'Rosa') \\\n",
        "                  .when(F.col('TIPO_PROVA_CIENCIAS_HUMANAS') == 520, 'Laranja - Adaptada Ledor') \\\n",
        "                  .when(F.col('TIPO_PROVA_CIENCIAS_HUMANAS') == 524, 'Verde - Videoprova - Libras') \\\n",
        "                  .when(F.col('TIPO_PROVA_CIENCIAS_HUMANAS') == 547, 'Azul (Reaplicação)') \\\n",
        "                  .when(F.col('TIPO_PROVA_CIENCIAS_HUMANAS') == 548, 'Amarelo (Reaplicação)') \\\n",
        "                  .when(F.col('TIPO_PROVA_CIENCIAS_HUMANAS') == 549, 'Branco (Reaplicação)') \\\n",
        "                  .when(F.col('TIPO_PROVA_CIENCIAS_HUMANAS') == 550, 'Rosa (Reaplicação)') \\\n",
        "                  .when(F.col('TIPO_PROVA_CIENCIAS_HUMANAS') == 564, 'Laranja - Adaptada Ledor (Reaplicação)') \\\n",
        "                  .otherwise(F.col('TIPO_PROVA_CIENCIAS_HUMANAS'))) \\\n",
        "      .withColumn(\"TIPO_PROVA_LINGUAGEM_CODIGOS\", \\\n",
        "                  F.when(F.col('TIPO_PROVA_LINGUAGEM_CODIGOS') == 511, 'Azul') \\\n",
        "                  .when(F.col('TIPO_PROVA_LINGUAGEM_CODIGOS') == 512, 'Amarela') \\\n",
        "                  .when(F.col('TIPO_PROVA_LINGUAGEM_CODIGOS') == 513, 'Rosa') \\\n",
        "                  .when(F.col('TIPO_PROVA_LINGUAGEM_CODIGOS') == 514, 'Branca') \\\n",
        "                  .when(F.col('TIPO_PROVA_LINGUAGEM_CODIGOS') == 521, 'Laranja - Adaptada Ledor') \\\n",
        "                  .when(F.col('TIPO_PROVA_LINGUAGEM_CODIGOS') == 525, 'Verde - Videoprova - Libras') \\\n",
        "                  .when(F.col('TIPO_PROVA_LINGUAGEM_CODIGOS') == 551, 'Azul (Reaplicação)') \\\n",
        "                  .when(F.col('TIPO_PROVA_LINGUAGEM_CODIGOS') == 552, 'Amarelo (Reaplicação)') \\\n",
        "                  .when(F.col('TIPO_PROVA_LINGUAGEM_CODIGOS') == 553, 'Branca (Reaplicação)') \\\n",
        "                  .when(F.col('TIPO_PROVA_LINGUAGEM_CODIGOS') == 554, 'Rosa (Reaplicação)') \\\n",
        "                  .when(F.col('TIPO_PROVA_LINGUAGEM_CODIGOS') == 565, 'Laranja - Adaptada Ledor (Reaplicação)') \\\n",
        "                  .otherwise(F.col('TIPO_PROVA_LINGUAGEM_CODIGOS'))) \\\n",
        "      .withColumn(\"TIPO_PROVA_MATEMATICA\", \\\n",
        "                  F.when(F.col('TIPO_PROVA_MATEMATICA') == 515, 'Azul') \\\n",
        "                  .when(F.col('TIPO_PROVA_MATEMATICA') == 516, 'Amarela') \\\n",
        "                  .when(F.col('TIPO_PROVA_MATEMATICA') == 518, 'Cinza') \\\n",
        "                  .when(F.col('TIPO_PROVA_MATEMATICA') == 517, 'Rosa') \\\n",
        "                  .when(F.col('TIPO_PROVA_MATEMATICA') == 522, 'Laranja - Adaptada Ledor') \\\n",
        "                  .when(F.col('TIPO_PROVA_MATEMATICA') == 526, 'Verde - Videoprova - Libras') \\\n",
        "                  .when(F.col('TIPO_PROVA_MATEMATICA') == 555, 'Amarela (Reaplicação)') \\\n",
        "                  .when(F.col('TIPO_PROVA_MATEMATICA') == 556, 'Cinza (Reaplicação)') \\\n",
        "                  .when(F.col('TIPO_PROVA_MATEMATICA') == 557, 'Azul (Reaplicação)') \\\n",
        "                  .when(F.col('TIPO_PROVA_MATEMATICA') == 558, 'Rosa (Reaplicação)') \\\n",
        "                  .otherwise(F.col('TIPO_PROVA_MATEMATICA'))) \\\n",
        "      .withColumn(\"LINGUA_ESTRANGEIRA\", \\\n",
        "                  F.when(F.col('LINGUA_ESTRANGEIRA') == 0, 'Inglês') \\\n",
        "                  .when(F.col('LINGUA_ESTRANGEIRA') == 1, 'Espanhol') \\\n",
        "                  .otherwise(F.col('LINGUA_ESTRANGEIRA'))) \\\n",
        "      .withColumn(\"STATUS_REDACAO\", \\\n",
        "                  F.when(F.col('STATUS_REDACAO') == 1, 'Sem problemas') \\\n",
        "                  .when(F.col('STATUS_REDACAO') == 2, 'Anulada') \\\n",
        "                  .when(F.col('STATUS_REDACAO') == 3, 'Cópia Texto Motivador') \\\n",
        "                  .when(F.col('STATUS_REDACAO') == 4, 'Em branco') \\\n",
        "                  .when(F.col('STATUS_REDACAO') == 6, 'Fuga ao tema') \\\n",
        "                  .when(F.col('STATUS_REDACAO') == 7, 'Não atendimento ao tipo textual') \\\n",
        "                  .when(F.col('STATUS_REDACAO') == 8, 'Texto insuficiente') \\\n",
        "                  .when(F.col('STATUS_REDACAO') == 9, 'Parte desconectada') \\\n",
        "                  .otherwise(F.col('STATUS_REDACAO'))) "
      ],
      "execution_count": 32,
      "outputs": []
    },
    {
      "cell_type": "code",
      "source": [
        "provas.show()"
      ],
      "metadata": {
        "colab": {
          "base_uri": "https://localhost:8080/"
        },
        "id": "gaEtqv1Qr7yT",
        "outputId": "34aa8619-dac2-482e-addb-c3bf5896fc81"
      },
      "execution_count": 33,
      "outputs": [
        {
          "output_type": "stream",
          "name": "stdout",
          "text": [
            "+----------------+---+--------------------------+-------------------------+--------------------------+-------------------+----------------------------+---------------------------+----------------------------+---------------------+---------------------+---------------------+----------------------+---------------+------------------+--------------+------------------+------------------+------------------+------------------+------------------+------------+\n",
            "|       MUNICIPIO| UF|PRESENCA_CIENCIAS_NATUREZA|PRESENCA_CIENCIAS_HUMANAS|PRESENCA_LINGUAGEM_CODIGOS|PRESENCA_MATEMATICA|TIPO_PROVA_CIENCIAS_NATUREZA|TIPO_PROVA_CIENCIAS_HUMANAS|TIPO_PROVA_LINGUAGEM_CODIGOS|TIPO_PROVA_MATEMATICA|NOTA_PROVA_MATEMATICA|NOTA_CIENCIAS_HUMANAS|NOTA_LINGUAGEM_CODIGOS|NOTA_MATEMATICA|LINGUA_ESTRANGEIRA|STATUS_REDACAO|NOTA_COMPETENCIA_1|NOTA_COMPETENCIA_2|NOTA_COMPETENCIA_3|NOTA_COMPETENCIA_4|NOTA_COMPETENCIA_5|NOTA_REDACAO|\n",
            "+----------------+---+--------------------------+-------------------------+--------------------------+-------------------+----------------------------+---------------------------+----------------------------+---------------------+---------------------+---------------------+----------------------+---------------+------------------+--------------+------------------+------------------+------------------+------------------+------------------+------------+\n",
            "|        Sorocaba| SP|            Faltou à prova|           Faltou à prova|            Faltou à prova|     Faltou à prova|                        null|                       null|                        null|                 null|                 null|                 null|                  null|           null|            Inglês|          null|              null|              null|              null|              null|              null|        null|\n",
            "|Feira de Santana| BA|            Faltou à prova|           Faltou à prova|            Faltou à prova|     Faltou à prova|                        null|                       null|                        null|                 null|                 null|                 null|                  null|           null|            Inglês|          null|              null|              null|              null|              null|              null|        null|\n",
            "|       Fortaleza| CE|            Faltou à prova|           Faltou à prova|            Faltou à prova|     Faltou à prova|                        null|                       null|                        null|                 null|                 null|                 null|                  null|           null|          Espanhol|          null|              null|              null|              null|              null|              null|        null|\n",
            "|          Palmas| TO|         Presente na prova|        Presente na prova|         Presente na prova|  Presente na prova|                     Amarela|                       Rosa|                        Rosa|              Amarela|                483.8|                503.6|                 537.3|          392.0|          Espanhol| Sem problemas|               120|               120|               120|               100|                 0|         460|\n",
            "|        Contagem| MG|         Presente na prova|        Presente na prova|         Presente na prova|  Presente na prova|                     Amarela|                       Rosa|                        Rosa|              Amarela|                513.6|                575.5|                 570.7|          677.0|            Inglês| Sem problemas|               160|               120|               180|               200|               200|         860|\n",
            "|    Rondon�polis| MT|         Presente na prova|        Presente na prova|         Presente na prova|  Presente na prova|                       Cinza|                    Amarela|                     Amarela|                Cinza|                563.7|                644.9|                 564.2|          675.3|            Inglês| Sem problemas|               160|               200|               180|               180|                80|         800|\n",
            "|    Paulo Afonso| BA|         Presente na prova|        Presente na prova|         Presente na prova|  Presente na prova|                       Cinza|                    Amarela|                     Amarela|                Cinza|                484.6|                488.4|                 507.2|          594.7|          Espanhol| Sem problemas|               140|               120|               120|               160|                60|         600|\n",
            "|       S�o Paulo| SP|            Faltou à prova|           Faltou à prova|            Faltou à prova|     Faltou à prova|                        null|                       null|                        null|                 null|                 null|                 null|                  null|           null|            Inglês|          null|              null|              null|              null|              null|              null|        null|\n",
            "|       S�o Paulo| SP|            Faltou à prova|           Faltou à prova|            Faltou à prova|     Faltou à prova|                        null|                       null|                        null|                 null|                 null|                 null|                  null|           null|            Inglês|          null|              null|              null|              null|              null|              null|        null|\n",
            "|       S�o Paulo| SP|         Presente na prova|        Presente na prova|         Presente na prova|  Presente na prova|                       Cinza|                     Branca|                      Branca|                Cinza|                543.9|                548.1|                 502.5|          480.7|            Inglês| Sem problemas|               120|                40|               120|               120|                 0|         400|\n",
            "| Mogi das Cruzes| SP|            Faltou à prova|           Faltou à prova|            Faltou à prova|     Faltou à prova|                        null|                       null|                        null|                 null|                 null|                 null|                  null|           null|            Inglês|          null|              null|              null|              null|              null|              null|        null|\n",
            "|         Maca�ba| RN|         Presente na prova|        Presente na prova|         Presente na prova|  Presente na prova|                       Cinza|                       Azul|                        Azul|                Cinza|                518.2|                351.7|                 417.6|          459.0|          Espanhol| Sem problemas|               120|               120|               120|               120|                20|         500|\n",
            "|       Arauc�ria| PR|         Presente na prova|        Presente na prova|         Presente na prova|  Presente na prova|                        Rosa|                       Rosa|                        Rosa|                 Rosa|                373.8|                393.6|                 451.0|          484.7|          Espanhol| Sem problemas|               120|                40|                40|               100|                 0|         300|\n",
            "|       Fortaleza| CE|         Presente na prova|        Presente na prova|         Presente na prova|  Presente na prova|                       Cinza|                       Rosa|                        Rosa|                Cinza|                458.9|                441.6|                 413.0|          399.0|          Espanhol| Sem problemas|                80|                40|                40|                80|                 0|         240|\n",
            "|      Uberl�ndia| MG|            Faltou à prova|           Faltou à prova|            Faltou à prova|     Faltou à prova|                        null|                       null|                        null|                 null|                 null|                 null|                  null|           null|          Espanhol|          null|              null|              null|              null|              null|              null|        null|\n",
            "|          Recife| PE|            Faltou à prova|           Faltou à prova|            Faltou à prova|     Faltou à prova|                        null|                       null|                        null|                 null|                 null|                 null|                  null|           null|          Espanhol|          null|              null|              null|              null|              null|              null|        null|\n",
            "|        Guanambi| BA|         Presente na prova|        Presente na prova|         Presente na prova|  Presente na prova|                        Rosa|                     Branca|                      Branca|                 Rosa|                390.1|                453.0|                 515.2|          461.5|            Inglês| Sem problemas|               100|               120|               100|               140|                60|         520|\n",
            "|          Recife| PE|            Faltou à prova|           Faltou à prova|            Faltou à prova|     Faltou à prova|                        null|                       null|                        null|                 null|                 null|                 null|                  null|           null|          Espanhol|          null|              null|              null|              null|              null|              null|        null|\n",
            "| Itapecuru Mirim| MA|         Presente na prova|        Presente na prova|         Presente na prova|  Presente na prova|                       Cinza|                    Amarela|                     Amarela|                Cinza|                415.7|                379.2|                 470.2|          375.1|            Inglês| Sem problemas|               140|               120|               140|               120|                40|         560|\n",
            "|        Salvador| BA|         Presente na prova|        Presente na prova|         Presente na prova|  Presente na prova|                        Azul|                    Amarela|                     Amarela|                 Azul|                461.9|                585.0|                 552.1|          437.3|          Espanhol| Sem problemas|               140|               120|               140|               120|               140|         660|\n",
            "+----------------+---+--------------------------+-------------------------+--------------------------+-------------------+----------------------------+---------------------------+----------------------------+---------------------+---------------------+---------------------+----------------------+---------------+------------------+--------------+------------------+------------------+------------------+------------------+------------------+------------+\n",
            "only showing top 20 rows\n",
            "\n"
          ]
        }
      ]
    },
    {
      "cell_type": "code",
      "metadata": {
        "id": "_DJYNPccR_BE"
      },
      "source": [
        "provas.repartition(1).write.format('com.databricks.spark.csv').mode('overwrite').option(\"header\", \"true\").save('./DADOS/REFINED/PROVAS/')"
      ],
      "execution_count": 34,
      "outputs": []
    },
    {
      "cell_type": "markdown",
      "metadata": {
        "id": "XPQMhunXSi4k"
      },
      "source": [
        "### Dados Sócio-econômico"
      ]
    },
    {
      "cell_type": "code",
      "metadata": {
        "id": "6T1XliW2TFmE"
      },
      "source": [
        "socioeconomico = dados.select(F.col('Q001').alias('ESCOLARIDADE_PAI_OU_RESPONSAVEL'),\n",
        "                              F.col('Q002').alias('ESCOLARIDADE_MAE_OU_RESPONSAVEL'),\n",
        "                              F.col('Q003').alias('GRUPO_OCUPACAO_PAI'),\n",
        "                              F.col('Q004').alias('GRUPO_OCUPACAO_MAE'),\n",
        "                              F.col('Q005').alias('QTD_MORADORES_RESIDENCIA'),\n",
        "                              F.col('Q006').alias('RENDA_MENSAL_FAMILIAR'),\n",
        "                              F.col('Q007').alias('POSSUI_SERVICO_EMPREGADO_DOMESTICO'),\n",
        "                              F.col('Q008').alias('QTD_BANHEIROS_RESIDENCIA'),\n",
        "                              F.col('Q009').alias('QTD_QUARTOS_RESIDENCIA'),\n",
        "                              F.col('Q010').alias('TEM_CARRO'),\n",
        "                              F.col('Q011').alias('TEM_MOTO'),\n",
        "                              F.col('Q012').alias('TEM_GELADEIRA'),\n",
        "                              F.col('Q013').alias('TEM_FREEZER_OU_SEGUNDA_PORTA_GELADEIRA'),\n",
        "                              F.col('Q014').alias('TEM_MAQUINA_LAVAR'),\n",
        "                              F.col('Q015').alias('TEM_MAQUINA_SECAR'),\n",
        "                              F.col('Q016').alias('TEM_MICROONDAS'),\n",
        "                              F.col('Q017').alias('TEM_MAQUINA_LAVAR_LOUCA'),\n",
        "                              F.col('Q018').alias('TEM_ASPIRADOR_PO'),\n",
        "                              F.col('Q019').alias('TEM_TELEVISAO'),\n",
        "                              F.col('Q020').alias('TEM_DVD'),\n",
        "                              F.col('Q021').alias('TEM_TV_ASSINATURA'),\n",
        "                              F.col('Q022').alias('TEM_TELEFONE_CELULAR'),\n",
        "                              F.col('Q023').alias('TEM_TELEFONE_FIXO'),\n",
        "                              F.col('Q024').alias('TEM_COMPUTADOR'),\n",
        "                              F.col('Q025').alias('TEM_ACESSO_INTERNET'))"
      ],
      "execution_count": 35,
      "outputs": []
    },
    {
      "cell_type": "code",
      "metadata": {
        "id": "cjhl-xYTZLJt"
      },
      "source": [
        "socioeconomico = socioeconomico \\\n",
        "    .withColumn(\"ESCOLARIDADE_PAI_OU_RESPONSAVEL\", \\\n",
        "               F.when(F.col('ESCOLARIDADE_PAI_OU_RESPONSAVEL') == 'A', 'Nunca estudou.') \\\n",
        "               .when(F.col('ESCOLARIDADE_PAI_OU_RESPONSAVEL') == 'B', 'Não completou a 4ª série/5º ano do Ensino Fundamental.') \\\n",
        "               .when(F.col('ESCOLARIDADE_PAI_OU_RESPONSAVEL') == 'C', 'Completou a 4ª série/5º ano, mas não completou a 8ª série/9º ano do Ensino Fundamental.') \\\n",
        "               .when(F.col('ESCOLARIDADE_PAI_OU_RESPONSAVEL') == 'D', 'Completou a 8ª série/9º ano do Ensino Fundamental, mas não completou o Ensino Médio.') \\\n",
        "               .when(F.col('ESCOLARIDADE_PAI_OU_RESPONSAVEL') == 'E', 'Completou o Ensino Médio, mas não completou a Faculdade.') \\\n",
        "               .when(F.col('ESCOLARIDADE_PAI_OU_RESPONSAVEL') == 'F', 'Completou a Faculdade, mas não completou a Pós-graduação.') \\\n",
        "               .when(F.col('ESCOLARIDADE_PAI_OU_RESPONSAVEL') == 'G', 'Completou a Pós-graduação.') \\\n",
        "               .when(F.col('ESCOLARIDADE_PAI_OU_RESPONSAVEL') == 'H', 'Não sei.') \\\n",
        "               .otherwise(F.col('ESCOLARIDADE_PAI_OU_RESPONSAVEL'))) \\\n",
        "    .withColumn(\"ESCOLARIDADE_MAE_OU_RESPONSAVEL\", \\\n",
        "                F.when(F.col('ESCOLARIDADE_MAE_OU_RESPONSAVEL') == 'A', 'Nunca estudou.') \\\n",
        "                .when(F.col('ESCOLARIDADE_MAE_OU_RESPONSAVEL') == 'B', 'Não completou a 4ª série/5º ano do Ensino Fundamental.') \\\n",
        "                .when(F.col('ESCOLARIDADE_MAE_OU_RESPONSAVEL') == 'C', 'Completou a 4ª série/5º ano, mas não completou a 8ª série/9º ano do Ensino Fundamental.') \\\n",
        "                .when(F.col('ESCOLARIDADE_MAE_OU_RESPONSAVEL') == 'D', 'Completou a 8ª série/9º ano do Ensino Fundamental, mas não completou o Ensino Médio.') \\\n",
        "                .when(F.col('ESCOLARIDADE_MAE_OU_RESPONSAVEL') == 'E', 'Completou o Ensino Médio, mas não completou a Faculdade.') \\\n",
        "                .when(F.col('ESCOLARIDADE_MAE_OU_RESPONSAVEL') == 'F', 'Completou a Faculdade, mas não completou a Pós-graduação.') \\\n",
        "                .when(F.col('ESCOLARIDADE_MAE_OU_RESPONSAVEL') == 'G', 'Completou a Pós-graduação.') \\\n",
        "                .when(F.col('ESCOLARIDADE_MAE_OU_RESPONSAVEL') == 'H', 'Não sei.') \\\n",
        "                .otherwise(F.col('ESCOLARIDADE_MAE_OU_RESPONSAVEL'))) \\\n",
        "    .withColumn(\"GRUPO_OCUPACAO_PAI\", \\\n",
        "                F.when(F.col('GRUPO_OCUPACAO_PAI') == 'A', 'Grupo 1: Lavrador, agricultor sem empregados, bóia fria, criador de animais (gado, porcos, galinhas, ovelhas, cavalos etc.), apicultor, pescador, lenhador, seringueiro, extrativista.') \\\n",
        "                .when(F.col('GRUPO_OCUPACAO_PAI') == 'B', 'Grupo 2: Diarista, empregado doméstico, cuidador de idosos, babá, cozinheiro (em casas particulares), motorista particular, jardineiro, faxineiro de empresas e prédios, vigilante, porteiro, carteiro, office-boy, vendedor, caixa, atendente de loja, auxiliar administrativo, recepcionista, servente de pedreiro, repositor de mercadoria.') \\\n",
        "                .when(F.col('GRUPO_OCUPACAO_PAI') == 'C', 'Grupo 3: Padeiro, cozinheiro industrial ou em restaurantes, sapateiro, costureiro, joalheiro, torneiro mecânico, operador de máquinas, soldador, operário de fábrica, trabalhador da mineração, pedreiro, pintor, eletricista, encanador, motorista, caminhoneiro, taxista.') \\\n",
        "                .when(F.col('GRUPO_OCUPACAO_PAI') == 'D', 'Grupo 4: Professor (de ensino fundamental ou médio, idioma, música, artes etc.), técnico (de enfermagem, contabilidade, eletrônica etc.), policial, militar de baixa patente (soldado, cabo, sargento), corretor de imóveis, supervisor, gerente, mestre de obras, pastor, microempresário (proprietário de empresa com menos de 10 empregados), pequeno comerciante, pequeno proprietário de terras, trabalhador autônomo ou por conta própria.') \\\n",
        "                .when(F.col('GRUPO_OCUPACAO_PAI') == 'E', 'Grupo 5: Médico, engenheiro, dentista, psicólogo, economista, advogado, juiz, promotor, defensor, delegado, tenente, capitão, coronel, professor universitário, diretor em empresas públicas ou privadas, político, proprietário de empresas com mais de 10 empregados.') \\\n",
        "                .when(F.col('GRUPO_OCUPACAO_PAI') == 'F', 'Não sei.') \\\n",
        "                .otherwise(F.col('GRUPO_OCUPACAO_PAI'))) \\\n",
        "    .withColumn(\"GRUPO_OCUPACAO_MAE\", \\\n",
        "                F.when(F.col('GRUPO_OCUPACAO_MAE') == 'A', 'Grupo 1: Lavrador, agricultor sem empregados, bóia fria, criador de animais (gado, porcos, galinhas, ovelhas, cavalos etc.), apicultor, pescador, lenhador, seringueiro, extrativista.') \\\n",
        "                .when(F.col('GRUPO_OCUPACAO_MAE') == 'B', 'Grupo 2: Diarista, empregado doméstico, cuidador de idosos, babá, cozinheiro (em casas particulares), motorista particular, jardineiro, faxineiro de empresas e prédios, vigilante, porteiro, carteiro, office-boy, vendedor, caixa, atendente de loja, auxiliar administrativo, recepcionista, servente de pedreiro, repositor de mercadoria.') \\\n",
        "                .when(F.col('GRUPO_OCUPACAO_MAE') == 'C', 'Grupo 3: Padeiro, cozinheiro industrial ou em restaurantes, sapateiro, costureiro, joalheiro, torneiro mecânico, operador de máquinas, soldador, operário de fábrica, trabalhador da mineração, pedreiro, pintor, eletricista, encanador, motorista, caminhoneiro, taxista.') \\\n",
        "                .when(F.col('GRUPO_OCUPACAO_MAE') == 'D', 'Grupo 4: Professor (de ensino fundamental ou médio, idioma, música, artes etc.), técnico (de enfermagem, contabilidade, eletrônica etc.), policial, militar de baixa patente (soldado, cabo, sargento), corretor de imóveis, supervisor, gerente, mestre de obras, pastor, microempresário (proprietário de empresa com menos de 10 empregados), pequeno comerciante, pequeno proprietário de terras, trabalhador autônomo ou por conta própria.') \\\n",
        "                .when(F.col('GRUPO_OCUPACAO_MAE') == 'E', 'Grupo 5: Médico, engenheiro, dentista, psicólogo, economista, advogado, juiz, promotor, defensor, delegado, tenente, capitão, coronel, professor universitário, diretor em empresas públicas ou privadas, político, proprietário de empresas com mais de 10 empregados.') \\\n",
        "                .when(F.col('GRUPO_OCUPACAO_MAE') == 'F', 'Não sei.') \\\n",
        "                .otherwise(F.col('GRUPO_OCUPACAO_MAE'))) \\\n",
        "    .withColumn(\"RENDA_MENSAL_FAMILIAR\", \\\n",
        "                F.when(F.col('RENDA_MENSAL_FAMILIAR') == 'A', 'Nenhuma Renda') \\\n",
        "                .when(F.col('RENDA_MENSAL_FAMILIAR') == 'B', 'Até R$ 998,00.') \\\n",
        "                .when(F.col('RENDA_MENSAL_FAMILIAR') == 'C', 'De R$ 998,01 até R$ 1.497,00.') \\\n",
        "                .when(F.col('RENDA_MENSAL_FAMILIAR') == 'D', 'De R$ 1.497,01 até R$ 1.996,00.') \\\n",
        "                .when(F.col('RENDA_MENSAL_FAMILIAR') == 'E', 'De R$ 1.996,01 até R$ 2.495,00.') \\\n",
        "                .when(F.col('RENDA_MENSAL_FAMILIAR') == 'F', 'De R$ 2.495,01 até R$ 2.994,00.') \\\n",
        "                .when(F.col('RENDA_MENSAL_FAMILIAR') == 'G', 'De R$ 2.994,01 até R$ 3.992,00.') \\\n",
        "                .when(F.col('RENDA_MENSAL_FAMILIAR') == 'H', 'De R$ 3.992,01 até R$ 4.990,00.') \\\n",
        "                .when(F.col('RENDA_MENSAL_FAMILIAR') == 'I', 'De R$ 4.990,01 até R$ 5.988,00.') \\\n",
        "                .when(F.col('RENDA_MENSAL_FAMILIAR') == 'J', 'De R$ 5.988,01 até R$ 6.986,00.') \\\n",
        "                .when(F.col('RENDA_MENSAL_FAMILIAR') == 'K', 'De R$ 6.986,01 até R$ 7.984,00.') \\\n",
        "                .when(F.col('RENDA_MENSAL_FAMILIAR') == 'L', 'De R$ 7.984,01 até R$ 8.982,00.') \\\n",
        "                .when(F.col('RENDA_MENSAL_FAMILIAR') == 'M', 'De R$ 8.982,01 até R$ 9.980,00.') \\\n",
        "                .when(F.col('RENDA_MENSAL_FAMILIAR') == 'N', 'De R$ 9.980,01 até R$ 11.976,00.') \\\n",
        "                .when(F.col('RENDA_MENSAL_FAMILIAR') == 'O', 'De R$ 11.976,01 até R$ 14.970,00.') \\\n",
        "                .when(F.col('RENDA_MENSAL_FAMILIAR') == 'P', 'De R$ 14.970,01 até R$ 19.960,00.') \\\n",
        "                .when(F.col('RENDA_MENSAL_FAMILIAR') == 'Q', 'Mais de R$ 19.960,00.') \\\n",
        "                .otherwise(F.col('RENDA_MENSAL_FAMILIAR'))) \\\n",
        "    .withColumn(\"POSSUI_SERVICO_EMPREGADO_DOMESTICO\", \\\n",
        "                F.when(F.col('POSSUI_SERVICO_EMPREGADO_DOMESTICO') == 'A', 'Não.') \\\n",
        "                .when(F.col('POSSUI_SERVICO_EMPREGADO_DOMESTICO') == 'B', 'Sim, um ou dois dias por semana.') \\\n",
        "                .when(F.col('POSSUI_SERVICO_EMPREGADO_DOMESTICO') == 'C', 'Sim, três ou quatro dias por semana.') \\\n",
        "                .when(F.col('POSSUI_SERVICO_EMPREGADO_DOMESTICO') == 'D', 'Sim, pelo menos cinco dias por semana.') \\\n",
        "                .otherwise(F.col('POSSUI_SERVICO_EMPREGADO_DOMESTICO')))"
      ],
      "execution_count": 36,
      "outputs": []
    },
    {
      "cell_type": "code",
      "source": [
        "colunas =  ['QTD_BANHEIROS_RESIDENCIA','QTD_QUARTOS_RESIDENCIA','TEM_CARRO','TEM_MOTO',\n",
        "          'TEM_GELADEIRA','TEM_FREEZER_OU_SEGUNDA_PORTA_GELADEIRA','TEM_MAQUINA_LAVAR',\n",
        "          'TEM_MAQUINA_SECAR','TEM_MICROONDAS','TEM_MAQUINA_LAVAR_LOUCA',\n",
        "          'TEM_TELEVISAO','TEM_TELEFONE_CELULAR','TEM_COMPUTADOR']\n",
        "\n",
        "for i in colunas:\n",
        "  socioeconomico = socioeconomico.withColumn(i, F.when(F.col(i) == 'A', 'Não.') \\\n",
        "                                             .when(F.col(i) == 'B', 'Um.') \\\n",
        "                                             .when(F.col(i) == 'C', 'Dois') \\\n",
        "                                             .when(F.col(i) == 'D', 'Três') \\\n",
        "                                             .when(F.col(i) == 'D', 'Quatro ou mais.') \\\n",
        "                                             .otherwise(F.col(i)))\n"
      ],
      "metadata": {
        "id": "RIIIBhPagLGm"
      },
      "execution_count": 37,
      "outputs": []
    },
    {
      "cell_type": "code",
      "source": [
        "colunas =  ['TEM_ASPIRADOR_PO','TEM_DVD', 'TEM_TV_ASSINATURA','TEM_TELEFONE_FIXO',\n",
        "            'TEM_ACESSO_INTERNET']\n",
        "\n",
        "for i in colunas:\n",
        "  socioeconomico = socioeconomico.withColumn(i, F.when(F.col(i) == 'A', 'Não.') \\\n",
        "                                             .when(F.col(i) == 'B', 'Sim') \\\n",
        "                                             .otherwise(F.col(i)))\n"
      ],
      "metadata": {
        "id": "-NBsdeUVk26x"
      },
      "execution_count": 38,
      "outputs": []
    },
    {
      "cell_type": "code",
      "source": [
        "socioeconomico.show(truncate=False)"
      ],
      "metadata": {
        "colab": {
          "base_uri": "https://localhost:8080/"
        },
        "id": "q3an_FLDlvGq",
        "outputId": "894c98f2-62fa-4fae-af97-92029b69321e"
      },
      "execution_count": 39,
      "outputs": [
        {
          "output_type": "stream",
          "name": "stdout",
          "text": [
            "+---------------------------------------------------------------------------------------+---------------------------------------------------------------------------------------+----------------------------------------------------------------------------------------------------------------------------------------------------------------------------------------------------------------------------------------------------------------------------------------------------------------------------------------------+------------------------------------------------------------------------------------------------------------------------------------------------------------------------------------------------------------------------------------------------------------------------------------------------------------------------------------------------------------------------------------------------------------------------------------------------+------------------------+-------------------------------+----------------------------------+------------------------+----------------------+---------+--------+-------------+--------------------------------------+-----------------+-----------------+--------------+-----------------------+----------------+-------------+-------+-----------------+--------------------+-----------------+--------------+-------------------+\n",
            "|ESCOLARIDADE_PAI_OU_RESPONSAVEL                                                        |ESCOLARIDADE_MAE_OU_RESPONSAVEL                                                        |GRUPO_OCUPACAO_PAI                                                                                                                                                                                                                                                                                                                            |GRUPO_OCUPACAO_MAE                                                                                                                                                                                                                                                                                                                                                                                                                              |QTD_MORADORES_RESIDENCIA|RENDA_MENSAL_FAMILIAR          |POSSUI_SERVICO_EMPREGADO_DOMESTICO|QTD_BANHEIROS_RESIDENCIA|QTD_QUARTOS_RESIDENCIA|TEM_CARRO|TEM_MOTO|TEM_GELADEIRA|TEM_FREEZER_OU_SEGUNDA_PORTA_GELADEIRA|TEM_MAQUINA_LAVAR|TEM_MAQUINA_SECAR|TEM_MICROONDAS|TEM_MAQUINA_LAVAR_LOUCA|TEM_ASPIRADOR_PO|TEM_TELEVISAO|TEM_DVD|TEM_TV_ASSINATURA|TEM_TELEFONE_CELULAR|TEM_TELEFONE_FIXO|TEM_COMPUTADOR|TEM_ACESSO_INTERNET|\n",
            "+---------------------------------------------------------------------------------------+---------------------------------------------------------------------------------------+----------------------------------------------------------------------------------------------------------------------------------------------------------------------------------------------------------------------------------------------------------------------------------------------------------------------------------------------+------------------------------------------------------------------------------------------------------------------------------------------------------------------------------------------------------------------------------------------------------------------------------------------------------------------------------------------------------------------------------------------------------------------------------------------------+------------------------+-------------------------------+----------------------------------+------------------------+----------------------+---------+--------+-------------+--------------------------------------+-----------------+-----------------+--------------+-----------------------+----------------+-------------+-------+-----------------+--------------------+-----------------+--------------+-------------------+\n",
            "|Não completou a 4ª série/5º ano do Ensino Fundamental.                                 |Não completou a 4ª série/5º ano do Ensino Fundamental.                                 |Grupo 1: Lavrador, agricultor sem empregados, bóia fria, criador de animais (gado, porcos, galinhas, ovelhas, cavalos etc.), apicultor, pescador, lenhador, seringueiro, extrativista.                                                                                                                                                        |Grupo 1: Lavrador, agricultor sem empregados, bóia fria, criador de animais (gado, porcos, galinhas, ovelhas, cavalos etc.), apicultor, pescador, lenhador, seringueiro, extrativista.                                                                                                                                                                                                                                                          |2                       |Nenhuma Renda                  |Não.                              |Um.                     |Dois                  |Não.     |Não.    |Um.          |Não.                                  |Não.             |Não.             |Não.          |Não.                   |Não.            |Não.         |Não.   |Não.             |Dois                |Não.             |Dois          |Sim                |\n",
            "|Completou a 4ª série/5º ano, mas não completou a 8ª série/9º ano do Ensino Fundamental.|Completou o Ensino Médio, mas não completou a Faculdade.                               |Grupo 2: Diarista, empregado doméstico, cuidador de idosos, babá, cozinheiro (em casas particulares), motorista particular, jardineiro, faxineiro de empresas e prédios, vigilante, porteiro, carteiro, office-boy, vendedor, caixa, atendente de loja, auxiliar administrativo, recepcionista, servente de pedreiro, repositor de mercadoria.|Grupo 2: Diarista, empregado doméstico, cuidador de idosos, babá, cozinheiro (em casas particulares), motorista particular, jardineiro, faxineiro de empresas e prédios, vigilante, porteiro, carteiro, office-boy, vendedor, caixa, atendente de loja, auxiliar administrativo, recepcionista, servente de pedreiro, repositor de mercadoria.                                                                                                  |4                       |De R$ 998,01 até R$ 1.497,00.  |Não.                              |Um.                     |Dois                  |Não.     |Não.    |Um.          |Não.                                  |Não.             |Não.             |Não.          |Não.                   |Não.            |Um.          |Não.   |Não.             |E                   |Não.             |Não.          |Sim                |\n",
            "|Completou o Ensino Médio, mas não completou a Faculdade.                               |Completou o Ensino Médio, mas não completou a Faculdade.                               |Grupo 2: Diarista, empregado doméstico, cuidador de idosos, babá, cozinheiro (em casas particulares), motorista particular, jardineiro, faxineiro de empresas e prédios, vigilante, porteiro, carteiro, office-boy, vendedor, caixa, atendente de loja, auxiliar administrativo, recepcionista, servente de pedreiro, repositor de mercadoria.|Grupo 3: Padeiro, cozinheiro industrial ou em restaurantes, sapateiro, costureiro, joalheiro, torneiro mecânico, operador de máquinas, soldador, operário de fábrica, trabalhador da mineração, pedreiro, pintor, eletricista, encanador, motorista, caminhoneiro, taxista.                                                                                                                                                                     |2                       |Até R$ 998,00.                 |Não.                              |Um.                     |Um.                   |Não.     |Não.    |Um.          |Não.                                  |Não.             |Não.             |Não.          |Não.                   |Não.            |Um.          |Não.   |Não.             |Dois                |Não.             |Não.          |Sim                |\n",
            "|Completou a 4ª série/5º ano, mas não completou a 8ª série/9º ano do Ensino Fundamental.|Completou o Ensino Médio, mas não completou a Faculdade.                               |Grupo 2: Diarista, empregado doméstico, cuidador de idosos, babá, cozinheiro (em casas particulares), motorista particular, jardineiro, faxineiro de empresas e prédios, vigilante, porteiro, carteiro, office-boy, vendedor, caixa, atendente de loja, auxiliar administrativo, recepcionista, servente de pedreiro, repositor de mercadoria.|Grupo 4: Professor (de ensino fundamental ou médio, idioma, música, artes etc.), técnico (de enfermagem, contabilidade, eletrônica etc.), policial, militar de baixa patente (soldado, cabo, sargento), corretor de imóveis, supervisor, gerente, mestre de obras, pastor, microempresário (proprietário de empresa com menos de 10 empregados), pequeno comerciante, pequeno proprietário de terras, trabalhador autônomo ou por conta própria.|4                       |De R$ 1.996,01 até R$ 2.495,00.|Não.                              |Dois                    |Dois                  |Não.     |Um.     |Um.          |Não.                                  |Um.              |Não.             |Não.          |Não.                   |Não.            |Dois         |Não.   |Sim              |Três                |Não.             |Um.           |Sim                |\n",
            "|Completou o Ensino Médio, mas não completou a Faculdade.                               |Completou o Ensino Médio, mas não completou a Faculdade.                               |Grupo 3: Padeiro, cozinheiro industrial ou em restaurantes, sapateiro, costureiro, joalheiro, torneiro mecânico, operador de máquinas, soldador, operário de fábrica, trabalhador da mineração, pedreiro, pintor, eletricista, encanador, motorista, caminhoneiro, taxista.                                                                   |Grupo 3: Padeiro, cozinheiro industrial ou em restaurantes, sapateiro, costureiro, joalheiro, torneiro mecânico, operador de máquinas, soldador, operário de fábrica, trabalhador da mineração, pedreiro, pintor, eletricista, encanador, motorista, caminhoneiro, taxista.                                                                                                                                                                     |3                       |De R$ 2.994,01 até R$ 3.992,00.|Não.                              |Dois                    |Três                  |Um.      |Não.    |Um.          |Um.                                   |Um.              |Não.             |Um.           |Não.                   |Não.            |Um.          |Não.   |Não.             |Dois                |Sim              |Um.           |Sim                |\n",
            "|Não completou a 4ª série/5º ano do Ensino Fundamental.                                 |Não completou a 4ª série/5º ano do Ensino Fundamental.                                 |Grupo 3: Padeiro, cozinheiro industrial ou em restaurantes, sapateiro, costureiro, joalheiro, torneiro mecânico, operador de máquinas, soldador, operário de fábrica, trabalhador da mineração, pedreiro, pintor, eletricista, encanador, motorista, caminhoneiro, taxista.                                                                   |Grupo 2: Diarista, empregado doméstico, cuidador de idosos, babá, cozinheiro (em casas particulares), motorista particular, jardineiro, faxineiro de empresas e prédios, vigilante, porteiro, carteiro, office-boy, vendedor, caixa, atendente de loja, auxiliar administrativo, recepcionista, servente de pedreiro, repositor de mercadoria.                                                                                                  |7                       |De R$ 1.996,01 até R$ 2.495,00.|Não.                              |Um.                     |Três                  |Não.     |Dois    |Um.          |Não.                                  |Um.              |Não.             |Um.           |Não.                   |Não.            |Um.          |Não.   |Não.             |E                   |Não.             |Um.           |Sim                |\n",
            "|Completou o Ensino Médio, mas não completou a Faculdade.                               |Não completou a 4ª série/5º ano do Ensino Fundamental.                                 |Grupo 3: Padeiro, cozinheiro industrial ou em restaurantes, sapateiro, costureiro, joalheiro, torneiro mecânico, operador de máquinas, soldador, operário de fábrica, trabalhador da mineração, pedreiro, pintor, eletricista, encanador, motorista, caminhoneiro, taxista.                                                                   |Grupo 2: Diarista, empregado doméstico, cuidador de idosos, babá, cozinheiro (em casas particulares), motorista particular, jardineiro, faxineiro de empresas e prédios, vigilante, porteiro, carteiro, office-boy, vendedor, caixa, atendente de loja, auxiliar administrativo, recepcionista, servente de pedreiro, repositor de mercadoria.                                                                                                  |3                       |Até R$ 998,00.                 |Não.                              |Um.                     |Um.                   |Não.     |Não.    |Um.          |Não.                                  |Não.             |Não.             |Não.          |Não.                   |Não.            |Um.          |Não.   |Não.             |Um.                 |Não.             |Não.          |Não.               |\n",
            "|Completou o Ensino Médio, mas não completou a Faculdade.                               |Não completou a 4ª série/5º ano do Ensino Fundamental.                                 |Grupo 2: Diarista, empregado doméstico, cuidador de idosos, babá, cozinheiro (em casas particulares), motorista particular, jardineiro, faxineiro de empresas e prédios, vigilante, porteiro, carteiro, office-boy, vendedor, caixa, atendente de loja, auxiliar administrativo, recepcionista, servente de pedreiro, repositor de mercadoria.|Grupo 2: Diarista, empregado doméstico, cuidador de idosos, babá, cozinheiro (em casas particulares), motorista particular, jardineiro, faxineiro de empresas e prédios, vigilante, porteiro, carteiro, office-boy, vendedor, caixa, atendente de loja, auxiliar administrativo, recepcionista, servente de pedreiro, repositor de mercadoria.                                                                                                  |2                       |De R$ 1.497,01 até R$ 1.996,00.|Não.                              |Um.                     |Dois                  |Não.     |Não.    |Um.          |Um.                                   |Um.              |Não.             |Um.           |Não.                   |Não.            |Um.          |Não.   |Não.             |Dois                |Não.             |Não.          |Sim                |\n",
            "|Não completou a 4ª série/5º ano do Ensino Fundamental.                                 |Completou a 4ª série/5º ano, mas não completou a 8ª série/9º ano do Ensino Fundamental.|Grupo 3: Padeiro, cozinheiro industrial ou em restaurantes, sapateiro, costureiro, joalheiro, torneiro mecânico, operador de máquinas, soldador, operário de fábrica, trabalhador da mineração, pedreiro, pintor, eletricista, encanador, motorista, caminhoneiro, taxista.                                                                   |Não sei.                                                                                                                                                                                                                                                                                                                                                                                                                                        |6                       |De R$ 998,01 até R$ 1.497,00.  |Não.                              |Um.                     |Dois                  |Não.     |Não.    |Um.          |Um.                                   |Não.             |Não.             |Um.           |Não.                   |Não.            |Um.          |Não.   |Não.             |Um.                 |Sim              |Não.          |Não.               |\n",
            "|Completou o Ensino Médio, mas não completou a Faculdade.                               |Completou o Ensino Médio, mas não completou a Faculdade.                               |Grupo 2: Diarista, empregado doméstico, cuidador de idosos, babá, cozinheiro (em casas particulares), motorista particular, jardineiro, faxineiro de empresas e prédios, vigilante, porteiro, carteiro, office-boy, vendedor, caixa, atendente de loja, auxiliar administrativo, recepcionista, servente de pedreiro, repositor de mercadoria.|Grupo 2: Diarista, empregado doméstico, cuidador de idosos, babá, cozinheiro (em casas particulares), motorista particular, jardineiro, faxineiro de empresas e prédios, vigilante, porteiro, carteiro, office-boy, vendedor, caixa, atendente de loja, auxiliar administrativo, recepcionista, servente de pedreiro, repositor de mercadoria.                                                                                                  |5                       |De R$ 2.495,01 até R$ 2.994,00.|Não.                              |Um.                     |Dois                  |Um.      |Não.    |Um.          |Um.                                   |Um.              |Não.             |Um.           |Não.                   |Não.            |Um.          |Não.   |Sim              |Dois                |Sim              |Um.           |Sim                |\n",
            "|Completou a 8ª série/9º ano do Ensino Fundamental, mas não completou o Ensino Médio.   |Completou a 8ª série/9º ano do Ensino Fundamental, mas não completou o Ensino Médio.   |Grupo 3: Padeiro, cozinheiro industrial ou em restaurantes, sapateiro, costureiro, joalheiro, torneiro mecânico, operador de máquinas, soldador, operário de fábrica, trabalhador da mineração, pedreiro, pintor, eletricista, encanador, motorista, caminhoneiro, taxista.                                                                   |Grupo 2: Diarista, empregado doméstico, cuidador de idosos, babá, cozinheiro (em casas particulares), motorista particular, jardineiro, faxineiro de empresas e prédios, vigilante, porteiro, carteiro, office-boy, vendedor, caixa, atendente de loja, auxiliar administrativo, recepcionista, servente de pedreiro, repositor de mercadoria.                                                                                                  |2                       |De R$ 998,01 até R$ 1.497,00.  |Não.                              |Um.                     |Um.                   |Não.     |Não.    |Um.          |Um.                                   |Um.              |Um.              |Um.           |Não.                   |Sim             |Dois         |Não.   |Sim              |Dois                |Não.             |Não.          |Sim                |\n",
            "|Não completou a 4ª série/5º ano do Ensino Fundamental.                                 |Completou a 4ª série/5º ano, mas não completou a 8ª série/9º ano do Ensino Fundamental.|Grupo 3: Padeiro, cozinheiro industrial ou em restaurantes, sapateiro, costureiro, joalheiro, torneiro mecânico, operador de máquinas, soldador, operário de fábrica, trabalhador da mineração, pedreiro, pintor, eletricista, encanador, motorista, caminhoneiro, taxista.                                                                   |Grupo 1: Lavrador, agricultor sem empregados, bóia fria, criador de animais (gado, porcos, galinhas, ovelhas, cavalos etc.), apicultor, pescador, lenhador, seringueiro, extrativista.                                                                                                                                                                                                                                                          |4                       |De R$ 998,01 até R$ 1.497,00.  |Não.                              |Dois                    |Três                  |Não.     |Não.    |Um.          |Um.                                   |Não.             |Não.             |Um.           |Não.                   |Não.            |Um.          |Sim    |Não.             |Três                |Não.             |Um.           |Sim                |\n",
            "|Completou a 8ª série/9º ano do Ensino Fundamental, mas não completou o Ensino Médio.   |Não completou a 4ª série/5º ano do Ensino Fundamental.                                 |Não sei.                                                                                                                                                                                                                                                                                                                                      |Grupo 2: Diarista, empregado doméstico, cuidador de idosos, babá, cozinheiro (em casas particulares), motorista particular, jardineiro, faxineiro de empresas e prédios, vigilante, porteiro, carteiro, office-boy, vendedor, caixa, atendente de loja, auxiliar administrativo, recepcionista, servente de pedreiro, repositor de mercadoria.                                                                                                  |3                       |De R$ 998,01 até R$ 1.497,00.  |Não.                              |Um.                     |Dois                  |Um.      |Um.     |Um.          |Não.                                  |Não.             |Não.             |Não.          |Não.                   |Não.            |Um.          |Não.   |Não.             |Um.                 |Não.             |Não.          |Não.               |\n",
            "|Completou o Ensino Médio, mas não completou a Faculdade.                               |Completou o Ensino Médio, mas não completou a Faculdade.                               |Grupo 5: Médico, engenheiro, dentista, psicólogo, economista, advogado, juiz, promotor, defensor, delegado, tenente, capitão, coronel, professor universitário, diretor em empresas públicas ou privadas, político, proprietário de empresas com mais de 10 empregados.                                                                       |Grupo 2: Diarista, empregado doméstico, cuidador de idosos, babá, cozinheiro (em casas particulares), motorista particular, jardineiro, faxineiro de empresas e prédios, vigilante, porteiro, carteiro, office-boy, vendedor, caixa, atendente de loja, auxiliar administrativo, recepcionista, servente de pedreiro, repositor de mercadoria.                                                                                                  |4                       |De R$ 1.497,01 até R$ 1.996,00.|Não.                              |Um.                     |Dois                  |Não.     |Não.    |Um.          |Não.                                  |Não.             |Não.             |Não.          |Não.                   |Não.            |Um.          |Não.   |Não.             |Dois                |Não.             |Não.          |Não.               |\n",
            "|Completou o Ensino Médio, mas não completou a Faculdade.                               |Completou o Ensino Médio, mas não completou a Faculdade.                               |Grupo 3: Padeiro, cozinheiro industrial ou em restaurantes, sapateiro, costureiro, joalheiro, torneiro mecânico, operador de máquinas, soldador, operário de fábrica, trabalhador da mineração, pedreiro, pintor, eletricista, encanador, motorista, caminhoneiro, taxista.                                                                   |Grupo 3: Padeiro, cozinheiro industrial ou em restaurantes, sapateiro, costureiro, joalheiro, torneiro mecânico, operador de máquinas, soldador, operário de fábrica, trabalhador da mineração, pedreiro, pintor, eletricista, encanador, motorista, caminhoneiro, taxista.                                                                                                                                                                     |4                       |Até R$ 998,00.                 |Não.                              |Um.                     |Um.                   |Não.     |Não.    |Um.          |Não.                                  |Um.              |Não.             |Não.          |Não.                   |Não.            |Um.          |Não.   |Não.             |Um.                 |Não.             |Não.          |Não.               |\n",
            "|Completou a 8ª série/9º ano do Ensino Fundamental, mas não completou o Ensino Médio.   |Não completou a 4ª série/5º ano do Ensino Fundamental.                                 |Grupo 3: Padeiro, cozinheiro industrial ou em restaurantes, sapateiro, costureiro, joalheiro, torneiro mecânico, operador de máquinas, soldador, operário de fábrica, trabalhador da mineração, pedreiro, pintor, eletricista, encanador, motorista, caminhoneiro, taxista.                                                                   |Não sei.                                                                                                                                                                                                                                                                                                                                                                                                                                        |4                       |Até R$ 998,00.                 |Não.                              |Um.                     |Dois                  |Não.     |Não.    |Um.          |Não.                                  |Um.              |Não.             |Um.           |Não.                   |Não.            |Um.          |Não.   |Não.             |Dois                |Sim              |Não.          |Sim                |\n",
            "|Completou a 4ª série/5º ano, mas não completou a 8ª série/9º ano do Ensino Fundamental.|Completou a 4ª série/5º ano, mas não completou a 8ª série/9º ano do Ensino Fundamental.|Grupo 1: Lavrador, agricultor sem empregados, bóia fria, criador de animais (gado, porcos, galinhas, ovelhas, cavalos etc.), apicultor, pescador, lenhador, seringueiro, extrativista.                                                                                                                                                        |Grupo 1: Lavrador, agricultor sem empregados, bóia fria, criador de animais (gado, porcos, galinhas, ovelhas, cavalos etc.), apicultor, pescador, lenhador, seringueiro, extrativista.                                                                                                                                                                                                                                                          |4                       |De R$ 998,01 até R$ 1.497,00.  |Não.                              |Um.                     |Três                  |Não.     |Não.    |Um.          |Não.                                  |Não.             |Não.             |Não.          |Não.                   |Não.            |Um.          |Não.   |Não.             |Um.                 |Não.             |Não.          |Não.               |\n",
            "|Completou a 8ª série/9º ano do Ensino Fundamental, mas não completou o Ensino Médio.   |Completou a 4ª série/5º ano, mas não completou a 8ª série/9º ano do Ensino Fundamental.|Grupo 2: Diarista, empregado doméstico, cuidador de idosos, babá, cozinheiro (em casas particulares), motorista particular, jardineiro, faxineiro de empresas e prédios, vigilante, porteiro, carteiro, office-boy, vendedor, caixa, atendente de loja, auxiliar administrativo, recepcionista, servente de pedreiro, repositor de mercadoria.|Grupo 2: Diarista, empregado doméstico, cuidador de idosos, babá, cozinheiro (em casas particulares), motorista particular, jardineiro, faxineiro de empresas e prédios, vigilante, porteiro, carteiro, office-boy, vendedor, caixa, atendente de loja, auxiliar administrativo, recepcionista, servente de pedreiro, repositor de mercadoria.                                                                                                  |3                       |Até R$ 998,00.                 |Não.                              |Um.                     |Dois                  |Não.     |Não.    |Um.          |Não.                                  |Um.              |Não.             |Um.           |Não.                   |Não.            |Um.          |Não.   |Não.             |Dois                |Não.             |Não.          |Sim                |\n",
            "|Completou a 4ª série/5º ano, mas não completou a 8ª série/9º ano do Ensino Fundamental.|Completou o Ensino Médio, mas não completou a Faculdade.                               |Grupo 1: Lavrador, agricultor sem empregados, bóia fria, criador de animais (gado, porcos, galinhas, ovelhas, cavalos etc.), apicultor, pescador, lenhador, seringueiro, extrativista.                                                                                                                                                        |Grupo 1: Lavrador, agricultor sem empregados, bóia fria, criador de animais (gado, porcos, galinhas, ovelhas, cavalos etc.), apicultor, pescador, lenhador, seringueiro, extrativista.                                                                                                                                                                                                                                                          |5                       |Até R$ 998,00.                 |Não.                              |Um.                     |Três                  |Não.     |Um.     |Um.          |Não.                                  |Não.             |Não.             |Não.          |Não.                   |Não.            |Um.          |Não.   |Não.             |Um.                 |Não.             |Não.          |Não.               |\n",
            "|Não completou a 4ª série/5º ano do Ensino Fundamental.                                 |Não completou a 4ª série/5º ano do Ensino Fundamental.                                 |Grupo 1: Lavrador, agricultor sem empregados, bóia fria, criador de animais (gado, porcos, galinhas, ovelhas, cavalos etc.), apicultor, pescador, lenhador, seringueiro, extrativista.                                                                                                                                                        |Grupo 2: Diarista, empregado doméstico, cuidador de idosos, babá, cozinheiro (em casas particulares), motorista particular, jardineiro, faxineiro de empresas e prédios, vigilante, porteiro, carteiro, office-boy, vendedor, caixa, atendente de loja, auxiliar administrativo, recepcionista, servente de pedreiro, repositor de mercadoria.                                                                                                  |4                       |De R$ 2.994,01 até R$ 3.992,00.|Não.                              |Um.                     |Dois                  |Um.      |Não.    |Um.          |Não.                                  |Não.             |Não.             |Não.          |Não.                   |Não.            |Um.          |Não.   |Não.             |Dois                |Sim              |Um.           |Sim                |\n",
            "+---------------------------------------------------------------------------------------+---------------------------------------------------------------------------------------+----------------------------------------------------------------------------------------------------------------------------------------------------------------------------------------------------------------------------------------------------------------------------------------------------------------------------------------------+------------------------------------------------------------------------------------------------------------------------------------------------------------------------------------------------------------------------------------------------------------------------------------------------------------------------------------------------------------------------------------------------------------------------------------------------+------------------------+-------------------------------+----------------------------------+------------------------+----------------------+---------+--------+-------------+--------------------------------------+-----------------+-----------------+--------------+-----------------------+----------------+-------------+-------+-----------------+--------------------+-----------------+--------------+-------------------+\n",
            "only showing top 20 rows\n",
            "\n"
          ]
        }
      ]
    },
    {
      "cell_type": "code",
      "source": [
        "socioeconomico.repartition(1).write.format('com.databricks.spark.csv').mode('overwrite').option(\"header\", \"true\").save('./DADOS/REFINED/SOCIOECONOMICO/')"
      ],
      "metadata": {
        "id": "qDYBQRurpJ6w"
      },
      "execution_count": 40,
      "outputs": []
    },
    {
      "cell_type": "markdown",
      "source": [
        "# Parte 2 - Análise Exploratória\n"
      ],
      "metadata": {
        "id": "1OQW0BxVLjdT"
      }
    },
    {
      "cell_type": "markdown",
      "source": [
        "## Dados dos Candidatos"
      ],
      "metadata": {
        "id": "x0NNCnLI-qqP"
      }
    },
    {
      "cell_type": "code",
      "source": [
        "diretorio = '/content/DADOS/REFINED/PARTICIPANTES/'\n",
        "local_file = diretorio + os.listdir(diretorio)[0]\n",
        "df_participantes = pd.read_csv( local_file , sep=',')"
      ],
      "metadata": {
        "id": "pZLGRAyEL7bT"
      },
      "execution_count": 123,
      "outputs": []
    },
    {
      "cell_type": "code",
      "source": [
        "df_participantes.head()"
      ],
      "metadata": {
        "colab": {
          "base_uri": "https://localhost:8080/",
          "height": 313
        },
        "id": "NM7J6Dr1N21b",
        "outputId": "e4a70442-ee55-40be-a77e-2baa30772f2d"
      },
      "execution_count": 124,
      "outputs": [
        {
          "output_type": "execute_result",
          "data": {
            "text/html": [
              "<div>\n",
              "<style scoped>\n",
              "    .dataframe tbody tr th:only-of-type {\n",
              "        vertical-align: middle;\n",
              "    }\n",
              "\n",
              "    .dataframe tbody tr th {\n",
              "        vertical-align: top;\n",
              "    }\n",
              "\n",
              "    .dataframe thead th {\n",
              "        text-align: right;\n",
              "    }\n",
              "</style>\n",
              "<table border=\"1\" class=\"dataframe\">\n",
              "  <thead>\n",
              "    <tr style=\"text-align: right;\">\n",
              "      <th></th>\n",
              "      <th>INSCRICAO</th>\n",
              "      <th>MUNICIPIO_RESIDENCIA</th>\n",
              "      <th>UF_RESIDENCIA</th>\n",
              "      <th>IDADE</th>\n",
              "      <th>SEXO</th>\n",
              "      <th>ESTADO_CIVIL</th>\n",
              "      <th>COR</th>\n",
              "      <th>NACIONALIDADE</th>\n",
              "      <th>MUNICIPIO_NASCIMENTO</th>\n",
              "      <th>UF_NASCIMENTO</th>\n",
              "      <th>STATUS_ENSINO_MEDIO</th>\n",
              "      <th>ANO_CONCLUSAO</th>\n",
              "      <th>TIPO_ESCOLA</th>\n",
              "      <th>TIPO_MODALIDADE</th>\n",
              "      <th>TREINEIRO</th>\n",
              "    </tr>\n",
              "  </thead>\n",
              "  <tbody>\n",
              "    <tr>\n",
              "      <th>0</th>\n",
              "      <td>190001595656</td>\n",
              "      <td>Sorocaba</td>\n",
              "      <td>SP</td>\n",
              "      <td>36.0</td>\n",
              "      <td>MASCULINO</td>\n",
              "      <td>Solteiro(a)</td>\n",
              "      <td>Parda</td>\n",
              "      <td>Brasileiro(a)</td>\n",
              "      <td>Itabuna</td>\n",
              "      <td>BA</td>\n",
              "      <td>Já concluí o Ensino Médio</td>\n",
              "      <td>2008</td>\n",
              "      <td>Não Respondeu</td>\n",
              "      <td>NaN</td>\n",
              "      <td>NÃO</td>\n",
              "    </tr>\n",
              "    <tr>\n",
              "      <th>1</th>\n",
              "      <td>190001421546</td>\n",
              "      <td>Feira de Santana</td>\n",
              "      <td>BA</td>\n",
              "      <td>23.0</td>\n",
              "      <td>MASCULINO</td>\n",
              "      <td>Solteiro(a)</td>\n",
              "      <td>Branca</td>\n",
              "      <td>Brasileiro(a)</td>\n",
              "      <td>Feira de Santana</td>\n",
              "      <td>BA</td>\n",
              "      <td>Já concluí o Ensino Médio</td>\n",
              "      <td>2014</td>\n",
              "      <td>Não Respondeu</td>\n",
              "      <td>Ensino Regular</td>\n",
              "      <td>NÃO</td>\n",
              "    </tr>\n",
              "    <tr>\n",
              "      <th>2</th>\n",
              "      <td>190001133210</td>\n",
              "      <td>Fortaleza</td>\n",
              "      <td>CE</td>\n",
              "      <td>39.0</td>\n",
              "      <td>FEMININO</td>\n",
              "      <td>Solteiro(a)</td>\n",
              "      <td>Parda</td>\n",
              "      <td>Brasileiro(a)</td>\n",
              "      <td>Fortaleza</td>\n",
              "      <td>CE</td>\n",
              "      <td>Já concluí o Ensino Médio</td>\n",
              "      <td>Antes de 2007</td>\n",
              "      <td>Não Respondeu</td>\n",
              "      <td>Ensino Regular</td>\n",
              "      <td>NÃO</td>\n",
              "    </tr>\n",
              "    <tr>\n",
              "      <th>3</th>\n",
              "      <td>190001199383</td>\n",
              "      <td>Palmas</td>\n",
              "      <td>TO</td>\n",
              "      <td>25.0</td>\n",
              "      <td>FEMININO</td>\n",
              "      <td>Solteiro(a)</td>\n",
              "      <td>Branca</td>\n",
              "      <td>Brasileiro(a)</td>\n",
              "      <td>Palmas</td>\n",
              "      <td>TO</td>\n",
              "      <td>Já concluí o Ensino Médio</td>\n",
              "      <td>2015</td>\n",
              "      <td>Não Respondeu</td>\n",
              "      <td>NaN</td>\n",
              "      <td>NÃO</td>\n",
              "    </tr>\n",
              "    <tr>\n",
              "      <th>4</th>\n",
              "      <td>190001237802</td>\n",
              "      <td>Contagem</td>\n",
              "      <td>MG</td>\n",
              "      <td>22.0</td>\n",
              "      <td>FEMININO</td>\n",
              "      <td>Solteiro(a)</td>\n",
              "      <td>Branca</td>\n",
              "      <td>Brasileiro(a)</td>\n",
              "      <td>Contagem</td>\n",
              "      <td>MG</td>\n",
              "      <td>Já concluí o Ensino Médio</td>\n",
              "      <td>2015</td>\n",
              "      <td>Não Respondeu</td>\n",
              "      <td>Ensino Regular</td>\n",
              "      <td>NÃO</td>\n",
              "    </tr>\n",
              "  </tbody>\n",
              "</table>\n",
              "</div>"
            ],
            "text/plain": [
              "      INSCRICAO MUNICIPIO_RESIDENCIA  ... TIPO_MODALIDADE  TREINEIRO\n",
              "0  190001595656             Sorocaba  ...             NaN        NÃO\n",
              "1  190001421546     Feira de Santana  ...  Ensino Regular        NÃO\n",
              "2  190001133210            Fortaleza  ...  Ensino Regular        NÃO\n",
              "3  190001199383               Palmas  ...             NaN        NÃO\n",
              "4  190001237802             Contagem  ...  Ensino Regular        NÃO\n",
              "\n",
              "[5 rows x 15 columns]"
            ]
          },
          "metadata": {},
          "execution_count": 124
        }
      ]
    },
    {
      "cell_type": "code",
      "source": [
        "df_participantes.info()"
      ],
      "metadata": {
        "colab": {
          "base_uri": "https://localhost:8080/"
        },
        "id": "98XP0E7qPdZx",
        "outputId": "1abd33e3-8e90-42ed-d0b1-d90950aea2a8"
      },
      "execution_count": 125,
      "outputs": [
        {
          "output_type": "stream",
          "name": "stdout",
          "text": [
            "<class 'pandas.core.frame.DataFrame'>\n",
            "RangeIndex: 5095270 entries, 0 to 5095269\n",
            "Data columns (total 15 columns):\n",
            " #   Column                Dtype  \n",
            "---  ------                -----  \n",
            " 0   INSCRICAO             int64  \n",
            " 1   MUNICIPIO_RESIDENCIA  object \n",
            " 2   UF_RESIDENCIA         object \n",
            " 3   IDADE                 float64\n",
            " 4   SEXO                  object \n",
            " 5   ESTADO_CIVIL          object \n",
            " 6   COR                   object \n",
            " 7   NACIONALIDADE         object \n",
            " 8   MUNICIPIO_NASCIMENTO  object \n",
            " 9   UF_NASCIMENTO         object \n",
            " 10  STATUS_ENSINO_MEDIO   object \n",
            " 11  ANO_CONCLUSAO         object \n",
            " 12  TIPO_ESCOLA           object \n",
            " 13  TIPO_MODALIDADE       object \n",
            " 14  TREINEIRO             object \n",
            "dtypes: float64(1), int64(1), object(13)\n",
            "memory usage: 583.1+ MB\n"
          ]
        }
      ]
    },
    {
      "cell_type": "code",
      "source": [
        "# verifica os valores Faltantes\n",
        "df_participantes.isnull().sum()"
      ],
      "metadata": {
        "colab": {
          "base_uri": "https://localhost:8080/"
        },
        "id": "FaH7XlKBZEIk",
        "outputId": "6105da55-af2d-4570-f084-b147565ef968"
      },
      "execution_count": 126,
      "outputs": [
        {
          "output_type": "execute_result",
          "data": {
            "text/plain": [
              "INSCRICAO                     0\n",
              "MUNICIPIO_RESIDENCIA          0\n",
              "UF_RESIDENCIA                 0\n",
              "IDADE                        69\n",
              "SEXO                          0\n",
              "ESTADO_CIVIL                  0\n",
              "COR                           0\n",
              "NACIONALIDADE                 0\n",
              "MUNICIPIO_NASCIMENTO     145249\n",
              "UF_NASCIMENTO            145249\n",
              "STATUS_ENSINO_MEDIO           0\n",
              "ANO_CONCLUSAO                 0\n",
              "TIPO_ESCOLA                   0\n",
              "TIPO_MODALIDADE         2217073\n",
              "TREINEIRO                     0\n",
              "dtype: int64"
            ]
          },
          "metadata": {},
          "execution_count": 126
        }
      ]
    },
    {
      "cell_type": "code",
      "source": [
        "# substituir a idade faltante pela média do dataset (22 anos)\n",
        "df_participantes.loc[df_participantes['IDADE'].isnull(), 'IDADE'] = round(np.mean(df_participantes['IDADE']))"
      ],
      "metadata": {
        "id": "RTsu94ota_-U"
      },
      "execution_count": 127,
      "outputs": []
    },
    {
      "cell_type": "code",
      "source": [
        "# converte para inteiro\n",
        "df_participantes['IDADE'] = df_participantes['IDADE'].astype(int)"
      ],
      "metadata": {
        "id": "rcPXQ-GFbchM"
      },
      "execution_count": 128,
      "outputs": []
    },
    {
      "cell_type": "code",
      "source": [
        "round(df_participantes['IDADE'].describe())"
      ],
      "metadata": {
        "colab": {
          "base_uri": "https://localhost:8080/"
        },
        "id": "IbZm8i_IPzt_",
        "outputId": "792a0011-0275-4baf-d8db-2591ca5af6af"
      },
      "execution_count": 129,
      "outputs": [
        {
          "output_type": "execute_result",
          "data": {
            "text/plain": [
              "count    5095270.0\n",
              "mean          22.0\n",
              "std            7.0\n",
              "min           10.0\n",
              "25%           18.0\n",
              "50%           19.0\n",
              "75%           24.0\n",
              "max           94.0\n",
              "Name: IDADE, dtype: float64"
            ]
          },
          "metadata": {},
          "execution_count": 129
        }
      ]
    },
    {
      "cell_type": "code",
      "source": [
        "#Top 10  idades com mais participantes que fizeram as provas (treineiros + normais)\n",
        "y = df_participantes['IDADE'].value_counts().head(10).sort_values(ascending=False).values\n",
        "x = df_participantes['IDADE'].value_counts().head(10).sort_values(ascending=False).index.map(str)\n",
        "sns.barplot(y=y, x=x).set_title('TOP 10 - IDADES QUE MAIS ADERIRAM A PROVA')"
      ],
      "metadata": {
        "colab": {
          "base_uri": "https://localhost:8080/",
          "height": 624
        },
        "id": "vfXnhEG1P6uZ",
        "outputId": "57360437-0a31-4270-8884-0f4d19d4aba4"
      },
      "execution_count": 254,
      "outputs": [
        {
          "output_type": "execute_result",
          "data": {
            "text/plain": [
              "Text(0.5, 1.0, 'TOP 10 - IDADES QUE MAIS ADERIRAM A PROVA')"
            ]
          },
          "metadata": {},
          "execution_count": 254
        },
        {
          "output_type": "display_data",
          "data": {
            "image/png": "[encoded data removed]",
            "text/plain": [
              "<Figure size 1008x720 with 1 Axes>"
            ]
          },
          "metadata": {}
        }
      ]
    },
    {
      "cell_type": "code",
      "source": [
        "# #Top 20 distribuição de idades de com menos participantes (treineios + normais)\n",
        "contagem = df_participantes['IDADE'].value_counts(ascending=True).head(20).sort_values(ascending=False).values\n",
        "idades = df_participantes['IDADE'].value_counts(ascending=True).head(20).sort_values(ascending=False).index.map(str)\n",
        "ax = sns.barplot(y=contagem, x=idades).set_title('TOP 20 - IDADES QUE MENOS ADERIRAM A PROVA')\n"
      ],
      "metadata": {
        "colab": {
          "base_uri": "https://localhost:8080/",
          "height": 607
        },
        "id": "JltNeHO8Qbnz",
        "outputId": "855eb1f4-1920-4a7f-ad0a-ba533310a8b3"
      },
      "execution_count": 255,
      "outputs": [
        {
          "output_type": "display_data",
          "data": {
            "image/png": "[encoded data removed]",
            "text/plain": [
              "<Figure size 1008x720 with 1 Axes>"
            ]
          },
          "metadata": {}
        }
      ]
    },
    {
      "cell_type": "code",
      "source": [
        "# Percentual de treineiros \n",
        "df_participantes['TREINEIRO'].value_counts(normalize=True) * 100"
      ],
      "metadata": {
        "colab": {
          "base_uri": "https://localhost:8080/"
        },
        "id": "ggpQkpybTj2w",
        "outputId": "9f582a99-3e6b-4421-92e1-1febf8234de5"
      },
      "execution_count": 256,
      "outputs": [
        {
          "output_type": "execute_result",
          "data": {
            "text/plain": [
              "NÃO    87.897246\n",
              "SIM    12.102754\n",
              "Name: TREINEIRO, dtype: float64"
            ]
          },
          "metadata": {},
          "execution_count": 256
        }
      ]
    },
    {
      "cell_type": "code",
      "source": [
        "# Distribuição de idades por treineiros\n",
        "ax = sns.histplot(data=df_participantes, x=\"IDADE\",hue='TREINEIRO', bins=35)\n",
        "ax.set_title(\"Participantes treineiros por idade.\")\n",
        "ax.ticklabel_format(style='plain')"
      ],
      "metadata": {
        "colab": {
          "base_uri": "https://localhost:8080/",
          "height": 621
        },
        "id": "zUVEi1o0UP5H",
        "outputId": "72fe8378-12c8-462c-e238-e89c9b184327"
      },
      "execution_count": 257,
      "outputs": [
        {
          "output_type": "display_data",
          "data": {
            "image/png": "[encoded data removed]",
            "text/plain": [
              "<Figure size 1008x720 with 1 Axes>"
            ]
          },
          "metadata": {}
        }
      ]
    },
    {
      "cell_type": "code",
      "source": [
        "# distribuição de idades por sexo\n",
        "ax = sns.histplot(data=df_participantes, x=\"IDADE\",hue='SEXO',bins=35)\n",
        "ax.set_title(\"Distribuição de participantes por idade e sexo\")\n",
        "ax.ticklabel_format(style='plain')\n"
      ],
      "metadata": {
        "colab": {
          "base_uri": "https://localhost:8080/",
          "height": 638
        },
        "id": "qAgDtlY_W7OA",
        "outputId": "2c16dbd2-995d-4d02-f240-daf7fd191429"
      },
      "execution_count": 258,
      "outputs": [
        {
          "output_type": "execute_result",
          "data": {
            "text/plain": [
              "<matplotlib.axes._subplots.AxesSubplot at 0x7f933314c810>"
            ]
          },
          "metadata": {},
          "execution_count": 258
        },
        {
          "output_type": "display_data",
          "data": {
            "image/png": "[encoded data removed]",
            "text/plain": [
              "<Figure size 1008x720 with 1 Axes>"
            ]
          },
          "metadata": {}
        }
      ]
    },
    {
      "cell_type": "code",
      "source": [
        "# distribuição de participantes por sexo\n",
        "print('Total de candidatos por sexo: ')\n",
        "print(df_participantes['SEXO'].value_counts())\n",
        "print('-------------------------------\\n')\n",
        "print('Representação percentual: ')\n",
        "print(df_participantes['SEXO'].value_counts(normalize=True) * 100 )"
      ],
      "metadata": {
        "colab": {
          "base_uri": "https://localhost:8080/"
        },
        "id": "JNS4X5bLdf3g",
        "outputId": "ed965bf1-15e3-4f8a-9e85-1061e9a4c5b9"
      },
      "execution_count": 259,
      "outputs": [
        {
          "output_type": "stream",
          "name": "stdout",
          "text": [
            "Total de candidatos por sexo: \n",
            "FEMININO     3031822\n",
            "MASCULINO    2063448\n",
            "Name: SEXO, dtype: int64\n",
            "-------------------------------\n",
            "\n",
            "Representação percentual: \n",
            "FEMININO     59.502676\n",
            "MASCULINO    40.497324\n",
            "Name: SEXO, dtype: float64\n"
          ]
        }
      ]
    },
    {
      "cell_type": "code",
      "source": [
        "sns.histplot(data=df_participantes, x=\"UF_RESIDENCIA\",hue='SEXO',bins=35).set_title(\"Distribuição de Participantes por estado\")"
      ],
      "metadata": {
        "colab": {
          "base_uri": "https://localhost:8080/",
          "height": 639
        },
        "id": "QmciACErlXbk",
        "outputId": "a89011f6-bbae-4ca2-a542-bf44d2892b64"
      },
      "execution_count": 260,
      "outputs": [
        {
          "output_type": "execute_result",
          "data": {
            "text/plain": [
              "Text(0.5, 1.0, 'Distribuição de Participantes por estado')"
            ]
          },
          "metadata": {},
          "execution_count": 260
        },
        {
          "output_type": "display_data",
          "data": {
            "image/png": "[encoded data removed]",
            "text/plain": [
              "<Figure size 1008x720 with 1 Axes>"
            ]
          },
          "metadata": {}
        }
      ]
    },
    {
      "cell_type": "code",
      "source": [
        "top = df_participantes['MUNICIPIO_RESIDENCIA'].value_counts(ascending=False).head(20)\n",
        "# sns.histplot(data=df_participantes, x=\"MUNICIPIO_RESIDENCIA\",hue='SEXO',bins=35).set_title(\"Distribuição de Participantes por município\")\n",
        "sns.barplot(x=top.values, y=top.index).set_title('TOP 20 - MUNICÍPIOS COM MAIS PARTICIPAÇÃO AO EXAME.')"
      ],
      "metadata": {
        "colab": {
          "base_uri": "https://localhost:8080/",
          "height": 626
        },
        "id": "v3XFNsb8m4yo",
        "outputId": "279f336a-a376-44b1-bdf3-63cf09ef8bd1"
      },
      "execution_count": 261,
      "outputs": [
        {
          "output_type": "execute_result",
          "data": {
            "text/plain": [
              "Text(0.5, 1.0, 'TOP 20 - MUNICÍPIOS COM MAIS PARTICIPAÇÃO AO EXAME.')"
            ]
          },
          "metadata": {},
          "execution_count": 261
        },
        {
          "output_type": "display_data",
          "data": {
            "image/png": "[encoded data removed]",
            "text/plain": [
              "<Figure size 1008x720 with 1 Axes>"
            ]
          },
          "metadata": {}
        }
      ]
    },
    {
      "cell_type": "code",
      "source": [
        "ax = sns.countplot(data=df_participantes,y='NACIONALIDADE', hue='SEXO')\n",
        "ax.ticklabel_format(style='plain', axis='x')"
      ],
      "metadata": {
        "id": "lssOjSlr7z1M",
        "colab": {
          "base_uri": "https://localhost:8080/",
          "height": 606
        },
        "outputId": "df3b3da1-b785-450d-dc63-c55b893e9890"
      },
      "execution_count": 262,
      "outputs": [
        {
          "output_type": "display_data",
          "data": {
            "image/png": "[encoded data removed]",
            "text/plain": [
              "<Figure size 1008x720 with 1 Axes>"
            ]
          },
          "metadata": {}
        }
      ]
    },
    {
      "cell_type": "code",
      "source": [
        "# Percentual de participantes por nacionalidade\n",
        "df_participantes['NACIONALIDADE'].value_counts(normalize=True) * 100"
      ],
      "metadata": {
        "colab": {
          "base_uri": "https://localhost:8080/"
        },
        "id": "4KWVPYIBW5-I",
        "outputId": "940d2b4c-1cc0-4af6-8246-3030a35123f5"
      },
      "execution_count": 263,
      "outputs": [
        {
          "output_type": "execute_result",
          "data": {
            "text/plain": [
              "Brasileiro(a)                                    97.149337\n",
              "Brasileiro(a) Naturalizado                        2.440145\n",
              "Brasileiro(a) Nato(a), nascido(a) no exterior     0.161581\n",
              "Não informado                                     0.132456\n",
              "Estrangeiro(a)                                    0.116481\n",
              "Name: NACIONALIDADE, dtype: float64"
            ]
          },
          "metadata": {},
          "execution_count": 263
        }
      ]
    },
    {
      "cell_type": "code",
      "source": [
        "# Percentual dos candidatos por raça declarada\n",
        "df_participantes['COR'].value_counts(normalize=True) * 100"
      ],
      "metadata": {
        "colab": {
          "base_uri": "https://localhost:8080/"
        },
        "id": "T-ur-kLvXelD",
        "outputId": "6053a185-5817-4d07-9ba0-ea352a9f625b"
      },
      "execution_count": 264,
      "outputs": [
        {
          "output_type": "execute_result",
          "data": {
            "text/plain": [
              "Parda              46.397208\n",
              "Branca             35.950578\n",
              "Afrodescendente    12.723742\n",
              "Amarela             2.279801\n",
              "Não declarado       2.025428\n",
              "Indígena            0.623245\n",
              "Name: COR, dtype: float64"
            ]
          },
          "metadata": {},
          "execution_count": 264
        }
      ]
    },
    {
      "cell_type": "code",
      "source": [
        "# tipo da escola\n",
        "df_participantes['TIPO_ESCOLA'].value_counts(normalize=True) * 100"
      ],
      "metadata": {
        "colab": {
          "base_uri": "https://localhost:8080/"
        },
        "id": "xSw0WjIY9SmA",
        "outputId": "b89d2950-6e36-4b9e-fc57-ea681e2db98f"
      },
      "execution_count": 266,
      "outputs": [
        {
          "output_type": "execute_result",
          "data": {
            "text/plain": [
              "Não Respondeu    71.230298\n",
              "Pública          24.478821\n",
              "Privada           4.290882\n",
              "Name: TIPO_ESCOLA, dtype: float64"
            ]
          },
          "metadata": {},
          "execution_count": 266
        }
      ]
    },
    {
      "cell_type": "code",
      "source": [
        "# Tipo de ensino\n",
        "df_participantes['TIPO_MODALIDADE'].value_counts(normalize=True) * 100"
      ],
      "metadata": {
        "colab": {
          "base_uri": "https://localhost:8080/"
        },
        "id": "TqjqXkJm9Sib",
        "outputId": "5bc592cd-c833-4ab4-dff3-6fae0ae3de21"
      },
      "execution_count": 267,
      "outputs": [
        {
          "output_type": "execute_result",
          "data": {
            "text/plain": [
              "Ensino Regular                                 99.520568\n",
              "Educação Especial - Modalidade Substitutiva     0.479432\n",
              "Name: TIPO_MODALIDADE, dtype: float64"
            ]
          },
          "metadata": {},
          "execution_count": 267
        }
      ]
    },
    {
      "cell_type": "code",
      "source": [
        "# Estado civil do candidato\n",
        "df_participantes['ESTADO_CIVIL'].value_counts(normalize=True) * 100"
      ],
      "metadata": {
        "colab": {
          "base_uri": "https://localhost:8080/"
        },
        "id": "Q2l5Sopm9oiF",
        "outputId": "ca383cec-5c3e-4649-ee20-1acec1b11414"
      },
      "execution_count": 268,
      "outputs": [
        {
          "output_type": "execute_result",
          "data": {
            "text/plain": [
              "Solteiro(a)                                86.324866\n",
              "Casado(a)/Mora com companheiro(a)           7.769068\n",
              "Não Informado                               4.058666\n",
              "Divorciado(a)/Desquitado(a)/Separado(a)     1.725012\n",
              "Viúvo(a)                                    0.122388\n",
              "Name: ESTADO_CIVIL, dtype: float64"
            ]
          },
          "metadata": {},
          "execution_count": 268
        }
      ]
    },
    {
      "cell_type": "code",
      "source": [
        "df_participantes['STATUS_ENSINO_MEDIO'].value_counts(normalize=True) * 100"
      ],
      "metadata": {
        "colab": {
          "base_uri": "https://localhost:8080/"
        },
        "id": "xIDjW3YnmxpD",
        "outputId": "342ce5b1-2f9d-41a7-ef99-036b200a78fb"
      },
      "execution_count": 269,
      "outputs": [
        {
          "output_type": "execute_result",
          "data": {
            "text/plain": [
              "Já concluí o Ensino Médio                               58.739203\n",
              "Estou cursando e concluirei o Ensino Médio em 2019      28.769722\n",
              "Estou cursando e concluirei o Ensino Médio após 2019    12.102754\n",
              "Não concluí e não estou cursando o Ensino Médio          0.388321\n",
              "Name: STATUS_ENSINO_MEDIO, dtype: float64"
            ]
          },
          "metadata": {},
          "execution_count": 269
        }
      ]
    }
  ]
}